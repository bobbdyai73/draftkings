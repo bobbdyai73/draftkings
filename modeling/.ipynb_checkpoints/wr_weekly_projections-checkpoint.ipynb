{
 "cells": [
  {
   "cell_type": "code",
   "execution_count": 1,
   "metadata": {
    "collapsed": true
   },
   "outputs": [],
   "source": [
    "import pandas as pd\n",
    "import numpy as np\n",
    "import matplotlib.pyplot as plt\n",
    "import seaborn as sns\n",
    "\n",
    "%matplotlib inline"
   ]
  },
  {
   "cell_type": "code",
   "execution_count": 2,
   "metadata": {
    "collapsed": true
   },
   "outputs": [],
   "source": [
    "wr = pd.read_csv('../input/wr/dk_wr_stats.csv')\n",
    "week1 = pd.read_csv('../input/wr/fantasy-football-weekly-projections (2).csv')\n",
    "week1_def = pd.read_csv('../input/defense_2018_projections.csv')"
   ]
  },
  {
   "cell_type": "code",
   "execution_count": 3,
   "metadata": {},
   "outputs": [
    {
     "data": {
      "text/plain": [
       "Index(['Rank', 'Name', 'Team', 'Position', 'Week', 'Opponent',\n",
       "       'ReceivingTargets', 'Receptions', 'ReceptionPercentage',\n",
       "       'ReceivingYards', 'ReceivingTouchdowns', 'ReceivingLong',\n",
       "       'ReceivingYardsPerTarget', 'ReceivingYardsPerReception',\n",
       "       'RushingAttempts', 'RushingYards', 'RushingYardsPerAttempt',\n",
       "       'RushingTouchdowns', 'Fumbles', 'FumblesLost', 'FantasyPointsPerGame',\n",
       "       'FantasyPoints'],\n",
       "      dtype='object')"
      ]
     },
     "execution_count": 3,
     "metadata": {},
     "output_type": "execute_result"
    }
   ],
   "source": [
    "week1.columns"
   ]
  },
  {
   "cell_type": "code",
   "execution_count": 4,
   "metadata": {
    "collapsed": true
   },
   "outputs": [],
   "source": [
    "wr.drop('ReceivingLong', axis=1,inplace=True)"
   ]
  },
  {
   "cell_type": "code",
   "execution_count": 5,
   "metadata": {},
   "outputs": [
    {
     "data": {
      "text/html": [
       "<div>\n",
       "<style>\n",
       "    .dataframe thead tr:only-child th {\n",
       "        text-align: right;\n",
       "    }\n",
       "\n",
       "    .dataframe thead th {\n",
       "        text-align: left;\n",
       "    }\n",
       "\n",
       "    .dataframe tbody tr th {\n",
       "        vertical-align: top;\n",
       "    }\n",
       "</style>\n",
       "<table border=\"1\" class=\"dataframe\">\n",
       "  <thead>\n",
       "    <tr style=\"text-align: right;\">\n",
       "      <th></th>\n",
       "      <th>Name</th>\n",
       "      <th>Team</th>\n",
       "      <th>Week</th>\n",
       "      <th>Opponent</th>\n",
       "      <th>ReceivingTargets</th>\n",
       "      <th>Receptions</th>\n",
       "      <th>ReceptionPercentage</th>\n",
       "      <th>ReceivingYards</th>\n",
       "      <th>ReceivingTouchdowns</th>\n",
       "      <th>ReceivingYardsPerTarget</th>\n",
       "      <th>ReceivingYardsPerReception</th>\n",
       "      <th>RushingAttempts</th>\n",
       "      <th>RushingYards</th>\n",
       "      <th>RushingYardsPerAttempt</th>\n",
       "      <th>RushingTouchdowns</th>\n",
       "      <th>Fumbles</th>\n",
       "      <th>FumblesLost</th>\n",
       "      <th>points</th>\n",
       "      <th>year</th>\n",
       "    </tr>\n",
       "  </thead>\n",
       "  <tbody>\n",
       "    <tr>\n",
       "      <th>14925</th>\n",
       "      <td>Tavon Austin</td>\n",
       "      <td>LAR</td>\n",
       "      <td>17</td>\n",
       "      <td>SF</td>\n",
       "      <td>5</td>\n",
       "      <td>3</td>\n",
       "      <td>60.0</td>\n",
       "      <td>14</td>\n",
       "      <td>0</td>\n",
       "      <td>2.8</td>\n",
       "      <td>4.7</td>\n",
       "      <td>4</td>\n",
       "      <td>24</td>\n",
       "      <td>6.0</td>\n",
       "      <td>0</td>\n",
       "      <td>0</td>\n",
       "      <td>0</td>\n",
       "      <td>6.8</td>\n",
       "      <td>2017</td>\n",
       "    </tr>\n",
       "    <tr>\n",
       "      <th>14926</th>\n",
       "      <td>Allen Hurns</td>\n",
       "      <td>JAX</td>\n",
       "      <td>17</td>\n",
       "      <td>TEN</td>\n",
       "      <td>5</td>\n",
       "      <td>3</td>\n",
       "      <td>60.0</td>\n",
       "      <td>38</td>\n",
       "      <td>0</td>\n",
       "      <td>7.6</td>\n",
       "      <td>12.7</td>\n",
       "      <td>0</td>\n",
       "      <td>0</td>\n",
       "      <td>0.0</td>\n",
       "      <td>0</td>\n",
       "      <td>0</td>\n",
       "      <td>0</td>\n",
       "      <td>6.8</td>\n",
       "      <td>2017</td>\n",
       "    </tr>\n",
       "    <tr>\n",
       "      <th>14927</th>\n",
       "      <td>Michael Campanaro</td>\n",
       "      <td>BAL</td>\n",
       "      <td>17</td>\n",
       "      <td>CIN</td>\n",
       "      <td>4</td>\n",
       "      <td>3</td>\n",
       "      <td>75.0</td>\n",
       "      <td>36</td>\n",
       "      <td>0</td>\n",
       "      <td>9.0</td>\n",
       "      <td>12.0</td>\n",
       "      <td>0</td>\n",
       "      <td>0</td>\n",
       "      <td>0.0</td>\n",
       "      <td>0</td>\n",
       "      <td>0</td>\n",
       "      <td>0</td>\n",
       "      <td>6.6</td>\n",
       "      <td>2017</td>\n",
       "    </tr>\n",
       "    <tr>\n",
       "      <th>14928</th>\n",
       "      <td>Kendall Wright</td>\n",
       "      <td>CHI</td>\n",
       "      <td>17</td>\n",
       "      <td>MIN</td>\n",
       "      <td>8</td>\n",
       "      <td>5</td>\n",
       "      <td>62.5</td>\n",
       "      <td>29</td>\n",
       "      <td>0</td>\n",
       "      <td>3.6</td>\n",
       "      <td>5.8</td>\n",
       "      <td>0</td>\n",
       "      <td>0</td>\n",
       "      <td>0.0</td>\n",
       "      <td>0</td>\n",
       "      <td>0</td>\n",
       "      <td>0</td>\n",
       "      <td>7.9</td>\n",
       "      <td>2017</td>\n",
       "    </tr>\n",
       "    <tr>\n",
       "      <th>14929</th>\n",
       "      <td>Jaydon Mickens</td>\n",
       "      <td>JAX</td>\n",
       "      <td>17</td>\n",
       "      <td>TEN</td>\n",
       "      <td>0</td>\n",
       "      <td>0</td>\n",
       "      <td>0.0</td>\n",
       "      <td>0</td>\n",
       "      <td>0</td>\n",
       "      <td>0.0</td>\n",
       "      <td>0.0</td>\n",
       "      <td>0</td>\n",
       "      <td>0</td>\n",
       "      <td>0.0</td>\n",
       "      <td>0</td>\n",
       "      <td>2</td>\n",
       "      <td>1</td>\n",
       "      <td>-1.0</td>\n",
       "      <td>2017</td>\n",
       "    </tr>\n",
       "  </tbody>\n",
       "</table>\n",
       "</div>"
      ],
      "text/plain": [
       "                    Name Team  Week Opponent  ReceivingTargets  Receptions  \\\n",
       "14925       Tavon Austin  LAR    17       SF                 5           3   \n",
       "14926        Allen Hurns  JAX    17      TEN                 5           3   \n",
       "14927  Michael Campanaro  BAL    17      CIN                 4           3   \n",
       "14928     Kendall Wright  CHI    17      MIN                 8           5   \n",
       "14929     Jaydon Mickens  JAX    17      TEN                 0           0   \n",
       "\n",
       "       ReceptionPercentage  ReceivingYards  ReceivingTouchdowns  \\\n",
       "14925                 60.0              14                    0   \n",
       "14926                 60.0              38                    0   \n",
       "14927                 75.0              36                    0   \n",
       "14928                 62.5              29                    0   \n",
       "14929                  0.0               0                    0   \n",
       "\n",
       "       ReceivingYardsPerTarget  ReceivingYardsPerReception  RushingAttempts  \\\n",
       "14925                      2.8                         4.7                4   \n",
       "14926                      7.6                        12.7                0   \n",
       "14927                      9.0                        12.0                0   \n",
       "14928                      3.6                         5.8                0   \n",
       "14929                      0.0                         0.0                0   \n",
       "\n",
       "       RushingYards  RushingYardsPerAttempt  RushingTouchdowns  Fumbles  \\\n",
       "14925            24                     6.0                  0        0   \n",
       "14926             0                     0.0                  0        0   \n",
       "14927             0                     0.0                  0        0   \n",
       "14928             0                     0.0                  0        0   \n",
       "14929             0                     0.0                  0        2   \n",
       "\n",
       "       FumblesLost  points  year  \n",
       "14925            0     6.8  2017  \n",
       "14926            0     6.8  2017  \n",
       "14927            0     6.6  2017  \n",
       "14928            0     7.9  2017  \n",
       "14929            1    -1.0  2017  "
      ]
     },
     "execution_count": 5,
     "metadata": {},
     "output_type": "execute_result"
    }
   ],
   "source": [
    "wr.tail()"
   ]
  },
  {
   "cell_type": "markdown",
   "metadata": {},
   "source": [
    "## WR Weekly projections dataframe feature engineering "
   ]
  },
  {
   "cell_type": "code",
   "execution_count": 7,
   "metadata": {},
   "outputs": [],
   "source": [
    "week1.drop(['Rank','Position','ReceivingLong','FantasyPointsPerGame'], axis=1, inplace=True)\n",
    "\n",
    "week1['year'] =2018\n",
    "week1.columns = wr.columns\n",
    "\n",
    "indices = []\n",
    "for idx,player in enumerate(week1['Name']):\n",
    "    if player not in wr['Name'].unique():\n",
    "        indices.append(idx)\n",
    "\n",
    "week1.drop(indices, axis=0, inplace=True)\n",
    "week1.reset_index(inplace=True, drop=True)"
   ]
  },
  {
   "cell_type": "code",
   "execution_count": 8,
   "metadata": {},
   "outputs": [
    {
     "data": {
      "text/plain": [
       "Index(['Name', 'Team', 'Week', 'Opponent', 'ReceivingTargets', 'Receptions',\n",
       "       'ReceptionPercentage', 'ReceivingYards', 'ReceivingTouchdowns',\n",
       "       'ReceivingYardsPerTarget', 'ReceivingYardsPerReception',\n",
       "       'RushingAttempts', 'RushingYards', 'RushingYardsPerAttempt',\n",
       "       'RushingTouchdowns', 'Fumbles', 'FumblesLost', 'points', 'year'],\n",
       "      dtype='object')"
      ]
     },
     "execution_count": 8,
     "metadata": {},
     "output_type": "execute_result"
    }
   ],
   "source": [
    "wr.columns"
   ]
  },
  {
   "cell_type": "code",
   "execution_count": 14,
   "metadata": {},
   "outputs": [],
   "source": [
    "indices = []\n",
    "for idx,tar in enumerate(wr['ReceivingTargets']):\n",
    "    if tar ==0:\n",
    "        indices.append(idx)"
   ]
  },
  {
   "cell_type": "code",
   "execution_count": 16,
   "metadata": {},
   "outputs": [],
   "source": [
    "wr.drop(indices, axis=0, inplace=True)"
   ]
  },
  {
   "cell_type": "raw",
   "metadata": {},
   "source": []
  },
  {
   "cell_type": "code",
   "execution_count": 22,
   "metadata": {
    "collapsed": true
   },
   "outputs": [],
   "source": [
    "from sklearn.preprocessing import MinMaxScaler\n",
    "from sklearn.linear_model import LinearRegression"
   ]
  },
  {
   "cell_type": "code",
   "execution_count": 23,
   "metadata": {
    "collapsed": true
   },
   "outputs": [],
   "source": [
    "#A function that will covert a time series database into a supervised learning database\n",
    "\n",
    "def series_to_supervised(data, n_in=1, n_out=1, dropnan=True):\n",
    "    n_vars = 1 if type(data) is list else data.shape[1]\n",
    "    df = pd.DataFrame(data)\n",
    "    cols, names = list(), list()\n",
    "    # input sequence (t-n, ... t-1)\n",
    "    for i in range(n_in, 0, -1):\n",
    "            cols.append(df.shift(i))\n",
    "            names += [('var%d(t-%d)' % (j+1, i)) for j in range(n_vars)]\n",
    "    # forecast sequence (t, t+1, ... t+n)\n",
    "    for i in range(0, n_out):\n",
    "        cols.append(df.shift(-i))\n",
    "        if i == 0:\n",
    "            names += [('var%d(t)' % (j+1)) for j in range(n_vars)]\n",
    "        else:\n",
    "            names += [('var%d(t+%d)' % (j+1, i)) for j in range(n_vars)]\n",
    "    # put it all together\n",
    "    agg = pd.concat(cols, axis=1)\n",
    "    agg.columns = names\n",
    "    # drop rows with NaN values\n",
    "    if dropnan:\n",
    "        agg.dropna(inplace=True)\n",
    "    return agg"
   ]
  },
  {
   "cell_type": "code",
   "execution_count": 24,
   "metadata": {
    "collapsed": true
   },
   "outputs": [],
   "source": [
    "train  = wr\n",
    "test = week1"
   ]
  },
  {
   "cell_type": "code",
   "execution_count": 25,
   "metadata": {},
   "outputs": [
    {
     "data": {
      "text/plain": [
       "Index(['Name', 'Team', 'Week', 'Opponent', 'ReceivingTargets', 'Receptions',\n",
       "       'ReceptionPercentage', 'ReceivingYards', 'ReceivingTouchdowns',\n",
       "       'ReceivingYardsPerTarget', 'ReceivingYardsPerReception',\n",
       "       'RushingAttempts', 'RushingYards', 'RushingYardsPerAttempt',\n",
       "       'RushingTouchdowns', 'Fumbles', 'FumblesLost', 'points', 'year'],\n",
       "      dtype='object')"
      ]
     },
     "execution_count": 25,
     "metadata": {},
     "output_type": "execute_result"
    }
   ],
   "source": [
    "wr.columns"
   ]
  },
  {
   "cell_type": "code",
   "execution_count": 345,
   "metadata": {
    "collapsed": true
   },
   "outputs": [],
   "source": [
    "passing = ['Comp','Att','Pct','Yds','Yds/Att','TD','Int']"
   ]
  },
  {
   "cell_type": "code",
   "execution_count": 26,
   "metadata": {
    "collapsed": true
   },
   "outputs": [],
   "source": [
    "y_train = train['points']\n",
    "y_test = test['points']\n",
    "X_train = train.drop('points',axis=1)\n",
    "X_test = test.drop('points', axis=1)"
   ]
  },
  {
   "cell_type": "code",
   "execution_count": 27,
   "metadata": {
    "collapsed": true
   },
   "outputs": [],
   "source": [
    "X_train = X_train[X_train.columns[4:12]]\n",
    "X_test = X_test[X_test.columns[4:12]]"
   ]
  },
  {
   "cell_type": "code",
   "execution_count": 28,
   "metadata": {},
   "outputs": [
    {
     "data": {
      "text/plain": [
       "Index(['ReceivingTargets', 'Receptions', 'ReceptionPercentage',\n",
       "       'ReceivingYards', 'ReceivingTouchdowns', 'ReceivingYardsPerTarget',\n",
       "       'ReceivingYardsPerReception', 'RushingAttempts'],\n",
       "      dtype='object')"
      ]
     },
     "execution_count": 28,
     "metadata": {},
     "output_type": "execute_result"
    }
   ],
   "source": [
    "X_train.columns"
   ]
  },
  {
   "cell_type": "code",
   "execution_count": 29,
   "metadata": {
    "collapsed": true
   },
   "outputs": [],
   "source": [
    "reframed = series_to_supervised(X_train.values.astype('float32'),1,1)"
   ]
  },
  {
   "cell_type": "code",
   "execution_count": null,
   "metadata": {
    "collapsed": true
   },
   "outputs": [],
   "source": []
  },
  {
   "cell_type": "code",
   "execution_count": 30,
   "metadata": {},
   "outputs": [
    {
     "data": {
      "text/plain": [
       "LinearRegression(copy_X=True, fit_intercept=True, n_jobs=1, normalize=False)"
      ]
     },
     "execution_count": 30,
     "metadata": {},
     "output_type": "execute_result"
    }
   ],
   "source": [
    "lr = LinearRegression()\n",
    "lr.fit(X_train,y_train)"
   ]
  },
  {
   "cell_type": "code",
   "execution_count": 31,
   "metadata": {},
   "outputs": [
    {
     "data": {
      "text/html": [
       "<div>\n",
       "<style>\n",
       "    .dataframe thead tr:only-child th {\n",
       "        text-align: right;\n",
       "    }\n",
       "\n",
       "    .dataframe thead th {\n",
       "        text-align: left;\n",
       "    }\n",
       "\n",
       "    .dataframe tbody tr th {\n",
       "        vertical-align: top;\n",
       "    }\n",
       "</style>\n",
       "<table border=\"1\" class=\"dataframe\">\n",
       "  <thead>\n",
       "    <tr style=\"text-align: right;\">\n",
       "      <th></th>\n",
       "      <th>0</th>\n",
       "      <th>coefficients</th>\n",
       "    </tr>\n",
       "  </thead>\n",
       "  <tbody>\n",
       "    <tr>\n",
       "      <th>0</th>\n",
       "      <td>ReceivingTargets</td>\n",
       "      <td>-0.030384</td>\n",
       "    </tr>\n",
       "    <tr>\n",
       "      <th>1</th>\n",
       "      <td>Receptions</td>\n",
       "      <td>0.726410</td>\n",
       "    </tr>\n",
       "    <tr>\n",
       "      <th>2</th>\n",
       "      <td>ReceptionPercentage</td>\n",
       "      <td>0.000343</td>\n",
       "    </tr>\n",
       "    <tr>\n",
       "      <th>3</th>\n",
       "      <td>ReceivingYards</td>\n",
       "      <td>0.122851</td>\n",
       "    </tr>\n",
       "    <tr>\n",
       "      <th>4</th>\n",
       "      <td>ReceivingTouchdowns</td>\n",
       "      <td>6.085840</td>\n",
       "    </tr>\n",
       "    <tr>\n",
       "      <th>5</th>\n",
       "      <td>ReceivingYardsPerTarget</td>\n",
       "      <td>0.000605</td>\n",
       "    </tr>\n",
       "    <tr>\n",
       "      <th>6</th>\n",
       "      <td>ReceivingYardsPerReception</td>\n",
       "      <td>-0.029102</td>\n",
       "    </tr>\n",
       "    <tr>\n",
       "      <th>7</th>\n",
       "      <td>RushingAttempts</td>\n",
       "      <td>1.163026</td>\n",
       "    </tr>\n",
       "  </tbody>\n",
       "</table>\n",
       "</div>"
      ],
      "text/plain": [
       "                            0  coefficients\n",
       "0            ReceivingTargets     -0.030384\n",
       "1                  Receptions      0.726410\n",
       "2         ReceptionPercentage      0.000343\n",
       "3              ReceivingYards      0.122851\n",
       "4         ReceivingTouchdowns      6.085840\n",
       "5     ReceivingYardsPerTarget      0.000605\n",
       "6  ReceivingYardsPerReception     -0.029102\n",
       "7             RushingAttempts      1.163026"
      ]
     },
     "execution_count": 31,
     "metadata": {},
     "output_type": "execute_result"
    }
   ],
   "source": [
    "coeff = pd.DataFrame(X_train.columns)\n",
    "coeff['coefficients'] = lr.coef_\n",
    "coeff\n",
    "\n"
   ]
  },
  {
   "cell_type": "code",
   "execution_count": 32,
   "metadata": {},
   "outputs": [
    {
     "data": {
      "text/plain": [
       "(161,)"
      ]
     },
     "execution_count": 32,
     "metadata": {},
     "output_type": "execute_result"
    }
   ],
   "source": [
    "yhat = lr.predict(X_test)\n",
    "yhat.shape"
   ]
  },
  {
   "cell_type": "code",
   "execution_count": 84,
   "metadata": {},
   "outputs": [
    {
     "name": "stdout",
     "output_type": "stream",
     "text": [
      "RMSE error is: 1.06535345394\n"
     ]
    }
   ],
   "source": [
    "def rmse(predictions, targets):\n",
    "    return np.sqrt(((predictions - targets) ** 2).mean())\n",
    "\n",
    "rmse_val = rmse(yhat, y_test)\n",
    "print(\"RMSE error is: \" + str(rmse_val))"
   ]
  },
  {
   "cell_type": "code",
   "execution_count": 33,
   "metadata": {},
   "outputs": [
    {
     "data": {
      "text/html": [
       "<div>\n",
       "<style>\n",
       "    .dataframe thead tr:only-child th {\n",
       "        text-align: right;\n",
       "    }\n",
       "\n",
       "    .dataframe thead th {\n",
       "        text-align: left;\n",
       "    }\n",
       "\n",
       "    .dataframe tbody tr th {\n",
       "        vertical-align: top;\n",
       "    }\n",
       "</style>\n",
       "<table border=\"1\" class=\"dataframe\">\n",
       "  <thead>\n",
       "    <tr style=\"text-align: right;\">\n",
       "      <th></th>\n",
       "      <th>Name</th>\n",
       "      <th>Predicted</th>\n",
       "    </tr>\n",
       "  </thead>\n",
       "  <tbody>\n",
       "    <tr>\n",
       "      <th>0</th>\n",
       "      <td>Antonio Brown</td>\n",
       "      <td>21.408417</td>\n",
       "    </tr>\n",
       "    <tr>\n",
       "      <th>1</th>\n",
       "      <td>DeAndre Hopkins</td>\n",
       "      <td>18.663771</td>\n",
       "    </tr>\n",
       "    <tr>\n",
       "      <th>2</th>\n",
       "      <td>Michael Thomas</td>\n",
       "      <td>18.583958</td>\n",
       "    </tr>\n",
       "    <tr>\n",
       "      <th>3</th>\n",
       "      <td>Julio Jones</td>\n",
       "      <td>17.464284</td>\n",
       "    </tr>\n",
       "    <tr>\n",
       "      <th>4</th>\n",
       "      <td>Keenan Allen</td>\n",
       "      <td>17.014770</td>\n",
       "    </tr>\n",
       "    <tr>\n",
       "      <th>5</th>\n",
       "      <td>AJ Green</td>\n",
       "      <td>17.055644</td>\n",
       "    </tr>\n",
       "    <tr>\n",
       "      <th>6</th>\n",
       "      <td>Davante Adams</td>\n",
       "      <td>15.382088</td>\n",
       "    </tr>\n",
       "    <tr>\n",
       "      <th>7</th>\n",
       "      <td>Stefon Diggs</td>\n",
       "      <td>15.194481</td>\n",
       "    </tr>\n",
       "    <tr>\n",
       "      <th>8</th>\n",
       "      <td>T.Y. Hilton</td>\n",
       "      <td>14.667191</td>\n",
       "    </tr>\n",
       "    <tr>\n",
       "      <th>9</th>\n",
       "      <td>Tyreek Hill</td>\n",
       "      <td>15.276388</td>\n",
       "    </tr>\n",
       "    <tr>\n",
       "      <th>10</th>\n",
       "      <td>Adam Thielen</td>\n",
       "      <td>14.773242</td>\n",
       "    </tr>\n",
       "    <tr>\n",
       "      <th>11</th>\n",
       "      <td>Chris Hogan</td>\n",
       "      <td>14.211714</td>\n",
       "    </tr>\n",
       "    <tr>\n",
       "      <th>12</th>\n",
       "      <td>Odell Beckham Jr</td>\n",
       "      <td>14.546850</td>\n",
       "    </tr>\n",
       "    <tr>\n",
       "      <th>13</th>\n",
       "      <td>Mike Evans</td>\n",
       "      <td>13.871413</td>\n",
       "    </tr>\n",
       "    <tr>\n",
       "      <th>14</th>\n",
       "      <td>Marvin Jones</td>\n",
       "      <td>13.063548</td>\n",
       "    </tr>\n",
       "    <tr>\n",
       "      <th>15</th>\n",
       "      <td>Juju Smith-Schuster</td>\n",
       "      <td>13.371410</td>\n",
       "    </tr>\n",
       "    <tr>\n",
       "      <th>16</th>\n",
       "      <td>Golden Tate</td>\n",
       "      <td>14.316060</td>\n",
       "    </tr>\n",
       "    <tr>\n",
       "      <th>17</th>\n",
       "      <td>Larry Fitzgerald</td>\n",
       "      <td>14.725776</td>\n",
       "    </tr>\n",
       "    <tr>\n",
       "      <th>18</th>\n",
       "      <td>Demaryius Thomas</td>\n",
       "      <td>14.055539</td>\n",
       "    </tr>\n",
       "    <tr>\n",
       "      <th>19</th>\n",
       "      <td>Jarvis Landry</td>\n",
       "      <td>14.915386</td>\n",
       "    </tr>\n",
       "    <tr>\n",
       "      <th>20</th>\n",
       "      <td>Amari Cooper</td>\n",
       "      <td>13.400576</td>\n",
       "    </tr>\n",
       "    <tr>\n",
       "      <th>21</th>\n",
       "      <td>Brandin Cooks</td>\n",
       "      <td>12.970335</td>\n",
       "    </tr>\n",
       "    <tr>\n",
       "      <th>22</th>\n",
       "      <td>Doug Baldwin</td>\n",
       "      <td>13.263791</td>\n",
       "    </tr>\n",
       "    <tr>\n",
       "      <th>23</th>\n",
       "      <td>Kenny Stills</td>\n",
       "      <td>11.842570</td>\n",
       "    </tr>\n",
       "    <tr>\n",
       "      <th>24</th>\n",
       "      <td>Nelson Agholor</td>\n",
       "      <td>12.634951</td>\n",
       "    </tr>\n",
       "    <tr>\n",
       "      <th>25</th>\n",
       "      <td>Allen Robinson</td>\n",
       "      <td>11.844111</td>\n",
       "    </tr>\n",
       "    <tr>\n",
       "      <th>26</th>\n",
       "      <td>Will Fuller</td>\n",
       "      <td>11.356905</td>\n",
       "    </tr>\n",
       "    <tr>\n",
       "      <th>27</th>\n",
       "      <td>Robby Anderson</td>\n",
       "      <td>11.881362</td>\n",
       "    </tr>\n",
       "    <tr>\n",
       "      <th>28</th>\n",
       "      <td>Cooper Kupp</td>\n",
       "      <td>11.880514</td>\n",
       "    </tr>\n",
       "    <tr>\n",
       "      <th>29</th>\n",
       "      <td>Michael Crabtree</td>\n",
       "      <td>12.085939</td>\n",
       "    </tr>\n",
       "    <tr>\n",
       "      <th>...</th>\n",
       "      <td>...</td>\n",
       "      <td>...</td>\n",
       "    </tr>\n",
       "    <tr>\n",
       "      <th>131</th>\n",
       "      <td>Mack Hollins</td>\n",
       "      <td>0.814918</td>\n",
       "    </tr>\n",
       "    <tr>\n",
       "      <th>132</th>\n",
       "      <td>David Moore</td>\n",
       "      <td>0.721972</td>\n",
       "    </tr>\n",
       "    <tr>\n",
       "      <th>133</th>\n",
       "      <td>Ryan Switzer</td>\n",
       "      <td>0.697695</td>\n",
       "    </tr>\n",
       "    <tr>\n",
       "      <th>134</th>\n",
       "      <td>De'Anthony Thomas</td>\n",
       "      <td>0.740904</td>\n",
       "    </tr>\n",
       "    <tr>\n",
       "      <th>135</th>\n",
       "      <td>Trevor Davis</td>\n",
       "      <td>0.630534</td>\n",
       "    </tr>\n",
       "    <tr>\n",
       "      <th>136</th>\n",
       "      <td>Bradley Marquez</td>\n",
       "      <td>0.641604</td>\n",
       "    </tr>\n",
       "    <tr>\n",
       "      <th>137</th>\n",
       "      <td>Jordan Taylor</td>\n",
       "      <td>0.710283</td>\n",
       "    </tr>\n",
       "    <tr>\n",
       "      <th>138</th>\n",
       "      <td>Jaydon Mickens</td>\n",
       "      <td>0.615818</td>\n",
       "    </tr>\n",
       "    <tr>\n",
       "      <th>139</th>\n",
       "      <td>Geremy Davis</td>\n",
       "      <td>0.616426</td>\n",
       "    </tr>\n",
       "    <tr>\n",
       "      <th>140</th>\n",
       "      <td>Tommylee Lewis</td>\n",
       "      <td>0.925775</td>\n",
       "    </tr>\n",
       "    <tr>\n",
       "      <th>141</th>\n",
       "      <td>Marcus Johnson</td>\n",
       "      <td>0.567893</td>\n",
       "    </tr>\n",
       "    <tr>\n",
       "      <th>142</th>\n",
       "      <td>Marvin Hall</td>\n",
       "      <td>0.425796</td>\n",
       "    </tr>\n",
       "    <tr>\n",
       "      <th>143</th>\n",
       "      <td>Noah Brown</td>\n",
       "      <td>0.493879</td>\n",
       "    </tr>\n",
       "    <tr>\n",
       "      <th>144</th>\n",
       "      <td>Maurice Harris</td>\n",
       "      <td>0.480986</td>\n",
       "    </tr>\n",
       "    <tr>\n",
       "      <th>145</th>\n",
       "      <td>Darius Jennings</td>\n",
       "      <td>0.364978</td>\n",
       "    </tr>\n",
       "    <tr>\n",
       "      <th>146</th>\n",
       "      <td>Stacy Coley</td>\n",
       "      <td>0.365586</td>\n",
       "    </tr>\n",
       "    <tr>\n",
       "      <th>147</th>\n",
       "      <td>Tanner McEvoy</td>\n",
       "      <td>0.315230</td>\n",
       "    </tr>\n",
       "    <tr>\n",
       "      <th>148</th>\n",
       "      <td>Matthew Slater</td>\n",
       "      <td>0.290660</td>\n",
       "    </tr>\n",
       "    <tr>\n",
       "      <th>149</th>\n",
       "      <td>Kaelin Clay</td>\n",
       "      <td>0.143543</td>\n",
       "    </tr>\n",
       "    <tr>\n",
       "      <th>150</th>\n",
       "      <td>Alshon Jeffery</td>\n",
       "      <td>0.038908</td>\n",
       "    </tr>\n",
       "    <tr>\n",
       "      <th>151</th>\n",
       "      <td>Ricardo Louis</td>\n",
       "      <td>0.038908</td>\n",
       "    </tr>\n",
       "    <tr>\n",
       "      <th>152</th>\n",
       "      <td>Michael Campanaro</td>\n",
       "      <td>0.038908</td>\n",
       "    </tr>\n",
       "    <tr>\n",
       "      <th>153</th>\n",
       "      <td>Marcus Kemp</td>\n",
       "      <td>0.038908</td>\n",
       "    </tr>\n",
       "    <tr>\n",
       "      <th>154</th>\n",
       "      <td>Robert Davis</td>\n",
       "      <td>0.038908</td>\n",
       "    </tr>\n",
       "    <tr>\n",
       "      <th>155</th>\n",
       "      <td>Daniel Brown</td>\n",
       "      <td>0.038908</td>\n",
       "    </tr>\n",
       "    <tr>\n",
       "      <th>156</th>\n",
       "      <td>Neal Sterling</td>\n",
       "      <td>0.038908</td>\n",
       "    </tr>\n",
       "    <tr>\n",
       "      <th>157</th>\n",
       "      <td>James Wright</td>\n",
       "      <td>0.038908</td>\n",
       "    </tr>\n",
       "    <tr>\n",
       "      <th>158</th>\n",
       "      <td>Krishawn Hogan</td>\n",
       "      <td>0.038908</td>\n",
       "    </tr>\n",
       "    <tr>\n",
       "      <th>159</th>\n",
       "      <td>Aaron Burbridge</td>\n",
       "      <td>0.038908</td>\n",
       "    </tr>\n",
       "    <tr>\n",
       "      <th>160</th>\n",
       "      <td>Isaiah McKenzie</td>\n",
       "      <td>0.217861</td>\n",
       "    </tr>\n",
       "  </tbody>\n",
       "</table>\n",
       "<p>161 rows × 2 columns</p>\n",
       "</div>"
      ],
      "text/plain": [
       "                    Name  Predicted\n",
       "0          Antonio Brown  21.408417\n",
       "1        DeAndre Hopkins  18.663771\n",
       "2         Michael Thomas  18.583958\n",
       "3            Julio Jones  17.464284\n",
       "4           Keenan Allen  17.014770\n",
       "5               AJ Green  17.055644\n",
       "6          Davante Adams  15.382088\n",
       "7           Stefon Diggs  15.194481\n",
       "8            T.Y. Hilton  14.667191\n",
       "9            Tyreek Hill  15.276388\n",
       "10          Adam Thielen  14.773242\n",
       "11           Chris Hogan  14.211714\n",
       "12      Odell Beckham Jr  14.546850\n",
       "13            Mike Evans  13.871413\n",
       "14          Marvin Jones  13.063548\n",
       "15   Juju Smith-Schuster  13.371410\n",
       "16           Golden Tate  14.316060\n",
       "17      Larry Fitzgerald  14.725776\n",
       "18      Demaryius Thomas  14.055539\n",
       "19         Jarvis Landry  14.915386\n",
       "20          Amari Cooper  13.400576\n",
       "21         Brandin Cooks  12.970335\n",
       "22          Doug Baldwin  13.263791\n",
       "23          Kenny Stills  11.842570\n",
       "24        Nelson Agholor  12.634951\n",
       "25        Allen Robinson  11.844111\n",
       "26           Will Fuller  11.356905\n",
       "27        Robby Anderson  11.881362\n",
       "28           Cooper Kupp  11.880514\n",
       "29      Michael Crabtree  12.085939\n",
       "..                   ...        ...\n",
       "131         Mack Hollins   0.814918\n",
       "132          David Moore   0.721972\n",
       "133         Ryan Switzer   0.697695\n",
       "134    De'Anthony Thomas   0.740904\n",
       "135         Trevor Davis   0.630534\n",
       "136      Bradley Marquez   0.641604\n",
       "137        Jordan Taylor   0.710283\n",
       "138       Jaydon Mickens   0.615818\n",
       "139         Geremy Davis   0.616426\n",
       "140       Tommylee Lewis   0.925775\n",
       "141       Marcus Johnson   0.567893\n",
       "142          Marvin Hall   0.425796\n",
       "143           Noah Brown   0.493879\n",
       "144       Maurice Harris   0.480986\n",
       "145      Darius Jennings   0.364978\n",
       "146          Stacy Coley   0.365586\n",
       "147        Tanner McEvoy   0.315230\n",
       "148       Matthew Slater   0.290660\n",
       "149          Kaelin Clay   0.143543\n",
       "150       Alshon Jeffery   0.038908\n",
       "151        Ricardo Louis   0.038908\n",
       "152    Michael Campanaro   0.038908\n",
       "153          Marcus Kemp   0.038908\n",
       "154         Robert Davis   0.038908\n",
       "155         Daniel Brown   0.038908\n",
       "156        Neal Sterling   0.038908\n",
       "157         James Wright   0.038908\n",
       "158       Krishawn Hogan   0.038908\n",
       "159      Aaron Burbridge   0.038908\n",
       "160      Isaiah McKenzie   0.217861\n",
       "\n",
       "[161 rows x 2 columns]"
      ]
     },
     "execution_count": 33,
     "metadata": {},
     "output_type": "execute_result"
    }
   ],
   "source": [
    "results = pd.DataFrame()\n",
    "results['Name'] = week1['Name']\n",
    "results['Predicted'] = yhat\n",
    "results"
   ]
  },
  {
   "cell_type": "code",
   "execution_count": 89,
   "metadata": {},
   "outputs": [
    {
     "data": {
      "text/plain": [
       "(2559, 4)"
      ]
     },
     "execution_count": 89,
     "metadata": {},
     "output_type": "execute_result"
    }
   ],
   "source": [
    "results.shape"
   ]
  },
  {
   "cell_type": "code",
   "execution_count": 34,
   "metadata": {
    "collapsed": true
   },
   "outputs": [],
   "source": [
    "results.to_csv('2018_week1_wr.csv', index= False)"
   ]
  },
  {
   "cell_type": "code",
   "execution_count": null,
   "metadata": {
    "collapsed": true
   },
   "outputs": [],
   "source": []
  }
 ],
 "metadata": {
  "kernelspec": {
   "display_name": "Python 3",
   "language": "python",
   "name": "python3"
  },
  "language_info": {
   "codemirror_mode": {
    "name": "ipython",
    "version": 3
   },
   "file_extension": ".py",
   "mimetype": "text/x-python",
   "name": "python",
   "nbconvert_exporter": "python",
   "pygments_lexer": "ipython3",
   "version": "3.6.2"
  }
 },
 "nbformat": 4,
 "nbformat_minor": 2
}
