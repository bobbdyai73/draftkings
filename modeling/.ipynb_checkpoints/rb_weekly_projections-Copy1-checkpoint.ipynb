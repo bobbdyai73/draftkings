{
 "cells": [
  {
   "cell_type": "code",
   "execution_count": 3,
   "metadata": {
    "collapsed": true
   },
   "outputs": [],
   "source": [
    "import pandas as pd\n",
    "import numpy as np\n",
    "from sklearn.preprocessing import MinMaxScaler\n",
    "from sklearn.linear_model import LinearRegression\n",
    "from sklearn.preprocessing import LabelEncoder"
   ]
  },
  {
   "cell_type": "code",
   "execution_count": 4,
   "metadata": {},
   "outputs": [
    {
     "ename": "NameError",
     "evalue": "name 'rb' is not defined",
     "output_type": "error",
     "traceback": [
      "\u001b[1;31m---------------------------------------------------------------------------\u001b[0m",
      "\u001b[1;31mNameError\u001b[0m                                 Traceback (most recent call last)",
      "\u001b[1;32m<ipython-input-4-a561466d5e14>\u001b[0m in \u001b[0;36m<module>\u001b[1;34m()\u001b[0m\n\u001b[1;32m----> 1\u001b[1;33m \u001b[0mrb\u001b[0m\u001b[1;33m.\u001b[0m\u001b[0mhead\u001b[0m\u001b[1;33m(\u001b[0m\u001b[1;33m)\u001b[0m\u001b[1;33m\u001b[0m\u001b[0m\n\u001b[0m",
      "\u001b[1;31mNameError\u001b[0m: name 'rb' is not defined"
     ]
    }
   ],
   "source": [
    "rb.head()"
   ]
  },
  {
   "cell_type": "code",
   "execution_count": 7,
   "metadata": {},
   "outputs": [
    {
     "data": {
      "text/plain": [
       "player         object\n",
       "Week            int64\n",
       "Opponent       object\n",
       "var1(t-1)     float64\n",
       "var2(t-1)     float64\n",
       "var3(t-1)     float64\n",
       "var4(t-1)     float64\n",
       "var5(t-1)     float64\n",
       "var6(t-1)     float64\n",
       "var7(t-1)     float64\n",
       "var8(t-1)     float64\n",
       "var9(t-1)     float64\n",
       "var10(t-1)    float64\n",
       "var11(t-1)    float64\n",
       "var12(t-1)    float64\n",
       "var13(t-1)    float64\n",
       "var14(t-1)    float64\n",
       "var15(t-1)    float64\n",
       "var1(t)       float64\n",
       "var2(t)       float64\n",
       "var3(t)       float64\n",
       "var4(t)       float64\n",
       "var5(t)       float64\n",
       "var6(t)       float64\n",
       "var7(t)       float64\n",
       "var8(t)       float64\n",
       "var9(t)       float64\n",
       "var10(t)      float64\n",
       "var11(t)      float64\n",
       "var12(t)      float64\n",
       "var13(t)      float64\n",
       "var14(t)      float64\n",
       "var15(t)      float64\n",
       "year            int64\n",
       "def_rk          int64\n",
       "h/a_1         float64\n",
       "surface_0     float64\n",
       "salary          int64\n",
       "points        float64\n",
       "dtype: object"
      ]
     },
     "execution_count": 7,
     "metadata": {},
     "output_type": "execute_result"
    }
   ],
   "source": [
    "\n",
    "rb.dtypes"
   ]
  },
  {
   "cell_type": "code",
   "execution_count": null,
   "metadata": {
    "collapsed": true
   },
   "outputs": [],
   "source": [
    "# Read an rename"
   ]
  },
  {
   "cell_type": "code",
   "execution_count": 5,
   "metadata": {
    "collapsed": true
   },
   "outputs": [],
   "source": [
    "rb = pd.read_csv('../input/rb/rb_stats.csv')"
   ]
  },
  {
   "cell_type": "code",
   "execution_count": 7,
   "metadata": {},
   "outputs": [],
   "source": [
    "# Replace nulls with zero and turn salary attribute to float\n",
    "rb.replace('null',0, inplace=True)\n",
    "rb.salary = rb['salary'].apply(lambda x: float(x))"
   ]
  },
  {
   "cell_type": "code",
   "execution_count": 8,
   "metadata": {
    "collapsed": true
   },
   "outputs": [],
   "source": [
    "def conv_atts(df):\n",
    "    df.rename(columns={'Unnamed: 0':'player'}, inplace=True)\n",
    "    df.replace('null',0, inplace=True)\n",
    "    df['salary'] = df['salary'].apply(lambda x: float(x))\n",
    "    df['h/a_1'] = df['h/a_1'].astype('category')\n",
    "    df['surface_0'] = df['surface_0'].astype('category')\n",
    "    df['def_rk'] = df['def_rk'].astype('category')\n",
    "\n",
    "    return df"
   ]
  },
  {
   "cell_type": "code",
   "execution_count": 9,
   "metadata": {},
   "outputs": [
    {
     "data": {
      "text/plain": [
       "player          object\n",
       "Week             int64\n",
       "Opponent        object\n",
       "year             int64\n",
       "var1(t-1)      float64\n",
       "var2(t-1)      float64\n",
       "var3(t-1)      float64\n",
       "var4(t-1)      float64\n",
       "var5(t-1)      float64\n",
       "var6(t-1)      float64\n",
       "var7(t-1)      float64\n",
       "var8(t-1)      float64\n",
       "var9(t-1)      float64\n",
       "var10(t-1)     float64\n",
       "var11(t-1)     float64\n",
       "var12(t-1)     float64\n",
       "var13(t-1)     float64\n",
       "var14(t-1)     float64\n",
       "var15(t-1)     float64\n",
       "var1(t)        float64\n",
       "var2(t)        float64\n",
       "var3(t)        float64\n",
       "var4(t)        float64\n",
       "var5(t)        float64\n",
       "var6(t)        float64\n",
       "var7(t)        float64\n",
       "var8(t)        float64\n",
       "var9(t)        float64\n",
       "var10(t)       float64\n",
       "var11(t)       float64\n",
       "var12(t)       float64\n",
       "var13(t)       float64\n",
       "var14(t)       float64\n",
       "var15(t)       float64\n",
       "def_rk        category\n",
       "h/a_1         category\n",
       "surface_0     category\n",
       "salary         float64\n",
       "points         float64\n",
       "dtype: object"
      ]
     },
     "execution_count": 9,
     "metadata": {},
     "output_type": "execute_result"
    }
   ],
   "source": [
    "rb = conv_atts(rb)\n",
    "rb.dtypes\n"
   ]
  },
  {
   "cell_type": "code",
   "execution_count": 10,
   "metadata": {},
   "outputs": [
    {
     "data": {
      "text/plain": [
       "array([2017, 2016, 2015], dtype=int64)"
      ]
     },
     "execution_count": 10,
     "metadata": {},
     "output_type": "execute_result"
    }
   ],
   "source": [
    "# Design train and test datasets\n",
    "\n",
    "train = rb[rb['year']!=2018]\n",
    "train = train[train['Week']!=4]\n",
    "train['year'].unique()"
   ]
  },
  {
   "cell_type": "code",
   "execution_count": 11,
   "metadata": {},
   "outputs": [
    {
     "data": {
      "text/plain": [
       "(3439, 39)"
      ]
     },
     "execution_count": 11,
     "metadata": {},
     "output_type": "execute_result"
    }
   ],
   "source": [
    "train.shape"
   ]
  },
  {
   "cell_type": "code",
   "execution_count": 12,
   "metadata": {},
   "outputs": [
    {
     "data": {
      "text/plain": [
       "(63, 39)"
      ]
     },
     "execution_count": 12,
     "metadata": {},
     "output_type": "execute_result"
    }
   ],
   "source": [
    "test = rb[rb['year']==2018]\n",
    "test=test[test['Week']==4]\n",
    "test.shape"
   ]
  },
  {
   "cell_type": "code",
   "execution_count": 15,
   "metadata": {},
   "outputs": [
    {
     "data": {
      "text/plain": [
       "Index(['player', 'Week', 'Opponent', 'year', 'var1(t-1)', 'var2(t-1)',\n",
       "       'var3(t-1)', 'var4(t-1)', 'var5(t-1)', 'var6(t-1)', 'var7(t-1)',\n",
       "       'var8(t-1)', 'var9(t-1)', 'var10(t-1)', 'var11(t-1)', 'var12(t-1)',\n",
       "       'var13(t-1)', 'var14(t-1)', 'var15(t-1)', 'var1(t)', 'var2(t)',\n",
       "       'var3(t)', 'var4(t)', 'var5(t)', 'var6(t)', 'var7(t)', 'var8(t)',\n",
       "       'var9(t)', 'var10(t)', 'var11(t)', 'var12(t)', 'var13(t)', 'var14(t)',\n",
       "       'var15(t)', 'def_rk', 'h/a_1', 'surface_0', 'salary', 'points'],\n",
       "      dtype='object')"
      ]
     },
     "execution_count": 15,
     "metadata": {},
     "output_type": "execute_result"
    }
   ],
   "source": [
    "test.columns"
   ]
  },
  {
   "cell_type": "code",
   "execution_count": 14,
   "metadata": {
    "collapsed": true
   },
   "outputs": [],
   "source": [
    "# Target variables \n",
    "\n",
    "y_train = train['points']\n",
    "y_test = test['points']\n",
    "\n",
    "# Predictors, all numeric variables minus target variable\n",
    "X_train = train.iloc[:,4:-2]\n",
    "X_test = test.iloc[:,4:-2]"
   ]
  },
  {
   "cell_type": "code",
   "execution_count": 90,
   "metadata": {},
   "outputs": [
    {
     "data": {
      "text/plain": [
       "array([[ 0.        ,  1.        ,  0.0070922 , ...,  0.        ,\n",
       "         0.51998093,  0.14457831],\n",
       "       [ 0.01960784,  0.8335    ,  0.02600473, ...,  0.19142857,\n",
       "         0.5486886 ,  0.39759036],\n",
       "       [ 0.21568627,  0.785     ,  0.23799054, ...,  0.21428571,\n",
       "         0.62250835,  0.5       ],\n",
       "       ..., \n",
       "       [ 0.46411765,  0.6547    ,  0.33174941, ...,  0.21428571,\n",
       "         0.48526466,  0.81325301],\n",
       "       [ 0.48039216,  0.6695    ,  0.39184397, ...,  0.22857143,\n",
       "         0.45808298,  0.85542169],\n",
       "       [ 0.58039216,  0.6414    ,  0.42411348, ...,  0.19142857,\n",
       "         0.36185026,  0.8253012 ]])"
      ]
     },
     "execution_count": 90,
     "metadata": {},
     "output_type": "execute_result"
    }
   ],
   "source": [
    "scaler = MinMaxScaler()\n",
    "scaler.fit_transform(X_train)"
   ]
  },
  {
   "cell_type": "code",
   "execution_count": 16,
   "metadata": {},
   "outputs": [
    {
     "data": {
      "text/plain": [
       "(63, 33)"
      ]
     },
     "execution_count": 16,
     "metadata": {},
     "output_type": "execute_result"
    }
   ],
   "source": [
    "X_test.shape"
   ]
  },
  {
   "cell_type": "code",
   "execution_count": 17,
   "metadata": {},
   "outputs": [
    {
     "data": {
      "text/plain": [
       "(3439, 33)"
      ]
     },
     "execution_count": 17,
     "metadata": {},
     "output_type": "execute_result"
    }
   ],
   "source": [
    "X_train.shape"
   ]
  },
  {
   "cell_type": "code",
   "execution_count": 16,
   "metadata": {
    "collapsed": true
   },
   "outputs": [],
   "source": [
    "y_train.reset_index(inplace=True,drop=True)\n",
    "X_train.reset_index(inplace=True, drop=True)"
   ]
  },
  {
   "cell_type": "code",
   "execution_count": 19,
   "metadata": {
    "collapsed": true
   },
   "outputs": [],
   "source": [
    "lr = LinearRegression()"
   ]
  },
  {
   "cell_type": "code",
   "execution_count": 20,
   "metadata": {},
   "outputs": [
    {
     "data": {
      "text/plain": [
       "LinearRegression(copy_X=True, fit_intercept=True, n_jobs=1, normalize=False)"
      ]
     },
     "execution_count": 20,
     "metadata": {},
     "output_type": "execute_result"
    }
   ],
   "source": [
    "lr.fit(X_train,y_train)"
   ]
  },
  {
   "cell_type": "code",
   "execution_count": 21,
   "metadata": {},
   "outputs": [
    {
     "data": {
      "text/html": [
       "<div>\n",
       "<style>\n",
       "    .dataframe thead tr:only-child th {\n",
       "        text-align: right;\n",
       "    }\n",
       "\n",
       "    .dataframe thead th {\n",
       "        text-align: left;\n",
       "    }\n",
       "\n",
       "    .dataframe tbody tr th {\n",
       "        vertical-align: top;\n",
       "    }\n",
       "</style>\n",
       "<table border=\"1\" class=\"dataframe\">\n",
       "  <thead>\n",
       "    <tr style=\"text-align: right;\">\n",
       "      <th></th>\n",
       "      <th>0</th>\n",
       "      <th>coefficients</th>\n",
       "    </tr>\n",
       "  </thead>\n",
       "  <tbody>\n",
       "    <tr>\n",
       "      <th>0</th>\n",
       "      <td>var1(t-1)</td>\n",
       "      <td>0.138881</td>\n",
       "    </tr>\n",
       "    <tr>\n",
       "      <th>1</th>\n",
       "      <td>var2(t-1)</td>\n",
       "      <td>-0.076445</td>\n",
       "    </tr>\n",
       "    <tr>\n",
       "      <th>2</th>\n",
       "      <td>var3(t-1)</td>\n",
       "      <td>-2.216490</td>\n",
       "    </tr>\n",
       "    <tr>\n",
       "      <th>3</th>\n",
       "      <td>var4(t-1)</td>\n",
       "      <td>-1.138667</td>\n",
       "    </tr>\n",
       "    <tr>\n",
       "      <th>4</th>\n",
       "      <td>var5(t-1)</td>\n",
       "      <td>-0.035783</td>\n",
       "    </tr>\n",
       "    <tr>\n",
       "      <th>5</th>\n",
       "      <td>var6(t-1)</td>\n",
       "      <td>-0.060778</td>\n",
       "    </tr>\n",
       "    <tr>\n",
       "      <th>6</th>\n",
       "      <td>var7(t-1)</td>\n",
       "      <td>0.017863</td>\n",
       "    </tr>\n",
       "    <tr>\n",
       "      <th>7</th>\n",
       "      <td>var8(t-1)</td>\n",
       "      <td>1.187123</td>\n",
       "    </tr>\n",
       "    <tr>\n",
       "      <th>8</th>\n",
       "      <td>var9(t-1)</td>\n",
       "      <td>0.168572</td>\n",
       "    </tr>\n",
       "    <tr>\n",
       "      <th>9</th>\n",
       "      <td>var10(t-1)</td>\n",
       "      <td>-0.006700</td>\n",
       "    </tr>\n",
       "    <tr>\n",
       "      <th>10</th>\n",
       "      <td>var11(t-1)</td>\n",
       "      <td>0.103015</td>\n",
       "    </tr>\n",
       "    <tr>\n",
       "      <th>11</th>\n",
       "      <td>var12(t-1)</td>\n",
       "      <td>-0.152682</td>\n",
       "    </tr>\n",
       "    <tr>\n",
       "      <th>12</th>\n",
       "      <td>var13(t-1)</td>\n",
       "      <td>-8.166758</td>\n",
       "    </tr>\n",
       "    <tr>\n",
       "      <th>13</th>\n",
       "      <td>var14(t-1)</td>\n",
       "      <td>0.355281</td>\n",
       "    </tr>\n",
       "    <tr>\n",
       "      <th>14</th>\n",
       "      <td>var15(t-1)</td>\n",
       "      <td>-0.249924</td>\n",
       "    </tr>\n",
       "    <tr>\n",
       "      <th>15</th>\n",
       "      <td>var1(t)</td>\n",
       "      <td>-0.191846</td>\n",
       "    </tr>\n",
       "    <tr>\n",
       "      <th>16</th>\n",
       "      <td>var2(t)</td>\n",
       "      <td>0.183973</td>\n",
       "    </tr>\n",
       "    <tr>\n",
       "      <th>17</th>\n",
       "      <td>var3(t)</td>\n",
       "      <td>3.646357</td>\n",
       "    </tr>\n",
       "    <tr>\n",
       "      <th>18</th>\n",
       "      <td>var4(t)</td>\n",
       "      <td>1.976133</td>\n",
       "    </tr>\n",
       "    <tr>\n",
       "      <th>19</th>\n",
       "      <td>var5(t)</td>\n",
       "      <td>0.043293</td>\n",
       "    </tr>\n",
       "    <tr>\n",
       "      <th>20</th>\n",
       "      <td>var6(t)</td>\n",
       "      <td>0.304513</td>\n",
       "    </tr>\n",
       "    <tr>\n",
       "      <th>21</th>\n",
       "      <td>var7(t)</td>\n",
       "      <td>-0.067347</td>\n",
       "    </tr>\n",
       "    <tr>\n",
       "      <th>22</th>\n",
       "      <td>var8(t)</td>\n",
       "      <td>-4.204805</td>\n",
       "    </tr>\n",
       "    <tr>\n",
       "      <th>23</th>\n",
       "      <td>var9(t)</td>\n",
       "      <td>0.064687</td>\n",
       "    </tr>\n",
       "    <tr>\n",
       "      <th>24</th>\n",
       "      <td>var10(t)</td>\n",
       "      <td>-0.028453</td>\n",
       "    </tr>\n",
       "    <tr>\n",
       "      <th>25</th>\n",
       "      <td>var11(t)</td>\n",
       "      <td>-0.232304</td>\n",
       "    </tr>\n",
       "    <tr>\n",
       "      <th>26</th>\n",
       "      <td>var12(t)</td>\n",
       "      <td>0.194420</td>\n",
       "    </tr>\n",
       "    <tr>\n",
       "      <th>27</th>\n",
       "      <td>var13(t)</td>\n",
       "      <td>14.009809</td>\n",
       "    </tr>\n",
       "    <tr>\n",
       "      <th>28</th>\n",
       "      <td>var14(t)</td>\n",
       "      <td>-0.587976</td>\n",
       "    </tr>\n",
       "    <tr>\n",
       "      <th>29</th>\n",
       "      <td>var15(t)</td>\n",
       "      <td>0.385734</td>\n",
       "    </tr>\n",
       "    <tr>\n",
       "      <th>30</th>\n",
       "      <td>def_rk</td>\n",
       "      <td>0.063934</td>\n",
       "    </tr>\n",
       "    <tr>\n",
       "      <th>31</th>\n",
       "      <td>h/a_1</td>\n",
       "      <td>0.385262</td>\n",
       "    </tr>\n",
       "    <tr>\n",
       "      <th>32</th>\n",
       "      <td>surface_0</td>\n",
       "      <td>-0.197825</td>\n",
       "    </tr>\n",
       "  </tbody>\n",
       "</table>\n",
       "</div>"
      ],
      "text/plain": [
       "             0  coefficients\n",
       "0    var1(t-1)      0.138881\n",
       "1    var2(t-1)     -0.076445\n",
       "2    var3(t-1)     -2.216490\n",
       "3    var4(t-1)     -1.138667\n",
       "4    var5(t-1)     -0.035783\n",
       "5    var6(t-1)     -0.060778\n",
       "6    var7(t-1)      0.017863\n",
       "7    var8(t-1)      1.187123\n",
       "8    var9(t-1)      0.168572\n",
       "9   var10(t-1)     -0.006700\n",
       "10  var11(t-1)      0.103015\n",
       "11  var12(t-1)     -0.152682\n",
       "12  var13(t-1)     -8.166758\n",
       "13  var14(t-1)      0.355281\n",
       "14  var15(t-1)     -0.249924\n",
       "15     var1(t)     -0.191846\n",
       "16     var2(t)      0.183973\n",
       "17     var3(t)      3.646357\n",
       "18     var4(t)      1.976133\n",
       "19     var5(t)      0.043293\n",
       "20     var6(t)      0.304513\n",
       "21     var7(t)     -0.067347\n",
       "22     var8(t)     -4.204805\n",
       "23     var9(t)      0.064687\n",
       "24    var10(t)     -0.028453\n",
       "25    var11(t)     -0.232304\n",
       "26    var12(t)      0.194420\n",
       "27    var13(t)     14.009809\n",
       "28    var14(t)     -0.587976\n",
       "29    var15(t)      0.385734\n",
       "30      def_rk      0.063934\n",
       "31       h/a_1      0.385262\n",
       "32   surface_0     -0.197825"
      ]
     },
     "execution_count": 21,
     "metadata": {},
     "output_type": "execute_result"
    }
   ],
   "source": [
    "coeff = pd.DataFrame(X_train.columns)\n",
    "coeff['coefficients'] = lr.coef_\n",
    "coeff\n",
    "\n"
   ]
  },
  {
   "cell_type": "code",
   "execution_count": 22,
   "metadata": {},
   "outputs": [
    {
     "data": {
      "text/plain": [
       "(3439, 33)"
      ]
     },
     "execution_count": 22,
     "metadata": {},
     "output_type": "execute_result"
    }
   ],
   "source": [
    "X_train.shape"
   ]
  },
  {
   "cell_type": "code",
   "execution_count": 23,
   "metadata": {
    "collapsed": true
   },
   "outputs": [],
   "source": [
    "yhat = lr.predict(X_test)"
   ]
  },
  {
   "cell_type": "code",
   "execution_count": 24,
   "metadata": {},
   "outputs": [
    {
     "name": "stdout",
     "output_type": "stream",
     "text": [
      "RMSE error is: 3.8973007000451947\n"
     ]
    }
   ],
   "source": [
    "def rmse(predictions, targets):\n",
    "    return np.sqrt(((predictions - targets) ** 2).mean())\n",
    "\n",
    "rmse_val = rmse(yhat, y_test)\n",
    "print(\"RMSE error is: \" + str(rmse_val))"
   ]
  },
  {
   "cell_type": "code",
   "execution_count": 25,
   "metadata": {},
   "outputs": [
    {
     "data": {
      "text/html": [
       "<div>\n",
       "<style>\n",
       "    .dataframe thead tr:only-child th {\n",
       "        text-align: right;\n",
       "    }\n",
       "\n",
       "    .dataframe thead th {\n",
       "        text-align: left;\n",
       "    }\n",
       "\n",
       "    .dataframe tbody tr th {\n",
       "        vertical-align: top;\n",
       "    }\n",
       "</style>\n",
       "<table border=\"1\" class=\"dataframe\">\n",
       "  <thead>\n",
       "    <tr style=\"text-align: right;\">\n",
       "      <th></th>\n",
       "      <th>Player</th>\n",
       "      <th>Predicted</th>\n",
       "      <th>points</th>\n",
       "    </tr>\n",
       "  </thead>\n",
       "  <tbody>\n",
       "    <tr>\n",
       "      <th>10</th>\n",
       "      <td>Aaron Jones_reframed</td>\n",
       "      <td>19.034514</td>\n",
       "      <td>15.2</td>\n",
       "    </tr>\n",
       "    <tr>\n",
       "      <th>105</th>\n",
       "      <td>Alex Collins_reframed</td>\n",
       "      <td>8.311572</td>\n",
       "      <td>10.5</td>\n",
       "    </tr>\n",
       "    <tr>\n",
       "      <th>144</th>\n",
       "      <td>Alfred Blue_reframed</td>\n",
       "      <td>6.304185</td>\n",
       "      <td>3.1</td>\n",
       "    </tr>\n",
       "    <tr>\n",
       "      <th>189</th>\n",
       "      <td>Alfred Morris_reframed</td>\n",
       "      <td>6.260747</td>\n",
       "      <td>2.8</td>\n",
       "    </tr>\n",
       "    <tr>\n",
       "      <th>209</th>\n",
       "      <td>Alvin Kamara_reframed</td>\n",
       "      <td>41.834977</td>\n",
       "      <td>44.1</td>\n",
       "    </tr>\n",
       "    <tr>\n",
       "      <th>337</th>\n",
       "      <td>Austin Ekeler_reframed</td>\n",
       "      <td>12.196285</td>\n",
       "      <td>13.6</td>\n",
       "    </tr>\n",
       "    <tr>\n",
       "      <th>364</th>\n",
       "      <td>Benjamin Cunningham_reframed</td>\n",
       "      <td>-4.528588</td>\n",
       "      <td>0.0</td>\n",
       "    </tr>\n",
       "    <tr>\n",
       "      <th>410</th>\n",
       "      <td>Bilal Powell_reframed</td>\n",
       "      <td>9.930035</td>\n",
       "      <td>9.2</td>\n",
       "    </tr>\n",
       "    <tr>\n",
       "      <th>588</th>\n",
       "      <td>Carlos Hyde_reframed</td>\n",
       "      <td>18.368404</td>\n",
       "      <td>14.2</td>\n",
       "    </tr>\n",
       "    <tr>\n",
       "      <th>658</th>\n",
       "      <td>Chase Edmonds_reframed</td>\n",
       "      <td>1.655702</td>\n",
       "      <td>0.1</td>\n",
       "    </tr>\n",
       "    <tr>\n",
       "      <th>707</th>\n",
       "      <td>Chris Ivory_reframed</td>\n",
       "      <td>3.768668</td>\n",
       "      <td>1.5</td>\n",
       "    </tr>\n",
       "    <tr>\n",
       "      <th>852</th>\n",
       "      <td>Corey Grant_reframed</td>\n",
       "      <td>5.654936</td>\n",
       "      <td>3.7</td>\n",
       "    </tr>\n",
       "    <tr>\n",
       "      <th>871</th>\n",
       "      <td>Dalvin Cook_reframed</td>\n",
       "      <td>4.119933</td>\n",
       "      <td>2.0</td>\n",
       "    </tr>\n",
       "    <tr>\n",
       "      <th>1031</th>\n",
       "      <td>David Johnson_reframed</td>\n",
       "      <td>18.249695</td>\n",
       "      <td>19.2</td>\n",
       "    </tr>\n",
       "    <tr>\n",
       "      <th>1190</th>\n",
       "      <td>Derrick Henry_reframed</td>\n",
       "      <td>4.907325</td>\n",
       "      <td>5.1</td>\n",
       "    </tr>\n",
       "    <tr>\n",
       "      <th>1268</th>\n",
       "      <td>Devontae Booker_reframed</td>\n",
       "      <td>5.568824</td>\n",
       "      <td>2.4</td>\n",
       "    </tr>\n",
       "    <tr>\n",
       "      <th>1314</th>\n",
       "      <td>Dion Lewis_reframed</td>\n",
       "      <td>14.032705</td>\n",
       "      <td>15.6</td>\n",
       "    </tr>\n",
       "    <tr>\n",
       "      <th>1359</th>\n",
       "      <td>Doug Martin_reframed</td>\n",
       "      <td>3.025780</td>\n",
       "      <td>1.1</td>\n",
       "    </tr>\n",
       "    <tr>\n",
       "      <th>1418</th>\n",
       "      <td>Duke Johnson_reframed</td>\n",
       "      <td>11.011626</td>\n",
       "      <td>13.6</td>\n",
       "    </tr>\n",
       "    <tr>\n",
       "      <th>1596</th>\n",
       "      <td>Frank Gore_reframed</td>\n",
       "      <td>6.703391</td>\n",
       "      <td>13.7</td>\n",
       "    </tr>\n",
       "    <tr>\n",
       "      <th>1651</th>\n",
       "      <td>Giovani Bernard_reframed</td>\n",
       "      <td>21.340622</td>\n",
       "      <td>25.6</td>\n",
       "    </tr>\n",
       "    <tr>\n",
       "      <th>1702</th>\n",
       "      <td>Isaiah Crowell_reframed</td>\n",
       "      <td>6.889608</td>\n",
       "      <td>1.3</td>\n",
       "    </tr>\n",
       "    <tr>\n",
       "      <th>1706</th>\n",
       "      <td>Ito Smith_reframed</td>\n",
       "      <td>14.187899</td>\n",
       "      <td>13.8</td>\n",
       "    </tr>\n",
       "    <tr>\n",
       "      <th>1778</th>\n",
       "      <td>Jalen Richard_reframed</td>\n",
       "      <td>9.003633</td>\n",
       "      <td>6.6</td>\n",
       "    </tr>\n",
       "    <tr>\n",
       "      <th>1820</th>\n",
       "      <td>Jamaal Williams_reframed</td>\n",
       "      <td>5.518216</td>\n",
       "      <td>2.7</td>\n",
       "    </tr>\n",
       "    <tr>\n",
       "      <th>1835</th>\n",
       "      <td>James Conner_reframed</td>\n",
       "      <td>14.664359</td>\n",
       "      <td>9.4</td>\n",
       "    </tr>\n",
       "    <tr>\n",
       "      <th>1898</th>\n",
       "      <td>James White_reframed</td>\n",
       "      <td>22.689905</td>\n",
       "      <td>31.2</td>\n",
       "    </tr>\n",
       "    <tr>\n",
       "      <th>1961</th>\n",
       "      <td>Javorius Allen_reframed</td>\n",
       "      <td>8.679211</td>\n",
       "      <td>6.7</td>\n",
       "    </tr>\n",
       "    <tr>\n",
       "      <th>2001</th>\n",
       "      <td>Jay Ajayi_reframed</td>\n",
       "      <td>12.482467</td>\n",
       "      <td>11.1</td>\n",
       "    </tr>\n",
       "    <tr>\n",
       "      <th>2280</th>\n",
       "      <td>Jordan Howard_reframed</td>\n",
       "      <td>8.122661</td>\n",
       "      <td>2.5</td>\n",
       "    </tr>\n",
       "    <tr>\n",
       "      <th>...</th>\n",
       "      <td>...</td>\n",
       "      <td>...</td>\n",
       "      <td>...</td>\n",
       "    </tr>\n",
       "    <tr>\n",
       "      <th>2458</th>\n",
       "      <td>Kenyan Drake_reframed</td>\n",
       "      <td>6.025223</td>\n",
       "      <td>2.6</td>\n",
       "    </tr>\n",
       "    <tr>\n",
       "      <th>2461</th>\n",
       "      <td>Kerryon Johnson_reframed</td>\n",
       "      <td>13.348564</td>\n",
       "      <td>12.6</td>\n",
       "    </tr>\n",
       "    <tr>\n",
       "      <th>2564</th>\n",
       "      <td>Lamar Miller_reframed</td>\n",
       "      <td>7.483784</td>\n",
       "      <td>4.9</td>\n",
       "    </tr>\n",
       "    <tr>\n",
       "      <th>2622</th>\n",
       "      <td>Latavius Murray_reframed</td>\n",
       "      <td>5.148542</td>\n",
       "      <td>5.8</td>\n",
       "    </tr>\n",
       "    <tr>\n",
       "      <th>2701</th>\n",
       "      <td>LeGarrette Blount_reframed</td>\n",
       "      <td>2.289030</td>\n",
       "      <td>1.2</td>\n",
       "    </tr>\n",
       "    <tr>\n",
       "      <th>2746</th>\n",
       "      <td>LeSean McCoy_reframed</td>\n",
       "      <td>7.855329</td>\n",
       "      <td>6.7</td>\n",
       "    </tr>\n",
       "    <tr>\n",
       "      <th>2760</th>\n",
       "      <td>Leonard Fournette_reframed</td>\n",
       "      <td>3.560307</td>\n",
       "      <td>4.5</td>\n",
       "    </tr>\n",
       "    <tr>\n",
       "      <th>2879</th>\n",
       "      <td>Marshawn Lynch_reframed</td>\n",
       "      <td>20.734276</td>\n",
       "      <td>21.7</td>\n",
       "    </tr>\n",
       "    <tr>\n",
       "      <th>2924</th>\n",
       "      <td>Matt Breida_reframed</td>\n",
       "      <td>14.266006</td>\n",
       "      <td>10.1</td>\n",
       "    </tr>\n",
       "    <tr>\n",
       "      <th>3031</th>\n",
       "      <td>Melvin Gordon_reframed</td>\n",
       "      <td>25.832235</td>\n",
       "      <td>33.9</td>\n",
       "    </tr>\n",
       "    <tr>\n",
       "      <th>3055</th>\n",
       "      <td>Mike Davis_reframed</td>\n",
       "      <td>32.086037</td>\n",
       "      <td>31.4</td>\n",
       "    </tr>\n",
       "    <tr>\n",
       "      <th>3085</th>\n",
       "      <td>Mike Gillislee_reframed</td>\n",
       "      <td>3.569757</td>\n",
       "      <td>2.5</td>\n",
       "    </tr>\n",
       "    <tr>\n",
       "      <th>3130</th>\n",
       "      <td>Nick Chubb_reframed</td>\n",
       "      <td>19.701699</td>\n",
       "      <td>25.5</td>\n",
       "    </tr>\n",
       "    <tr>\n",
       "      <th>3133</th>\n",
       "      <td>Nyheim Hines_reframed</td>\n",
       "      <td>15.445659</td>\n",
       "      <td>28.3</td>\n",
       "    </tr>\n",
       "    <tr>\n",
       "      <th>3204</th>\n",
       "      <td>Peyton Barber_reframed</td>\n",
       "      <td>4.596568</td>\n",
       "      <td>4.0</td>\n",
       "    </tr>\n",
       "    <tr>\n",
       "      <th>3207</th>\n",
       "      <td>Phillip Lindsay_reframed</td>\n",
       "      <td>16.728406</td>\n",
       "      <td>15.9</td>\n",
       "    </tr>\n",
       "    <tr>\n",
       "      <th>3216</th>\n",
       "      <td>Rashaad Penny_reframed</td>\n",
       "      <td>6.120504</td>\n",
       "      <td>4.9</td>\n",
       "    </tr>\n",
       "    <tr>\n",
       "      <th>3340</th>\n",
       "      <td>Rod Smith_reframed</td>\n",
       "      <td>4.523028</td>\n",
       "      <td>3.2</td>\n",
       "    </tr>\n",
       "    <tr>\n",
       "      <th>3371</th>\n",
       "      <td>Royce Freeman_reframed</td>\n",
       "      <td>15.445913</td>\n",
       "      <td>12.7</td>\n",
       "    </tr>\n",
       "    <tr>\n",
       "      <th>3411</th>\n",
       "      <td>Saquon Barkley_reframed</td>\n",
       "      <td>25.025613</td>\n",
       "      <td>22.0</td>\n",
       "    </tr>\n",
       "    <tr>\n",
       "      <th>3466</th>\n",
       "      <td>Sony Michel_reframed</td>\n",
       "      <td>18.790724</td>\n",
       "      <td>20.2</td>\n",
       "    </tr>\n",
       "    <tr>\n",
       "      <th>3492</th>\n",
       "      <td>Spencer Ware_reframed</td>\n",
       "      <td>2.112744</td>\n",
       "      <td>0.6</td>\n",
       "    </tr>\n",
       "    <tr>\n",
       "      <th>3551</th>\n",
       "      <td>TJ Yeldon_reframed</td>\n",
       "      <td>17.535771</td>\n",
       "      <td>24.0</td>\n",
       "    </tr>\n",
       "    <tr>\n",
       "      <th>3577</th>\n",
       "      <td>Tarik Cohen_reframed</td>\n",
       "      <td>20.962505</td>\n",
       "      <td>33.4</td>\n",
       "    </tr>\n",
       "    <tr>\n",
       "      <th>3667</th>\n",
       "      <td>Tevin Coleman_reframed</td>\n",
       "      <td>12.420014</td>\n",
       "      <td>10.7</td>\n",
       "    </tr>\n",
       "    <tr>\n",
       "      <th>3706</th>\n",
       "      <td>Theo Riddick_reframed</td>\n",
       "      <td>6.844322</td>\n",
       "      <td>6.7</td>\n",
       "    </tr>\n",
       "    <tr>\n",
       "      <th>3809</th>\n",
       "      <td>Todd Gurley_reframed</td>\n",
       "      <td>26.347579</td>\n",
       "      <td>25.6</td>\n",
       "    </tr>\n",
       "    <tr>\n",
       "      <th>3869</th>\n",
       "      <td>Ty Montgomery_reframed</td>\n",
       "      <td>12.074420</td>\n",
       "      <td>9.4</td>\n",
       "    </tr>\n",
       "    <tr>\n",
       "      <th>3887</th>\n",
       "      <td>Wayne Gallman_reframed</td>\n",
       "      <td>3.754823</td>\n",
       "      <td>4.3</td>\n",
       "    </tr>\n",
       "    <tr>\n",
       "      <th>3909</th>\n",
       "      <td>Wendell Smallwood_reframed</td>\n",
       "      <td>10.566715</td>\n",
       "      <td>8.4</td>\n",
       "    </tr>\n",
       "  </tbody>\n",
       "</table>\n",
       "<p>63 rows × 3 columns</p>\n",
       "</div>"
      ],
      "text/plain": [
       "                            Player  Predicted  points\n",
       "10            Aaron Jones_reframed  19.034514    15.2\n",
       "105          Alex Collins_reframed   8.311572    10.5\n",
       "144           Alfred Blue_reframed   6.304185     3.1\n",
       "189         Alfred Morris_reframed   6.260747     2.8\n",
       "209          Alvin Kamara_reframed  41.834977    44.1\n",
       "337         Austin Ekeler_reframed  12.196285    13.6\n",
       "364   Benjamin Cunningham_reframed  -4.528588     0.0\n",
       "410          Bilal Powell_reframed   9.930035     9.2\n",
       "588           Carlos Hyde_reframed  18.368404    14.2\n",
       "658         Chase Edmonds_reframed   1.655702     0.1\n",
       "707           Chris Ivory_reframed   3.768668     1.5\n",
       "852           Corey Grant_reframed   5.654936     3.7\n",
       "871           Dalvin Cook_reframed   4.119933     2.0\n",
       "1031        David Johnson_reframed  18.249695    19.2\n",
       "1190        Derrick Henry_reframed   4.907325     5.1\n",
       "1268      Devontae Booker_reframed   5.568824     2.4\n",
       "1314           Dion Lewis_reframed  14.032705    15.6\n",
       "1359          Doug Martin_reframed   3.025780     1.1\n",
       "1418         Duke Johnson_reframed  11.011626    13.6\n",
       "1596           Frank Gore_reframed   6.703391    13.7\n",
       "1651      Giovani Bernard_reframed  21.340622    25.6\n",
       "1702       Isaiah Crowell_reframed   6.889608     1.3\n",
       "1706            Ito Smith_reframed  14.187899    13.8\n",
       "1778        Jalen Richard_reframed   9.003633     6.6\n",
       "1820      Jamaal Williams_reframed   5.518216     2.7\n",
       "1835         James Conner_reframed  14.664359     9.4\n",
       "1898          James White_reframed  22.689905    31.2\n",
       "1961       Javorius Allen_reframed   8.679211     6.7\n",
       "2001            Jay Ajayi_reframed  12.482467    11.1\n",
       "2280        Jordan Howard_reframed   8.122661     2.5\n",
       "...                            ...        ...     ...\n",
       "2458         Kenyan Drake_reframed   6.025223     2.6\n",
       "2461      Kerryon Johnson_reframed  13.348564    12.6\n",
       "2564         Lamar Miller_reframed   7.483784     4.9\n",
       "2622      Latavius Murray_reframed   5.148542     5.8\n",
       "2701    LeGarrette Blount_reframed   2.289030     1.2\n",
       "2746         LeSean McCoy_reframed   7.855329     6.7\n",
       "2760    Leonard Fournette_reframed   3.560307     4.5\n",
       "2879       Marshawn Lynch_reframed  20.734276    21.7\n",
       "2924          Matt Breida_reframed  14.266006    10.1\n",
       "3031        Melvin Gordon_reframed  25.832235    33.9\n",
       "3055           Mike Davis_reframed  32.086037    31.4\n",
       "3085       Mike Gillislee_reframed   3.569757     2.5\n",
       "3130           Nick Chubb_reframed  19.701699    25.5\n",
       "3133         Nyheim Hines_reframed  15.445659    28.3\n",
       "3204        Peyton Barber_reframed   4.596568     4.0\n",
       "3207      Phillip Lindsay_reframed  16.728406    15.9\n",
       "3216        Rashaad Penny_reframed   6.120504     4.9\n",
       "3340            Rod Smith_reframed   4.523028     3.2\n",
       "3371        Royce Freeman_reframed  15.445913    12.7\n",
       "3411       Saquon Barkley_reframed  25.025613    22.0\n",
       "3466          Sony Michel_reframed  18.790724    20.2\n",
       "3492         Spencer Ware_reframed   2.112744     0.6\n",
       "3551            TJ Yeldon_reframed  17.535771    24.0\n",
       "3577          Tarik Cohen_reframed  20.962505    33.4\n",
       "3667        Tevin Coleman_reframed  12.420014    10.7\n",
       "3706         Theo Riddick_reframed   6.844322     6.7\n",
       "3809          Todd Gurley_reframed  26.347579    25.6\n",
       "3869        Ty Montgomery_reframed  12.074420     9.4\n",
       "3887        Wayne Gallman_reframed   3.754823     4.3\n",
       "3909    Wendell Smallwood_reframed  10.566715     8.4\n",
       "\n",
       "[63 rows x 3 columns]"
      ]
     },
     "execution_count": 25,
     "metadata": {},
     "output_type": "execute_result"
    }
   ],
   "source": [
    "results = pd.DataFrame()\n",
    "results['Player'] = test['player']\n",
    "#results['score'] = y_test\n",
    "results['Predicted'] = yhat\n",
    "results['points'] = test['points']\n",
    "#results['Week'] = qb[qb['year']==2017]['Week']\n",
    "#results.groupby('Player').mean()[['score','Predicted']]\n",
    "results"
   ]
  },
  {
   "cell_type": "code",
   "execution_count": 323,
   "metadata": {},
   "outputs": [
    {
     "data": {
      "text/plain": [
       "(300, 3)"
      ]
     },
     "execution_count": 323,
     "metadata": {},
     "output_type": "execute_result"
    }
   ],
   "source": [
    "results."
   ]
  },
  {
   "cell_type": "code",
   "execution_count": 26,
   "metadata": {
    "collapsed": true
   },
   "outputs": [],
   "source": [
    "results.to_csv('../output/rb_test.csv', index= False)"
   ]
  },
  {
   "cell_type": "code",
   "execution_count": null,
   "metadata": {
    "collapsed": true
   },
   "outputs": [],
   "source": []
  }
 ],
 "metadata": {
  "kernelspec": {
   "display_name": "Python 3",
   "language": "python",
   "name": "python3"
  },
  "language_info": {
   "codemirror_mode": {
    "name": "ipython",
    "version": 3
   },
   "file_extension": ".py",
   "mimetype": "text/x-python",
   "name": "python",
   "nbconvert_exporter": "python",
   "pygments_lexer": "ipython3",
   "version": "3.6.2"
  }
 },
 "nbformat": 4,
 "nbformat_minor": 2
}
