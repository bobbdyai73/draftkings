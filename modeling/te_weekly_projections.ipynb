{
 "cells": [
  {
   "cell_type": "code",
   "execution_count": 1,
   "metadata": {
    "collapsed": true
   },
   "outputs": [],
   "source": [
    "import pandas as pd\n",
    "import numpy as np\n",
    "from sklearn.preprocessing import MinMaxScaler\n",
    "from sklearn.linear_model import LinearRegression\n",
    "from sklearn.preprocessing import LabelEncoder"
   ]
  },
  {
   "cell_type": "code",
   "execution_count": 2,
   "metadata": {
    "collapsed": true
   },
   "outputs": [],
   "source": [
    "te = pd.read_csv('../input/te/te_stats.csv')"
   ]
  },
  {
   "cell_type": "code",
   "execution_count": 4,
   "metadata": {},
   "outputs": [
    {
     "data": {
      "text/plain": [
       "Unnamed: 0       0\n",
       "Name             0\n",
       "Week           416\n",
       "Opponent       416\n",
       "tar_avg        416\n",
       "rec_avg        416\n",
       "yds_avg        416\n",
       "td_avg         416\n",
       "fum_avg        416\n",
       "def_rk_avg     416\n",
       "tar_ma         416\n",
       "rec_ma         416\n",
       "yds_ma         416\n",
       "td_ma          416\n",
       "fum_ma         416\n",
       "def_rk_ma      416\n",
       "tar_car        416\n",
       "rec_car        416\n",
       "yds_car        416\n",
       "td_car         416\n",
       "fum_car        416\n",
       "def_rk_car     416\n",
       "def_rk         416\n",
       "h/a_1          416\n",
       "surface_0      416\n",
       "points         416\n",
       "games          416\n",
       "year           416\n",
       "0             3167\n",
       "dtype: int64"
      ]
     },
     "execution_count": 4,
     "metadata": {},
     "output_type": "execute_result"
    }
   ],
   "source": [
    "te.isnull().sum()"
   ]
  },
  {
   "cell_type": "code",
   "execution_count": 24,
   "metadata": {
    "collapsed": true
   },
   "outputs": [],
   "source": [
    "te.rename(columns={'Unnamed: 0':'player'}, inplace=True)"
   ]
  },
  {
   "cell_type": "code",
   "execution_count": 25,
   "metadata": {},
   "outputs": [
    {
     "data": {
      "text/plain": [
       "player         object\n",
       "Week            int64\n",
       "Opponent       object\n",
       "year            int64\n",
       "var1(t-1)     float64\n",
       "var2(t-1)     float64\n",
       "var3(t-1)     float64\n",
       "var4(t-1)     float64\n",
       "var5(t-1)     float64\n",
       "var6(t-1)     float64\n",
       "var7(t-1)     float64\n",
       "var8(t-1)     float64\n",
       "var9(t-1)     float64\n",
       "var10(t-1)    float64\n",
       "var11(t-1)    float64\n",
       "var12(t-1)    float64\n",
       "var13(t-1)    float64\n",
       "var14(t-1)    float64\n",
       "var15(t-1)    float64\n",
       "var1(t)       float64\n",
       "var2(t)       float64\n",
       "var3(t)       float64\n",
       "var4(t)       float64\n",
       "var5(t)       float64\n",
       "var6(t)       float64\n",
       "var7(t)       float64\n",
       "var8(t)       float64\n",
       "var9(t)       float64\n",
       "var10(t)      float64\n",
       "var11(t)      float64\n",
       "var12(t)      float64\n",
       "var13(t)      float64\n",
       "var14(t)      float64\n",
       "var15(t)      float64\n",
       "def_rk          int64\n",
       "h/a_1         float64\n",
       "surface_0     float64\n",
       "salary          int64\n",
       "points        float64\n",
       "dtype: object"
      ]
     },
     "execution_count": 25,
     "metadata": {},
     "output_type": "execute_result"
    }
   ],
   "source": [
    "\n",
    "te.dtypes"
   ]
  },
  {
   "cell_type": "code",
   "execution_count": 26,
   "metadata": {
    "collapsed": true
   },
   "outputs": [],
   "source": [
    "# Replace nulls with zero and turn salary attribute to float\n",
    "te.replace('null',0, inplace=True)\n",
    "te.salary = te['salary'].apply(lambda x: float(x))"
   ]
  },
  {
   "cell_type": "code",
   "execution_count": 8,
   "metadata": {
    "collapsed": true
   },
   "outputs": [],
   "source": [
    "def conv_atts(df):\n",
    "    df.rename(columns={'Unnamed: 0':'player'}, inplace=True)\n",
    "    df.replace('null',0, inplace=True)\n",
    "    df['salary'] = df['salary'].apply(lambda x: float(x))\n",
    "    df['h/a_1'] = df['h/a_1'].astype('category')\n",
    "    df['surface_0'] = df['surface_0'].astype('category')\n",
    "    df['def_rk'] = df['def_rk'].astype('category')\n",
    "\n",
    "    return df"
   ]
  },
  {
   "cell_type": "code",
   "execution_count": 27,
   "metadata": {},
   "outputs": [
    {
     "data": {
      "text/plain": [
       "player          object\n",
       "Week             int64\n",
       "Opponent        object\n",
       "year             int64\n",
       "var1(t-1)      float64\n",
       "var2(t-1)      float64\n",
       "var3(t-1)      float64\n",
       "var4(t-1)      float64\n",
       "var5(t-1)      float64\n",
       "var6(t-1)      float64\n",
       "var7(t-1)      float64\n",
       "var8(t-1)      float64\n",
       "var9(t-1)      float64\n",
       "var10(t-1)     float64\n",
       "var11(t-1)     float64\n",
       "var12(t-1)     float64\n",
       "var13(t-1)     float64\n",
       "var14(t-1)     float64\n",
       "var15(t-1)     float64\n",
       "var1(t)        float64\n",
       "var2(t)        float64\n",
       "var3(t)        float64\n",
       "var4(t)        float64\n",
       "var5(t)        float64\n",
       "var6(t)        float64\n",
       "var7(t)        float64\n",
       "var8(t)        float64\n",
       "var9(t)        float64\n",
       "var10(t)       float64\n",
       "var11(t)       float64\n",
       "var12(t)       float64\n",
       "var13(t)       float64\n",
       "var14(t)       float64\n",
       "var15(t)       float64\n",
       "def_rk        category\n",
       "h/a_1         category\n",
       "surface_0     category\n",
       "salary         float64\n",
       "points         float64\n",
       "dtype: object"
      ]
     },
     "execution_count": 27,
     "metadata": {},
     "output_type": "execute_result"
    }
   ],
   "source": [
    "te = conv_atts(te)\n",
    "te.dtypes\n"
   ]
  },
  {
   "cell_type": "code",
   "execution_count": 28,
   "metadata": {},
   "outputs": [
    {
     "data": {
      "text/plain": [
       "array([2016, 2017, 2015], dtype=int64)"
      ]
     },
     "execution_count": 28,
     "metadata": {},
     "output_type": "execute_result"
    }
   ],
   "source": [
    "# Design train and test datasets\n",
    "\n",
    "train = te[te['year']!=2018]\n",
    "train = train[train['Week']!=4]\n",
    "train['year'].unique()"
   ]
  },
  {
   "cell_type": "code",
   "execution_count": 29,
   "metadata": {},
   "outputs": [
    {
     "data": {
      "text/plain": [
       "(2594, 39)"
      ]
     },
     "execution_count": 29,
     "metadata": {},
     "output_type": "execute_result"
    }
   ],
   "source": [
    "train.shape"
   ]
  },
  {
   "cell_type": "code",
   "execution_count": 30,
   "metadata": {},
   "outputs": [
    {
     "data": {
      "text/plain": [
       "(62, 39)"
      ]
     },
     "execution_count": 30,
     "metadata": {},
     "output_type": "execute_result"
    }
   ],
   "source": [
    "test = te[te['year']==2018]\n",
    "test=test[test['Week']==4]\n",
    "test.shape"
   ]
  },
  {
   "cell_type": "code",
   "execution_count": 31,
   "metadata": {},
   "outputs": [
    {
     "data": {
      "text/plain": [
       "Index(['player', 'Week', 'Opponent', 'year', 'var1(t-1)', 'var2(t-1)',\n",
       "       'var3(t-1)', 'var4(t-1)', 'var5(t-1)', 'var6(t-1)', 'var7(t-1)',\n",
       "       'var8(t-1)', 'var9(t-1)', 'var10(t-1)', 'var11(t-1)', 'var12(t-1)',\n",
       "       'var13(t-1)', 'var14(t-1)', 'var15(t-1)', 'var1(t)', 'var2(t)',\n",
       "       'var3(t)', 'var4(t)', 'var5(t)', 'var6(t)', 'var7(t)', 'var8(t)',\n",
       "       'var9(t)', 'var10(t)', 'var11(t)', 'var12(t)', 'var13(t)', 'var14(t)',\n",
       "       'var15(t)', 'def_rk', 'h/a_1', 'surface_0', 'salary', 'points'],\n",
       "      dtype='object')"
      ]
     },
     "execution_count": 31,
     "metadata": {},
     "output_type": "execute_result"
    }
   ],
   "source": [
    "test.columns"
   ]
  },
  {
   "cell_type": "code",
   "execution_count": 32,
   "metadata": {
    "collapsed": true
   },
   "outputs": [],
   "source": [
    "# Target variables \n",
    "\n",
    "y_train = train['points']\n",
    "y_test = test['points']\n",
    "\n",
    "# Predictors, all numeric variables minus target variable\n",
    "X_train = train.iloc[:,4:-2]\n",
    "X_test = test.iloc[:,4:-2]"
   ]
  },
  {
   "cell_type": "code",
   "execution_count": 90,
   "metadata": {},
   "outputs": [
    {
     "data": {
      "text/plain": [
       "array([[ 0.        ,  1.        ,  0.0070922 , ...,  0.        ,\n",
       "         0.51998093,  0.14457831],\n",
       "       [ 0.01960784,  0.8335    ,  0.02600473, ...,  0.19142857,\n",
       "         0.5486886 ,  0.39759036],\n",
       "       [ 0.21568627,  0.785     ,  0.23799054, ...,  0.21428571,\n",
       "         0.62250835,  0.5       ],\n",
       "       ..., \n",
       "       [ 0.46411765,  0.6547    ,  0.33174941, ...,  0.21428571,\n",
       "         0.48526466,  0.81325301],\n",
       "       [ 0.48039216,  0.6695    ,  0.39184397, ...,  0.22857143,\n",
       "         0.45808298,  0.85542169],\n",
       "       [ 0.58039216,  0.6414    ,  0.42411348, ...,  0.19142857,\n",
       "         0.36185026,  0.8253012 ]])"
      ]
     },
     "execution_count": 90,
     "metadata": {},
     "output_type": "execute_result"
    }
   ],
   "source": [
    "scaler = MinMaxScaler()\n",
    "scaler.fit_transform(X_train)"
   ]
  },
  {
   "cell_type": "code",
   "execution_count": 140,
   "metadata": {},
   "outputs": [
    {
     "data": {
      "text/plain": [
       "(32, 40)"
      ]
     },
     "execution_count": 140,
     "metadata": {},
     "output_type": "execute_result"
    }
   ],
   "source": [
    "X_test.shape"
   ]
  },
  {
   "cell_type": "code",
   "execution_count": 141,
   "metadata": {},
   "outputs": [
    {
     "data": {
      "text/plain": [
       "(1457, 40)"
      ]
     },
     "execution_count": 141,
     "metadata": {},
     "output_type": "execute_result"
    }
   ],
   "source": [
    "X_train.shape"
   ]
  },
  {
   "cell_type": "code",
   "execution_count": 16,
   "metadata": {
    "collapsed": true
   },
   "outputs": [],
   "source": [
    "y_train.reset_index(inplace=True,drop=True)\n",
    "X_train.reset_index(inplace=True, drop=True)"
   ]
  },
  {
   "cell_type": "code",
   "execution_count": 34,
   "metadata": {
    "collapsed": true
   },
   "outputs": [],
   "source": [
    "lr = LinearRegression()"
   ]
  },
  {
   "cell_type": "code",
   "execution_count": 35,
   "metadata": {},
   "outputs": [
    {
     "data": {
      "text/plain": [
       "LinearRegression(copy_X=True, fit_intercept=True, n_jobs=1, normalize=False)"
      ]
     },
     "execution_count": 35,
     "metadata": {},
     "output_type": "execute_result"
    }
   ],
   "source": [
    "lr.fit(X_train,y_train)"
   ]
  },
  {
   "cell_type": "code",
   "execution_count": 36,
   "metadata": {},
   "outputs": [
    {
     "data": {
      "text/html": [
       "<div>\n",
       "<style>\n",
       "    .dataframe thead tr:only-child th {\n",
       "        text-align: right;\n",
       "    }\n",
       "\n",
       "    .dataframe thead th {\n",
       "        text-align: left;\n",
       "    }\n",
       "\n",
       "    .dataframe tbody tr th {\n",
       "        vertical-align: top;\n",
       "    }\n",
       "</style>\n",
       "<table border=\"1\" class=\"dataframe\">\n",
       "  <thead>\n",
       "    <tr style=\"text-align: right;\">\n",
       "      <th></th>\n",
       "      <th>0</th>\n",
       "      <th>coefficients</th>\n",
       "    </tr>\n",
       "  </thead>\n",
       "  <tbody>\n",
       "    <tr>\n",
       "      <th>0</th>\n",
       "      <td>var1(t-1)</td>\n",
       "      <td>-0.146245</td>\n",
       "    </tr>\n",
       "    <tr>\n",
       "      <th>1</th>\n",
       "      <td>var2(t-1)</td>\n",
       "      <td>-0.715551</td>\n",
       "    </tr>\n",
       "    <tr>\n",
       "      <th>2</th>\n",
       "      <td>var3(t-1)</td>\n",
       "      <td>-0.048592</td>\n",
       "    </tr>\n",
       "    <tr>\n",
       "      <th>3</th>\n",
       "      <td>var4(t-1)</td>\n",
       "      <td>-3.153114</td>\n",
       "    </tr>\n",
       "    <tr>\n",
       "      <th>4</th>\n",
       "      <td>var5(t-1)</td>\n",
       "      <td>-2.024551</td>\n",
       "    </tr>\n",
       "    <tr>\n",
       "      <th>5</th>\n",
       "      <td>var6(t-1)</td>\n",
       "      <td>-0.054092</td>\n",
       "    </tr>\n",
       "    <tr>\n",
       "      <th>6</th>\n",
       "      <td>var7(t-1)</td>\n",
       "      <td>-0.408811</td>\n",
       "    </tr>\n",
       "    <tr>\n",
       "      <th>7</th>\n",
       "      <td>var8(t-1)</td>\n",
       "      <td>0.049238</td>\n",
       "    </tr>\n",
       "    <tr>\n",
       "      <th>8</th>\n",
       "      <td>var9(t-1)</td>\n",
       "      <td>1.750512</td>\n",
       "    </tr>\n",
       "    <tr>\n",
       "      <th>9</th>\n",
       "      <td>var10(t-1)</td>\n",
       "      <td>-2.536799</td>\n",
       "    </tr>\n",
       "    <tr>\n",
       "      <th>10</th>\n",
       "      <td>var11(t-1)</td>\n",
       "      <td>0.266224</td>\n",
       "    </tr>\n",
       "    <tr>\n",
       "      <th>11</th>\n",
       "      <td>var12(t-1)</td>\n",
       "      <td>-1.166971</td>\n",
       "    </tr>\n",
       "    <tr>\n",
       "      <th>12</th>\n",
       "      <td>var13(t-1)</td>\n",
       "      <td>-0.116799</td>\n",
       "    </tr>\n",
       "    <tr>\n",
       "      <th>13</th>\n",
       "      <td>var14(t-1)</td>\n",
       "      <td>-6.518919</td>\n",
       "    </tr>\n",
       "    <tr>\n",
       "      <th>14</th>\n",
       "      <td>var15(t-1)</td>\n",
       "      <td>2.810288</td>\n",
       "    </tr>\n",
       "    <tr>\n",
       "      <th>15</th>\n",
       "      <td>var1(t)</td>\n",
       "      <td>-0.096548</td>\n",
       "    </tr>\n",
       "    <tr>\n",
       "      <th>16</th>\n",
       "      <td>var2(t)</td>\n",
       "      <td>1.326683</td>\n",
       "    </tr>\n",
       "    <tr>\n",
       "      <th>17</th>\n",
       "      <td>var3(t)</td>\n",
       "      <td>0.109103</td>\n",
       "    </tr>\n",
       "    <tr>\n",
       "      <th>18</th>\n",
       "      <td>var4(t)</td>\n",
       "      <td>7.806278</td>\n",
       "    </tr>\n",
       "    <tr>\n",
       "      <th>19</th>\n",
       "      <td>var5(t)</td>\n",
       "      <td>-0.134344</td>\n",
       "    </tr>\n",
       "    <tr>\n",
       "      <th>20</th>\n",
       "      <td>var6(t)</td>\n",
       "      <td>0.584468</td>\n",
       "    </tr>\n",
       "    <tr>\n",
       "      <th>21</th>\n",
       "      <td>var7(t)</td>\n",
       "      <td>0.267313</td>\n",
       "    </tr>\n",
       "    <tr>\n",
       "      <th>22</th>\n",
       "      <td>var8(t)</td>\n",
       "      <td>-0.098296</td>\n",
       "    </tr>\n",
       "    <tr>\n",
       "      <th>23</th>\n",
       "      <td>var9(t)</td>\n",
       "      <td>-5.584730</td>\n",
       "    </tr>\n",
       "    <tr>\n",
       "      <th>24</th>\n",
       "      <td>var10(t)</td>\n",
       "      <td>3.382291</td>\n",
       "    </tr>\n",
       "    <tr>\n",
       "      <th>25</th>\n",
       "      <td>var11(t)</td>\n",
       "      <td>0.038883</td>\n",
       "    </tr>\n",
       "    <tr>\n",
       "      <th>26</th>\n",
       "      <td>var12(t)</td>\n",
       "      <td>1.042889</td>\n",
       "    </tr>\n",
       "    <tr>\n",
       "      <th>27</th>\n",
       "      <td>var13(t)</td>\n",
       "      <td>0.203242</td>\n",
       "    </tr>\n",
       "    <tr>\n",
       "      <th>28</th>\n",
       "      <td>var14(t)</td>\n",
       "      <td>8.663294</td>\n",
       "    </tr>\n",
       "    <tr>\n",
       "      <th>29</th>\n",
       "      <td>var15(t)</td>\n",
       "      <td>-0.544316</td>\n",
       "    </tr>\n",
       "    <tr>\n",
       "      <th>30</th>\n",
       "      <td>def_rk</td>\n",
       "      <td>0.041967</td>\n",
       "    </tr>\n",
       "    <tr>\n",
       "      <th>31</th>\n",
       "      <td>h/a_1</td>\n",
       "      <td>0.222455</td>\n",
       "    </tr>\n",
       "    <tr>\n",
       "      <th>32</th>\n",
       "      <td>surface_0</td>\n",
       "      <td>-0.190575</td>\n",
       "    </tr>\n",
       "  </tbody>\n",
       "</table>\n",
       "</div>"
      ],
      "text/plain": [
       "             0  coefficients\n",
       "0    var1(t-1)     -0.146245\n",
       "1    var2(t-1)     -0.715551\n",
       "2    var3(t-1)     -0.048592\n",
       "3    var4(t-1)     -3.153114\n",
       "4    var5(t-1)     -2.024551\n",
       "5    var6(t-1)     -0.054092\n",
       "6    var7(t-1)     -0.408811\n",
       "7    var8(t-1)      0.049238\n",
       "8    var9(t-1)      1.750512\n",
       "9   var10(t-1)     -2.536799\n",
       "10  var11(t-1)      0.266224\n",
       "11  var12(t-1)     -1.166971\n",
       "12  var13(t-1)     -0.116799\n",
       "13  var14(t-1)     -6.518919\n",
       "14  var15(t-1)      2.810288\n",
       "15     var1(t)     -0.096548\n",
       "16     var2(t)      1.326683\n",
       "17     var3(t)      0.109103\n",
       "18     var4(t)      7.806278\n",
       "19     var5(t)     -0.134344\n",
       "20     var6(t)      0.584468\n",
       "21     var7(t)      0.267313\n",
       "22     var8(t)     -0.098296\n",
       "23     var9(t)     -5.584730\n",
       "24    var10(t)      3.382291\n",
       "25    var11(t)      0.038883\n",
       "26    var12(t)      1.042889\n",
       "27    var13(t)      0.203242\n",
       "28    var14(t)      8.663294\n",
       "29    var15(t)     -0.544316\n",
       "30      def_rk      0.041967\n",
       "31       h/a_1      0.222455\n",
       "32   surface_0     -0.190575"
      ]
     },
     "execution_count": 36,
     "metadata": {},
     "output_type": "execute_result"
    }
   ],
   "source": [
    "coeff = pd.DataFrame(X_train.columns)\n",
    "coeff['coefficients'] = lr.coef_\n",
    "coeff\n",
    "\n"
   ]
  },
  {
   "cell_type": "code",
   "execution_count": 138,
   "metadata": {},
   "outputs": [
    {
     "data": {
      "text/plain": [
       "(1457, 25)"
      ]
     },
     "execution_count": 138,
     "metadata": {},
     "output_type": "execute_result"
    }
   ],
   "source": [
    "X_train.shape"
   ]
  },
  {
   "cell_type": "code",
   "execution_count": 37,
   "metadata": {
    "collapsed": true
   },
   "outputs": [],
   "source": [
    "yhat = lr.predict(X_test)"
   ]
  },
  {
   "cell_type": "code",
   "execution_count": 38,
   "metadata": {},
   "outputs": [
    {
     "name": "stdout",
     "output_type": "stream",
     "text": [
      "RMSE error is: 2.5081753355699448\n"
     ]
    }
   ],
   "source": [
    "def rmse(predictions, targets):\n",
    "    return np.sqrt(((predictions - targets) ** 2).mean())\n",
    "\n",
    "rmse_val = rmse(yhat, y_test)\n",
    "print(\"RMSE error is: \" + str(rmse_val))"
   ]
  },
  {
   "cell_type": "code",
   "execution_count": 39,
   "metadata": {},
   "outputs": [
    {
     "data": {
      "text/html": [
       "<div>\n",
       "<style>\n",
       "    .dataframe thead tr:only-child th {\n",
       "        text-align: right;\n",
       "    }\n",
       "\n",
       "    .dataframe thead th {\n",
       "        text-align: left;\n",
       "    }\n",
       "\n",
       "    .dataframe tbody tr th {\n",
       "        vertical-align: top;\n",
       "    }\n",
       "</style>\n",
       "<table border=\"1\" class=\"dataframe\">\n",
       "  <thead>\n",
       "    <tr style=\"text-align: right;\">\n",
       "      <th></th>\n",
       "      <th>Player</th>\n",
       "      <th>Predicted</th>\n",
       "      <th>points</th>\n",
       "    </tr>\n",
       "  </thead>\n",
       "  <tbody>\n",
       "    <tr>\n",
       "      <th>101</th>\n",
       "      <td>Antonio Gates_reframed</td>\n",
       "      <td>9.107350</td>\n",
       "      <td>10.7</td>\n",
       "    </tr>\n",
       "    <tr>\n",
       "      <th>103</th>\n",
       "      <td>Antony Auclair_reframed</td>\n",
       "      <td>1.547872</td>\n",
       "      <td>1.8</td>\n",
       "    </tr>\n",
       "    <tr>\n",
       "      <th>133</th>\n",
       "      <td>Austin Hooper_reframed</td>\n",
       "      <td>6.449231</td>\n",
       "      <td>2.9</td>\n",
       "    </tr>\n",
       "    <tr>\n",
       "      <th>165</th>\n",
       "      <td>Austin Seferian-Jenkins_reframed</td>\n",
       "      <td>5.226458</td>\n",
       "      <td>4.4</td>\n",
       "    </tr>\n",
       "    <tr>\n",
       "      <th>219</th>\n",
       "      <td>Benjamin Watson_reframed</td>\n",
       "      <td>5.675421</td>\n",
       "      <td>3.3</td>\n",
       "    </tr>\n",
       "    <tr>\n",
       "      <th>359</th>\n",
       "      <td>CJ Uzomah_reframed</td>\n",
       "      <td>3.715359</td>\n",
       "      <td>1.6</td>\n",
       "    </tr>\n",
       "    <tr>\n",
       "      <th>404</th>\n",
       "      <td>Cameron Brate_reframed</td>\n",
       "      <td>11.528196</td>\n",
       "      <td>11.9</td>\n",
       "    </tr>\n",
       "    <tr>\n",
       "      <th>448</th>\n",
       "      <td>Charles Clay_reframed</td>\n",
       "      <td>6.719608</td>\n",
       "      <td>8.0</td>\n",
       "    </tr>\n",
       "    <tr>\n",
       "      <th>457</th>\n",
       "      <td>Chris Herndon IV_reframed</td>\n",
       "      <td>2.199941</td>\n",
       "      <td>2.8</td>\n",
       "    </tr>\n",
       "    <tr>\n",
       "      <th>584</th>\n",
       "      <td>Dallas Goedert_reframed</td>\n",
       "      <td>3.995201</td>\n",
       "      <td>3.3</td>\n",
       "    </tr>\n",
       "    <tr>\n",
       "      <th>625</th>\n",
       "      <td>Darren Fells_reframed</td>\n",
       "      <td>9.982542</td>\n",
       "      <td>11.9</td>\n",
       "    </tr>\n",
       "    <tr>\n",
       "      <th>646</th>\n",
       "      <td>David Morgan_reframed</td>\n",
       "      <td>1.907728</td>\n",
       "      <td>1.3</td>\n",
       "    </tr>\n",
       "    <tr>\n",
       "      <th>665</th>\n",
       "      <td>David Njoku_reframed</td>\n",
       "      <td>7.984023</td>\n",
       "      <td>10.2</td>\n",
       "    </tr>\n",
       "    <tr>\n",
       "      <th>744</th>\n",
       "      <td>Demetrius Harris_reframed</td>\n",
       "      <td>10.224048</td>\n",
       "      <td>7.9</td>\n",
       "    </tr>\n",
       "    <tr>\n",
       "      <th>860</th>\n",
       "      <td>Dwayne Allen_reframed</td>\n",
       "      <td>-3.073674</td>\n",
       "      <td>0.6</td>\n",
       "    </tr>\n",
       "    <tr>\n",
       "      <th>944</th>\n",
       "      <td>Eric Ebron_reframed</td>\n",
       "      <td>14.649499</td>\n",
       "      <td>15.0</td>\n",
       "    </tr>\n",
       "    <tr>\n",
       "      <th>1019</th>\n",
       "      <td>Garrett Celek_reframed</td>\n",
       "      <td>1.714108</td>\n",
       "      <td>0.0</td>\n",
       "    </tr>\n",
       "    <tr>\n",
       "      <th>1076</th>\n",
       "      <td>Geoff Swaim_reframed</td>\n",
       "      <td>11.366799</td>\n",
       "      <td>12.9</td>\n",
       "    </tr>\n",
       "    <tr>\n",
       "      <th>1094</th>\n",
       "      <td>George Kittle_reframed</td>\n",
       "      <td>20.867885</td>\n",
       "      <td>27.5</td>\n",
       "    </tr>\n",
       "    <tr>\n",
       "      <th>1109</th>\n",
       "      <td>Gerald Everett_reframed</td>\n",
       "      <td>3.497909</td>\n",
       "      <td>2.3</td>\n",
       "    </tr>\n",
       "    <tr>\n",
       "      <th>1151</th>\n",
       "      <td>Hakeem Valles_reframed</td>\n",
       "      <td>1.511573</td>\n",
       "      <td>1.6</td>\n",
       "    </tr>\n",
       "    <tr>\n",
       "      <th>1303</th>\n",
       "      <td>James O'Shaughnessy_reframed</td>\n",
       "      <td>2.949841</td>\n",
       "      <td>4.8</td>\n",
       "    </tr>\n",
       "    <tr>\n",
       "      <th>1348</th>\n",
       "      <td>Jared Cook_reframed</td>\n",
       "      <td>25.772740</td>\n",
       "      <td>34.0</td>\n",
       "    </tr>\n",
       "    <tr>\n",
       "      <th>1351</th>\n",
       "      <td>Jason Croom_reframed</td>\n",
       "      <td>3.712018</td>\n",
       "      <td>2.3</td>\n",
       "    </tr>\n",
       "    <tr>\n",
       "      <th>1422</th>\n",
       "      <td>Jeff Heuerman_reframed</td>\n",
       "      <td>7.465584</td>\n",
       "      <td>9.7</td>\n",
       "    </tr>\n",
       "    <tr>\n",
       "      <th>1524</th>\n",
       "      <td>Jesse James_reframed</td>\n",
       "      <td>7.753161</td>\n",
       "      <td>3.3</td>\n",
       "    </tr>\n",
       "    <tr>\n",
       "      <th>1577</th>\n",
       "      <td>Jimmy Graham_reframed</td>\n",
       "      <td>11.103103</td>\n",
       "      <td>11.1</td>\n",
       "    </tr>\n",
       "    <tr>\n",
       "      <th>1605</th>\n",
       "      <td>Jonnu Smith_reframed</td>\n",
       "      <td>-0.016656</td>\n",
       "      <td>0.0</td>\n",
       "    </tr>\n",
       "    <tr>\n",
       "      <th>1608</th>\n",
       "      <td>Jordan Akins_reframed</td>\n",
       "      <td>4.467112</td>\n",
       "      <td>4.4</td>\n",
       "    </tr>\n",
       "    <tr>\n",
       "      <th>1627</th>\n",
       "      <td>Jordan Leggett_reframed</td>\n",
       "      <td>13.081151</td>\n",
       "      <td>10.3</td>\n",
       "    </tr>\n",
       "    <tr>\n",
       "      <th>...</th>\n",
       "      <td>...</td>\n",
       "      <td>...</td>\n",
       "      <td>...</td>\n",
       "    </tr>\n",
       "    <tr>\n",
       "      <th>1806</th>\n",
       "      <td>Kyle Rudolph_reframed</td>\n",
       "      <td>11.877401</td>\n",
       "      <td>10.7</td>\n",
       "    </tr>\n",
       "    <tr>\n",
       "      <th>1868</th>\n",
       "      <td>Lance Kendricks_reframed</td>\n",
       "      <td>2.264165</td>\n",
       "      <td>1.5</td>\n",
       "    </tr>\n",
       "    <tr>\n",
       "      <th>1900</th>\n",
       "      <td>Lee Smith_reframed</td>\n",
       "      <td>8.959353</td>\n",
       "      <td>5.3</td>\n",
       "    </tr>\n",
       "    <tr>\n",
       "      <th>1931</th>\n",
       "      <td>Levine Toilolo_reframed</td>\n",
       "      <td>3.142387</td>\n",
       "      <td>3.2</td>\n",
       "    </tr>\n",
       "    <tr>\n",
       "      <th>1942</th>\n",
       "      <td>Logan Paulsen_reframed</td>\n",
       "      <td>8.149107</td>\n",
       "      <td>8.7</td>\n",
       "    </tr>\n",
       "    <tr>\n",
       "      <th>2007</th>\n",
       "      <td>Luke Willson_reframed</td>\n",
       "      <td>1.524200</td>\n",
       "      <td>1.6</td>\n",
       "    </tr>\n",
       "    <tr>\n",
       "      <th>2062</th>\n",
       "      <td>Mark Andrews_reframed</td>\n",
       "      <td>5.971875</td>\n",
       "      <td>3.2</td>\n",
       "    </tr>\n",
       "    <tr>\n",
       "      <th>2100</th>\n",
       "      <td>Matt LaCosse_reframed</td>\n",
       "      <td>3.749106</td>\n",
       "      <td>2.7</td>\n",
       "    </tr>\n",
       "    <tr>\n",
       "      <th>2127</th>\n",
       "      <td>Maxx Williams_reframed</td>\n",
       "      <td>8.429453</td>\n",
       "      <td>10.1</td>\n",
       "    </tr>\n",
       "    <tr>\n",
       "      <th>2153</th>\n",
       "      <td>Mike Gesicki_reframed</td>\n",
       "      <td>1.586966</td>\n",
       "      <td>1.9</td>\n",
       "    </tr>\n",
       "    <tr>\n",
       "      <th>2218</th>\n",
       "      <td>Nick Boyle_reframed</td>\n",
       "      <td>6.425677</td>\n",
       "      <td>6.6</td>\n",
       "    </tr>\n",
       "    <tr>\n",
       "      <th>2257</th>\n",
       "      <td>Nick Vannett_reframed</td>\n",
       "      <td>1.996354</td>\n",
       "      <td>1.6</td>\n",
       "    </tr>\n",
       "    <tr>\n",
       "      <th>2271</th>\n",
       "      <td>Niles Paul_reframed</td>\n",
       "      <td>2.320337</td>\n",
       "      <td>3.1</td>\n",
       "    </tr>\n",
       "    <tr>\n",
       "      <th>2287</th>\n",
       "      <td>OJ Howard_reframed</td>\n",
       "      <td>6.488126</td>\n",
       "      <td>0.0</td>\n",
       "    </tr>\n",
       "    <tr>\n",
       "      <th>2290</th>\n",
       "      <td>Orson Charles_reframed</td>\n",
       "      <td>-0.143560</td>\n",
       "      <td>0.0</td>\n",
       "    </tr>\n",
       "    <tr>\n",
       "      <th>2357</th>\n",
       "      <td>Rhett Ellison_reframed</td>\n",
       "      <td>6.435333</td>\n",
       "      <td>5.9</td>\n",
       "    </tr>\n",
       "    <tr>\n",
       "      <th>2407</th>\n",
       "      <td>Ricky Seals-Jones_reframed</td>\n",
       "      <td>7.010183</td>\n",
       "      <td>7.2</td>\n",
       "    </tr>\n",
       "    <tr>\n",
       "      <th>2408</th>\n",
       "      <td>Rico Gathers_reframed</td>\n",
       "      <td>0.062266</td>\n",
       "      <td>0.0</td>\n",
       "    </tr>\n",
       "    <tr>\n",
       "      <th>2447</th>\n",
       "      <td>Rob Gronkowski_reframed</td>\n",
       "      <td>11.490200</td>\n",
       "      <td>8.4</td>\n",
       "    </tr>\n",
       "    <tr>\n",
       "      <th>2498</th>\n",
       "      <td>Ryan Griffin_reframed</td>\n",
       "      <td>3.340917</td>\n",
       "      <td>2.2</td>\n",
       "    </tr>\n",
       "    <tr>\n",
       "      <th>2523</th>\n",
       "      <td>Scott Simonson_reframed</td>\n",
       "      <td>0.822806</td>\n",
       "      <td>1.7</td>\n",
       "    </tr>\n",
       "    <tr>\n",
       "      <th>2629</th>\n",
       "      <td>Travis Kelce_reframed</td>\n",
       "      <td>21.244420</td>\n",
       "      <td>20.8</td>\n",
       "    </tr>\n",
       "    <tr>\n",
       "      <th>2660</th>\n",
       "      <td>Trey Burton_reframed</td>\n",
       "      <td>14.545797</td>\n",
       "      <td>16.6</td>\n",
       "    </tr>\n",
       "    <tr>\n",
       "      <th>2702</th>\n",
       "      <td>Tyler Eifert_reframed</td>\n",
       "      <td>12.217185</td>\n",
       "      <td>13.8</td>\n",
       "    </tr>\n",
       "    <tr>\n",
       "      <th>2729</th>\n",
       "      <td>Tyler Higbee_reframed</td>\n",
       "      <td>1.995090</td>\n",
       "      <td>0.0</td>\n",
       "    </tr>\n",
       "    <tr>\n",
       "      <th>2759</th>\n",
       "      <td>Tyler Kroft_reframed</td>\n",
       "      <td>1.773622</td>\n",
       "      <td>0.0</td>\n",
       "    </tr>\n",
       "    <tr>\n",
       "      <th>2794</th>\n",
       "      <td>Vance McDonald_reframed</td>\n",
       "      <td>12.539280</td>\n",
       "      <td>10.2</td>\n",
       "    </tr>\n",
       "    <tr>\n",
       "      <th>2875</th>\n",
       "      <td>Virgil Green_reframed</td>\n",
       "      <td>4.150551</td>\n",
       "      <td>2.9</td>\n",
       "    </tr>\n",
       "    <tr>\n",
       "      <th>2878</th>\n",
       "      <td>Will Dissly_reframed</td>\n",
       "      <td>5.820138</td>\n",
       "      <td>1.5</td>\n",
       "    </tr>\n",
       "    <tr>\n",
       "      <th>2968</th>\n",
       "      <td>Zach Ertz_reframed</td>\n",
       "      <td>17.802394</td>\n",
       "      <td>24.2</td>\n",
       "    </tr>\n",
       "  </tbody>\n",
       "</table>\n",
       "<p>62 rows × 3 columns</p>\n",
       "</div>"
      ],
      "text/plain": [
       "                                Player  Predicted  points\n",
       "101             Antonio Gates_reframed   9.107350    10.7\n",
       "103            Antony Auclair_reframed   1.547872     1.8\n",
       "133             Austin Hooper_reframed   6.449231     2.9\n",
       "165   Austin Seferian-Jenkins_reframed   5.226458     4.4\n",
       "219           Benjamin Watson_reframed   5.675421     3.3\n",
       "359                 CJ Uzomah_reframed   3.715359     1.6\n",
       "404             Cameron Brate_reframed  11.528196    11.9\n",
       "448              Charles Clay_reframed   6.719608     8.0\n",
       "457          Chris Herndon IV_reframed   2.199941     2.8\n",
       "584            Dallas Goedert_reframed   3.995201     3.3\n",
       "625              Darren Fells_reframed   9.982542    11.9\n",
       "646              David Morgan_reframed   1.907728     1.3\n",
       "665               David Njoku_reframed   7.984023    10.2\n",
       "744          Demetrius Harris_reframed  10.224048     7.9\n",
       "860              Dwayne Allen_reframed  -3.073674     0.6\n",
       "944                Eric Ebron_reframed  14.649499    15.0\n",
       "1019            Garrett Celek_reframed   1.714108     0.0\n",
       "1076              Geoff Swaim_reframed  11.366799    12.9\n",
       "1094            George Kittle_reframed  20.867885    27.5\n",
       "1109           Gerald Everett_reframed   3.497909     2.3\n",
       "1151            Hakeem Valles_reframed   1.511573     1.6\n",
       "1303      James O'Shaughnessy_reframed   2.949841     4.8\n",
       "1348               Jared Cook_reframed  25.772740    34.0\n",
       "1351              Jason Croom_reframed   3.712018     2.3\n",
       "1422            Jeff Heuerman_reframed   7.465584     9.7\n",
       "1524              Jesse James_reframed   7.753161     3.3\n",
       "1577             Jimmy Graham_reframed  11.103103    11.1\n",
       "1605              Jonnu Smith_reframed  -0.016656     0.0\n",
       "1608             Jordan Akins_reframed   4.467112     4.4\n",
       "1627           Jordan Leggett_reframed  13.081151    10.3\n",
       "...                                ...        ...     ...\n",
       "1806             Kyle Rudolph_reframed  11.877401    10.7\n",
       "1868          Lance Kendricks_reframed   2.264165     1.5\n",
       "1900                Lee Smith_reframed   8.959353     5.3\n",
       "1931           Levine Toilolo_reframed   3.142387     3.2\n",
       "1942            Logan Paulsen_reframed   8.149107     8.7\n",
       "2007             Luke Willson_reframed   1.524200     1.6\n",
       "2062             Mark Andrews_reframed   5.971875     3.2\n",
       "2100             Matt LaCosse_reframed   3.749106     2.7\n",
       "2127            Maxx Williams_reframed   8.429453    10.1\n",
       "2153             Mike Gesicki_reframed   1.586966     1.9\n",
       "2218               Nick Boyle_reframed   6.425677     6.6\n",
       "2257             Nick Vannett_reframed   1.996354     1.6\n",
       "2271               Niles Paul_reframed   2.320337     3.1\n",
       "2287                OJ Howard_reframed   6.488126     0.0\n",
       "2290            Orson Charles_reframed  -0.143560     0.0\n",
       "2357            Rhett Ellison_reframed   6.435333     5.9\n",
       "2407        Ricky Seals-Jones_reframed   7.010183     7.2\n",
       "2408             Rico Gathers_reframed   0.062266     0.0\n",
       "2447           Rob Gronkowski_reframed  11.490200     8.4\n",
       "2498             Ryan Griffin_reframed   3.340917     2.2\n",
       "2523           Scott Simonson_reframed   0.822806     1.7\n",
       "2629             Travis Kelce_reframed  21.244420    20.8\n",
       "2660              Trey Burton_reframed  14.545797    16.6\n",
       "2702             Tyler Eifert_reframed  12.217185    13.8\n",
       "2729             Tyler Higbee_reframed   1.995090     0.0\n",
       "2759              Tyler Kroft_reframed   1.773622     0.0\n",
       "2794           Vance McDonald_reframed  12.539280    10.2\n",
       "2875             Virgil Green_reframed   4.150551     2.9\n",
       "2878              Will Dissly_reframed   5.820138     1.5\n",
       "2968                Zach Ertz_reframed  17.802394    24.2\n",
       "\n",
       "[62 rows x 3 columns]"
      ]
     },
     "execution_count": 39,
     "metadata": {},
     "output_type": "execute_result"
    }
   ],
   "source": [
    "results = pd.DataFrame()\n",
    "results['Player'] = test['player']\n",
    "#results['score'] = y_test\n",
    "results['Predicted'] = yhat\n",
    "results['points'] = test['points']\n",
    "#results['Week'] = qb[qb['year']==2017]['Week']\n",
    "#results.groupby('Player').mean()[['score','Predicted']]\n",
    "results"
   ]
  },
  {
   "cell_type": "code",
   "execution_count": 42,
   "metadata": {},
   "outputs": [
    {
     "data": {
      "text/html": [
       "<div>\n",
       "<style>\n",
       "    .dataframe thead tr:only-child th {\n",
       "        text-align: right;\n",
       "    }\n",
       "\n",
       "    .dataframe thead th {\n",
       "        text-align: left;\n",
       "    }\n",
       "\n",
       "    .dataframe tbody tr th {\n",
       "        vertical-align: top;\n",
       "    }\n",
       "</style>\n",
       "<table border=\"1\" class=\"dataframe\">\n",
       "  <thead>\n",
       "    <tr style=\"text-align: right;\">\n",
       "      <th></th>\n",
       "      <th>Player</th>\n",
       "      <th>Predicted</th>\n",
       "      <th>points</th>\n",
       "    </tr>\n",
       "  </thead>\n",
       "  <tbody>\n",
       "    <tr>\n",
       "      <th>101</th>\n",
       "      <td>Antonio Gates_reframed</td>\n",
       "      <td>9.107350</td>\n",
       "      <td>10.7</td>\n",
       "    </tr>\n",
       "    <tr>\n",
       "      <th>103</th>\n",
       "      <td>Antony Auclair_reframed</td>\n",
       "      <td>1.547872</td>\n",
       "      <td>1.8</td>\n",
       "    </tr>\n",
       "    <tr>\n",
       "      <th>133</th>\n",
       "      <td>Austin Hooper_reframed</td>\n",
       "      <td>6.449231</td>\n",
       "      <td>2.9</td>\n",
       "    </tr>\n",
       "    <tr>\n",
       "      <th>165</th>\n",
       "      <td>Austin Seferian-Jenkins_reframed</td>\n",
       "      <td>5.226458</td>\n",
       "      <td>4.4</td>\n",
       "    </tr>\n",
       "    <tr>\n",
       "      <th>219</th>\n",
       "      <td>Benjamin Watson_reframed</td>\n",
       "      <td>5.675421</td>\n",
       "      <td>3.3</td>\n",
       "    </tr>\n",
       "  </tbody>\n",
       "</table>\n",
       "</div>"
      ],
      "text/plain": [
       "                               Player  Predicted  points\n",
       "101            Antonio Gates_reframed   9.107350    10.7\n",
       "103           Antony Auclair_reframed   1.547872     1.8\n",
       "133            Austin Hooper_reframed   6.449231     2.9\n",
       "165  Austin Seferian-Jenkins_reframed   5.226458     4.4\n",
       "219          Benjamin Watson_reframed   5.675421     3.3"
      ]
     },
     "execution_count": 42,
     "metadata": {},
     "output_type": "execute_result"
    }
   ],
   "source": [
    "results.head()"
   ]
  },
  {
   "cell_type": "code",
   "execution_count": 46,
   "metadata": {
    "collapsed": true
   },
   "outputs": [],
   "source": [
    "results.to_csv('../output/te_test.csv', index= False)"
   ]
  },
  {
   "cell_type": "code",
   "execution_count": 47,
   "metadata": {},
   "outputs": [
    {
     "ename": "NameError",
     "evalue": "name 'te_points' is not defined",
     "output_type": "error",
     "traceback": [
      "\u001b[1;31m---------------------------------------------------------------------------\u001b[0m",
      "\u001b[1;31mNameError\u001b[0m                                 Traceback (most recent call last)",
      "\u001b[1;32m<ipython-input-47-023d71b59da3>\u001b[0m in \u001b[0;36m<module>\u001b[1;34m()\u001b[0m\n\u001b[1;32m----> 1\u001b[1;33m \u001b[0mte_points\u001b[0m\u001b[1;33m[\u001b[0m\u001b[1;34m'projected'\u001b[0m\u001b[1;33m]\u001b[0m \u001b[1;33m=\u001b[0m \u001b[0mte_points\u001b[0m\u001b[1;33m[\u001b[0m\u001b[1;34m'player'\u001b[0m\u001b[1;33m]\u001b[0m\u001b[1;33m.\u001b[0m\u001b[0mmap\u001b[0m\u001b[1;33m(\u001b[0m\u001b[1;32mlambda\u001b[0m \u001b[0mx\u001b[0m\u001b[1;33m:\u001b[0m \u001b[0mx\u001b[0m\u001b[1;33m[\u001b[0m\u001b[1;34m'Predicted'\u001b[0m\u001b[1;33m]\u001b[0m\u001b[1;33m,\u001b[0m \u001b[0mresults\u001b[0m\u001b[1;33m)\u001b[0m\u001b[1;33m\u001b[0m\u001b[0m\n\u001b[0m",
      "\u001b[1;31mNameError\u001b[0m: name 'te_points' is not defined"
     ]
    }
   ],
   "source": [
    "te_points['projected'] = te_points['player'].map(lambda x: x['Predicted'], results)"
   ]
  },
  {
   "cell_type": "code",
   "execution_count": null,
   "metadata": {
    "collapsed": true
   },
   "outputs": [],
   "source": [
    "te_poins = "
   ]
  }
 ],
 "metadata": {
  "kernelspec": {
   "display_name": "Python 3",
   "language": "python",
   "name": "python3"
  },
  "language_info": {
   "codemirror_mode": {
    "name": "ipython",
    "version": 3
   },
   "file_extension": ".py",
   "mimetype": "text/x-python",
   "name": "python",
   "nbconvert_exporter": "python",
   "pygments_lexer": "ipython3",
   "version": "3.6.2"
  }
 },
 "nbformat": 4,
 "nbformat_minor": 2
}
