{
 "cells": [
  {
   "cell_type": "code",
   "execution_count": 1,
   "metadata": {
    "collapsed": true
   },
   "outputs": [],
   "source": [
    "import pandas as pd\n",
    "import numpy as np\n",
    "from sklearn.preprocessing import MinMaxScaler\n",
    "from sklearn.linear_model import LinearRegression\n",
    "from sklearn.preprocessing import LabelEncoder"
   ]
  },
  {
   "cell_type": "code",
   "execution_count": 2,
   "metadata": {
    "collapsed": true
   },
   "outputs": [],
   "source": [
    "qb = pd.read_csv('../input/qb/qb_stats.csv')\n"
   ]
  },
  {
   "cell_type": "code",
   "execution_count": 3,
   "metadata": {},
   "outputs": [
    {
     "data": {
      "text/html": [
       "<div>\n",
       "<style>\n",
       "    .dataframe thead tr:only-child th {\n",
       "        text-align: right;\n",
       "    }\n",
       "\n",
       "    .dataframe thead th {\n",
       "        text-align: left;\n",
       "    }\n",
       "\n",
       "    .dataframe tbody tr th {\n",
       "        vertical-align: top;\n",
       "    }\n",
       "</style>\n",
       "<table border=\"1\" class=\"dataframe\">\n",
       "  <thead>\n",
       "    <tr style=\"text-align: right;\">\n",
       "      <th></th>\n",
       "      <th>Unnamed: 0</th>\n",
       "      <th>Week</th>\n",
       "      <th>Opponent</th>\n",
       "      <th>var1(t-1)</th>\n",
       "      <th>var2(t-1)</th>\n",
       "      <th>var3(t-1)</th>\n",
       "      <th>var4(t-1)</th>\n",
       "      <th>var5(t-1)</th>\n",
       "      <th>var6(t-1)</th>\n",
       "      <th>var7(t-1)</th>\n",
       "      <th>...</th>\n",
       "      <th>var21(t)</th>\n",
       "      <th>var22(t)</th>\n",
       "      <th>var23(t)</th>\n",
       "      <th>var24(t)</th>\n",
       "      <th>def_rk</th>\n",
       "      <th>h/a_1</th>\n",
       "      <th>surface_0</th>\n",
       "      <th>salary</th>\n",
       "      <th>points</th>\n",
       "      <th>year</th>\n",
       "    </tr>\n",
       "  </thead>\n",
       "  <tbody>\n",
       "    <tr>\n",
       "      <th>0</th>\n",
       "      <td>AJ McCarron_reframed</td>\n",
       "      <td>13</td>\n",
       "      <td>CLE</td>\n",
       "      <td>1.00</td>\n",
       "      <td>100.00</td>\n",
       "      <td>3.00</td>\n",
       "      <td>0.00</td>\n",
       "      <td>79.17</td>\n",
       "      <td>0.00</td>\n",
       "      <td>0.00</td>\n",
       "      <td>...</td>\n",
       "      <td>81.60</td>\n",
       "      <td>0.24</td>\n",
       "      <td>0.15</td>\n",
       "      <td>0.88</td>\n",
       "      <td>28</td>\n",
       "      <td>0.0</td>\n",
       "      <td>1.0</td>\n",
       "      <td>5000</td>\n",
       "      <td>0.76</td>\n",
       "      <td>2015</td>\n",
       "    </tr>\n",
       "    <tr>\n",
       "      <th>1</th>\n",
       "      <td>AJ McCarron_reframed</td>\n",
       "      <td>14</td>\n",
       "      <td>PIT</td>\n",
       "      <td>2.00</td>\n",
       "      <td>83.35</td>\n",
       "      <td>11.00</td>\n",
       "      <td>0.00</td>\n",
       "      <td>81.60</td>\n",
       "      <td>0.24</td>\n",
       "      <td>0.15</td>\n",
       "      <td>...</td>\n",
       "      <td>84.61</td>\n",
       "      <td>0.66</td>\n",
       "      <td>0.55</td>\n",
       "      <td>1.40</td>\n",
       "      <td>24</td>\n",
       "      <td>1.0</td>\n",
       "      <td>0.0</td>\n",
       "      <td>5000</td>\n",
       "      <td>18.00</td>\n",
       "      <td>2015</td>\n",
       "    </tr>\n",
       "    <tr>\n",
       "      <th>2</th>\n",
       "      <td>AJ McCarron_reframed</td>\n",
       "      <td>15</td>\n",
       "      <td>SF</td>\n",
       "      <td>12.00</td>\n",
       "      <td>78.50</td>\n",
       "      <td>100.67</td>\n",
       "      <td>0.67</td>\n",
       "      <td>84.61</td>\n",
       "      <td>0.66</td>\n",
       "      <td>0.55</td>\n",
       "      <td>...</td>\n",
       "      <td>92.35</td>\n",
       "      <td>0.83</td>\n",
       "      <td>0.70</td>\n",
       "      <td>1.62</td>\n",
       "      <td>16</td>\n",
       "      <td>0.0</td>\n",
       "      <td>1.0</td>\n",
       "      <td>3000</td>\n",
       "      <td>11.88</td>\n",
       "      <td>2015</td>\n",
       "    </tr>\n",
       "    <tr>\n",
       "      <th>3</th>\n",
       "      <td>AJ McCarron_reframed</td>\n",
       "      <td>16</td>\n",
       "      <td>DEN</td>\n",
       "      <td>14.25</td>\n",
       "      <td>76.72</td>\n",
       "      <td>123.50</td>\n",
       "      <td>0.75</td>\n",
       "      <td>92.35</td>\n",
       "      <td>0.83</td>\n",
       "      <td>0.70</td>\n",
       "      <td>...</td>\n",
       "      <td>91.44</td>\n",
       "      <td>0.97</td>\n",
       "      <td>0.83</td>\n",
       "      <td>1.76</td>\n",
       "      <td>1</td>\n",
       "      <td>0.0</td>\n",
       "      <td>1.0</td>\n",
       "      <td>5100</td>\n",
       "      <td>13.10</td>\n",
       "      <td>2015</td>\n",
       "    </tr>\n",
       "    <tr>\n",
       "      <th>4</th>\n",
       "      <td>AJ McCarron_reframed</td>\n",
       "      <td>17</td>\n",
       "      <td>BAL</td>\n",
       "      <td>18.40</td>\n",
       "      <td>73.96</td>\n",
       "      <td>138.80</td>\n",
       "      <td>0.80</td>\n",
       "      <td>91.44</td>\n",
       "      <td>0.97</td>\n",
       "      <td>0.83</td>\n",
       "      <td>...</td>\n",
       "      <td>93.52</td>\n",
       "      <td>1.05</td>\n",
       "      <td>0.90</td>\n",
       "      <td>1.83</td>\n",
       "      <td>19</td>\n",
       "      <td>1.0</td>\n",
       "      <td>0.0</td>\n",
       "      <td>5300</td>\n",
       "      <td>14.60</td>\n",
       "      <td>2015</td>\n",
       "    </tr>\n",
       "  </tbody>\n",
       "</table>\n",
       "<p>5 rows × 57 columns</p>\n",
       "</div>"
      ],
      "text/plain": [
       "             Unnamed: 0  Week Opponent  var1(t-1)  var2(t-1)  var3(t-1)  \\\n",
       "0  AJ McCarron_reframed    13      CLE       1.00     100.00       3.00   \n",
       "1  AJ McCarron_reframed    14      PIT       2.00      83.35      11.00   \n",
       "2  AJ McCarron_reframed    15       SF      12.00      78.50     100.67   \n",
       "3  AJ McCarron_reframed    16      DEN      14.25      76.72     123.50   \n",
       "4  AJ McCarron_reframed    17      BAL      18.40      73.96     138.80   \n",
       "\n",
       "   var4(t-1)  var5(t-1)  var6(t-1)  var7(t-1)  ...   var21(t)  var22(t)  \\\n",
       "0       0.00      79.17       0.00       0.00  ...      81.60      0.24   \n",
       "1       0.00      81.60       0.24       0.15  ...      84.61      0.66   \n",
       "2       0.67      84.61       0.66       0.55  ...      92.35      0.83   \n",
       "3       0.75      92.35       0.83       0.70  ...      91.44      0.97   \n",
       "4       0.80      91.44       0.97       0.83  ...      93.52      1.05   \n",
       "\n",
       "   var23(t)  var24(t)  def_rk  h/a_1  surface_0  salary  points  year  \n",
       "0      0.15      0.88      28    0.0        1.0    5000    0.76  2015  \n",
       "1      0.55      1.40      24    1.0        0.0    5000   18.00  2015  \n",
       "2      0.70      1.62      16    0.0        1.0    3000   11.88  2015  \n",
       "3      0.83      1.76       1    0.0        1.0    5100   13.10  2015  \n",
       "4      0.90      1.83      19    1.0        0.0    5300   14.60  2015  \n",
       "\n",
       "[5 rows x 57 columns]"
      ]
     },
     "execution_count": 3,
     "metadata": {},
     "output_type": "execute_result"
    }
   ],
   "source": [
    "qb.head()"
   ]
  },
  {
   "cell_type": "code",
   "execution_count": 4,
   "metadata": {
    "collapsed": true
   },
   "outputs": [],
   "source": [
    "qb.drop(['var7(t-1)','var8(t-1)','var16(t-1)','var23(t-1)','var24(t-1)','var7(t)','var8(t)','var15(t)','var16(t)','var23(t)','var24(t)'], axis=1, inplace=True)"
   ]
  },
  {
   "cell_type": "code",
   "execution_count": 5,
   "metadata": {
    "collapsed": true
   },
   "outputs": [],
   "source": [
    "qb.rename(columns={'Unnamed: 0':'player'}, inplace=True)"
   ]
  },
  {
   "cell_type": "code",
   "execution_count": 6,
   "metadata": {},
   "outputs": [
    {
     "data": {
      "text/plain": [
       "player         object\n",
       "Week            int64\n",
       "Opponent       object\n",
       "var1(t-1)     float64\n",
       "var2(t-1)     float64\n",
       "var3(t-1)     float64\n",
       "var4(t-1)     float64\n",
       "var5(t-1)     float64\n",
       "var6(t-1)     float64\n",
       "var9(t-1)     float64\n",
       "var10(t-1)    float64\n",
       "var11(t-1)    float64\n",
       "var12(t-1)    float64\n",
       "var13(t-1)    float64\n",
       "var14(t-1)    float64\n",
       "var15(t-1)    float64\n",
       "var17(t-1)    float64\n",
       "var18(t-1)    float64\n",
       "var19(t-1)    float64\n",
       "var20(t-1)    float64\n",
       "var21(t-1)    float64\n",
       "var22(t-1)    float64\n",
       "var1(t)       float64\n",
       "var2(t)       float64\n",
       "var3(t)       float64\n",
       "var4(t)       float64\n",
       "var5(t)       float64\n",
       "var6(t)       float64\n",
       "var9(t)       float64\n",
       "var10(t)      float64\n",
       "var11(t)      float64\n",
       "var12(t)      float64\n",
       "var13(t)      float64\n",
       "var14(t)      float64\n",
       "var17(t)      float64\n",
       "var18(t)      float64\n",
       "var19(t)      float64\n",
       "var20(t)      float64\n",
       "var21(t)      float64\n",
       "var22(t)      float64\n",
       "def_rk          int64\n",
       "h/a_1         float64\n",
       "surface_0     float64\n",
       "salary          int64\n",
       "points        float64\n",
       "year            int64\n",
       "dtype: object"
      ]
     },
     "execution_count": 6,
     "metadata": {},
     "output_type": "execute_result"
    }
   ],
   "source": [
    "\n",
    "qb.dtypes"
   ]
  },
  {
   "cell_type": "code",
   "execution_count": 7,
   "metadata": {
    "collapsed": true
   },
   "outputs": [],
   "source": [
    "qb.replace('null',0, inplace=True)\n",
    "qb.salary = qb['salary'].apply(lambda x: int(x))\n"
   ]
  },
  {
   "cell_type": "code",
   "execution_count": 8,
   "metadata": {
    "collapsed": true
   },
   "outputs": [],
   "source": [
    "def conv_atts(df):\n",
    "    df['salary'] = df['salary'].apply(lambda x: int(x))\n",
    "    df['h/a_1'] = df['h/a_1'].astype('category')\n",
    "    df['surface_0'] = df['surface_0'].astype('category')\n",
    "    df['def_rk'] = df['def_rk'].astype('category')\n",
    "\n",
    "    return df"
   ]
  },
  {
   "cell_type": "code",
   "execution_count": 9,
   "metadata": {},
   "outputs": [
    {
     "data": {
      "text/plain": [
       "player          object\n",
       "Week             int64\n",
       "Opponent        object\n",
       "var1(t-1)      float64\n",
       "var2(t-1)      float64\n",
       "var3(t-1)      float64\n",
       "var4(t-1)      float64\n",
       "var5(t-1)      float64\n",
       "var6(t-1)      float64\n",
       "var9(t-1)      float64\n",
       "var10(t-1)     float64\n",
       "var11(t-1)     float64\n",
       "var12(t-1)     float64\n",
       "var13(t-1)     float64\n",
       "var14(t-1)     float64\n",
       "var15(t-1)     float64\n",
       "var17(t-1)     float64\n",
       "var18(t-1)     float64\n",
       "var19(t-1)     float64\n",
       "var20(t-1)     float64\n",
       "var21(t-1)     float64\n",
       "var22(t-1)     float64\n",
       "var1(t)        float64\n",
       "var2(t)        float64\n",
       "var3(t)        float64\n",
       "var4(t)        float64\n",
       "var5(t)        float64\n",
       "var6(t)        float64\n",
       "var9(t)        float64\n",
       "var10(t)       float64\n",
       "var11(t)       float64\n",
       "var12(t)       float64\n",
       "var13(t)       float64\n",
       "var14(t)       float64\n",
       "var17(t)       float64\n",
       "var18(t)       float64\n",
       "var19(t)       float64\n",
       "var20(t)       float64\n",
       "var21(t)       float64\n",
       "var22(t)       float64\n",
       "def_rk        category\n",
       "h/a_1         category\n",
       "surface_0     category\n",
       "salary           int64\n",
       "points         float64\n",
       "year             int64\n",
       "dtype: object"
      ]
     },
     "execution_count": 9,
     "metadata": {},
     "output_type": "execute_result"
    }
   ],
   "source": [
    "qb = conv_atts(qb)\n",
    "qb.dtypes\n"
   ]
  },
  {
   "cell_type": "code",
   "execution_count": 10,
   "metadata": {},
   "outputs": [
    {
     "data": {
      "text/plain": [
       "array([2015, 2017, 2016], dtype=int64)"
      ]
     },
     "execution_count": 10,
     "metadata": {},
     "output_type": "execute_result"
    }
   ],
   "source": [
    "train = qb[qb['year']!=2018]\n",
    "train = train[train['Week']!=4]\n",
    "train['year'].unique()"
   ]
  },
  {
   "cell_type": "code",
   "execution_count": 11,
   "metadata": {},
   "outputs": [
    {
     "data": {
      "text/plain": [
       "(1457, 46)"
      ]
     },
     "execution_count": 11,
     "metadata": {},
     "output_type": "execute_result"
    }
   ],
   "source": [
    "train.shape"
   ]
  },
  {
   "cell_type": "code",
   "execution_count": 12,
   "metadata": {},
   "outputs": [
    {
     "data": {
      "text/plain": [
       "(32, 46)"
      ]
     },
     "execution_count": 12,
     "metadata": {},
     "output_type": "execute_result"
    }
   ],
   "source": [
    "test = qb[qb['year']==2018]\n",
    "test=test[test['Week']==4]\n",
    "test.shape"
   ]
  },
  {
   "cell_type": "code",
   "execution_count": 13,
   "metadata": {},
   "outputs": [
    {
     "data": {
      "text/plain": [
       "Index(['player', 'Week', 'Opponent', 'var1(t-1)', 'var2(t-1)', 'var3(t-1)',\n",
       "       'var4(t-1)', 'var5(t-1)', 'var6(t-1)', 'var9(t-1)', 'var10(t-1)',\n",
       "       'var11(t-1)', 'var12(t-1)', 'var13(t-1)', 'var14(t-1)', 'var15(t-1)',\n",
       "       'var17(t-1)', 'var18(t-1)', 'var19(t-1)', 'var20(t-1)', 'var21(t-1)',\n",
       "       'var22(t-1)', 'var1(t)', 'var2(t)', 'var3(t)', 'var4(t)', 'var5(t)',\n",
       "       'var6(t)', 'var9(t)', 'var10(t)', 'var11(t)', 'var12(t)', 'var13(t)',\n",
       "       'var14(t)', 'var17(t)', 'var18(t)', 'var19(t)', 'var20(t)', 'var21(t)',\n",
       "       'var22(t)', 'def_rk', 'h/a_1', 'surface_0', 'salary', 'points', 'year'],\n",
       "      dtype='object')"
      ]
     },
     "execution_count": 13,
     "metadata": {},
     "output_type": "execute_result"
    }
   ],
   "source": [
    "test.columns"
   ]
  },
  {
   "cell_type": "code",
   "execution_count": 14,
   "metadata": {},
   "outputs": [
    {
     "ename": "NameError",
     "evalue": "name 'X_test' is not defined",
     "output_type": "error",
     "traceback": [
      "\u001b[1;31m---------------------------------------------------------------------------\u001b[0m",
      "\u001b[1;31mNameError\u001b[0m                                 Traceback (most recent call last)",
      "\u001b[1;32m<ipython-input-14-125dfdb1b7c9>\u001b[0m in \u001b[0;36m<module>\u001b[1;34m()\u001b[0m\n\u001b[1;32m----> 1\u001b[1;33m \u001b[0mX_test\u001b[0m\u001b[1;33m.\u001b[0m\u001b[0miloc\u001b[0m\u001b[1;33m[\u001b[0m\u001b[1;33m:\u001b[0m\u001b[1;33m,\u001b[0m\u001b[1;36m3\u001b[0m\u001b[1;33m:\u001b[0m\u001b[1;33m]\u001b[0m\u001b[1;33m.\u001b[0m\u001b[0mshape\u001b[0m\u001b[1;33m\u001b[0m\u001b[0m\n\u001b[0m",
      "\u001b[1;31mNameError\u001b[0m: name 'X_test' is not defined"
     ]
    }
   ],
   "source": [
    "X_test.iloc[:,3:].shape"
   ]
  },
  {
   "cell_type": "code",
   "execution_count": 15,
   "metadata": {
    "collapsed": true
   },
   "outputs": [],
   "source": [
    "# Target variables \n",
    "\n",
    "y_train = train['points']\n",
    "y_test = test['points']\n",
    "\n",
    "# Predictors, all numeric variables minus target variable\n",
    "X_train = train.iloc[:,3:-3]\n",
    "X_test = test.iloc[:,3:-3]"
   ]
  },
  {
   "cell_type": "code",
   "execution_count": 16,
   "metadata": {},
   "outputs": [
    {
     "data": {
      "text/plain": [
       "Index(['var1(t-1)', 'var2(t-1)', 'var3(t-1)', 'var4(t-1)', 'var5(t-1)',\n",
       "       'var6(t-1)', 'var9(t-1)', 'var10(t-1)', 'var11(t-1)', 'var12(t-1)',\n",
       "       'var13(t-1)', 'var14(t-1)', 'var15(t-1)', 'var17(t-1)', 'var18(t-1)',\n",
       "       'var19(t-1)', 'var20(t-1)', 'var21(t-1)', 'var22(t-1)', 'var1(t)',\n",
       "       'var2(t)', 'var3(t)', 'var4(t)', 'var5(t)', 'var6(t)', 'var9(t)',\n",
       "       'var10(t)', 'var11(t)', 'var12(t)', 'var13(t)', 'var14(t)', 'var17(t)',\n",
       "       'var18(t)', 'var19(t)', 'var20(t)', 'var21(t)', 'var22(t)', 'def_rk',\n",
       "       'h/a_1', 'surface_0'],\n",
       "      dtype='object')"
      ]
     },
     "execution_count": 16,
     "metadata": {},
     "output_type": "execute_result"
    }
   ],
   "source": [
    "\n",
    "X_test.columns"
   ]
  },
  {
   "cell_type": "code",
   "execution_count": 90,
   "metadata": {},
   "outputs": [
    {
     "data": {
      "text/plain": [
       "array([[ 0.        ,  1.        ,  0.0070922 , ...,  0.        ,\n",
       "         0.51998093,  0.14457831],\n",
       "       [ 0.01960784,  0.8335    ,  0.02600473, ...,  0.19142857,\n",
       "         0.5486886 ,  0.39759036],\n",
       "       [ 0.21568627,  0.785     ,  0.23799054, ...,  0.21428571,\n",
       "         0.62250835,  0.5       ],\n",
       "       ..., \n",
       "       [ 0.46411765,  0.6547    ,  0.33174941, ...,  0.21428571,\n",
       "         0.48526466,  0.81325301],\n",
       "       [ 0.48039216,  0.6695    ,  0.39184397, ...,  0.22857143,\n",
       "         0.45808298,  0.85542169],\n",
       "       [ 0.58039216,  0.6414    ,  0.42411348, ...,  0.19142857,\n",
       "         0.36185026,  0.8253012 ]])"
      ]
     },
     "execution_count": 90,
     "metadata": {},
     "output_type": "execute_result"
    }
   ],
   "source": [
    "scaler = MinMaxScaler()\n",
    "scaler.fit_transform(X_train)"
   ]
  },
  {
   "cell_type": "code",
   "execution_count": 140,
   "metadata": {},
   "outputs": [
    {
     "data": {
      "text/plain": [
       "(32, 40)"
      ]
     },
     "execution_count": 140,
     "metadata": {},
     "output_type": "execute_result"
    }
   ],
   "source": [
    "X_test.shape"
   ]
  },
  {
   "cell_type": "code",
   "execution_count": 141,
   "metadata": {},
   "outputs": [
    {
     "data": {
      "text/plain": [
       "(1457, 40)"
      ]
     },
     "execution_count": 141,
     "metadata": {},
     "output_type": "execute_result"
    }
   ],
   "source": [
    "X_train.shape"
   ]
  },
  {
   "cell_type": "code",
   "execution_count": 16,
   "metadata": {
    "collapsed": true
   },
   "outputs": [],
   "source": [
    "y_train.reset_index(inplace=True,drop=True)\n",
    "X_train.reset_index(inplace=True, drop=True)"
   ]
  },
  {
   "cell_type": "code",
   "execution_count": 17,
   "metadata": {
    "collapsed": true
   },
   "outputs": [],
   "source": [
    "lr = LinearRegression()"
   ]
  },
  {
   "cell_type": "code",
   "execution_count": 18,
   "metadata": {},
   "outputs": [
    {
     "data": {
      "text/plain": [
       "LinearRegression(copy_X=True, fit_intercept=True, n_jobs=1, normalize=False)"
      ]
     },
     "execution_count": 18,
     "metadata": {},
     "output_type": "execute_result"
    }
   ],
   "source": [
    "lr.fit(X_train,y_train)"
   ]
  },
  {
   "cell_type": "code",
   "execution_count": 19,
   "metadata": {},
   "outputs": [
    {
     "data": {
      "text/html": [
       "<div>\n",
       "<style>\n",
       "    .dataframe thead tr:only-child th {\n",
       "        text-align: right;\n",
       "    }\n",
       "\n",
       "    .dataframe thead th {\n",
       "        text-align: left;\n",
       "    }\n",
       "\n",
       "    .dataframe tbody tr th {\n",
       "        vertical-align: top;\n",
       "    }\n",
       "</style>\n",
       "<table border=\"1\" class=\"dataframe\">\n",
       "  <thead>\n",
       "    <tr style=\"text-align: right;\">\n",
       "      <th></th>\n",
       "      <th>0</th>\n",
       "      <th>coefficients</th>\n",
       "    </tr>\n",
       "  </thead>\n",
       "  <tbody>\n",
       "    <tr>\n",
       "      <th>0</th>\n",
       "      <td>var1(t-1)</td>\n",
       "      <td>-0.269721</td>\n",
       "    </tr>\n",
       "    <tr>\n",
       "      <th>1</th>\n",
       "      <td>var2(t-1)</td>\n",
       "      <td>0.104201</td>\n",
       "    </tr>\n",
       "    <tr>\n",
       "      <th>2</th>\n",
       "      <td>var3(t-1)</td>\n",
       "      <td>0.008365</td>\n",
       "    </tr>\n",
       "    <tr>\n",
       "      <th>3</th>\n",
       "      <td>var4(t-1)</td>\n",
       "      <td>0.506358</td>\n",
       "    </tr>\n",
       "    <tr>\n",
       "      <th>4</th>\n",
       "      <td>var5(t-1)</td>\n",
       "      <td>-0.102144</td>\n",
       "    </tr>\n",
       "    <tr>\n",
       "      <th>5</th>\n",
       "      <td>var6(t-1)</td>\n",
       "      <td>1.637764</td>\n",
       "    </tr>\n",
       "    <tr>\n",
       "      <th>6</th>\n",
       "      <td>var9(t-1)</td>\n",
       "      <td>-0.154069</td>\n",
       "    </tr>\n",
       "    <tr>\n",
       "      <th>7</th>\n",
       "      <td>var10(t-1)</td>\n",
       "      <td>0.075757</td>\n",
       "    </tr>\n",
       "    <tr>\n",
       "      <th>8</th>\n",
       "      <td>var11(t-1)</td>\n",
       "      <td>0.005233</td>\n",
       "    </tr>\n",
       "    <tr>\n",
       "      <th>9</th>\n",
       "      <td>var12(t-1)</td>\n",
       "      <td>1.351484</td>\n",
       "    </tr>\n",
       "    <tr>\n",
       "      <th>10</th>\n",
       "      <td>var13(t-1)</td>\n",
       "      <td>-0.004142</td>\n",
       "    </tr>\n",
       "    <tr>\n",
       "      <th>11</th>\n",
       "      <td>var14(t-1)</td>\n",
       "      <td>16.547199</td>\n",
       "    </tr>\n",
       "    <tr>\n",
       "      <th>12</th>\n",
       "      <td>var15(t-1)</td>\n",
       "      <td>-20.353876</td>\n",
       "    </tr>\n",
       "    <tr>\n",
       "      <th>13</th>\n",
       "      <td>var17(t-1)</td>\n",
       "      <td>0.380338</td>\n",
       "    </tr>\n",
       "    <tr>\n",
       "      <th>14</th>\n",
       "      <td>var18(t-1)</td>\n",
       "      <td>-0.047214</td>\n",
       "    </tr>\n",
       "    <tr>\n",
       "      <th>15</th>\n",
       "      <td>var19(t-1)</td>\n",
       "      <td>-0.102913</td>\n",
       "    </tr>\n",
       "    <tr>\n",
       "      <th>16</th>\n",
       "      <td>var20(t-1)</td>\n",
       "      <td>-7.281323</td>\n",
       "    </tr>\n",
       "    <tr>\n",
       "      <th>17</th>\n",
       "      <td>var21(t-1)</td>\n",
       "      <td>0.093148</td>\n",
       "    </tr>\n",
       "    <tr>\n",
       "      <th>18</th>\n",
       "      <td>var22(t-1)</td>\n",
       "      <td>7.120148</td>\n",
       "    </tr>\n",
       "    <tr>\n",
       "      <th>19</th>\n",
       "      <td>var1(t)</td>\n",
       "      <td>0.373064</td>\n",
       "    </tr>\n",
       "    <tr>\n",
       "      <th>20</th>\n",
       "      <td>var2(t)</td>\n",
       "      <td>0.002567</td>\n",
       "    </tr>\n",
       "    <tr>\n",
       "      <th>21</th>\n",
       "      <td>var3(t)</td>\n",
       "      <td>-0.005810</td>\n",
       "    </tr>\n",
       "    <tr>\n",
       "      <th>22</th>\n",
       "      <td>var4(t)</td>\n",
       "      <td>2.326809</td>\n",
       "    </tr>\n",
       "    <tr>\n",
       "      <th>23</th>\n",
       "      <td>var5(t)</td>\n",
       "      <td>0.071458</td>\n",
       "    </tr>\n",
       "    <tr>\n",
       "      <th>24</th>\n",
       "      <td>var6(t)</td>\n",
       "      <td>-1.248945</td>\n",
       "    </tr>\n",
       "    <tr>\n",
       "      <th>25</th>\n",
       "      <td>var9(t)</td>\n",
       "      <td>-0.267891</td>\n",
       "    </tr>\n",
       "    <tr>\n",
       "      <th>26</th>\n",
       "      <td>var10(t)</td>\n",
       "      <td>0.102805</td>\n",
       "    </tr>\n",
       "    <tr>\n",
       "      <th>27</th>\n",
       "      <td>var11(t)</td>\n",
       "      <td>-0.005243</td>\n",
       "    </tr>\n",
       "    <tr>\n",
       "      <th>28</th>\n",
       "      <td>var12(t)</td>\n",
       "      <td>-0.052793</td>\n",
       "    </tr>\n",
       "    <tr>\n",
       "      <th>29</th>\n",
       "      <td>var13(t)</td>\n",
       "      <td>-0.101861</td>\n",
       "    </tr>\n",
       "    <tr>\n",
       "      <th>30</th>\n",
       "      <td>var14(t)</td>\n",
       "      <td>8.324634</td>\n",
       "    </tr>\n",
       "    <tr>\n",
       "      <th>31</th>\n",
       "      <td>var17(t)</td>\n",
       "      <td>-0.376289</td>\n",
       "    </tr>\n",
       "    <tr>\n",
       "      <th>32</th>\n",
       "      <td>var18(t)</td>\n",
       "      <td>-0.124447</td>\n",
       "    </tr>\n",
       "    <tr>\n",
       "      <th>33</th>\n",
       "      <td>var19(t)</td>\n",
       "      <td>0.147363</td>\n",
       "    </tr>\n",
       "    <tr>\n",
       "      <th>34</th>\n",
       "      <td>var20(t)</td>\n",
       "      <td>6.873499</td>\n",
       "    </tr>\n",
       "    <tr>\n",
       "      <th>35</th>\n",
       "      <td>var21(t)</td>\n",
       "      <td>0.013876</td>\n",
       "    </tr>\n",
       "    <tr>\n",
       "      <th>36</th>\n",
       "      <td>var22(t)</td>\n",
       "      <td>-9.682324</td>\n",
       "    </tr>\n",
       "    <tr>\n",
       "      <th>37</th>\n",
       "      <td>def_rk</td>\n",
       "      <td>0.115599</td>\n",
       "    </tr>\n",
       "    <tr>\n",
       "      <th>38</th>\n",
       "      <td>h/a_1</td>\n",
       "      <td>0.884721</td>\n",
       "    </tr>\n",
       "    <tr>\n",
       "      <th>39</th>\n",
       "      <td>surface_0</td>\n",
       "      <td>-0.220196</td>\n",
       "    </tr>\n",
       "  </tbody>\n",
       "</table>\n",
       "</div>"
      ],
      "text/plain": [
       "             0  coefficients\n",
       "0    var1(t-1)     -0.269721\n",
       "1    var2(t-1)      0.104201\n",
       "2    var3(t-1)      0.008365\n",
       "3    var4(t-1)      0.506358\n",
       "4    var5(t-1)     -0.102144\n",
       "5    var6(t-1)      1.637764\n",
       "6    var9(t-1)     -0.154069\n",
       "7   var10(t-1)      0.075757\n",
       "8   var11(t-1)      0.005233\n",
       "9   var12(t-1)      1.351484\n",
       "10  var13(t-1)     -0.004142\n",
       "11  var14(t-1)     16.547199\n",
       "12  var15(t-1)    -20.353876\n",
       "13  var17(t-1)      0.380338\n",
       "14  var18(t-1)     -0.047214\n",
       "15  var19(t-1)     -0.102913\n",
       "16  var20(t-1)     -7.281323\n",
       "17  var21(t-1)      0.093148\n",
       "18  var22(t-1)      7.120148\n",
       "19     var1(t)      0.373064\n",
       "20     var2(t)      0.002567\n",
       "21     var3(t)     -0.005810\n",
       "22     var4(t)      2.326809\n",
       "23     var5(t)      0.071458\n",
       "24     var6(t)     -1.248945\n",
       "25     var9(t)     -0.267891\n",
       "26    var10(t)      0.102805\n",
       "27    var11(t)     -0.005243\n",
       "28    var12(t)     -0.052793\n",
       "29    var13(t)     -0.101861\n",
       "30    var14(t)      8.324634\n",
       "31    var17(t)     -0.376289\n",
       "32    var18(t)     -0.124447\n",
       "33    var19(t)      0.147363\n",
       "34    var20(t)      6.873499\n",
       "35    var21(t)      0.013876\n",
       "36    var22(t)     -9.682324\n",
       "37      def_rk      0.115599\n",
       "38       h/a_1      0.884721\n",
       "39   surface_0     -0.220196"
      ]
     },
     "execution_count": 19,
     "metadata": {},
     "output_type": "execute_result"
    }
   ],
   "source": [
    "coeff = pd.DataFrame(X_train.columns)\n",
    "coeff['coefficients'] = lr.coef_\n",
    "coeff\n",
    "\n"
   ]
  },
  {
   "cell_type": "code",
   "execution_count": 20,
   "metadata": {},
   "outputs": [
    {
     "data": {
      "text/plain": [
       "(1457, 40)"
      ]
     },
     "execution_count": 20,
     "metadata": {},
     "output_type": "execute_result"
    }
   ],
   "source": [
    "X_train.shape"
   ]
  },
  {
   "cell_type": "code",
   "execution_count": 21,
   "metadata": {
    "collapsed": true
   },
   "outputs": [],
   "source": [
    "yhat = lr.predict(X_test)"
   ]
  },
  {
   "cell_type": "code",
   "execution_count": 22,
   "metadata": {},
   "outputs": [
    {
     "name": "stdout",
     "output_type": "stream",
     "text": [
      "RMSE error is: 6.564496030933445\n"
     ]
    }
   ],
   "source": [
    "def rmse(predictions, targets):\n",
    "    return np.sqrt(((predictions - targets) ** 2).mean())\n",
    "\n",
    "rmse_val = rmse(yhat, y_test)\n",
    "print(\"RMSE error is: \" + str(rmse_val))"
   ]
  },
  {
   "cell_type": "code",
   "execution_count": 23,
   "metadata": {},
   "outputs": [
    {
     "data": {
      "text/html": [
       "<div>\n",
       "<style>\n",
       "    .dataframe thead tr:only-child th {\n",
       "        text-align: right;\n",
       "    }\n",
       "\n",
       "    .dataframe thead th {\n",
       "        text-align: left;\n",
       "    }\n",
       "\n",
       "    .dataframe tbody tr th {\n",
       "        vertical-align: top;\n",
       "    }\n",
       "</style>\n",
       "<table border=\"1\" class=\"dataframe\">\n",
       "  <thead>\n",
       "    <tr style=\"text-align: right;\">\n",
       "      <th></th>\n",
       "      <th>Player</th>\n",
       "      <th>Predicted</th>\n",
       "      <th>points</th>\n",
       "    </tr>\n",
       "  </thead>\n",
       "  <tbody>\n",
       "    <tr>\n",
       "      <th>47</th>\n",
       "      <td>Aaron Rodgers_reframed</td>\n",
       "      <td>19.934504</td>\n",
       "      <td>17.02</td>\n",
       "    </tr>\n",
       "    <tr>\n",
       "      <th>118</th>\n",
       "      <td>Andrew Luck_reframed</td>\n",
       "      <td>32.008977</td>\n",
       "      <td>39.66</td>\n",
       "    </tr>\n",
       "    <tr>\n",
       "      <th>165</th>\n",
       "      <td>Andy Dalton_reframed</td>\n",
       "      <td>26.316620</td>\n",
       "      <td>28.78</td>\n",
       "    </tr>\n",
       "    <tr>\n",
       "      <th>168</th>\n",
       "      <td>Baker Mayfield_reframed</td>\n",
       "      <td>24.868369</td>\n",
       "      <td>16.80</td>\n",
       "    </tr>\n",
       "    <tr>\n",
       "      <th>211</th>\n",
       "      <td>Ben Roethlisberger_reframed</td>\n",
       "      <td>19.851403</td>\n",
       "      <td>15.86</td>\n",
       "    </tr>\n",
       "    <tr>\n",
       "      <th>281</th>\n",
       "      <td>Blake Bortles_reframed</td>\n",
       "      <td>22.149577</td>\n",
       "      <td>28.32</td>\n",
       "    </tr>\n",
       "    <tr>\n",
       "      <th>349</th>\n",
       "      <td>Brock Osweiler_reframed</td>\n",
       "      <td>2.693687</td>\n",
       "      <td>6.10</td>\n",
       "    </tr>\n",
       "    <tr>\n",
       "      <th>362</th>\n",
       "      <td>CJ Beathard_reframed</td>\n",
       "      <td>21.561818</td>\n",
       "      <td>19.82</td>\n",
       "    </tr>\n",
       "    <tr>\n",
       "      <th>475</th>\n",
       "      <td>Carson Wentz_reframed</td>\n",
       "      <td>22.175860</td>\n",
       "      <td>24.72</td>\n",
       "    </tr>\n",
       "    <tr>\n",
       "      <th>508</th>\n",
       "      <td>Case Keenum_reframed</td>\n",
       "      <td>14.922888</td>\n",
       "      <td>8.80</td>\n",
       "    </tr>\n",
       "    <tr>\n",
       "      <th>575</th>\n",
       "      <td>Dak Prescott_reframed</td>\n",
       "      <td>16.024645</td>\n",
       "      <td>18.40</td>\n",
       "    </tr>\n",
       "    <tr>\n",
       "      <th>631</th>\n",
       "      <td>Derek Carr_reframed</td>\n",
       "      <td>28.439929</td>\n",
       "      <td>36.58</td>\n",
       "    </tr>\n",
       "    <tr>\n",
       "      <th>641</th>\n",
       "      <td>Deshaun Watson_reframed</td>\n",
       "      <td>22.913241</td>\n",
       "      <td>35.10</td>\n",
       "    </tr>\n",
       "    <tr>\n",
       "      <th>705</th>\n",
       "      <td>Drew Brees_reframed</td>\n",
       "      <td>17.361636</td>\n",
       "      <td>8.58</td>\n",
       "    </tr>\n",
       "    <tr>\n",
       "      <th>773</th>\n",
       "      <td>Eli Manning_reframed</td>\n",
       "      <td>18.761267</td>\n",
       "      <td>15.70</td>\n",
       "    </tr>\n",
       "    <tr>\n",
       "      <th>840</th>\n",
       "      <td>Jameis Winston_reframed</td>\n",
       "      <td>5.769340</td>\n",
       "      <td>8.50</td>\n",
       "    </tr>\n",
       "    <tr>\n",
       "      <th>864</th>\n",
       "      <td>Jared Goff_reframed</td>\n",
       "      <td>35.094041</td>\n",
       "      <td>42.30</td>\n",
       "    </tr>\n",
       "    <tr>\n",
       "      <th>956</th>\n",
       "      <td>Joe Flacco_reframed</td>\n",
       "      <td>25.105093</td>\n",
       "      <td>25.22</td>\n",
       "    </tr>\n",
       "    <tr>\n",
       "      <th>968</th>\n",
       "      <td>Josh Allen_reframed</td>\n",
       "      <td>6.593929</td>\n",
       "      <td>4.94</td>\n",
       "    </tr>\n",
       "    <tr>\n",
       "      <th>993</th>\n",
       "      <td>Josh Rosen_reframed</td>\n",
       "      <td>11.899777</td>\n",
       "      <td>12.50</td>\n",
       "    </tr>\n",
       "    <tr>\n",
       "      <th>1051</th>\n",
       "      <td>Kirk Cousins_reframed</td>\n",
       "      <td>26.640005</td>\n",
       "      <td>35.68</td>\n",
       "    </tr>\n",
       "    <tr>\n",
       "      <th>1103</th>\n",
       "      <td>Marcus Mariota_reframed</td>\n",
       "      <td>19.750194</td>\n",
       "      <td>34.36</td>\n",
       "    </tr>\n",
       "    <tr>\n",
       "      <th>1193</th>\n",
       "      <td>Matt Ryan_reframed</td>\n",
       "      <td>30.869598</td>\n",
       "      <td>32.26</td>\n",
       "    </tr>\n",
       "    <tr>\n",
       "      <th>1246</th>\n",
       "      <td>Matthew Stafford_reframed</td>\n",
       "      <td>22.441049</td>\n",
       "      <td>23.78</td>\n",
       "    </tr>\n",
       "    <tr>\n",
       "      <th>1268</th>\n",
       "      <td>Mitch Trubisky_reframed</td>\n",
       "      <td>31.122269</td>\n",
       "      <td>46.46</td>\n",
       "    </tr>\n",
       "    <tr>\n",
       "      <th>1294</th>\n",
       "      <td>Patrick Mahomes_reframed</td>\n",
       "      <td>22.901942</td>\n",
       "      <td>25.86</td>\n",
       "    </tr>\n",
       "    <tr>\n",
       "      <th>1355</th>\n",
       "      <td>Philip Rivers_reframed</td>\n",
       "      <td>25.704795</td>\n",
       "      <td>22.70</td>\n",
       "    </tr>\n",
       "    <tr>\n",
       "      <th>1409</th>\n",
       "      <td>Russell Wilson_reframed</td>\n",
       "      <td>11.503865</td>\n",
       "      <td>8.98</td>\n",
       "    </tr>\n",
       "    <tr>\n",
       "      <th>1446</th>\n",
       "      <td>Ryan Fitzpatrick_reframed</td>\n",
       "      <td>16.254641</td>\n",
       "      <td>4.04</td>\n",
       "    </tr>\n",
       "    <tr>\n",
       "      <th>1486</th>\n",
       "      <td>Ryan Tannehill_reframed</td>\n",
       "      <td>9.046051</td>\n",
       "      <td>2.00</td>\n",
       "    </tr>\n",
       "    <tr>\n",
       "      <th>1521</th>\n",
       "      <td>Sam Darnold_reframed</td>\n",
       "      <td>10.214084</td>\n",
       "      <td>11.48</td>\n",
       "    </tr>\n",
       "    <tr>\n",
       "      <th>1596</th>\n",
       "      <td>Tom Brady_reframed</td>\n",
       "      <td>20.805388</td>\n",
       "      <td>20.96</td>\n",
       "    </tr>\n",
       "  </tbody>\n",
       "</table>\n",
       "</div>"
      ],
      "text/plain": [
       "                           Player  Predicted  points\n",
       "47         Aaron Rodgers_reframed  19.934504   17.02\n",
       "118          Andrew Luck_reframed  32.008977   39.66\n",
       "165          Andy Dalton_reframed  26.316620   28.78\n",
       "168       Baker Mayfield_reframed  24.868369   16.80\n",
       "211   Ben Roethlisberger_reframed  19.851403   15.86\n",
       "281        Blake Bortles_reframed  22.149577   28.32\n",
       "349       Brock Osweiler_reframed   2.693687    6.10\n",
       "362          CJ Beathard_reframed  21.561818   19.82\n",
       "475         Carson Wentz_reframed  22.175860   24.72\n",
       "508          Case Keenum_reframed  14.922888    8.80\n",
       "575         Dak Prescott_reframed  16.024645   18.40\n",
       "631           Derek Carr_reframed  28.439929   36.58\n",
       "641       Deshaun Watson_reframed  22.913241   35.10\n",
       "705           Drew Brees_reframed  17.361636    8.58\n",
       "773          Eli Manning_reframed  18.761267   15.70\n",
       "840       Jameis Winston_reframed   5.769340    8.50\n",
       "864           Jared Goff_reframed  35.094041   42.30\n",
       "956           Joe Flacco_reframed  25.105093   25.22\n",
       "968           Josh Allen_reframed   6.593929    4.94\n",
       "993           Josh Rosen_reframed  11.899777   12.50\n",
       "1051        Kirk Cousins_reframed  26.640005   35.68\n",
       "1103      Marcus Mariota_reframed  19.750194   34.36\n",
       "1193           Matt Ryan_reframed  30.869598   32.26\n",
       "1246    Matthew Stafford_reframed  22.441049   23.78\n",
       "1268      Mitch Trubisky_reframed  31.122269   46.46\n",
       "1294     Patrick Mahomes_reframed  22.901942   25.86\n",
       "1355       Philip Rivers_reframed  25.704795   22.70\n",
       "1409      Russell Wilson_reframed  11.503865    8.98\n",
       "1446    Ryan Fitzpatrick_reframed  16.254641    4.04\n",
       "1486      Ryan Tannehill_reframed   9.046051    2.00\n",
       "1521         Sam Darnold_reframed  10.214084   11.48\n",
       "1596           Tom Brady_reframed  20.805388   20.96"
      ]
     },
     "execution_count": 23,
     "metadata": {},
     "output_type": "execute_result"
    }
   ],
   "source": [
    "results = pd.DataFrame()\n",
    "results['Player'] = test['player']\n",
    "#results['score'] = y_test\n",
    "results['Predicted'] = yhat\n",
    "results['points'] = test['points']\n",
    "#results['Week'] = qb[qb['year']==2017]['Week']\n",
    "#results.groupby('Player').mean()[['score','Predicted']]\n",
    "results"
   ]
  },
  {
   "cell_type": "code",
   "execution_count": 323,
   "metadata": {},
   "outputs": [
    {
     "data": {
      "text/plain": [
       "(300, 3)"
      ]
     },
     "execution_count": 323,
     "metadata": {},
     "output_type": "execute_result"
    }
   ],
   "source": [
    "results."
   ]
  },
  {
   "cell_type": "code",
   "execution_count": 24,
   "metadata": {
    "collapsed": true
   },
   "outputs": [],
   "source": [
    "results.to_csv('../output/qb_test.csv', index= False)"
   ]
  },
  {
   "cell_type": "code",
   "execution_count": null,
   "metadata": {
    "collapsed": true
   },
   "outputs": [],
   "source": []
  }
 ],
 "metadata": {
  "kernelspec": {
   "display_name": "Python 3",
   "language": "python",
   "name": "python3"
  },
  "language_info": {
   "codemirror_mode": {
    "name": "ipython",
    "version": 3
   },
   "file_extension": ".py",
   "mimetype": "text/x-python",
   "name": "python",
   "nbconvert_exporter": "python",
   "pygments_lexer": "ipython3",
   "version": "3.6.2"
  }
 },
 "nbformat": 4,
 "nbformat_minor": 2
}
