{
 "cells": [
  {
   "cell_type": "code",
   "execution_count": 1,
   "metadata": {
    "collapsed": true
   },
   "outputs": [],
   "source": [
    "import pandas as pd\n",
    "import numpy as np\n",
    "from sklearn.preprocessing import MinMaxScaler\n",
    "from sklearn.linear_model import LinearRegression\n",
    "from sklearn.preprocessing import LabelEncoder"
   ]
  },
  {
   "cell_type": "code",
   "execution_count": 2,
   "metadata": {
    "collapsed": true
   },
   "outputs": [],
   "source": [
    "qb = pd.read_csv('../input/qb/qb_stats.csv')"
   ]
  },
  {
   "cell_type": "code",
   "execution_count": 3,
   "metadata": {},
   "outputs": [
    {
     "data": {
      "text/plain": [
       "Unnamed: 0      int64\n",
       "Name           object\n",
       "Week          float64\n",
       "Opponent       object\n",
       "att_avg       float64\n",
       "comp%_avg     float64\n",
       "yds_avg       float64\n",
       "td_avg        float64\n",
       "rat_avg       float64\n",
       "def_rk_avg    float64\n",
       "att_ma        float64\n",
       "comp%_ma      float64\n",
       "yds_ma        float64\n",
       "td_ma         float64\n",
       "rat_ma        float64\n",
       "def_rk_ma     float64\n",
       "att_car       float64\n",
       "comp%_car     float64\n",
       "yds_car       float64\n",
       "td_car        float64\n",
       "rat_car       float64\n",
       "def_rk_car    float64\n",
       "games         float64\n",
       "year          float64\n",
       "def_rk        float64\n",
       "h/a_1         float64\n",
       "surface_0     float64\n",
       "points        float64\n",
       "dtype: object"
      ]
     },
     "execution_count": 3,
     "metadata": {},
     "output_type": "execute_result"
    }
   ],
   "source": [
    "\n",
    "qb.dtypes"
   ]
  },
  {
   "cell_type": "code",
   "execution_count": 6,
   "metadata": {
    "collapsed": true
   },
   "outputs": [],
   "source": [
    "def conv_atts(df):\n",
    "    df['h/a_1'] = df['h/a_1'].astype('category')\n",
    "    df['surface_0'] = df['surface_0'].astype('category')\n",
    "\n",
    "    return df"
   ]
  },
  {
   "cell_type": "code",
   "execution_count": 7,
   "metadata": {},
   "outputs": [
    {
     "data": {
      "text/plain": [
       "Unnamed: 0       int64\n",
       "Name            object\n",
       "Week           float64\n",
       "Opponent        object\n",
       "att_avg        float64\n",
       "comp%_avg      float64\n",
       "yds_avg        float64\n",
       "td_avg         float64\n",
       "rat_avg        float64\n",
       "def_rk_avg     float64\n",
       "att_ma         float64\n",
       "comp%_ma       float64\n",
       "yds_ma         float64\n",
       "td_ma          float64\n",
       "rat_ma         float64\n",
       "def_rk_ma      float64\n",
       "att_car        float64\n",
       "comp%_car      float64\n",
       "yds_car        float64\n",
       "td_car         float64\n",
       "rat_car        float64\n",
       "def_rk_car     float64\n",
       "games          float64\n",
       "year           float64\n",
       "def_rk         float64\n",
       "h/a_1         category\n",
       "surface_0     category\n",
       "points         float64\n",
       "dtype: object"
      ]
     },
     "execution_count": 7,
     "metadata": {},
     "output_type": "execute_result"
    }
   ],
   "source": [
    "qb = conv_atts(qb)\n",
    "qb.dtypes\n"
   ]
  },
  {
   "cell_type": "code",
   "execution_count": 9,
   "metadata": {},
   "outputs": [
    {
     "data": {
      "text/plain": [
       "Unnamed: 0    0\n",
       "Name          0\n",
       "Week          0\n",
       "Opponent      0\n",
       "att_avg       0\n",
       "comp%_avg     0\n",
       "yds_avg       0\n",
       "td_avg        0\n",
       "rat_avg       0\n",
       "def_rk_avg    0\n",
       "att_ma        0\n",
       "comp%_ma      0\n",
       "yds_ma        0\n",
       "td_ma         0\n",
       "rat_ma        0\n",
       "def_rk_ma     0\n",
       "att_car       0\n",
       "comp%_car     0\n",
       "yds_car       0\n",
       "td_car        0\n",
       "rat_car       0\n",
       "def_rk_car    0\n",
       "games         0\n",
       "year          0\n",
       "def_rk        0\n",
       "h/a_1         0\n",
       "surface_0     0\n",
       "points        0\n",
       "dtype: int64"
      ]
     },
     "execution_count": 9,
     "metadata": {},
     "output_type": "execute_result"
    }
   ],
   "source": [
    "qb.isnull().sum()"
   ]
  },
  {
   "cell_type": "code",
   "execution_count": 11,
   "metadata": {},
   "outputs": [
    {
     "data": {
      "text/html": [
       "<div>\n",
       "<style>\n",
       "    .dataframe thead tr:only-child th {\n",
       "        text-align: right;\n",
       "    }\n",
       "\n",
       "    .dataframe thead th {\n",
       "        text-align: left;\n",
       "    }\n",
       "\n",
       "    .dataframe tbody tr th {\n",
       "        vertical-align: top;\n",
       "    }\n",
       "</style>\n",
       "<table border=\"1\" class=\"dataframe\">\n",
       "  <thead>\n",
       "    <tr style=\"text-align: right;\">\n",
       "      <th></th>\n",
       "      <th>Unnamed: 0</th>\n",
       "      <th>Name</th>\n",
       "      <th>Week</th>\n",
       "      <th>Opponent</th>\n",
       "      <th>att_avg</th>\n",
       "      <th>comp%_avg</th>\n",
       "      <th>yds_avg</th>\n",
       "      <th>td_avg</th>\n",
       "      <th>rat_avg</th>\n",
       "      <th>def_rk_avg</th>\n",
       "      <th>...</th>\n",
       "      <th>yds_car</th>\n",
       "      <th>td_car</th>\n",
       "      <th>rat_car</th>\n",
       "      <th>def_rk_car</th>\n",
       "      <th>games</th>\n",
       "      <th>year</th>\n",
       "      <th>def_rk</th>\n",
       "      <th>h/a_1</th>\n",
       "      <th>surface_0</th>\n",
       "      <th>points</th>\n",
       "    </tr>\n",
       "  </thead>\n",
       "  <tbody>\n",
       "    <tr>\n",
       "      <th>1472</th>\n",
       "      <td>1654</td>\n",
       "      <td>Patrick Mahomes</td>\n",
       "      <td>17.0</td>\n",
       "      <td>LAC</td>\n",
       "      <td>0.0</td>\n",
       "      <td>0.00</td>\n",
       "      <td>0.00</td>\n",
       "      <td>0.00</td>\n",
       "      <td>0.00</td>\n",
       "      <td>0.0</td>\n",
       "      <td>...</td>\n",
       "      <td>0.00</td>\n",
       "      <td>0.00</td>\n",
       "      <td>0.00</td>\n",
       "      <td>0.00</td>\n",
       "      <td>2.0</td>\n",
       "      <td>2018.0</td>\n",
       "      <td>24.0</td>\n",
       "      <td>0.0</td>\n",
       "      <td>1.0</td>\n",
       "      <td>28.34</td>\n",
       "    </tr>\n",
       "    <tr>\n",
       "      <th>1473</th>\n",
       "      <td>1655</td>\n",
       "      <td>Patrick Mahomes</td>\n",
       "      <td>1.0</td>\n",
       "      <td>PIT</td>\n",
       "      <td>0.0</td>\n",
       "      <td>0.00</td>\n",
       "      <td>0.00</td>\n",
       "      <td>0.00</td>\n",
       "      <td>0.00</td>\n",
       "      <td>0.0</td>\n",
       "      <td>...</td>\n",
       "      <td>216.79</td>\n",
       "      <td>1.43</td>\n",
       "      <td>102.24</td>\n",
       "      <td>17.64</td>\n",
       "      <td>3.0</td>\n",
       "      <td>2018.0</td>\n",
       "      <td>31.0</td>\n",
       "      <td>0.0</td>\n",
       "      <td>1.0</td>\n",
       "      <td>41.84</td>\n",
       "    </tr>\n",
       "    <tr>\n",
       "      <th>1474</th>\n",
       "      <td>1656</td>\n",
       "      <td>Patrick Mahomes</td>\n",
       "      <td>2.0</td>\n",
       "      <td>SF</td>\n",
       "      <td>27.0</td>\n",
       "      <td>55.60</td>\n",
       "      <td>256.00</td>\n",
       "      <td>4.00</td>\n",
       "      <td>127.47</td>\n",
       "      <td>24.0</td>\n",
       "      <td>...</td>\n",
       "      <td>146.50</td>\n",
       "      <td>0.00</td>\n",
       "      <td>81.33</td>\n",
       "      <td>12.50</td>\n",
       "      <td>4.0</td>\n",
       "      <td>2018.0</td>\n",
       "      <td>26.0</td>\n",
       "      <td>1.0</td>\n",
       "      <td>1.0</td>\n",
       "      <td>28.26</td>\n",
       "    </tr>\n",
       "    <tr>\n",
       "      <th>1475</th>\n",
       "      <td>1657</td>\n",
       "      <td>Patrick Mahomes</td>\n",
       "      <td>3.0</td>\n",
       "      <td>DEN</td>\n",
       "      <td>27.5</td>\n",
       "      <td>68.85</td>\n",
       "      <td>291.00</td>\n",
       "      <td>5.00</td>\n",
       "      <td>141.12</td>\n",
       "      <td>27.5</td>\n",
       "      <td>...</td>\n",
       "      <td>196.67</td>\n",
       "      <td>1.00</td>\n",
       "      <td>91.81</td>\n",
       "      <td>14.67</td>\n",
       "      <td>5.0</td>\n",
       "      <td>2018.0</td>\n",
       "      <td>19.0</td>\n",
       "      <td>0.0</td>\n",
       "      <td>1.0</td>\n",
       "      <td>25.86</td>\n",
       "    </tr>\n",
       "    <tr>\n",
       "      <th>1476</th>\n",
       "      <td>1658</td>\n",
       "      <td>Patrick Mahomes</td>\n",
       "      <td>4.0</td>\n",
       "      <td>DEN</td>\n",
       "      <td>31.0</td>\n",
       "      <td>66.97</td>\n",
       "      <td>298.67</td>\n",
       "      <td>4.33</td>\n",
       "      <td>132.56</td>\n",
       "      <td>27.0</td>\n",
       "      <td>...</td>\n",
       "      <td>177.25</td>\n",
       "      <td>0.75</td>\n",
       "      <td>81.84</td>\n",
       "      <td>14.00</td>\n",
       "      <td>1.0</td>\n",
       "      <td>2017.0</td>\n",
       "      <td>10.0</td>\n",
       "      <td>0.0</td>\n",
       "      <td>1.0</td>\n",
       "      <td>11.36</td>\n",
       "    </tr>\n",
       "  </tbody>\n",
       "</table>\n",
       "<p>5 rows × 28 columns</p>\n",
       "</div>"
      ],
      "text/plain": [
       "      Unnamed: 0             Name  Week Opponent  att_avg  comp%_avg  yds_avg  \\\n",
       "1472        1654  Patrick Mahomes  17.0      LAC      0.0       0.00     0.00   \n",
       "1473        1655  Patrick Mahomes   1.0      PIT      0.0       0.00     0.00   \n",
       "1474        1656  Patrick Mahomes   2.0       SF     27.0      55.60   256.00   \n",
       "1475        1657  Patrick Mahomes   3.0      DEN     27.5      68.85   291.00   \n",
       "1476        1658  Patrick Mahomes   4.0      DEN     31.0      66.97   298.67   \n",
       "\n",
       "      td_avg  rat_avg  def_rk_avg   ...    yds_car  td_car  rat_car  \\\n",
       "1472    0.00     0.00         0.0   ...       0.00    0.00     0.00   \n",
       "1473    0.00     0.00         0.0   ...     216.79    1.43   102.24   \n",
       "1474    4.00   127.47        24.0   ...     146.50    0.00    81.33   \n",
       "1475    5.00   141.12        27.5   ...     196.67    1.00    91.81   \n",
       "1476    4.33   132.56        27.0   ...     177.25    0.75    81.84   \n",
       "\n",
       "      def_rk_car  games    year  def_rk  h/a_1  surface_0  points  \n",
       "1472        0.00    2.0  2018.0    24.0    0.0        1.0   28.34  \n",
       "1473       17.64    3.0  2018.0    31.0    0.0        1.0   41.84  \n",
       "1474       12.50    4.0  2018.0    26.0    1.0        1.0   28.26  \n",
       "1475       14.67    5.0  2018.0    19.0    0.0        1.0   25.86  \n",
       "1476       14.00    1.0  2017.0    10.0    0.0        1.0   11.36  \n",
       "\n",
       "[5 rows x 28 columns]"
      ]
     },
     "execution_count": 11,
     "metadata": {},
     "output_type": "execute_result"
    }
   ],
   "source": [
    "qb[qb['Name']=='Patrick Mahomes']"
   ]
  },
  {
   "cell_type": "code",
   "execution_count": 68,
   "metadata": {},
   "outputs": [
    {
     "data": {
      "text/plain": [
       "array([2015, 2017, 2016], dtype=int64)"
      ]
     },
     "execution_count": 68,
     "metadata": {},
     "output_type": "execute_result"
    }
   ],
   "source": [
    "train = qb[qb['year']!=2018]\n",
    "train = train[train['Week']!=4]\n",
    "train['year'].unique()"
   ]
  },
  {
   "cell_type": "code",
   "execution_count": 69,
   "metadata": {},
   "outputs": [
    {
     "data": {
      "text/plain": [
       "(1554, 30)"
      ]
     },
     "execution_count": 69,
     "metadata": {},
     "output_type": "execute_result"
    }
   ],
   "source": [
    "train.shape"
   ]
  },
  {
   "cell_type": "code",
   "execution_count": 70,
   "metadata": {},
   "outputs": [
    {
     "data": {
      "text/plain": [
       "(29, 30)"
      ]
     },
     "execution_count": 70,
     "metadata": {},
     "output_type": "execute_result"
    }
   ],
   "source": [
    "test = qb[qb['year']==2018]\n",
    "test=test[test['Week']==4]\n",
    "test.shape"
   ]
  },
  {
   "cell_type": "code",
   "execution_count": 71,
   "metadata": {},
   "outputs": [
    {
     "data": {
      "text/plain": [
       "Index(['year', 'player', 'Week', 'Opponent', 'games_avg', 'att_avg',\n",
       "       'comp%_avg', 'yds_avg', 'td_avg', 'rat_avg', 'def_rk_avg', 'games_ma',\n",
       "       'att_ma', 'comp%_ma', 'yds_ma', 'td_ma', 'rat_ma', 'def_rk_ma',\n",
       "       'games_car', 'att_car', 'comp%_car', 'yds_car', 'td_car', 'rat_car',\n",
       "       'def_rk_car', 'def_rk', 'h/a_1', 'surface_0', 'salary', 'points'],\n",
       "      dtype='object')"
      ]
     },
     "execution_count": 71,
     "metadata": {},
     "output_type": "execute_result"
    }
   ],
   "source": [
    "test.columns"
   ]
  },
  {
   "cell_type": "code",
   "execution_count": 72,
   "metadata": {
    "collapsed": true
   },
   "outputs": [],
   "source": [
    "# Target variables \n",
    "\n",
    "y_train = train['points']\n",
    "y_test = test['points']\n",
    "\n",
    "# Predictors, all numeric variables minus target variable\n",
    "X_train = train.iloc[:,4:-2]\n",
    "X_test = test.iloc[:,4:-2]"
   ]
  },
  {
   "cell_type": "code",
   "execution_count": 73,
   "metadata": {},
   "outputs": [
    {
     "data": {
      "text/plain": [
       "Index(['games_avg', 'att_avg', 'comp%_avg', 'yds_avg', 'td_avg', 'rat_avg',\n",
       "       'def_rk_avg', 'games_ma', 'att_ma', 'comp%_ma', 'yds_ma', 'td_ma',\n",
       "       'rat_ma', 'def_rk_ma', 'games_car', 'att_car', 'comp%_car', 'yds_car',\n",
       "       'td_car', 'rat_car', 'def_rk_car', 'def_rk', 'h/a_1', 'surface_0'],\n",
       "      dtype='object')"
      ]
     },
     "execution_count": 73,
     "metadata": {},
     "output_type": "execute_result"
    }
   ],
   "source": [
    "\n",
    "X_test.columns"
   ]
  },
  {
   "cell_type": "code",
   "execution_count": 90,
   "metadata": {},
   "outputs": [
    {
     "data": {
      "text/plain": [
       "array([[ 0.        ,  1.        ,  0.0070922 , ...,  0.        ,\n",
       "         0.51998093,  0.14457831],\n",
       "       [ 0.01960784,  0.8335    ,  0.02600473, ...,  0.19142857,\n",
       "         0.5486886 ,  0.39759036],\n",
       "       [ 0.21568627,  0.785     ,  0.23799054, ...,  0.21428571,\n",
       "         0.62250835,  0.5       ],\n",
       "       ..., \n",
       "       [ 0.46411765,  0.6547    ,  0.33174941, ...,  0.21428571,\n",
       "         0.48526466,  0.81325301],\n",
       "       [ 0.48039216,  0.6695    ,  0.39184397, ...,  0.22857143,\n",
       "         0.45808298,  0.85542169],\n",
       "       [ 0.58039216,  0.6414    ,  0.42411348, ...,  0.19142857,\n",
       "         0.36185026,  0.8253012 ]])"
      ]
     },
     "execution_count": 90,
     "metadata": {},
     "output_type": "execute_result"
    }
   ],
   "source": [
    "scaler = MinMaxScaler()\n",
    "scaler.fit_transform(X_train)"
   ]
  },
  {
   "cell_type": "code",
   "execution_count": 74,
   "metadata": {},
   "outputs": [
    {
     "data": {
      "text/plain": [
       "(29, 24)"
      ]
     },
     "execution_count": 74,
     "metadata": {},
     "output_type": "execute_result"
    }
   ],
   "source": [
    "X_test.shape"
   ]
  },
  {
   "cell_type": "code",
   "execution_count": 75,
   "metadata": {},
   "outputs": [
    {
     "data": {
      "text/plain": [
       "(1554, 24)"
      ]
     },
     "execution_count": 75,
     "metadata": {},
     "output_type": "execute_result"
    }
   ],
   "source": [
    "X_train.shape"
   ]
  },
  {
   "cell_type": "code",
   "execution_count": 16,
   "metadata": {
    "collapsed": true
   },
   "outputs": [],
   "source": [
    "y_train.reset_index(inplace=True,drop=True)\n",
    "X_train.reset_index(inplace=True, drop=True)"
   ]
  },
  {
   "cell_type": "code",
   "execution_count": 76,
   "metadata": {
    "collapsed": true
   },
   "outputs": [],
   "source": [
    "lr = LinearRegression()"
   ]
  },
  {
   "cell_type": "code",
   "execution_count": 77,
   "metadata": {},
   "outputs": [
    {
     "data": {
      "text/plain": [
       "LinearRegression(copy_X=True, fit_intercept=True, n_jobs=1, normalize=False)"
      ]
     },
     "execution_count": 77,
     "metadata": {},
     "output_type": "execute_result"
    }
   ],
   "source": [
    "lr.fit(X_train,y_train)"
   ]
  },
  {
   "cell_type": "code",
   "execution_count": 78,
   "metadata": {},
   "outputs": [
    {
     "data": {
      "text/html": [
       "<div>\n",
       "<style>\n",
       "    .dataframe thead tr:only-child th {\n",
       "        text-align: right;\n",
       "    }\n",
       "\n",
       "    .dataframe thead th {\n",
       "        text-align: left;\n",
       "    }\n",
       "\n",
       "    .dataframe tbody tr th {\n",
       "        vertical-align: top;\n",
       "    }\n",
       "</style>\n",
       "<table border=\"1\" class=\"dataframe\">\n",
       "  <thead>\n",
       "    <tr style=\"text-align: right;\">\n",
       "      <th></th>\n",
       "      <th>0</th>\n",
       "      <th>coefficients</th>\n",
       "    </tr>\n",
       "  </thead>\n",
       "  <tbody>\n",
       "    <tr>\n",
       "      <th>0</th>\n",
       "      <td>games_avg</td>\n",
       "      <td>-1.557618</td>\n",
       "    </tr>\n",
       "    <tr>\n",
       "      <th>1</th>\n",
       "      <td>att_avg</td>\n",
       "      <td>0.069540</td>\n",
       "    </tr>\n",
       "    <tr>\n",
       "      <th>2</th>\n",
       "      <td>comp%_avg</td>\n",
       "      <td>0.094842</td>\n",
       "    </tr>\n",
       "    <tr>\n",
       "      <th>3</th>\n",
       "      <td>yds_avg</td>\n",
       "      <td>0.011553</td>\n",
       "    </tr>\n",
       "    <tr>\n",
       "      <th>4</th>\n",
       "      <td>td_avg</td>\n",
       "      <td>1.067263</td>\n",
       "    </tr>\n",
       "    <tr>\n",
       "      <th>5</th>\n",
       "      <td>rat_avg</td>\n",
       "      <td>-0.096874</td>\n",
       "    </tr>\n",
       "    <tr>\n",
       "      <th>6</th>\n",
       "      <td>def_rk_avg</td>\n",
       "      <td>0.040532</td>\n",
       "    </tr>\n",
       "    <tr>\n",
       "      <th>7</th>\n",
       "      <td>games_ma</td>\n",
       "      <td>-0.086614</td>\n",
       "    </tr>\n",
       "    <tr>\n",
       "      <th>8</th>\n",
       "      <td>att_ma</td>\n",
       "      <td>-0.216187</td>\n",
       "    </tr>\n",
       "    <tr>\n",
       "      <th>9</th>\n",
       "      <td>comp%_ma</td>\n",
       "      <td>0.118289</td>\n",
       "    </tr>\n",
       "    <tr>\n",
       "      <th>10</th>\n",
       "      <td>yds_ma</td>\n",
       "      <td>0.001655</td>\n",
       "    </tr>\n",
       "    <tr>\n",
       "      <th>11</th>\n",
       "      <td>td_ma</td>\n",
       "      <td>3.743741</td>\n",
       "    </tr>\n",
       "    <tr>\n",
       "      <th>12</th>\n",
       "      <td>rat_ma</td>\n",
       "      <td>-0.065478</td>\n",
       "    </tr>\n",
       "    <tr>\n",
       "      <th>13</th>\n",
       "      <td>def_rk_ma</td>\n",
       "      <td>0.104408</td>\n",
       "    </tr>\n",
       "    <tr>\n",
       "      <th>14</th>\n",
       "      <td>games_car</td>\n",
       "      <td>1.646770</td>\n",
       "    </tr>\n",
       "    <tr>\n",
       "      <th>15</th>\n",
       "      <td>att_car</td>\n",
       "      <td>-0.029742</td>\n",
       "    </tr>\n",
       "    <tr>\n",
       "      <th>16</th>\n",
       "      <td>comp%_car</td>\n",
       "      <td>-0.147506</td>\n",
       "    </tr>\n",
       "    <tr>\n",
       "      <th>17</th>\n",
       "      <td>yds_car</td>\n",
       "      <td>0.024927</td>\n",
       "    </tr>\n",
       "    <tr>\n",
       "      <th>18</th>\n",
       "      <td>td_car</td>\n",
       "      <td>-1.683899</td>\n",
       "    </tr>\n",
       "    <tr>\n",
       "      <th>19</th>\n",
       "      <td>rat_car</td>\n",
       "      <td>0.124073</td>\n",
       "    </tr>\n",
       "    <tr>\n",
       "      <th>20</th>\n",
       "      <td>def_rk_car</td>\n",
       "      <td>-0.179305</td>\n",
       "    </tr>\n",
       "    <tr>\n",
       "      <th>21</th>\n",
       "      <td>def_rk</td>\n",
       "      <td>0.225534</td>\n",
       "    </tr>\n",
       "    <tr>\n",
       "      <th>22</th>\n",
       "      <td>h/a_1</td>\n",
       "      <td>1.369738</td>\n",
       "    </tr>\n",
       "    <tr>\n",
       "      <th>23</th>\n",
       "      <td>surface_0</td>\n",
       "      <td>-0.707260</td>\n",
       "    </tr>\n",
       "  </tbody>\n",
       "</table>\n",
       "</div>"
      ],
      "text/plain": [
       "             0  coefficients\n",
       "0    games_avg     -1.557618\n",
       "1      att_avg      0.069540\n",
       "2    comp%_avg      0.094842\n",
       "3      yds_avg      0.011553\n",
       "4       td_avg      1.067263\n",
       "5      rat_avg     -0.096874\n",
       "6   def_rk_avg      0.040532\n",
       "7     games_ma     -0.086614\n",
       "8       att_ma     -0.216187\n",
       "9     comp%_ma      0.118289\n",
       "10      yds_ma      0.001655\n",
       "11       td_ma      3.743741\n",
       "12      rat_ma     -0.065478\n",
       "13   def_rk_ma      0.104408\n",
       "14   games_car      1.646770\n",
       "15     att_car     -0.029742\n",
       "16   comp%_car     -0.147506\n",
       "17     yds_car      0.024927\n",
       "18      td_car     -1.683899\n",
       "19     rat_car      0.124073\n",
       "20  def_rk_car     -0.179305\n",
       "21      def_rk      0.225534\n",
       "22       h/a_1      1.369738\n",
       "23   surface_0     -0.707260"
      ]
     },
     "execution_count": 78,
     "metadata": {},
     "output_type": "execute_result"
    }
   ],
   "source": [
    "coeff = pd.DataFrame(X_train.columns)\n",
    "coeff['coefficients'] = lr.coef_\n",
    "coeff\n",
    "\n"
   ]
  },
  {
   "cell_type": "code",
   "execution_count": 79,
   "metadata": {},
   "outputs": [
    {
     "data": {
      "text/plain": [
       "(1554, 24)"
      ]
     },
     "execution_count": 79,
     "metadata": {},
     "output_type": "execute_result"
    }
   ],
   "source": [
    "X_train.shape"
   ]
  },
  {
   "cell_type": "code",
   "execution_count": 80,
   "metadata": {
    "collapsed": true
   },
   "outputs": [],
   "source": [
    "yhat = lr.predict(X_test)"
   ]
  },
  {
   "cell_type": "code",
   "execution_count": 81,
   "metadata": {},
   "outputs": [
    {
     "name": "stdout",
     "output_type": "stream",
     "text": [
      "RMSE error is: 11.886112724\n"
     ]
    }
   ],
   "source": [
    "def rmse(predictions, targets):\n",
    "    return np.sqrt(((predictions - targets) ** 2).mean())\n",
    "\n",
    "rmse_val = rmse(yhat, y_test)\n",
    "print(\"RMSE error is: \" + str(rmse_val))"
   ]
  },
  {
   "cell_type": "code",
   "execution_count": 82,
   "metadata": {},
   "outputs": [
    {
     "data": {
      "text/html": [
       "<div>\n",
       "<style>\n",
       "    .dataframe thead tr:only-child th {\n",
       "        text-align: right;\n",
       "    }\n",
       "\n",
       "    .dataframe thead th {\n",
       "        text-align: left;\n",
       "    }\n",
       "\n",
       "    .dataframe tbody tr th {\n",
       "        vertical-align: top;\n",
       "    }\n",
       "</style>\n",
       "<table border=\"1\" class=\"dataframe\">\n",
       "  <thead>\n",
       "    <tr style=\"text-align: right;\">\n",
       "      <th></th>\n",
       "      <th>Player</th>\n",
       "      <th>Predicted</th>\n",
       "      <th>points</th>\n",
       "    </tr>\n",
       "  </thead>\n",
       "  <tbody>\n",
       "    <tr>\n",
       "      <th>49</th>\n",
       "      <td>Aaron Rodgers_reframed</td>\n",
       "      <td>20.573807</td>\n",
       "      <td>17.02</td>\n",
       "    </tr>\n",
       "    <tr>\n",
       "      <th>123</th>\n",
       "      <td>Andrew Luck_reframed</td>\n",
       "      <td>19.606521</td>\n",
       "      <td>39.66</td>\n",
       "    </tr>\n",
       "    <tr>\n",
       "      <th>171</th>\n",
       "      <td>Andy Dalton_reframed</td>\n",
       "      <td>24.064387</td>\n",
       "      <td>28.78</td>\n",
       "    </tr>\n",
       "    <tr>\n",
       "      <th>177</th>\n",
       "      <td>Baker Mayfield_reframed</td>\n",
       "      <td>14.830017</td>\n",
       "      <td>16.80</td>\n",
       "    </tr>\n",
       "    <tr>\n",
       "      <th>221</th>\n",
       "      <td>Ben Roethlisberger_reframed</td>\n",
       "      <td>20.109991</td>\n",
       "      <td>15.86</td>\n",
       "    </tr>\n",
       "    <tr>\n",
       "      <th>293</th>\n",
       "      <td>Blake Bortles_reframed</td>\n",
       "      <td>17.671645</td>\n",
       "      <td>28.32</td>\n",
       "    </tr>\n",
       "    <tr>\n",
       "      <th>497</th>\n",
       "      <td>Carson Wentz_reframed</td>\n",
       "      <td>18.251134</td>\n",
       "      <td>24.72</td>\n",
       "    </tr>\n",
       "    <tr>\n",
       "      <th>531</th>\n",
       "      <td>Case Keenum_reframed</td>\n",
       "      <td>22.272994</td>\n",
       "      <td>8.80</td>\n",
       "    </tr>\n",
       "    <tr>\n",
       "      <th>606</th>\n",
       "      <td>Dak Prescott_reframed</td>\n",
       "      <td>14.274891</td>\n",
       "      <td>18.40</td>\n",
       "    </tr>\n",
       "    <tr>\n",
       "      <th>666</th>\n",
       "      <td>Derek Carr_reframed</td>\n",
       "      <td>22.945548</td>\n",
       "      <td>36.58</td>\n",
       "    </tr>\n",
       "    <tr>\n",
       "      <th>677</th>\n",
       "      <td>Deshaun Watson_reframed</td>\n",
       "      <td>18.536891</td>\n",
       "      <td>35.10</td>\n",
       "    </tr>\n",
       "    <tr>\n",
       "      <th>743</th>\n",
       "      <td>Drew Brees_reframed</td>\n",
       "      <td>21.044687</td>\n",
       "      <td>8.58</td>\n",
       "    </tr>\n",
       "    <tr>\n",
       "      <th>814</th>\n",
       "      <td>Eli Manning_reframed</td>\n",
       "      <td>24.792723</td>\n",
       "      <td>15.70</td>\n",
       "    </tr>\n",
       "    <tr>\n",
       "      <th>910</th>\n",
       "      <td>Jared Goff_reframed</td>\n",
       "      <td>21.670753</td>\n",
       "      <td>42.30</td>\n",
       "    </tr>\n",
       "    <tr>\n",
       "      <th>1007</th>\n",
       "      <td>Joe Flacco_reframed</td>\n",
       "      <td>22.304024</td>\n",
       "      <td>25.22</td>\n",
       "    </tr>\n",
       "    <tr>\n",
       "      <th>1022</th>\n",
       "      <td>Josh Allen_reframed</td>\n",
       "      <td>12.100147</td>\n",
       "      <td>4.94</td>\n",
       "    </tr>\n",
       "    <tr>\n",
       "      <th>1050</th>\n",
       "      <td>Josh Rosen_reframed</td>\n",
       "      <td>5.372348</td>\n",
       "      <td>12.50</td>\n",
       "    </tr>\n",
       "    <tr>\n",
       "      <th>1112</th>\n",
       "      <td>Kirk Cousins_reframed</td>\n",
       "      <td>17.064334</td>\n",
       "      <td>35.68</td>\n",
       "    </tr>\n",
       "    <tr>\n",
       "      <th>1168</th>\n",
       "      <td>Marcus Mariota_reframed</td>\n",
       "      <td>18.549693</td>\n",
       "      <td>34.36</td>\n",
       "    </tr>\n",
       "    <tr>\n",
       "      <th>1265</th>\n",
       "      <td>Matt Ryan_reframed</td>\n",
       "      <td>24.913490</td>\n",
       "      <td>32.26</td>\n",
       "    </tr>\n",
       "    <tr>\n",
       "      <th>1320</th>\n",
       "      <td>Matthew Stafford_reframed</td>\n",
       "      <td>21.049755</td>\n",
       "      <td>23.78</td>\n",
       "    </tr>\n",
       "    <tr>\n",
       "      <th>1345</th>\n",
       "      <td>Mitch Trubisky_reframed</td>\n",
       "      <td>19.753895</td>\n",
       "      <td>46.46</td>\n",
       "    </tr>\n",
       "    <tr>\n",
       "      <th>1375</th>\n",
       "      <td>Patrick Mahomes_reframed</td>\n",
       "      <td>15.725732</td>\n",
       "      <td>25.86</td>\n",
       "    </tr>\n",
       "    <tr>\n",
       "      <th>1439</th>\n",
       "      <td>Philip Rivers_reframed</td>\n",
       "      <td>24.175494</td>\n",
       "      <td>22.70</td>\n",
       "    </tr>\n",
       "    <tr>\n",
       "      <th>1495</th>\n",
       "      <td>Russell Wilson_reframed</td>\n",
       "      <td>16.196133</td>\n",
       "      <td>8.98</td>\n",
       "    </tr>\n",
       "    <tr>\n",
       "      <th>1533</th>\n",
       "      <td>Ryan Fitzpatrick_reframed</td>\n",
       "      <td>19.723250</td>\n",
       "      <td>4.04</td>\n",
       "    </tr>\n",
       "    <tr>\n",
       "      <th>1577</th>\n",
       "      <td>Ryan Tannehill_reframed</td>\n",
       "      <td>18.185383</td>\n",
       "      <td>2.00</td>\n",
       "    </tr>\n",
       "    <tr>\n",
       "      <th>1614</th>\n",
       "      <td>Sam Darnold_reframed</td>\n",
       "      <td>12.919849</td>\n",
       "      <td>11.48</td>\n",
       "    </tr>\n",
       "    <tr>\n",
       "      <th>1698</th>\n",
       "      <td>Tom Brady_reframed</td>\n",
       "      <td>17.516351</td>\n",
       "      <td>20.96</td>\n",
       "    </tr>\n",
       "  </tbody>\n",
       "</table>\n",
       "</div>"
      ],
      "text/plain": [
       "                           Player  Predicted  points\n",
       "49         Aaron Rodgers_reframed  20.573807   17.02\n",
       "123          Andrew Luck_reframed  19.606521   39.66\n",
       "171          Andy Dalton_reframed  24.064387   28.78\n",
       "177       Baker Mayfield_reframed  14.830017   16.80\n",
       "221   Ben Roethlisberger_reframed  20.109991   15.86\n",
       "293        Blake Bortles_reframed  17.671645   28.32\n",
       "497         Carson Wentz_reframed  18.251134   24.72\n",
       "531          Case Keenum_reframed  22.272994    8.80\n",
       "606         Dak Prescott_reframed  14.274891   18.40\n",
       "666           Derek Carr_reframed  22.945548   36.58\n",
       "677       Deshaun Watson_reframed  18.536891   35.10\n",
       "743           Drew Brees_reframed  21.044687    8.58\n",
       "814          Eli Manning_reframed  24.792723   15.70\n",
       "910           Jared Goff_reframed  21.670753   42.30\n",
       "1007          Joe Flacco_reframed  22.304024   25.22\n",
       "1022          Josh Allen_reframed  12.100147    4.94\n",
       "1050          Josh Rosen_reframed   5.372348   12.50\n",
       "1112        Kirk Cousins_reframed  17.064334   35.68\n",
       "1168      Marcus Mariota_reframed  18.549693   34.36\n",
       "1265           Matt Ryan_reframed  24.913490   32.26\n",
       "1320    Matthew Stafford_reframed  21.049755   23.78\n",
       "1345      Mitch Trubisky_reframed  19.753895   46.46\n",
       "1375     Patrick Mahomes_reframed  15.725732   25.86\n",
       "1439       Philip Rivers_reframed  24.175494   22.70\n",
       "1495      Russell Wilson_reframed  16.196133    8.98\n",
       "1533    Ryan Fitzpatrick_reframed  19.723250    4.04\n",
       "1577      Ryan Tannehill_reframed  18.185383    2.00\n",
       "1614         Sam Darnold_reframed  12.919849   11.48\n",
       "1698           Tom Brady_reframed  17.516351   20.96"
      ]
     },
     "execution_count": 82,
     "metadata": {},
     "output_type": "execute_result"
    }
   ],
   "source": [
    "results = pd.DataFrame()\n",
    "results['Player'] = test['player']\n",
    "#results['score'] = y_test\n",
    "results['Predicted'] = yhat\n",
    "results['points'] = test['points']\n",
    "#results['Week'] = qb[qb['year']==2017]['Week']\n",
    "#results.groupby('Player').mean()[['score','Predicted']]\n",
    "results"
   ]
  },
  {
   "cell_type": "code",
   "execution_count": 83,
   "metadata": {},
   "outputs": [
    {
     "ename": "SyntaxError",
     "evalue": "invalid syntax (<ipython-input-83-905f1e55433b>, line 1)",
     "output_type": "error",
     "traceback": [
      "\u001b[1;36m  File \u001b[1;32m\"<ipython-input-83-905f1e55433b>\"\u001b[1;36m, line \u001b[1;32m1\u001b[0m\n\u001b[1;33m    results.\u001b[0m\n\u001b[1;37m            ^\u001b[0m\n\u001b[1;31mSyntaxError\u001b[0m\u001b[1;31m:\u001b[0m invalid syntax\n"
     ]
    }
   ],
   "source": [
    "results."
   ]
  },
  {
   "cell_type": "code",
   "execution_count": 24,
   "metadata": {
    "collapsed": true
   },
   "outputs": [],
   "source": [
    "results.to_csv('../output/qb_test.csv', index= False)"
   ]
  },
  {
   "cell_type": "code",
   "execution_count": null,
   "metadata": {
    "collapsed": true
   },
   "outputs": [],
   "source": []
  }
 ],
 "metadata": {
  "kernelspec": {
   "display_name": "Python 3",
   "language": "python",
   "name": "python3"
  },
  "language_info": {
   "codemirror_mode": {
    "name": "ipython",
    "version": 3
   },
   "file_extension": ".py",
   "mimetype": "text/x-python",
   "name": "python",
   "nbconvert_exporter": "python",
   "pygments_lexer": "ipython3",
   "version": "3.6.2"
  }
 },
 "nbformat": 4,
 "nbformat_minor": 2
}
