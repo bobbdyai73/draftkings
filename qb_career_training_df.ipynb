{
 "cells": [
  {
   "cell_type": "markdown",
   "metadata": {},
   "source": [
    "##  CAREER STATS"
   ]
  },
  {
   "cell_type": "markdown",
   "metadata": {},
   "source": [
    "### This program is designed to create a single dataframe compiled of the carrer stats of every NFL skill position player that competed in the 2012 season. The program has two parts, the first is to create a dataframe comprised of the career stats of the 2012 qbs through the 2011 season. The next step is too use the carrer stats as the initial state of a player's moving average for all relevant characteristics from the 2012 through the 2017 NFL seasons"
   ]
  },
  {
   "cell_type": "code",
   "execution_count": 4,
   "metadata": {
    "collapsed": true
   },
   "outputs": [],
   "source": [
    "# Import packages\n",
    "import pandas as pd\n",
    "import numpy as np"
   ]
  },
  {
   "cell_type": "code",
   "execution_count": 5,
   "metadata": {
    "collapsed": true
   },
   "outputs": [],
   "source": [
    "# read in player's statistical data from the 2012 -2017 NFL seasons\n",
    "df = pd.read_csv('input/qb/dk_qb_stats-Copy1.csv')"
   ]
  },
  {
   "cell_type": "code",
   "execution_count": 10,
   "metadata": {
    "collapsed": true
   },
   "outputs": [],
   "source": [
    "# Read in career data of NFL player stats\n",
    "rushing = pd.read_csv('input/qb/Career_Stats_Rushing-Copy1.csv')\n",
    "passing= pd.read_csv('input/qb/Career_Stats_Passing-Copy1.csv')\n",
    "receiving = pd.read_csv('input/qb/Career_Stats_Receiving-Copy1.csv')"
   ]
  },
  {
   "cell_type": "code",
   "execution_count": 11,
   "metadata": {
    "collapsed": true
   },
   "outputs": [],
   "source": [
    "\"\"\" A Function designed to parse career NFL data into useable form for implemntation into qb_career_stats dataframe\"\"\"\n",
    "\n",
    "\n",
    "\n",
    "def parse_nfl_stats(df):\n",
    "    df = df.drop('Player Id', axis=1) # Drop player id from dataframe\n",
    "    df['Name'] = df['Name'].apply(lambda x: x.split(','))# Split name attribute of every observation by the comma \n",
    "    df['Name'] = (df['Name'].apply(lambda x: (x[1] + ' ' + x[0]).strip())) # reverse the name to match carrer_stats dataframe\n",
    "    df.reset_index(inplace=True)\n",
    "    df.drop('index', axis=1, inplace=True)\n",
    "    df.rename(columns=lambda x: x.strip())\n",
    "    return df\n",
    "\n",
    "receiving = parse_nfl_stats(receiving)\n",
    "rushing = parse_nfl_stats(rushing)\n",
    "passing = parse_nfl_stats(passing)\n",
    "\n",
    "\n",
    "\n"
   ]
  },
  {
   "cell_type": "code",
   "execution_count": 12,
   "metadata": {
    "collapsed": true
   },
   "outputs": [],
   "source": [
    "rushing.rename(columns=lambda x: x.strip(), inplace =True)\n",
    "passing.rename(columns=lambda x: x.strip(), inplace =True)\n",
    "receiving.rename(columns=lambda x: x.strip(), inplace =True)"
   ]
  },
  {
   "cell_type": "code",
   "execution_count": 13,
   "metadata": {
    "collapsed": true
   },
   "outputs": [],
   "source": [
    "drop_rush = ['Rushing Attempts Per Game','Yards Per Carry','Rushing Yards Per Game','Longest Rushing Run',\n",
    "             'Rushing First Downs','Percentage of Rushing First Downs',\n",
    "             'Rushing More Than 20 Yards','Rushing More Than 40 Yards']\n",
    "rushing.drop(drop_rush, axis=1, inplace=True)"
   ]
  },
  {
   "cell_type": "code",
   "execution_count": 14,
   "metadata": {
    "collapsed": true
   },
   "outputs": [],
   "source": [
    "drop_pass = ['Passing Yards Per Attempt', 'Completion Percentage','Percentage of TDs per Attempts', 'Pass Attempts Per Game','Passing Yards Per Game','Int Rate','Longest Pass',\n",
    "       'Passes Longer than 20 Yards', 'Passes Longer than 40 Yards', 'Sacks',\n",
    "       'Sacked Yards Lost','Passer Rating' ]\n",
    "passing.drop(drop_pass, axis=1, inplace=True)"
   ]
  },
  {
   "cell_type": "code",
   "execution_count": 15,
   "metadata": {
    "collapsed": true
   },
   "outputs": [],
   "source": [
    "drop_rec = ['Yards Per Game','Yards Per Reception','Longest Reception',\n",
    "                    'Receptions Longer than 20 Yards','Receptions Longer than 40 Yards','First Down Receptions']\n",
    "receiving.drop(drop_rec, axis =1, inplace=True)"
   ]
  },
  {
   "cell_type": "code",
   "execution_count": 16,
   "metadata": {
    "collapsed": true
   },
   "outputs": [],
   "source": [
    "\"\"\"A function designed to change data type of every integer attribute to float 32. Neccessary for groupby function\"\"\"\n",
    "\n",
    "def float_32(df):\n",
    "    strings = ['Name','Position','Team'] # Define columns to be unchanged\n",
    "    temp = df[strings]  # store string variables in temporary dataframe\n",
    "    df = df.drop(strings, axis =1) # drop string variables from original dataframe\n",
    "    df = df.apply(lambda x: pd.to_numeric(x.astype(str).str.replace(',',''), errors='coerce')).astype('float32') # command to repalce all commas in integers so column dtypes can be changed\n",
    "    df = pd.merge(temp, df, how='outer', left_index=True, right_index=True) # Merge temp df and altered df\n",
    "    df = df[df['Year'] > 1999]\n",
    "    df = df[df['Year']< 2012]\n",
    "    df.reset_index(inplace=True)\n",
    "    df.drop('index', axis =1 , inplace=True)\n",
    "\n",
    "    return df\n",
    "\n",
    "rushing = float_32(rushing)\n",
    "receiving = float_32(receiving)\n",
    "passing = float_32(passing)"
   ]
  },
  {
   "cell_type": "code",
   "execution_count": 17,
   "metadata": {},
   "outputs": [
    {
     "data": {
      "text/html": [
       "<div>\n",
       "<style>\n",
       "    .dataframe thead tr:only-child th {\n",
       "        text-align: right;\n",
       "    }\n",
       "\n",
       "    .dataframe thead th {\n",
       "        text-align: left;\n",
       "    }\n",
       "\n",
       "    .dataframe tbody tr th {\n",
       "        vertical-align: top;\n",
       "    }\n",
       "</style>\n",
       "<table border=\"1\" class=\"dataframe\">\n",
       "  <thead>\n",
       "    <tr style=\"text-align: right;\">\n",
       "      <th></th>\n",
       "      <th>Name</th>\n",
       "      <th>Position</th>\n",
       "      <th>Team</th>\n",
       "      <th>Year</th>\n",
       "      <th>Games Played</th>\n",
       "      <th>Passes Attempted</th>\n",
       "      <th>Passes Completed</th>\n",
       "      <th>Passing Yards</th>\n",
       "      <th>TD Passes</th>\n",
       "      <th>Ints</th>\n",
       "    </tr>\n",
       "  </thead>\n",
       "  <tbody>\n",
       "    <tr>\n",
       "      <th>0</th>\n",
       "      <td>Tommy Maddox</td>\n",
       "      <td>NaN</td>\n",
       "      <td>Pittsburgh Steelers</td>\n",
       "      <td>2005.0</td>\n",
       "      <td>4.0</td>\n",
       "      <td>71.0</td>\n",
       "      <td>34.0</td>\n",
       "      <td>406.0</td>\n",
       "      <td>2.0</td>\n",
       "      <td>4.0</td>\n",
       "    </tr>\n",
       "    <tr>\n",
       "      <th>1</th>\n",
       "      <td>Tommy Maddox</td>\n",
       "      <td>NaN</td>\n",
       "      <td>Pittsburgh Steelers</td>\n",
       "      <td>2004.0</td>\n",
       "      <td>4.0</td>\n",
       "      <td>60.0</td>\n",
       "      <td>30.0</td>\n",
       "      <td>329.0</td>\n",
       "      <td>1.0</td>\n",
       "      <td>2.0</td>\n",
       "    </tr>\n",
       "    <tr>\n",
       "      <th>2</th>\n",
       "      <td>Tommy Maddox</td>\n",
       "      <td>NaN</td>\n",
       "      <td>Pittsburgh Steelers</td>\n",
       "      <td>2003.0</td>\n",
       "      <td>16.0</td>\n",
       "      <td>519.0</td>\n",
       "      <td>298.0</td>\n",
       "      <td>3414.0</td>\n",
       "      <td>18.0</td>\n",
       "      <td>17.0</td>\n",
       "    </tr>\n",
       "    <tr>\n",
       "      <th>3</th>\n",
       "      <td>Tommy Maddox</td>\n",
       "      <td>NaN</td>\n",
       "      <td>Pittsburgh Steelers</td>\n",
       "      <td>2002.0</td>\n",
       "      <td>15.0</td>\n",
       "      <td>377.0</td>\n",
       "      <td>234.0</td>\n",
       "      <td>2836.0</td>\n",
       "      <td>20.0</td>\n",
       "      <td>16.0</td>\n",
       "    </tr>\n",
       "    <tr>\n",
       "      <th>4</th>\n",
       "      <td>Tommy Maddox</td>\n",
       "      <td>NaN</td>\n",
       "      <td>Pittsburgh Steelers</td>\n",
       "      <td>2001.0</td>\n",
       "      <td>3.0</td>\n",
       "      <td>9.0</td>\n",
       "      <td>7.0</td>\n",
       "      <td>154.0</td>\n",
       "      <td>1.0</td>\n",
       "      <td>1.0</td>\n",
       "    </tr>\n",
       "  </tbody>\n",
       "</table>\n",
       "</div>"
      ],
      "text/plain": [
       "           Name Position                 Team    Year  Games Played  \\\n",
       "0  Tommy Maddox      NaN  Pittsburgh Steelers  2005.0           4.0   \n",
       "1  Tommy Maddox      NaN  Pittsburgh Steelers  2004.0           4.0   \n",
       "2  Tommy Maddox      NaN  Pittsburgh Steelers  2003.0          16.0   \n",
       "3  Tommy Maddox      NaN  Pittsburgh Steelers  2002.0          15.0   \n",
       "4  Tommy Maddox      NaN  Pittsburgh Steelers  2001.0           3.0   \n",
       "\n",
       "   Passes Attempted  Passes Completed  Passing Yards  TD Passes  Ints  \n",
       "0              71.0              34.0          406.0        2.0   4.0  \n",
       "1              60.0              30.0          329.0        1.0   2.0  \n",
       "2             519.0             298.0         3414.0       18.0  17.0  \n",
       "3             377.0             234.0         2836.0       20.0  16.0  \n",
       "4               9.0               7.0          154.0        1.0   1.0  "
      ]
     },
     "execution_count": 17,
     "metadata": {},
     "output_type": "execute_result"
    }
   ],
   "source": [
    "passing.head()"
   ]
  },
  {
   "cell_type": "code",
   "execution_count": 23,
   "metadata": {},
   "outputs": [],
   "source": [
    "\"\"\"The career dataset being used has no value for the position attribute. \n",
    "This function defines which players in the career dataset are quarterbacks by matching the palyers inmy quarterbacks\n",
    "2012 dataset with the players in my career dataset\"\"\"\n",
    "\n",
    "indices = []\n",
    "for idx,name in enumerate(passing['Name']):\n",
    "    if name not in players:\n",
    "        indices.append(idx)\n",
    "\n",
    "passing.drop(indices, inplace = True)\n",
    "passing['Position'] = 'QB'\n",
    "passing.reset_index(inplace=True,drop=True)"
   ]
  },
  {
   "cell_type": "code",
   "execution_count": 24,
   "metadata": {},
   "outputs": [
    {
     "name": "stderr",
     "output_type": "stream",
     "text": [
      "C:\\Users\\bobal\\Anaconda2\\envs\\py36\\lib\\site-packages\\ipykernel_launcher.py:3: SettingWithCopyWarning: \n",
      "A value is trying to be set on a copy of a slice from a DataFrame.\n",
      "Try using .loc[row_indexer,col_indexer] = value instead\n",
      "\n",
      "See the caveats in the documentation: http://pandas.pydata.org/pandas-docs/stable/indexing.html#indexing-view-versus-copy\n",
      "  This is separate from the ipykernel package so we can avoid doing imports until\n",
      "C:\\Users\\bobal\\Anaconda2\\envs\\py36\\lib\\site-packages\\pandas\\core\\frame.py:2754: SettingWithCopyWarning: \n",
      "A value is trying to be set on a copy of a slice from a DataFrame\n",
      "\n",
      "See the caveats in the documentation: http://pandas.pydata.org/pandas-docs/stable/indexing.html#indexing-view-versus-copy\n",
      "  downcast=downcast, **kwargs)\n"
     ]
    },
    {
     "data": {
      "text/html": [
       "<div>\n",
       "<style>\n",
       "    .dataframe thead tr:only-child th {\n",
       "        text-align: right;\n",
       "    }\n",
       "\n",
       "    .dataframe thead th {\n",
       "        text-align: left;\n",
       "    }\n",
       "\n",
       "    .dataframe tbody tr th {\n",
       "        vertical-align: top;\n",
       "    }\n",
       "</style>\n",
       "<table border=\"1\" class=\"dataframe\">\n",
       "  <thead>\n",
       "    <tr style=\"text-align: right;\">\n",
       "      <th></th>\n",
       "      <th>Name</th>\n",
       "      <th>Position</th>\n",
       "      <th>Team</th>\n",
       "      <th>Year</th>\n",
       "      <th>Games Played</th>\n",
       "      <th>Passes Attempted</th>\n",
       "      <th>Passes Completed</th>\n",
       "      <th>Passing Yards</th>\n",
       "      <th>TD Passes</th>\n",
       "      <th>Ints</th>\n",
       "      <th>Rushing Attempts</th>\n",
       "      <th>Rushing Yards</th>\n",
       "      <th>Rushing TDs</th>\n",
       "      <th>Fumbles</th>\n",
       "    </tr>\n",
       "  </thead>\n",
       "  <tbody>\n",
       "    <tr>\n",
       "      <th>0</th>\n",
       "      <td>Charlie Batch</td>\n",
       "      <td>QB</td>\n",
       "      <td>Pittsburgh Steelers</td>\n",
       "      <td>2011.0</td>\n",
       "      <td>4.0</td>\n",
       "      <td>24.0</td>\n",
       "      <td>15.0</td>\n",
       "      <td>208.0</td>\n",
       "      <td>0.0</td>\n",
       "      <td>1.0</td>\n",
       "      <td>3.0</td>\n",
       "      <td>-2.0</td>\n",
       "      <td>0.0</td>\n",
       "      <td>0.0</td>\n",
       "    </tr>\n",
       "    <tr>\n",
       "      <th>1</th>\n",
       "      <td>Charlie Batch</td>\n",
       "      <td>QB</td>\n",
       "      <td>Pittsburgh Steelers</td>\n",
       "      <td>2010.0</td>\n",
       "      <td>3.0</td>\n",
       "      <td>49.0</td>\n",
       "      <td>29.0</td>\n",
       "      <td>352.0</td>\n",
       "      <td>3.0</td>\n",
       "      <td>3.0</td>\n",
       "      <td>7.0</td>\n",
       "      <td>30.0</td>\n",
       "      <td>0.0</td>\n",
       "      <td>2.0</td>\n",
       "    </tr>\n",
       "    <tr>\n",
       "      <th>2</th>\n",
       "      <td>Charlie Batch</td>\n",
       "      <td>QB</td>\n",
       "      <td>Pittsburgh Steelers</td>\n",
       "      <td>2009.0</td>\n",
       "      <td>1.0</td>\n",
       "      <td>2.0</td>\n",
       "      <td>1.0</td>\n",
       "      <td>17.0</td>\n",
       "      <td>0.0</td>\n",
       "      <td>0.0</td>\n",
       "      <td>0.0</td>\n",
       "      <td>0.0</td>\n",
       "      <td>0.0</td>\n",
       "      <td>0.0</td>\n",
       "    </tr>\n",
       "    <tr>\n",
       "      <th>3</th>\n",
       "      <td>Charlie Batch</td>\n",
       "      <td>QB</td>\n",
       "      <td>Pittsburgh Steelers</td>\n",
       "      <td>2007.0</td>\n",
       "      <td>7.0</td>\n",
       "      <td>36.0</td>\n",
       "      <td>17.0</td>\n",
       "      <td>232.0</td>\n",
       "      <td>2.0</td>\n",
       "      <td>3.0</td>\n",
       "      <td>12.0</td>\n",
       "      <td>-7.0</td>\n",
       "      <td>0.0</td>\n",
       "      <td>0.0</td>\n",
       "    </tr>\n",
       "    <tr>\n",
       "      <th>4</th>\n",
       "      <td>Charlie Batch</td>\n",
       "      <td>QB</td>\n",
       "      <td>Pittsburgh Steelers</td>\n",
       "      <td>2006.0</td>\n",
       "      <td>8.0</td>\n",
       "      <td>53.0</td>\n",
       "      <td>31.0</td>\n",
       "      <td>492.0</td>\n",
       "      <td>5.0</td>\n",
       "      <td>0.0</td>\n",
       "      <td>13.0</td>\n",
       "      <td>15.0</td>\n",
       "      <td>0.0</td>\n",
       "      <td>1.0</td>\n",
       "    </tr>\n",
       "  </tbody>\n",
       "</table>\n",
       "</div>"
      ],
      "text/plain": [
       "            Name Position                 Team    Year  Games Played  \\\n",
       "0  Charlie Batch       QB  Pittsburgh Steelers  2011.0           4.0   \n",
       "1  Charlie Batch       QB  Pittsburgh Steelers  2010.0           3.0   \n",
       "2  Charlie Batch       QB  Pittsburgh Steelers  2009.0           1.0   \n",
       "3  Charlie Batch       QB  Pittsburgh Steelers  2007.0           7.0   \n",
       "4  Charlie Batch       QB  Pittsburgh Steelers  2006.0           8.0   \n",
       "\n",
       "   Passes Attempted  Passes Completed  Passing Yards  TD Passes  Ints  \\\n",
       "0              24.0              15.0          208.0        0.0   1.0   \n",
       "1              49.0              29.0          352.0        3.0   3.0   \n",
       "2               2.0               1.0           17.0        0.0   0.0   \n",
       "3              36.0              17.0          232.0        2.0   3.0   \n",
       "4              53.0              31.0          492.0        5.0   0.0   \n",
       "\n",
       "   Rushing Attempts  Rushing Yards  Rushing TDs  Fumbles  \n",
       "0               3.0           -2.0          0.0      0.0  \n",
       "1               7.0           30.0          0.0      2.0  \n",
       "2               0.0            0.0          0.0      0.0  \n",
       "3              12.0           -7.0          0.0      0.0  \n",
       "4              13.0           15.0          0.0      1.0  "
      ]
     },
     "execution_count": 24,
     "metadata": {},
     "output_type": "execute_result"
    }
   ],
   "source": [
    "temp = rushing.iloc[indices]\n",
    "\n",
    "temp['Position'] = 'QB'\n",
    "temp.fillna(0, inplace=True)\n",
    "temp.reset_index(inplace=True, drop=True)\n",
    "\n",
    "# Merge two dataframes to get all passing and rushing statistics for the complete career stats of the qb's in the 2012 season\n",
    "\n",
    "qb = pd.merge(passing, temp, how='outer')\n",
    "qb.head()"
   ]
  },
  {
   "cell_type": "code",
   "execution_count": 29,
   "metadata": {},
   "outputs": [],
   "source": [
    "career_qb = qb.groupby('Name').sum()"
   ]
  },
  {
   "cell_type": "code",
   "execution_count": 31,
   "metadata": {},
   "outputs": [
    {
     "data": {
      "text/plain": [
       "Index(['Aaron Rodgers', 'Adrian Peterson', 'Ahmard Hall', 'Al Del Greco',\n",
       "       'Aldrick Robinson', 'Alex Smith', 'Amp Lee', 'Andy Dalton',\n",
       "       'Anquan Boldin', 'Anthony Allen',\n",
       "       ...\n",
       "       'Tyrone Calico', 'Tyrone Wheatley', 'Tyson Alualu', 'Vonta Leach',\n",
       "       'William Floyd', 'Willie Jackson', 'Woody Dantzler', 'Xavier Omon',\n",
       "       'Yamon Figurs', 'Zach Miller'],\n",
       "      dtype='object', name='Name', length=356)"
      ]
     },
     "execution_count": 31,
     "metadata": {},
     "output_type": "execute_result"
    }
   ],
   "source": [
    "career_qb.index"
   ]
  },
  {
   "cell_type": "code",
   "execution_count": 25,
   "metadata": {},
   "outputs": [
    {
     "data": {
      "text/html": [
       "<div>\n",
       "<style>\n",
       "    .dataframe thead tr:only-child th {\n",
       "        text-align: right;\n",
       "    }\n",
       "\n",
       "    .dataframe thead th {\n",
       "        text-align: left;\n",
       "    }\n",
       "\n",
       "    .dataframe tbody tr th {\n",
       "        vertical-align: top;\n",
       "    }\n",
       "</style>\n",
       "<table border=\"1\" class=\"dataframe\">\n",
       "  <thead>\n",
       "    <tr style=\"text-align: right;\">\n",
       "      <th></th>\n",
       "      <th>Player</th>\n",
       "      <th>Team</th>\n",
       "      <th>Week</th>\n",
       "      <th>Opp</th>\n",
       "      <th>Comp</th>\n",
       "      <th>Att</th>\n",
       "      <th>Pct</th>\n",
       "      <th>Yds</th>\n",
       "      <th>Yds/Att</th>\n",
       "      <th>TD</th>\n",
       "      <th>Int</th>\n",
       "      <th>ru_att</th>\n",
       "      <th>ru_yds</th>\n",
       "      <th>yds/ru_att</th>\n",
       "      <th>ru_td</th>\n",
       "      <th>points</th>\n",
       "      <th>year</th>\n",
       "      <th>def_ru_rk</th>\n",
       "      <th>def_pass_rk</th>\n",
       "    </tr>\n",
       "  </thead>\n",
       "  <tbody>\n",
       "    <tr>\n",
       "      <th>0</th>\n",
       "      <td>Matt Ryan</td>\n",
       "      <td>ATL</td>\n",
       "      <td>1</td>\n",
       "      <td>KC</td>\n",
       "      <td>23</td>\n",
       "      <td>31</td>\n",
       "      <td>74.0</td>\n",
       "      <td>299</td>\n",
       "      <td>10.0</td>\n",
       "      <td>3</td>\n",
       "      <td>0</td>\n",
       "      <td>3</td>\n",
       "      <td>25</td>\n",
       "      <td>8.0</td>\n",
       "      <td>1</td>\n",
       "      <td>32.46</td>\n",
       "      <td>2012</td>\n",
       "      <td>25</td>\n",
       "      <td>25</td>\n",
       "    </tr>\n",
       "    <tr>\n",
       "      <th>1</th>\n",
       "      <td>Robert Griffin III</td>\n",
       "      <td>WAS</td>\n",
       "      <td>1</td>\n",
       "      <td>NO</td>\n",
       "      <td>19</td>\n",
       "      <td>26</td>\n",
       "      <td>73.0</td>\n",
       "      <td>320</td>\n",
       "      <td>12.0</td>\n",
       "      <td>2</td>\n",
       "      <td>0</td>\n",
       "      <td>9</td>\n",
       "      <td>42</td>\n",
       "      <td>5.0</td>\n",
       "      <td>0</td>\n",
       "      <td>25.00</td>\n",
       "      <td>2012</td>\n",
       "      <td>31</td>\n",
       "      <td>31</td>\n",
       "    </tr>\n",
       "    <tr>\n",
       "      <th>2</th>\n",
       "      <td>Tony Romo</td>\n",
       "      <td>DAL</td>\n",
       "      <td>1</td>\n",
       "      <td>NYG</td>\n",
       "      <td>22</td>\n",
       "      <td>29</td>\n",
       "      <td>76.0</td>\n",
       "      <td>307</td>\n",
       "      <td>11.0</td>\n",
       "      <td>3</td>\n",
       "      <td>1</td>\n",
       "      <td>5</td>\n",
       "      <td>12</td>\n",
       "      <td>2.0</td>\n",
       "      <td>0</td>\n",
       "      <td>23.48</td>\n",
       "      <td>2012</td>\n",
       "      <td>12</td>\n",
       "      <td>12</td>\n",
       "    </tr>\n",
       "    <tr>\n",
       "      <th>3</th>\n",
       "      <td>Aaron Rodgers</td>\n",
       "      <td>GB</td>\n",
       "      <td>1</td>\n",
       "      <td>SF</td>\n",
       "      <td>30</td>\n",
       "      <td>44</td>\n",
       "      <td>68.0</td>\n",
       "      <td>303</td>\n",
       "      <td>7.0</td>\n",
       "      <td>2</td>\n",
       "      <td>1</td>\n",
       "      <td>5</td>\n",
       "      <td>27</td>\n",
       "      <td>5.0</td>\n",
       "      <td>0</td>\n",
       "      <td>22.82</td>\n",
       "      <td>2012</td>\n",
       "      <td>2</td>\n",
       "      <td>2</td>\n",
       "    </tr>\n",
       "    <tr>\n",
       "      <th>4</th>\n",
       "      <td>Drew Brees</td>\n",
       "      <td>NO</td>\n",
       "      <td>1</td>\n",
       "      <td>WAS</td>\n",
       "      <td>24</td>\n",
       "      <td>52</td>\n",
       "      <td>46.0</td>\n",
       "      <td>339</td>\n",
       "      <td>7.0</td>\n",
       "      <td>3</td>\n",
       "      <td>2</td>\n",
       "      <td>0</td>\n",
       "      <td>0</td>\n",
       "      <td>0.0</td>\n",
       "      <td>0</td>\n",
       "      <td>21.56</td>\n",
       "      <td>2012</td>\n",
       "      <td>22</td>\n",
       "      <td>22</td>\n",
       "    </tr>\n",
       "  </tbody>\n",
       "</table>\n",
       "</div>"
      ],
      "text/plain": [
       "               Player Team  Week  Opp  Comp  Att   Pct  Yds  Yds/Att  TD  Int  \\\n",
       "0           Matt Ryan  ATL     1   KC    23   31  74.0  299     10.0   3    0   \n",
       "1  Robert Griffin III  WAS     1   NO    19   26  73.0  320     12.0   2    0   \n",
       "2           Tony Romo  DAL     1  NYG    22   29  76.0  307     11.0   3    1   \n",
       "3       Aaron Rodgers   GB     1   SF    30   44  68.0  303      7.0   2    1   \n",
       "4          Drew Brees   NO     1  WAS    24   52  46.0  339      7.0   3    2   \n",
       "\n",
       "   ru_att  ru_yds  yds/ru_att  ru_td  points  year  def_ru_rk  def_pass_rk  \n",
       "0       3      25         8.0      1   32.46  2012         25           25  \n",
       "1       9      42         5.0      0   25.00  2012         31           31  \n",
       "2       5      12         2.0      0   23.48  2012         12           12  \n",
       "3       5      27         5.0      0   22.82  2012          2            2  \n",
       "4       0       0         0.0      0   21.56  2012         22           22  "
      ]
     },
     "execution_count": 25,
     "metadata": {},
     "output_type": "execute_result"
    }
   ],
   "source": [
    "df.head()"
   ]
  },
  {
   "cell_type": "code",
   "execution_count": 26,
   "metadata": {},
   "outputs": [
    {
     "data": {
      "text/html": [
       "<div>\n",
       "<style>\n",
       "    .dataframe thead tr:only-child th {\n",
       "        text-align: right;\n",
       "    }\n",
       "\n",
       "    .dataframe thead th {\n",
       "        text-align: left;\n",
       "    }\n",
       "\n",
       "    .dataframe tbody tr th {\n",
       "        vertical-align: top;\n",
       "    }\n",
       "</style>\n",
       "<table border=\"1\" class=\"dataframe\">\n",
       "  <thead>\n",
       "    <tr style=\"text-align: right;\">\n",
       "      <th></th>\n",
       "      <th></th>\n",
       "      <th></th>\n",
       "      <th>Comp</th>\n",
       "      <th>Att</th>\n",
       "      <th>Pct</th>\n",
       "      <th>Yds</th>\n",
       "      <th>Yds/Att</th>\n",
       "      <th>TD</th>\n",
       "      <th>Int</th>\n",
       "      <th>ru_att</th>\n",
       "      <th>ru_yds</th>\n",
       "      <th>yds/ru_att</th>\n",
       "      <th>ru_td</th>\n",
       "      <th>points</th>\n",
       "      <th>def_ru_rk</th>\n",
       "      <th>def_pass_rk</th>\n",
       "    </tr>\n",
       "    <tr>\n",
       "      <th>year</th>\n",
       "      <th>Player</th>\n",
       "      <th>Week</th>\n",
       "      <th></th>\n",
       "      <th></th>\n",
       "      <th></th>\n",
       "      <th></th>\n",
       "      <th></th>\n",
       "      <th></th>\n",
       "      <th></th>\n",
       "      <th></th>\n",
       "      <th></th>\n",
       "      <th></th>\n",
       "      <th></th>\n",
       "      <th></th>\n",
       "      <th></th>\n",
       "      <th></th>\n",
       "    </tr>\n",
       "  </thead>\n",
       "  <tbody>\n",
       "    <tr>\n",
       "      <th rowspan=\"5\" valign=\"top\">2012</th>\n",
       "      <th rowspan=\"5\" valign=\"top\">Aaron Rodgers</th>\n",
       "      <th>1</th>\n",
       "      <td>30</td>\n",
       "      <td>44</td>\n",
       "      <td>68.0</td>\n",
       "      <td>303</td>\n",
       "      <td>7.0</td>\n",
       "      <td>2</td>\n",
       "      <td>1</td>\n",
       "      <td>5</td>\n",
       "      <td>27</td>\n",
       "      <td>5.0</td>\n",
       "      <td>0</td>\n",
       "      <td>22.82</td>\n",
       "      <td>2</td>\n",
       "      <td>2</td>\n",
       "    </tr>\n",
       "    <tr>\n",
       "      <th>2</th>\n",
       "      <td>22</td>\n",
       "      <td>32</td>\n",
       "      <td>69.0</td>\n",
       "      <td>219</td>\n",
       "      <td>7.0</td>\n",
       "      <td>1</td>\n",
       "      <td>1</td>\n",
       "      <td>3</td>\n",
       "      <td>-6</td>\n",
       "      <td>-2.0</td>\n",
       "      <td>0</td>\n",
       "      <td>10.16</td>\n",
       "      <td>3</td>\n",
       "      <td>3</td>\n",
       "    </tr>\n",
       "    <tr>\n",
       "      <th>3</th>\n",
       "      <td>26</td>\n",
       "      <td>39</td>\n",
       "      <td>67.0</td>\n",
       "      <td>223</td>\n",
       "      <td>6.0</td>\n",
       "      <td>0</td>\n",
       "      <td>0</td>\n",
       "      <td>2</td>\n",
       "      <td>17</td>\n",
       "      <td>9.0</td>\n",
       "      <td>0</td>\n",
       "      <td>10.62</td>\n",
       "      <td>1</td>\n",
       "      <td>1</td>\n",
       "    </tr>\n",
       "    <tr>\n",
       "      <th>4</th>\n",
       "      <td>31</td>\n",
       "      <td>41</td>\n",
       "      <td>76.0</td>\n",
       "      <td>319</td>\n",
       "      <td>8.0</td>\n",
       "      <td>4</td>\n",
       "      <td>1</td>\n",
       "      <td>5</td>\n",
       "      <td>13</td>\n",
       "      <td>3.0</td>\n",
       "      <td>0</td>\n",
       "      <td>28.06</td>\n",
       "      <td>31</td>\n",
       "      <td>31</td>\n",
       "    </tr>\n",
       "    <tr>\n",
       "      <th>5</th>\n",
       "      <td>20</td>\n",
       "      <td>32</td>\n",
       "      <td>63.0</td>\n",
       "      <td>235</td>\n",
       "      <td>7.0</td>\n",
       "      <td>3</td>\n",
       "      <td>1</td>\n",
       "      <td>5</td>\n",
       "      <td>57</td>\n",
       "      <td>11.0</td>\n",
       "      <td>0</td>\n",
       "      <td>25.10</td>\n",
       "      <td>21</td>\n",
       "      <td>21</td>\n",
       "    </tr>\n",
       "  </tbody>\n",
       "</table>\n",
       "</div>"
      ],
      "text/plain": [
       "                         Comp  Att   Pct  Yds  Yds/Att  TD  Int  ru_att  \\\n",
       "year Player        Week                                                   \n",
       "2012 Aaron Rodgers 1       30   44  68.0  303      7.0   2    1       5   \n",
       "                   2       22   32  69.0  219      7.0   1    1       3   \n",
       "                   3       26   39  67.0  223      6.0   0    0       2   \n",
       "                   4       31   41  76.0  319      8.0   4    1       5   \n",
       "                   5       20   32  63.0  235      7.0   3    1       5   \n",
       "\n",
       "                         ru_yds  yds/ru_att  ru_td  points  def_ru_rk  \\\n",
       "year Player        Week                                                 \n",
       "2012 Aaron Rodgers 1         27         5.0      0   22.82          2   \n",
       "                   2         -6        -2.0      0   10.16          3   \n",
       "                   3         17         9.0      0   10.62          1   \n",
       "                   4         13         3.0      0   28.06         31   \n",
       "                   5         57        11.0      0   25.10         21   \n",
       "\n",
       "                         def_pass_rk  \n",
       "year Player        Week               \n",
       "2012 Aaron Rodgers 1               2  \n",
       "                   2               3  \n",
       "                   3               1  \n",
       "                   4              31  \n",
       "                   5              21  "
      ]
     },
     "execution_count": 26,
     "metadata": {},
     "output_type": "execute_result"
    }
   ],
   "source": [
    "temp = df.groupby(['year','Player','Week']).sum()\n",
    "temp.head()"
   ]
  },
  {
   "cell_type": "code",
   "execution_count": 6,
   "metadata": {},
   "outputs": [],
   "source": [
    "df_2012= df[df['year']==2012]\n",
    "#df_2012.index = df_2012['Player']"
   ]
  },
  {
   "cell_type": "code",
   "execution_count": 120,
   "metadata": {
    "collapsed": true
   },
   "outputs": [],
   "source": [
    "for idx, player in enumerate(df_2012['Player']):\n",
    "    if player not in name:\n",
    "        print(player)"
   ]
  },
  {
   "cell_type": "code",
   "execution_count": 230,
   "metadata": {},
   "outputs": [
    {
     "data": {
      "text/plain": [
       "array(['Matt Ryan', 'Robert Griffin III', 'Tony Romo', 'Aaron Rodgers',\n",
       "       'Drew Brees', 'Mark Sanchez', 'Peyton Manning', 'Joe Flacco',\n",
       "       'Blaine Gabbert', 'Jay Cutler', 'Carson Palmer', 'Alex Smith',\n",
       "       'Tom Brady', 'Matt Cassel', 'Ben Roethlisberger', 'Michael Vick',\n",
       "       'Ryan Fitzpatrick', 'Matt Schaub', 'Philip Rivers', 'Eli Manning',\n",
       "       'Cam Newton', 'Matthew Stafford', 'Sam Bradford', 'Josh Freeman',\n",
       "       'Jake Locker', 'Andrew Luck', 'Christian Ponder', 'Russell Wilson',\n",
       "       'Kevin Kolb', 'Andy Dalton', 'John Skelton', 'Ryan Tannehill',\n",
       "       'Tyrod Taylor', 'Matt Hasselbeck', 'Colin Kaepernick', 'Tim Tebow',\n",
       "       'Chase Daniel', 'Bruce Gradkowski', 'Brandon Weeden', 'Chad Henne',\n",
       "       'Shaun Hill', 'Derek Anderson', 'David Carr', 'Luke McCown',\n",
       "       'TJ Yates', 'Kyle Orton', 'Brock Osweiler', 'Graham Harrell',\n",
       "       'Kirk Cousins', 'Rusty Smith', 'Brady Quinn', 'Jason Campbell',\n",
       "       'Joe Webb', 'Matt Moore', 'Ryan Mallett', 'Kellen Clemens',\n",
       "       'Nick Foles', 'Byron Leftwich', 'Matt Leinart', 'Ryan Lindley',\n",
       "       'Charlie Batch', 'Colt McCoy', 'Greg McElroy', 'Matt Flynn',\n",
       "       'Dan Orlovsky', 'Brian Hoyer', 'Thaddeus Lewis', 'Trent Edwards',\n",
       "       'Josh Johnson'], dtype=object)"
      ]
     },
     "execution_count": 230,
     "metadata": {},
     "output_type": "execute_result"
    }
   ],
   "source": [
    "name = df_2012['Player'].unique()\n",
    "name"
   ]
  },
  {
   "cell_type": "code",
   "execution_count": 232,
   "metadata": {},
   "outputs": [
    {
     "name": "stderr",
     "output_type": "stream",
     "text": [
      "C:\\Users\\bobal\\Anaconda2\\envs\\py36\\lib\\site-packages\\ipykernel_launcher.py:4: SettingWithCopyWarning: \n",
      "A value is trying to be set on a copy of a slice from a DataFrame\n",
      "\n",
      "See the caveats in the documentation: http://pandas.pydata.org/pandas-docs/stable/indexing.html#indexing-view-versus-copy\n",
      "  after removing the cwd from sys.path.\n",
      "C:\\Users\\bobal\\Anaconda2\\envs\\py36\\lib\\site-packages\\pandas\\core\\series.py:747: SettingWithCopyWarning: \n",
      "A value is trying to be set on a copy of a slice from a DataFrame\n",
      "\n",
      "See the caveats in the documentation: http://pandas.pydata.org/pandas-docs/stable/indexing.html#indexing-view-versus-copy\n",
      "  self.loc[key] = value\n"
     ]
    }
   ],
   "source": [
    "for idx,player in enumerate(df_2012['Player']):\n",
    "    if player in list(name):\n",
    "        #print(player)\n",
    "        df.iloc[idx]['Games Played'] = 0\n",
    "    #df_2012['Player'].map(lambda x: career_qb.loc[x]['Games Played'] + 1)\n",
    "      #  name = name[name !=player]\n",
    "    #else:\n",
    "     #   raw_qb_2012['Games Played'] = raw_qb_2012['Games Played'] +1\n",
    "        "
   ]
  },
  {
   "cell_type": "code",
   "execution_count": 234,
   "metadata": {},
   "outputs": [
    {
     "data": {
      "text/plain": [
       "Index(['Player', 'Team', 'Week', 'Opp', 'Comp', 'Att', 'Pct', 'Yds', 'Yds/Att',\n",
       "       'TD', 'Int', 'ru_att', 'ru_yds', 'yds/ru_att', 'ru_td', 'points',\n",
       "       'year', 'def_ru_rk', 'def_pass_rk'],\n",
       "      dtype='object')"
      ]
     },
     "execution_count": 234,
     "metadata": {},
     "output_type": "execute_result"
    }
   ],
   "source": [
    "df_2012.columns"
   ]
  },
  {
   "cell_type": "code",
   "execution_count": 240,
   "metadata": {
    "scrolled": false
   },
   "outputs": [],
   "source": [
    "raw_qb_2012['Games Played'] = raw_qb_2012['Player'].map(lambda x: career_qb.loc[x]['Games Played'])"
   ]
  },
  {
   "cell_type": "code",
   "execution_count": 242,
   "metadata": {},
   "outputs": [],
   "source": [
    "df_2012 = raw_qb_2012"
   ]
  },
  {
   "cell_type": "code",
   "execution_count": 243,
   "metadata": {},
   "outputs": [
    {
     "data": {
      "text/html": [
       "<div>\n",
       "<style>\n",
       "    .dataframe thead tr:only-child th {\n",
       "        text-align: right;\n",
       "    }\n",
       "\n",
       "    .dataframe thead th {\n",
       "        text-align: left;\n",
       "    }\n",
       "\n",
       "    .dataframe tbody tr th {\n",
       "        vertical-align: top;\n",
       "    }\n",
       "</style>\n",
       "<table border=\"1\" class=\"dataframe\">\n",
       "  <thead>\n",
       "    <tr style=\"text-align: right;\">\n",
       "      <th></th>\n",
       "      <th>Player</th>\n",
       "      <th>Team</th>\n",
       "      <th>Week</th>\n",
       "      <th>Opp</th>\n",
       "      <th>Comp</th>\n",
       "      <th>Att</th>\n",
       "      <th>Pct</th>\n",
       "      <th>Yds</th>\n",
       "      <th>Yds/Att</th>\n",
       "      <th>TD</th>\n",
       "      <th>Int</th>\n",
       "      <th>ru_att</th>\n",
       "      <th>ru_yds</th>\n",
       "      <th>yds/ru_att</th>\n",
       "      <th>ru_td</th>\n",
       "      <th>points</th>\n",
       "      <th>year</th>\n",
       "      <th>def_ru_rk</th>\n",
       "      <th>def_pass_rk</th>\n",
       "      <th>Games Played</th>\n",
       "    </tr>\n",
       "  </thead>\n",
       "  <tbody>\n",
       "    <tr>\n",
       "      <th>0</th>\n",
       "      <td>Matt Ryan</td>\n",
       "      <td>ATL</td>\n",
       "      <td>1</td>\n",
       "      <td>KC</td>\n",
       "      <td>23</td>\n",
       "      <td>31</td>\n",
       "      <td>74.0</td>\n",
       "      <td>299</td>\n",
       "      <td>10.0</td>\n",
       "      <td>3</td>\n",
       "      <td>0</td>\n",
       "      <td>3</td>\n",
       "      <td>25</td>\n",
       "      <td>8.0</td>\n",
       "      <td>1</td>\n",
       "      <td>32.46</td>\n",
       "      <td>2012</td>\n",
       "      <td>25</td>\n",
       "      <td>25</td>\n",
       "      <td>62.0</td>\n",
       "    </tr>\n",
       "    <tr>\n",
       "      <th>1</th>\n",
       "      <td>Robert Griffin III</td>\n",
       "      <td>WAS</td>\n",
       "      <td>1</td>\n",
       "      <td>NO</td>\n",
       "      <td>19</td>\n",
       "      <td>26</td>\n",
       "      <td>73.0</td>\n",
       "      <td>320</td>\n",
       "      <td>12.0</td>\n",
       "      <td>2</td>\n",
       "      <td>0</td>\n",
       "      <td>9</td>\n",
       "      <td>42</td>\n",
       "      <td>5.0</td>\n",
       "      <td>0</td>\n",
       "      <td>25.00</td>\n",
       "      <td>2012</td>\n",
       "      <td>31</td>\n",
       "      <td>31</td>\n",
       "      <td>0.0</td>\n",
       "    </tr>\n",
       "    <tr>\n",
       "      <th>2</th>\n",
       "      <td>Tony Romo</td>\n",
       "      <td>DAL</td>\n",
       "      <td>1</td>\n",
       "      <td>NYG</td>\n",
       "      <td>22</td>\n",
       "      <td>29</td>\n",
       "      <td>76.0</td>\n",
       "      <td>307</td>\n",
       "      <td>11.0</td>\n",
       "      <td>3</td>\n",
       "      <td>1</td>\n",
       "      <td>5</td>\n",
       "      <td>12</td>\n",
       "      <td>2.0</td>\n",
       "      <td>0</td>\n",
       "      <td>23.48</td>\n",
       "      <td>2012</td>\n",
       "      <td>12</td>\n",
       "      <td>12</td>\n",
       "      <td>105.0</td>\n",
       "    </tr>\n",
       "    <tr>\n",
       "      <th>3</th>\n",
       "      <td>Aaron Rodgers</td>\n",
       "      <td>GB</td>\n",
       "      <td>1</td>\n",
       "      <td>SF</td>\n",
       "      <td>30</td>\n",
       "      <td>44</td>\n",
       "      <td>68.0</td>\n",
       "      <td>303</td>\n",
       "      <td>7.0</td>\n",
       "      <td>2</td>\n",
       "      <td>1</td>\n",
       "      <td>5</td>\n",
       "      <td>27</td>\n",
       "      <td>5.0</td>\n",
       "      <td>0</td>\n",
       "      <td>22.82</td>\n",
       "      <td>2012</td>\n",
       "      <td>2</td>\n",
       "      <td>2</td>\n",
       "      <td>69.0</td>\n",
       "    </tr>\n",
       "    <tr>\n",
       "      <th>4</th>\n",
       "      <td>Drew Brees</td>\n",
       "      <td>NO</td>\n",
       "      <td>1</td>\n",
       "      <td>WAS</td>\n",
       "      <td>24</td>\n",
       "      <td>52</td>\n",
       "      <td>46.0</td>\n",
       "      <td>339</td>\n",
       "      <td>7.0</td>\n",
       "      <td>3</td>\n",
       "      <td>2</td>\n",
       "      <td>0</td>\n",
       "      <td>0</td>\n",
       "      <td>0.0</td>\n",
       "      <td>0</td>\n",
       "      <td>21.56</td>\n",
       "      <td>2012</td>\n",
       "      <td>22</td>\n",
       "      <td>22</td>\n",
       "      <td>154.0</td>\n",
       "    </tr>\n",
       "  </tbody>\n",
       "</table>\n",
       "</div>"
      ],
      "text/plain": [
       "               Player Team  Week  Opp  Comp  Att   Pct  Yds  Yds/Att  TD  Int  \\\n",
       "0           Matt Ryan  ATL     1   KC    23   31  74.0  299     10.0   3    0   \n",
       "1  Robert Griffin III  WAS     1   NO    19   26  73.0  320     12.0   2    0   \n",
       "2           Tony Romo  DAL     1  NYG    22   29  76.0  307     11.0   3    1   \n",
       "3       Aaron Rodgers   GB     1   SF    30   44  68.0  303      7.0   2    1   \n",
       "4          Drew Brees   NO     1  WAS    24   52  46.0  339      7.0   3    2   \n",
       "\n",
       "   ru_att  ru_yds  yds/ru_att  ru_td  points  year  def_ru_rk  def_pass_rk  \\\n",
       "0       3      25         8.0      1   32.46  2012         25           25   \n",
       "1       9      42         5.0      0   25.00  2012         31           31   \n",
       "2       5      12         2.0      0   23.48  2012         12           12   \n",
       "3       5      27         5.0      0   22.82  2012          2            2   \n",
       "4       0       0         0.0      0   21.56  2012         22           22   \n",
       "\n",
       "   Games Played  \n",
       "0          62.0  \n",
       "1           0.0  \n",
       "2         105.0  \n",
       "3          69.0  \n",
       "4         154.0  "
      ]
     },
     "execution_count": 243,
     "metadata": {},
     "output_type": "execute_result"
    }
   ],
   "source": [
    "df_2012.head()"
   ]
  },
  {
   "cell_type": "code",
   "execution_count": 46,
   "metadata": {},
   "outputs": [
    {
     "name": "stderr",
     "output_type": "stream",
     "text": [
      "C:\\Users\\bobal\\Anaconda2\\envs\\py36\\lib\\site-packages\\ipykernel_launcher.py:3: SettingWithCopyWarning: \n",
      "A value is trying to be set on a copy of a slice from a DataFrame\n",
      "\n",
      "See the caveats in the documentation: http://pandas.pydata.org/pandas-docs/stable/indexing.html#indexing-view-versus-copy\n",
      "  This is separate from the ipykernel package so we can avoid doing imports until\n",
      "C:\\Users\\bobal\\Anaconda2\\envs\\py36\\lib\\site-packages\\pandas\\core\\series.py:747: SettingWithCopyWarning: \n",
      "A value is trying to be set on a copy of a slice from a DataFrame\n",
      "\n",
      "See the caveats in the documentation: http://pandas.pydata.org/pandas-docs/stable/indexing.html#indexing-view-versus-copy\n",
      "  self.loc[key] = value\n"
     ]
    }
   ],
   "source": [
    "for idx,week in enumerate(df_2012['Week']):\n",
    "    if week ==1:\n",
    "        df_2012.iloc[idx]['Games Played'] = df_2012['Player'].map(lambda x: career_qb.loc[x]['Games Played'])\n",
    "    #else:\n",
    "     #   df_2012.iloc[idx]['Games Played'] = df_2012.iloc[idx]['Games Played'] + 1            \n",
    "        "
   ]
  },
  {
   "cell_type": "code",
   "execution_count": 47,
   "metadata": {},
   "outputs": [
    {
     "data": {
      "text/html": [
       "<div>\n",
       "<style>\n",
       "    .dataframe thead tr:only-child th {\n",
       "        text-align: right;\n",
       "    }\n",
       "\n",
       "    .dataframe thead th {\n",
       "        text-align: left;\n",
       "    }\n",
       "\n",
       "    .dataframe tbody tr th {\n",
       "        vertical-align: top;\n",
       "    }\n",
       "</style>\n",
       "<table border=\"1\" class=\"dataframe\">\n",
       "  <thead>\n",
       "    <tr style=\"text-align: right;\">\n",
       "      <th></th>\n",
       "      <th>Player</th>\n",
       "      <th>Team</th>\n",
       "      <th>Week</th>\n",
       "      <th>Opp</th>\n",
       "      <th>Comp</th>\n",
       "      <th>Att</th>\n",
       "      <th>Pct</th>\n",
       "      <th>Yds</th>\n",
       "      <th>Yds/Att</th>\n",
       "      <th>TD</th>\n",
       "      <th>Int</th>\n",
       "      <th>ru_att</th>\n",
       "      <th>ru_yds</th>\n",
       "      <th>yds/ru_att</th>\n",
       "      <th>ru_td</th>\n",
       "      <th>points</th>\n",
       "      <th>year</th>\n",
       "      <th>def_ru_rk</th>\n",
       "      <th>def_pass_rk</th>\n",
       "    </tr>\n",
       "  </thead>\n",
       "  <tbody>\n",
       "    <tr>\n",
       "      <th>0</th>\n",
       "      <td>Matt Ryan</td>\n",
       "      <td>ATL</td>\n",
       "      <td>1</td>\n",
       "      <td>KC</td>\n",
       "      <td>23</td>\n",
       "      <td>31</td>\n",
       "      <td>74.0</td>\n",
       "      <td>299</td>\n",
       "      <td>10.0</td>\n",
       "      <td>3</td>\n",
       "      <td>0</td>\n",
       "      <td>3</td>\n",
       "      <td>25</td>\n",
       "      <td>8.0</td>\n",
       "      <td>1</td>\n",
       "      <td>32.46</td>\n",
       "      <td>2012</td>\n",
       "      <td>25</td>\n",
       "      <td>25</td>\n",
       "    </tr>\n",
       "    <tr>\n",
       "      <th>1</th>\n",
       "      <td>Robert Griffin III</td>\n",
       "      <td>WAS</td>\n",
       "      <td>1</td>\n",
       "      <td>NO</td>\n",
       "      <td>19</td>\n",
       "      <td>26</td>\n",
       "      <td>73.0</td>\n",
       "      <td>320</td>\n",
       "      <td>12.0</td>\n",
       "      <td>2</td>\n",
       "      <td>0</td>\n",
       "      <td>9</td>\n",
       "      <td>42</td>\n",
       "      <td>5.0</td>\n",
       "      <td>0</td>\n",
       "      <td>25.00</td>\n",
       "      <td>2012</td>\n",
       "      <td>31</td>\n",
       "      <td>31</td>\n",
       "    </tr>\n",
       "    <tr>\n",
       "      <th>2</th>\n",
       "      <td>Tony Romo</td>\n",
       "      <td>DAL</td>\n",
       "      <td>1</td>\n",
       "      <td>NYG</td>\n",
       "      <td>22</td>\n",
       "      <td>29</td>\n",
       "      <td>76.0</td>\n",
       "      <td>307</td>\n",
       "      <td>11.0</td>\n",
       "      <td>3</td>\n",
       "      <td>1</td>\n",
       "      <td>5</td>\n",
       "      <td>12</td>\n",
       "      <td>2.0</td>\n",
       "      <td>0</td>\n",
       "      <td>23.48</td>\n",
       "      <td>2012</td>\n",
       "      <td>12</td>\n",
       "      <td>12</td>\n",
       "    </tr>\n",
       "    <tr>\n",
       "      <th>3</th>\n",
       "      <td>Aaron Rodgers</td>\n",
       "      <td>GB</td>\n",
       "      <td>1</td>\n",
       "      <td>SF</td>\n",
       "      <td>30</td>\n",
       "      <td>44</td>\n",
       "      <td>68.0</td>\n",
       "      <td>303</td>\n",
       "      <td>7.0</td>\n",
       "      <td>2</td>\n",
       "      <td>1</td>\n",
       "      <td>5</td>\n",
       "      <td>27</td>\n",
       "      <td>5.0</td>\n",
       "      <td>0</td>\n",
       "      <td>22.82</td>\n",
       "      <td>2012</td>\n",
       "      <td>2</td>\n",
       "      <td>2</td>\n",
       "    </tr>\n",
       "    <tr>\n",
       "      <th>4</th>\n",
       "      <td>Drew Brees</td>\n",
       "      <td>NO</td>\n",
       "      <td>1</td>\n",
       "      <td>WAS</td>\n",
       "      <td>24</td>\n",
       "      <td>52</td>\n",
       "      <td>46.0</td>\n",
       "      <td>339</td>\n",
       "      <td>7.0</td>\n",
       "      <td>3</td>\n",
       "      <td>2</td>\n",
       "      <td>0</td>\n",
       "      <td>0</td>\n",
       "      <td>0.0</td>\n",
       "      <td>0</td>\n",
       "      <td>21.56</td>\n",
       "      <td>2012</td>\n",
       "      <td>22</td>\n",
       "      <td>22</td>\n",
       "    </tr>\n",
       "  </tbody>\n",
       "</table>\n",
       "</div>"
      ],
      "text/plain": [
       "               Player Team  Week  Opp  Comp  Att   Pct  Yds  Yds/Att  TD  Int  \\\n",
       "0           Matt Ryan  ATL     1   KC    23   31  74.0  299     10.0   3    0   \n",
       "1  Robert Griffin III  WAS     1   NO    19   26  73.0  320     12.0   2    0   \n",
       "2           Tony Romo  DAL     1  NYG    22   29  76.0  307     11.0   3    1   \n",
       "3       Aaron Rodgers   GB     1   SF    30   44  68.0  303      7.0   2    1   \n",
       "4          Drew Brees   NO     1  WAS    24   52  46.0  339      7.0   3    2   \n",
       "\n",
       "   ru_att  ru_yds  yds/ru_att  ru_td  points  year  def_ru_rk  def_pass_rk  \n",
       "0       3      25         8.0      1   32.46  2012         25           25  \n",
       "1       9      42         5.0      0   25.00  2012         31           31  \n",
       "2       5      12         2.0      0   23.48  2012         12           12  \n",
       "3       5      27         5.0      0   22.82  2012          2            2  \n",
       "4       0       0         0.0      0   21.56  2012         22           22  "
      ]
     },
     "execution_count": 47,
     "metadata": {},
     "output_type": "execute_result"
    }
   ],
   "source": [
    "df_2012.head()"
   ]
  },
  {
   "cell_type": "code",
   "execution_count": 39,
   "metadata": {},
   "outputs": [],
   "source": [
    "career_qb.drop('Year',axis=1, inplace=True)"
   ]
  },
  {
   "cell_type": "code",
   "execution_count": 544,
   "metadata": {
    "collapsed": true
   },
   "outputs": [],
   "source": [
    "for player in raw_qb_2012['Player']:\n",
    "    for col in raw_qb_2012[raw_qb_2012['Player']==player].columns:\n",
    "        if raw_qb_2012[raw_qb_2012['Player']==player][col].dtypes != 'object':\n",
    "            np.mean(raw_qb_2012[raw_qb_2012['Player']==player][col])\n",
    "    "
   ]
  },
  {
   "cell_type": "code",
   "execution_count": 40,
   "metadata": {},
   "outputs": [
    {
     "data": {
      "text/plain": [
       "Name\n",
       "Matt Ryan    62.0\n",
       "Name: Games Played, dtype: float64"
      ]
     },
     "execution_count": 40,
     "metadata": {},
     "output_type": "execute_result"
    }
   ],
   "source": [
    "career_qb[career_qb.index == 'Matt Ryan']['Games Played']"
   ]
  },
  {
   "cell_type": "code",
   "execution_count": 391,
   "metadata": {
    "collapsed": true
   },
   "outputs": [],
   "source": [
    "df['Games_Played'] = career_qb['Games Played'] + 1"
   ]
  },
  {
   "cell_type": "code",
   "execution_count": 22,
   "metadata": {
    "collapsed": true
   },
   "outputs": [],
   "source": [
    "players = df_2012['Player'].unique() # Define the all the QB's for the 2012 2017 NFL Season"
   ]
  },
  {
   "cell_type": "code",
   "execution_count": 48,
   "metadata": {
    "collapsed": true
   },
   "outputs": [],
   "source": [
    "# A temporary dataframe used to store qb rushing career rushing stats\n",
    "indices = []\n",
    "for idx,name in enumerate(rushing['Name']):\n",
    "    if name in players:\n",
    "        indices.append(idx)"
   ]
  },
  {
   "cell_type": "code",
   "execution_count": 63,
   "metadata": {
    "collapsed": true
   },
   "outputs": [],
   "source": [
    "# add all stats of of a players career for each player and groupby player\n",
    "career_qb = qb.groupby('Name').sum()\n",
    "career_qb.drop('Year', axis=1, inplace=True)"
   ]
  },
  {
   "cell_type": "code",
   "execution_count": 64,
   "metadata": {},
   "outputs": [
    {
     "data": {
      "text/html": [
       "<div>\n",
       "<style>\n",
       "    .dataframe thead tr:only-child th {\n",
       "        text-align: right;\n",
       "    }\n",
       "\n",
       "    .dataframe thead th {\n",
       "        text-align: left;\n",
       "    }\n",
       "\n",
       "    .dataframe tbody tr th {\n",
       "        vertical-align: top;\n",
       "    }\n",
       "</style>\n",
       "<table border=\"1\" class=\"dataframe\">\n",
       "  <thead>\n",
       "    <tr style=\"text-align: right;\">\n",
       "      <th></th>\n",
       "      <th>Games Played</th>\n",
       "      <th>Passes Attempted</th>\n",
       "      <th>Passes Completed</th>\n",
       "      <th>Passing Yards</th>\n",
       "      <th>TD Passes</th>\n",
       "      <th>Ints</th>\n",
       "      <th>Rushing Attempts</th>\n",
       "      <th>Rushing Yards</th>\n",
       "      <th>Rushing TDs</th>\n",
       "      <th>Fumbles</th>\n",
       "    </tr>\n",
       "    <tr>\n",
       "      <th>Name</th>\n",
       "      <th></th>\n",
       "      <th></th>\n",
       "      <th></th>\n",
       "      <th></th>\n",
       "      <th></th>\n",
       "      <th></th>\n",
       "      <th></th>\n",
       "      <th></th>\n",
       "      <th></th>\n",
       "      <th></th>\n",
       "    </tr>\n",
       "  </thead>\n",
       "  <tbody>\n",
       "    <tr>\n",
       "      <th>Aaron Rodgers</th>\n",
       "      <td>69.0</td>\n",
       "      <td>2113.0</td>\n",
       "      <td>1381.0</td>\n",
       "      <td>17366.0</td>\n",
       "      <td>132.0</td>\n",
       "      <td>38.0</td>\n",
       "      <td>249.0</td>\n",
       "      <td>1183.0</td>\n",
       "      <td>16.0</td>\n",
       "      <td>8.0</td>\n",
       "    </tr>\n",
       "    <tr>\n",
       "      <th>Alex Smith</th>\n",
       "      <td>70.0</td>\n",
       "      <td>1959.0</td>\n",
       "      <td>1137.0</td>\n",
       "      <td>12543.0</td>\n",
       "      <td>68.0</td>\n",
       "      <td>58.0</td>\n",
       "      <td>181.0</td>\n",
       "      <td>629.0</td>\n",
       "      <td>4.0</td>\n",
       "      <td>8.0</td>\n",
       "    </tr>\n",
       "    <tr>\n",
       "      <th>Andy Dalton</th>\n",
       "      <td>16.0</td>\n",
       "      <td>516.0</td>\n",
       "      <td>300.0</td>\n",
       "      <td>3398.0</td>\n",
       "      <td>20.0</td>\n",
       "      <td>13.0</td>\n",
       "      <td>37.0</td>\n",
       "      <td>152.0</td>\n",
       "      <td>1.0</td>\n",
       "      <td>1.0</td>\n",
       "    </tr>\n",
       "    <tr>\n",
       "      <th>Ben Roethlisberger</th>\n",
       "      <td>114.0</td>\n",
       "      <td>3313.0</td>\n",
       "      <td>2090.0</td>\n",
       "      <td>26579.0</td>\n",
       "      <td>165.0</td>\n",
       "      <td>100.0</td>\n",
       "      <td>293.0</td>\n",
       "      <td>944.0</td>\n",
       "      <td>14.0</td>\n",
       "      <td>16.0</td>\n",
       "    </tr>\n",
       "    <tr>\n",
       "      <th>Blaine Gabbert</th>\n",
       "      <td>15.0</td>\n",
       "      <td>413.0</td>\n",
       "      <td>210.0</td>\n",
       "      <td>2214.0</td>\n",
       "      <td>12.0</td>\n",
       "      <td>11.0</td>\n",
       "      <td>48.0</td>\n",
       "      <td>98.0</td>\n",
       "      <td>0.0</td>\n",
       "      <td>8.0</td>\n",
       "    </tr>\n",
       "  </tbody>\n",
       "</table>\n",
       "</div>"
      ],
      "text/plain": [
       "                    Games Played  Passes Attempted  Passes Completed  \\\n",
       "Name                                                                   \n",
       "Aaron Rodgers               69.0            2113.0            1381.0   \n",
       "Alex Smith                  70.0            1959.0            1137.0   \n",
       "Andy Dalton                 16.0             516.0             300.0   \n",
       "Ben Roethlisberger         114.0            3313.0            2090.0   \n",
       "Blaine Gabbert              15.0             413.0             210.0   \n",
       "\n",
       "                    Passing Yards  TD Passes   Ints  Rushing Attempts  \\\n",
       "Name                                                                    \n",
       "Aaron Rodgers             17366.0      132.0   38.0             249.0   \n",
       "Alex Smith                12543.0       68.0   58.0             181.0   \n",
       "Andy Dalton                3398.0       20.0   13.0              37.0   \n",
       "Ben Roethlisberger        26579.0      165.0  100.0             293.0   \n",
       "Blaine Gabbert             2214.0       12.0   11.0              48.0   \n",
       "\n",
       "                    Rushing Yards  Rushing TDs  Fumbles  \n",
       "Name                                                     \n",
       "Aaron Rodgers              1183.0         16.0      8.0  \n",
       "Alex Smith                  629.0          4.0      8.0  \n",
       "Andy Dalton                 152.0          1.0      1.0  \n",
       "Ben Roethlisberger          944.0         14.0     16.0  \n",
       "Blaine Gabbert               98.0          0.0      8.0  "
      ]
     },
     "execution_count": 64,
     "metadata": {},
     "output_type": "execute_result"
    }
   ],
   "source": [
    "career_qb.head()"
   ]
  },
  {
   "cell_type": "code",
   "execution_count": 370,
   "metadata": {},
   "outputs": [
    {
     "data": {
      "text/plain": [
       "Games Played        0\n",
       "Passes Attempted    2\n",
       "Passes Completed    2\n",
       "Passing Yards       2\n",
       "TD Passes           2\n",
       "Ints                2\n",
       "Rushing Attempts    0\n",
       "Rushing Yards       0\n",
       "Rushing TDs         0\n",
       "Fumbles             0\n",
       "dtype: int64"
      ]
     },
     "execution_count": 370,
     "metadata": {},
     "output_type": "execute_result"
    }
   ],
   "source": [
    "career_qb.isnull().sum()"
   ]
  },
  {
   "cell_type": "code",
   "execution_count": 59,
   "metadata": {
    "collapsed": true
   },
   "outputs": [],
   "source": [
    "career_qb = career_qb.reset_index()\n",
    "career_qb['Name'] = career_qb['Name'].apply(lambda x: x.strip())"
   ]
  },
  {
   "cell_type": "code",
   "execution_count": 88,
   "metadata": {},
   "outputs": [
    {
     "ename": "KeyError",
     "evalue": "'[  1.05000000e+02   2.59200000e+03   1.67200000e+03   2.08340000e+04\\n   1.49000000e+02   7.20000000e+01   1.58000000e+02   4.59000000e+02\\n   4.00000000e+00   3.20000000e+01] not in index'",
     "output_type": "error",
     "traceback": [
      "\u001b[1;31m---------------------------------------------------------------------------\u001b[0m",
      "\u001b[1;31mKeyError\u001b[0m                                  Traceback (most recent call last)",
      "\u001b[1;32m<ipython-input-88-cf14d30b2482>\u001b[0m in \u001b[0;36m<module>\u001b[1;34m()\u001b[0m\n\u001b[1;32m----> 1\u001b[1;33m \u001b[0mcareer_qb\u001b[0m\u001b[1;33m[\u001b[0m\u001b[0mcareer_qb\u001b[0m\u001b[1;33m.\u001b[0m\u001b[0mloc\u001b[0m\u001b[1;33m[\u001b[0m\u001b[1;34m'Tony Romo'\u001b[0m\u001b[1;33m]\u001b[0m\u001b[1;33m]\u001b[0m\u001b[1;33m\u001b[0m\u001b[0m\n\u001b[0m",
      "\u001b[1;32m~\\Anaconda2\\envs\\py36\\lib\\site-packages\\pandas\\core\\frame.py\u001b[0m in \u001b[0;36m__getitem__\u001b[1;34m(self, key)\u001b[0m\n\u001b[0;32m   1956\u001b[0m         \u001b[1;32mif\u001b[0m \u001b[0misinstance\u001b[0m\u001b[1;33m(\u001b[0m\u001b[0mkey\u001b[0m\u001b[1;33m,\u001b[0m \u001b[1;33m(\u001b[0m\u001b[0mSeries\u001b[0m\u001b[1;33m,\u001b[0m \u001b[0mnp\u001b[0m\u001b[1;33m.\u001b[0m\u001b[0mndarray\u001b[0m\u001b[1;33m,\u001b[0m \u001b[0mIndex\u001b[0m\u001b[1;33m,\u001b[0m \u001b[0mlist\u001b[0m\u001b[1;33m)\u001b[0m\u001b[1;33m)\u001b[0m\u001b[1;33m:\u001b[0m\u001b[1;33m\u001b[0m\u001b[0m\n\u001b[0;32m   1957\u001b[0m             \u001b[1;31m# either boolean or fancy integer index\u001b[0m\u001b[1;33m\u001b[0m\u001b[1;33m\u001b[0m\u001b[0m\n\u001b[1;32m-> 1958\u001b[1;33m             \u001b[1;32mreturn\u001b[0m \u001b[0mself\u001b[0m\u001b[1;33m.\u001b[0m\u001b[0m_getitem_array\u001b[0m\u001b[1;33m(\u001b[0m\u001b[0mkey\u001b[0m\u001b[1;33m)\u001b[0m\u001b[1;33m\u001b[0m\u001b[0m\n\u001b[0m\u001b[0;32m   1959\u001b[0m         \u001b[1;32melif\u001b[0m \u001b[0misinstance\u001b[0m\u001b[1;33m(\u001b[0m\u001b[0mkey\u001b[0m\u001b[1;33m,\u001b[0m \u001b[0mDataFrame\u001b[0m\u001b[1;33m)\u001b[0m\u001b[1;33m:\u001b[0m\u001b[1;33m\u001b[0m\u001b[0m\n\u001b[0;32m   1960\u001b[0m             \u001b[1;32mreturn\u001b[0m \u001b[0mself\u001b[0m\u001b[1;33m.\u001b[0m\u001b[0m_getitem_frame\u001b[0m\u001b[1;33m(\u001b[0m\u001b[0mkey\u001b[0m\u001b[1;33m)\u001b[0m\u001b[1;33m\u001b[0m\u001b[0m\n",
      "\u001b[1;32m~\\Anaconda2\\envs\\py36\\lib\\site-packages\\pandas\\core\\frame.py\u001b[0m in \u001b[0;36m_getitem_array\u001b[1;34m(self, key)\u001b[0m\n\u001b[0;32m   2000\u001b[0m             \u001b[1;32mreturn\u001b[0m \u001b[0mself\u001b[0m\u001b[1;33m.\u001b[0m\u001b[0mtake\u001b[0m\u001b[1;33m(\u001b[0m\u001b[0mindexer\u001b[0m\u001b[1;33m,\u001b[0m \u001b[0maxis\u001b[0m\u001b[1;33m=\u001b[0m\u001b[1;36m0\u001b[0m\u001b[1;33m,\u001b[0m \u001b[0mconvert\u001b[0m\u001b[1;33m=\u001b[0m\u001b[1;32mFalse\u001b[0m\u001b[1;33m)\u001b[0m\u001b[1;33m\u001b[0m\u001b[0m\n\u001b[0;32m   2001\u001b[0m         \u001b[1;32melse\u001b[0m\u001b[1;33m:\u001b[0m\u001b[1;33m\u001b[0m\u001b[0m\n\u001b[1;32m-> 2002\u001b[1;33m             \u001b[0mindexer\u001b[0m \u001b[1;33m=\u001b[0m \u001b[0mself\u001b[0m\u001b[1;33m.\u001b[0m\u001b[0mloc\u001b[0m\u001b[1;33m.\u001b[0m\u001b[0m_convert_to_indexer\u001b[0m\u001b[1;33m(\u001b[0m\u001b[0mkey\u001b[0m\u001b[1;33m,\u001b[0m \u001b[0maxis\u001b[0m\u001b[1;33m=\u001b[0m\u001b[1;36m1\u001b[0m\u001b[1;33m)\u001b[0m\u001b[1;33m\u001b[0m\u001b[0m\n\u001b[0m\u001b[0;32m   2003\u001b[0m             \u001b[1;32mreturn\u001b[0m \u001b[0mself\u001b[0m\u001b[1;33m.\u001b[0m\u001b[0mtake\u001b[0m\u001b[1;33m(\u001b[0m\u001b[0mindexer\u001b[0m\u001b[1;33m,\u001b[0m \u001b[0maxis\u001b[0m\u001b[1;33m=\u001b[0m\u001b[1;36m1\u001b[0m\u001b[1;33m,\u001b[0m \u001b[0mconvert\u001b[0m\u001b[1;33m=\u001b[0m\u001b[1;32mTrue\u001b[0m\u001b[1;33m)\u001b[0m\u001b[1;33m\u001b[0m\u001b[0m\n\u001b[0;32m   2004\u001b[0m \u001b[1;33m\u001b[0m\u001b[0m\n",
      "\u001b[1;32m~\\Anaconda2\\envs\\py36\\lib\\site-packages\\pandas\\core\\indexing.py\u001b[0m in \u001b[0;36m_convert_to_indexer\u001b[1;34m(self, obj, axis, is_setter)\u001b[0m\n\u001b[0;32m   1229\u001b[0m                 \u001b[0mmask\u001b[0m \u001b[1;33m=\u001b[0m \u001b[0mcheck\u001b[0m \u001b[1;33m==\u001b[0m \u001b[1;33m-\u001b[0m\u001b[1;36m1\u001b[0m\u001b[1;33m\u001b[0m\u001b[0m\n\u001b[0;32m   1230\u001b[0m                 \u001b[1;32mif\u001b[0m \u001b[0mmask\u001b[0m\u001b[1;33m.\u001b[0m\u001b[0many\u001b[0m\u001b[1;33m(\u001b[0m\u001b[1;33m)\u001b[0m\u001b[1;33m:\u001b[0m\u001b[1;33m\u001b[0m\u001b[0m\n\u001b[1;32m-> 1231\u001b[1;33m                     \u001b[1;32mraise\u001b[0m \u001b[0mKeyError\u001b[0m\u001b[1;33m(\u001b[0m\u001b[1;34m'%s not in index'\u001b[0m \u001b[1;33m%\u001b[0m \u001b[0mobjarr\u001b[0m\u001b[1;33m[\u001b[0m\u001b[0mmask\u001b[0m\u001b[1;33m]\u001b[0m\u001b[1;33m)\u001b[0m\u001b[1;33m\u001b[0m\u001b[0m\n\u001b[0m\u001b[0;32m   1232\u001b[0m \u001b[1;33m\u001b[0m\u001b[0m\n\u001b[0;32m   1233\u001b[0m                 \u001b[1;32mreturn\u001b[0m \u001b[0m_values_from_object\u001b[0m\u001b[1;33m(\u001b[0m\u001b[0mindexer\u001b[0m\u001b[1;33m)\u001b[0m\u001b[1;33m\u001b[0m\u001b[0m\n",
      "\u001b[1;31mKeyError\u001b[0m: '[  1.05000000e+02   2.59200000e+03   1.67200000e+03   2.08340000e+04\\n   1.49000000e+02   7.20000000e+01   1.58000000e+02   4.59000000e+02\\n   4.00000000e+00   3.20000000e+01] not in index'"
     ]
    }
   ],
   "source": [
    "\n"
   ]
  },
  {
   "cell_type": "code",
   "execution_count": 42,
   "metadata": {},
   "outputs": [],
   "source": [
    "# Manually enter in career stats for missing players from career dataframe\n",
    "\n",
    "career_qb.loc['Tony Romo'] = [105,2592,1672,20834,149,72,158,459,4,32]\n",
    "career_qb.loc['Michael Vick'] = [111,2538,1422,17912,111,82,729,5219,33,59]\n",
    "career_qb.loc['Matt Schaub'] = [102,2279,1466,17936,98,58,157,337,4,25]\n",
    "career_qb.loc['Josh Freeman'] = [31,1315,795,9257,51,46,153,238,4,14]\n",
    "career_qb.loc['John Skelton'] = [13,401, 211,2575,13,16,11,38,0,4]\n",
    "career_qb.loc['Bruce Gradkowski'] = [39,698,370,3992, 21,26,82,333,0,13]\n",
    "career_qb.loc['TJ Yates'] = [6,134,82,949,3,3,14,57,0,4]\n",
    "career_qb.loc['Rusty Smith'] = [2,40,20,200,0,4,0,0,0,0]"
   ]
  },
  {
   "cell_type": "code",
   "execution_count": null,
   "metadata": {
    "collapsed": true
   },
   "outputs": [],
   "source": []
  },
  {
   "cell_type": "code",
   "execution_count": 43,
   "metadata": {
    "collapsed": true
   },
   "outputs": [],
   "source": [
    "Rookies = ['Robert Griffin III','Jake Locker','Andrew Luck', 'Russell Wilson',\n",
    "           'Ryan Tannehill','Brandon Weeden','Brock Osweiler','Kirk Cousins','Nick Foles','Ryan Lindley',\n",
    "          'Greg McElroy', 'Thaddeus Lewis']"
   ]
  },
  {
   "cell_type": "code",
   "execution_count": 44,
   "metadata": {
    "collapsed": true
   },
   "outputs": [],
   "source": [
    "for rook in Rookies:\n",
    "    career_qb.loc[rook] = 0"
   ]
  },
  {
   "cell_type": "code",
   "execution_count": 72,
   "metadata": {
    "collapsed": true
   },
   "outputs": [],
   "source": [
    "career_rb.reset_index(inplace=True)\n",
    "career_rb['Name'] = career_rb['Name'].apply(lambda x: x.strip())"
   ]
  },
  {
   "cell_type": "code",
   "execution_count": 82,
   "metadata": {
    "collapsed": true
   },
   "outputs": [],
   "source": [
    "temp = career_rb.iloc[indices]"
   ]
  },
  {
   "cell_type": "code",
   "execution_count": 5,
   "metadata": {
    "collapsed": true
   },
   "outputs": [],
   "source": [
    "raw_qb_2012 = raw_qb_2012.rename(columns={'Att.1':'rush_att',\n",
    "                       'Yds.1':'rush_yds',\n",
    "                       'Yds/Att.1':'rush_yd/att',\n",
    "                       'TD.1':'rush_td'})"
   ]
  },
  {
   "cell_type": "code",
   "execution_count": 6,
   "metadata": {
    "collapsed": true
   },
   "outputs": [],
   "source": [
    "team_stats = raw_qb_2012.groupby(['Player','Week','Opp']).sum()"
   ]
  },
  {
   "cell_type": "code",
   "execution_count": 7,
   "metadata": {
    "collapsed": true
   },
   "outputs": [],
   "source": [
    "team_stats.drop('Fantasy Points', axis=1, inplace=True)"
   ]
  },
  {
   "cell_type": "code",
   "execution_count": 8,
   "metadata": {},
   "outputs": [
    {
     "data": {
      "text/plain": [
       "(                        Comp  Att  Pct  Yds  Yds/Att  TD  Int  QB Rating  \\\n",
       " Player        Week Opp                                                     \n",
       " Aaron Rodgers 1    SF     30   44   68  303        7   2    1         93   \n",
       "               2    CHI    22   32   69  219        7   1    1         85   \n",
       "               3    SEA    26   39   67  223        6   0    0         81   \n",
       "               4    NO     31   41   76  319        8   4    1        120   \n",
       "               5    IND    20   32   63  235        7   3    1        103   \n",
       " \n",
       "                         rush_att  rush_yds  rush_yd/att  rush_td  \n",
       " Player        Week Opp                                            \n",
       " Aaron Rodgers 1    SF          5        27            5        0  \n",
       "               2    CHI         3        -6           -2        0  \n",
       "               3    SEA         2        17            9        0  \n",
       "               4    NO          5        13            3        0  \n",
       "               5    IND         5        57           11        0  , (629, 12))"
      ]
     },
     "execution_count": 8,
     "metadata": {},
     "output_type": "execute_result"
    }
   ],
   "source": [
    "team_stats.head(), team_stats.shape"
   ]
  },
  {
   "cell_type": "code",
   "execution_count": 9,
   "metadata": {
    "collapsed": true
   },
   "outputs": [],
   "source": [
    "# Define a dataframe to contain the career averages for all 2012 QBs\n",
    "def create_career_dataframe(df):\n",
    "    columns = []\n",
    "    for col in df.columns:\n",
    "        columns.append('{}_car'.format(col.lower()))\n",
    "    new_df = pd.DataFrame(columns=columns, index =df.index)\n",
    "    return new_df"
   ]
  },
  {
   "cell_type": "code",
   "execution_count": 10,
   "metadata": {
    "collapsed": true
   },
   "outputs": [],
   "source": [
    "qb_career_2012 = create_career_dataframe(team_stats)"
   ]
  },
  {
   "cell_type": "code",
   "execution_count": 11,
   "metadata": {
    "collapsed": true
   },
   "outputs": [],
   "source": [
    "# Week 1 stats are player's career average through 2011 season\n",
    "# Populate current dataframe with current year averages of players\n",
    "for col in team_stats:  # Iterate through every attribute in the team_stats dataframe\n",
    "    points=[\n",
    "        \n",
    "    ]  # Create an empty list to hold the season average of the current attribute\n",
    "    for player in team_stats.index.levels[0]:  # Iterate through every player in the team_stats df\n",
    "        total =[] # create an empty list to hold the weekly attributes value\n",
    "        for week in team_stats.loc[player].index: # Iterate throough every week for the current player\n",
    "            total.append(team_stats.loc[player].loc[week][col]) # Add player's value for the current week's attribute to the total list\n",
    "            points.append(np.mean(total))  # Add the average of the total list to the season average list\n",
    "    qb_career_2012['{}_car'.format(col.lower())] = points # Insert season average list for current attribute into the current stats dataframe\n",
    "    "
   ]
  },
  {
   "cell_type": "code",
   "execution_count": 12,
   "metadata": {},
   "outputs": [
    {
     "data": {
      "text/plain": [
       "(629, 12)"
      ]
     },
     "execution_count": 12,
     "metadata": {},
     "output_type": "execute_result"
    }
   ],
   "source": [
    "qb_career_2012.shape"
   ]
  },
  {
   "cell_type": "code",
   "execution_count": 13,
   "metadata": {
    "collapsed": true
   },
   "outputs": [],
   "source": [
    "qb_career_2012.to_csv('input/2012/qb/career_qb_stats.csv', index = True)"
   ]
  },
  {
   "cell_type": "code",
   "execution_count": 27,
   "metadata": {
    "collapsed": true
   },
   "outputs": [],
   "source": [
    "qb_career_2012['score'] = team_stats['Fantasy Points']"
   ]
  },
  {
   "cell_type": "code",
   "execution_count": 28,
   "metadata": {},
   "outputs": [
    {
     "data": {
      "text/html": [
       "<div>\n",
       "<style>\n",
       "    .dataframe thead tr:only-child th {\n",
       "        text-align: right;\n",
       "    }\n",
       "\n",
       "    .dataframe thead th {\n",
       "        text-align: left;\n",
       "    }\n",
       "\n",
       "    .dataframe tbody tr th {\n",
       "        vertical-align: top;\n",
       "    }\n",
       "</style>\n",
       "<table border=\"1\" class=\"dataframe\">\n",
       "  <thead>\n",
       "    <tr style=\"text-align: right;\">\n",
       "      <th></th>\n",
       "      <th></th>\n",
       "      <th></th>\n",
       "      <th>comp_car</th>\n",
       "      <th>att_car</th>\n",
       "      <th>pct_car</th>\n",
       "      <th>yds_car</th>\n",
       "      <th>yds/att_car</th>\n",
       "      <th>td_car</th>\n",
       "      <th>int_car</th>\n",
       "      <th>qb rating_car</th>\n",
       "      <th>rush_att_car</th>\n",
       "      <th>rush_yds_car</th>\n",
       "      <th>rush_yd/att_car</th>\n",
       "      <th>rush_td_car</th>\n",
       "      <th>fantasy points_car</th>\n",
       "      <th>score</th>\n",
       "    </tr>\n",
       "    <tr>\n",
       "      <th>Player</th>\n",
       "      <th>Week</th>\n",
       "      <th>Opp</th>\n",
       "      <th></th>\n",
       "      <th></th>\n",
       "      <th></th>\n",
       "      <th></th>\n",
       "      <th></th>\n",
       "      <th></th>\n",
       "      <th></th>\n",
       "      <th></th>\n",
       "      <th></th>\n",
       "      <th></th>\n",
       "      <th></th>\n",
       "      <th></th>\n",
       "      <th></th>\n",
       "      <th></th>\n",
       "    </tr>\n",
       "  </thead>\n",
       "  <tbody>\n",
       "    <tr>\n",
       "      <th rowspan=\"5\" valign=\"top\">Aaron Rodgers</th>\n",
       "      <th>1</th>\n",
       "      <th>SF</th>\n",
       "      <td>30.00</td>\n",
       "      <td>44.000000</td>\n",
       "      <td>68.0</td>\n",
       "      <td>303.000000</td>\n",
       "      <td>7.000000</td>\n",
       "      <td>2.00</td>\n",
       "      <td>1.000000</td>\n",
       "      <td>93.000000</td>\n",
       "      <td>5.000000</td>\n",
       "      <td>27.000000</td>\n",
       "      <td>5.00</td>\n",
       "      <td>0.0</td>\n",
       "      <td>22.820000</td>\n",
       "      <td>22.82</td>\n",
       "    </tr>\n",
       "    <tr>\n",
       "      <th>2</th>\n",
       "      <th>CHI</th>\n",
       "      <td>26.00</td>\n",
       "      <td>38.000000</td>\n",
       "      <td>68.5</td>\n",
       "      <td>261.000000</td>\n",
       "      <td>7.000000</td>\n",
       "      <td>1.50</td>\n",
       "      <td>1.000000</td>\n",
       "      <td>89.000000</td>\n",
       "      <td>4.000000</td>\n",
       "      <td>10.500000</td>\n",
       "      <td>1.50</td>\n",
       "      <td>0.0</td>\n",
       "      <td>16.490000</td>\n",
       "      <td>10.16</td>\n",
       "    </tr>\n",
       "    <tr>\n",
       "      <th>3</th>\n",
       "      <th>SEA</th>\n",
       "      <td>26.00</td>\n",
       "      <td>38.333333</td>\n",
       "      <td>68.0</td>\n",
       "      <td>248.333333</td>\n",
       "      <td>6.666667</td>\n",
       "      <td>1.00</td>\n",
       "      <td>0.666667</td>\n",
       "      <td>86.333333</td>\n",
       "      <td>3.333333</td>\n",
       "      <td>12.666667</td>\n",
       "      <td>4.00</td>\n",
       "      <td>0.0</td>\n",
       "      <td>14.533333</td>\n",
       "      <td>10.62</td>\n",
       "    </tr>\n",
       "    <tr>\n",
       "      <th>4</th>\n",
       "      <th>NO</th>\n",
       "      <td>27.25</td>\n",
       "      <td>39.000000</td>\n",
       "      <td>70.0</td>\n",
       "      <td>266.000000</td>\n",
       "      <td>7.000000</td>\n",
       "      <td>1.75</td>\n",
       "      <td>0.750000</td>\n",
       "      <td>94.750000</td>\n",
       "      <td>3.750000</td>\n",
       "      <td>12.750000</td>\n",
       "      <td>3.75</td>\n",
       "      <td>0.0</td>\n",
       "      <td>17.915000</td>\n",
       "      <td>28.06</td>\n",
       "    </tr>\n",
       "    <tr>\n",
       "      <th>5</th>\n",
       "      <th>IND</th>\n",
       "      <td>25.80</td>\n",
       "      <td>37.600000</td>\n",
       "      <td>68.6</td>\n",
       "      <td>259.800000</td>\n",
       "      <td>7.000000</td>\n",
       "      <td>2.00</td>\n",
       "      <td>0.800000</td>\n",
       "      <td>96.400000</td>\n",
       "      <td>4.000000</td>\n",
       "      <td>21.600000</td>\n",
       "      <td>5.20</td>\n",
       "      <td>0.0</td>\n",
       "      <td>19.352000</td>\n",
       "      <td>25.10</td>\n",
       "    </tr>\n",
       "  </tbody>\n",
       "</table>\n",
       "</div>"
      ],
      "text/plain": [
       "                        comp_car    att_car  pct_car     yds_car  yds/att_car  \\\n",
       "Player        Week Opp                                                          \n",
       "Aaron Rodgers 1    SF      30.00  44.000000     68.0  303.000000     7.000000   \n",
       "              2    CHI     26.00  38.000000     68.5  261.000000     7.000000   \n",
       "              3    SEA     26.00  38.333333     68.0  248.333333     6.666667   \n",
       "              4    NO      27.25  39.000000     70.0  266.000000     7.000000   \n",
       "              5    IND     25.80  37.600000     68.6  259.800000     7.000000   \n",
       "\n",
       "                        td_car   int_car  qb rating_car  rush_att_car  \\\n",
       "Player        Week Opp                                                  \n",
       "Aaron Rodgers 1    SF     2.00  1.000000      93.000000      5.000000   \n",
       "              2    CHI    1.50  1.000000      89.000000      4.000000   \n",
       "              3    SEA    1.00  0.666667      86.333333      3.333333   \n",
       "              4    NO     1.75  0.750000      94.750000      3.750000   \n",
       "              5    IND    2.00  0.800000      96.400000      4.000000   \n",
       "\n",
       "                        rush_yds_car  rush_yd/att_car  rush_td_car  \\\n",
       "Player        Week Opp                                               \n",
       "Aaron Rodgers 1    SF      27.000000             5.00          0.0   \n",
       "              2    CHI     10.500000             1.50          0.0   \n",
       "              3    SEA     12.666667             4.00          0.0   \n",
       "              4    NO      12.750000             3.75          0.0   \n",
       "              5    IND     21.600000             5.20          0.0   \n",
       "\n",
       "                        fantasy points_car  score  \n",
       "Player        Week Opp                             \n",
       "Aaron Rodgers 1    SF            22.820000  22.82  \n",
       "              2    CHI           16.490000  10.16  \n",
       "              3    SEA           14.533333  10.62  \n",
       "              4    NO            17.915000  28.06  \n",
       "              5    IND           19.352000  25.10  "
      ]
     },
     "execution_count": 28,
     "metadata": {},
     "output_type": "execute_result"
    }
   ],
   "source": [
    "qb_career_2012.head()"
   ]
  }
 ],
 "metadata": {
  "kernelspec": {
   "display_name": "Python 3",
   "language": "python",
   "name": "python3"
  },
  "language_info": {
   "codemirror_mode": {
    "name": "ipython",
    "version": 3
   },
   "file_extension": ".py",
   "mimetype": "text/x-python",
   "name": "python",
   "nbconvert_exporter": "python",
   "pygments_lexer": "ipython3",
   "version": "3.6.2"
  }
 },
 "nbformat": 4,
 "nbformat_minor": 2
}
