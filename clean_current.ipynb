{
 "cells": [
  {
   "cell_type": "code",
   "execution_count": 42,
   "metadata": {},
   "outputs": [],
   "source": [
    "import pandas as pd\n",
    "import numpy as np\n",
    "from sklearn.preprocessing import LabelEncoder, OneHotEncoder"
   ]
  },
  {
   "cell_type": "code",
   "execution_count": 34,
   "metadata": {
    "collapsed": true
   },
   "outputs": [],
   "source": [
    "qb,wr,te,rb = clean_current('C:/Users/bobal/Downloads/DKSalaries (1).csv',9)"
   ]
  },
  {
   "cell_type": "code",
   "execution_count": 33,
   "metadata": {
    "collapsed": true
   },
   "outputs": [],
   "source": [
    "# Parse upcoming week file by position\n",
    "\n",
    "def clean_current(csv, week):# Read in files\n",
    "\n",
    "    df_upcoming = pd.read_csv(csv)\n",
    "    def_2018 = pd.read_csv('input/def/fantasy-football-points-allowed-defense-by-position.csv')\n",
    "\n",
    "    # Obtain home and away attributes\n",
    "    \n",
    "    df_upcoming['year']=2018\n",
    "    df_upcoming['Week'] = week\n",
    "    df_upcoming['home'] = df_upcoming['Game Info'].apply(lambda x: (x.split('@')[1]).split()[0])\n",
    "    df_upcoming['away'] = df_upcoming['Game Info'].apply(lambda x: (x.split('@')[0]))\n",
    "    opp = []\n",
    "    for idx,team in enumerate(df_upcoming['TeamAbbrev']):\n",
    "        if team == df_upcoming.iloc[idx]['home']:\n",
    "            opp.append(df_upcoming.iloc[idx]['away'])\n",
    "        else:\n",
    "            opp.append(df_upcoming.iloc[idx]['home'])\n",
    "    df_upcoming['Opponent'] = opp\n",
    "    rb = []\n",
    "    wr = []\n",
    "    te = []\n",
    "    qb= []\n",
    "    for idx,pos in enumerate(df_upcoming['Position']):\n",
    "        if pos == 'RB':\n",
    "            rb.append(idx)\n",
    "        elif pos =='WR':\n",
    "            wr.append(idx)\n",
    "        elif pos =='TE':\n",
    "            te.append(idx)\n",
    "        elif pos =='QB':\n",
    "            qb.append(idx)\n",
    "    df_upcoming.drop(['Name + ID', 'Position','Roster Position','Game Info','ID','AvgPointsPerGame','Salary'],axis=1, inplace=True)\n",
    "    df_upcoming.rename(columns={'TeamAbbrev':'Team'}, inplace =True)\n",
    "\n",
    "    # Sort current week dataframe\n",
    "\n",
    "    qb_df = df_upcoming.iloc[qb]\n",
    "    rb_df = df_upcoming.iloc[rb]\n",
    "    wr_df = df_upcoming.iloc[wr]\n",
    "    te_df = df_upcoming.iloc[te]\n",
    "    \n",
    "    return qb_df,wr_df,te_df, rb_df"
   ]
  },
  {
   "cell_type": "code",
   "execution_count": 84,
   "metadata": {},
   "outputs": [
    {
     "data": {
      "text/html": [
       "<div>\n",
       "<style>\n",
       "    .dataframe thead tr:only-child th {\n",
       "        text-align: right;\n",
       "    }\n",
       "\n",
       "    .dataframe thead th {\n",
       "        text-align: left;\n",
       "    }\n",
       "\n",
       "    .dataframe tbody tr th {\n",
       "        vertical-align: top;\n",
       "    }\n",
       "</style>\n",
       "<table border=\"1\" class=\"dataframe\">\n",
       "  <thead>\n",
       "    <tr style=\"text-align: right;\">\n",
       "      <th></th>\n",
       "      <th>Name</th>\n",
       "      <th>Team</th>\n",
       "      <th>year</th>\n",
       "      <th>Week</th>\n",
       "      <th>home</th>\n",
       "      <th>away</th>\n",
       "      <th>Opponent</th>\n",
       "    </tr>\n",
       "  </thead>\n",
       "  <tbody>\n",
       "    <tr>\n",
       "      <th>0</th>\n",
       "      <td>Travis Kelce</td>\n",
       "      <td>KC</td>\n",
       "      <td>2018</td>\n",
       "      <td>9</td>\n",
       "      <td>CLE</td>\n",
       "      <td>KC</td>\n",
       "      <td>CLE</td>\n",
       "    </tr>\n",
       "    <tr>\n",
       "      <th>1</th>\n",
       "      <td>Jordan Reed</td>\n",
       "      <td>WAS</td>\n",
       "      <td>2018</td>\n",
       "      <td>9</td>\n",
       "      <td>WAS</td>\n",
       "      <td>ATL</td>\n",
       "      <td>ATL</td>\n",
       "    </tr>\n",
       "    <tr>\n",
       "      <th>2</th>\n",
       "      <td>Greg Olsen</td>\n",
       "      <td>CAR</td>\n",
       "      <td>2018</td>\n",
       "      <td>9</td>\n",
       "      <td>CAR</td>\n",
       "      <td>TB</td>\n",
       "      <td>TB</td>\n",
       "    </tr>\n",
       "    <tr>\n",
       "      <th>3</th>\n",
       "      <td>David Njoku</td>\n",
       "      <td>CLE</td>\n",
       "      <td>2018</td>\n",
       "      <td>9</td>\n",
       "      <td>CLE</td>\n",
       "      <td>KC</td>\n",
       "      <td>KC</td>\n",
       "    </tr>\n",
       "    <tr>\n",
       "      <th>4</th>\n",
       "      <td>Trey Burton</td>\n",
       "      <td>CHI</td>\n",
       "      <td>2018</td>\n",
       "      <td>9</td>\n",
       "      <td>BUF</td>\n",
       "      <td>CHI</td>\n",
       "      <td>BUF</td>\n",
       "    </tr>\n",
       "  </tbody>\n",
       "</table>\n",
       "</div>"
      ],
      "text/plain": [
       "           Name Team  year  Week home away Opponent\n",
       "0  Travis Kelce   KC  2018     9  CLE   KC      CLE\n",
       "1   Jordan Reed  WAS  2018     9  WAS  ATL      ATL\n",
       "2    Greg Olsen  CAR  2018     9  CAR   TB       TB\n",
       "3   David Njoku  CLE  2018     9  CLE   KC       KC\n",
       "4   Trey Burton  CHI  2018     9  BUF  CHI      BUF"
      ]
     },
     "execution_count": 84,
     "metadata": {},
     "output_type": "execute_result"
    }
   ],
   "source": [
    "te_cur = pd.read_csv('input/te/upcoming.csv')\n",
    "te_cur.head()"
   ]
  },
  {
   "cell_type": "code",
   "execution_count": 55,
   "metadata": {
    "collapsed": true
   },
   "outputs": [],
   "source": [
    "def_2018 = pd.read_csv('input/def/fantasy-football-points-allowed-defense-by-position.csv')"
   ]
  },
  {
   "cell_type": "code",
   "execution_count": 56,
   "metadata": {
    "collapsed": true
   },
   "outputs": [],
   "source": [
    "wk7 = pd.read_csv('input/def/wk7_def.csv')"
   ]
  },
  {
   "cell_type": "code",
   "execution_count": 57,
   "metadata": {
    "collapsed": true
   },
   "outputs": [],
   "source": [
    "position_dict = {'qb':'DraftKingsQuarterbackFantasyPointsAllowedAverage',\n",
    "                    'wr':'DraftKingsWideReceiverFantasyPointsAllowedAverage',\n",
    "                    'rb':'DraftKingsRunningbackFantasyPointsAllowedAverage',\n",
    "                    'te':'DraftKingsTightEndFantasyPointsAllowedAverage'}\n",
    "\n",
    "team_dict = {'New England Patriots':'NE',\n",
    "            'Green Bay Packers':'GB',\n",
    "            'Tampa Bay Buccaneers':'TB',\n",
    "            'Kansas City Chiefs':'KC',\n",
    "            'San Diego Chargers':'SD',\n",
    "            'St. Louis Rams':'STL',\n",
    "            'New Orleans Saints':'NO',\n",
    "            'New York Jets':'NYJ',\n",
    "            'New York Giants':'NYG',\n",
    "            'San Francisco 49ers':'SF',\n",
    "            'Los Angeles Rams':'LAR',\n",
    "            'Jacksonville Jaguars':'JAX',\n",
    "            'Los Angeles Chargers':'LAC'}\n",
    "\n",
    "\n",
    "surface_dict={'KC':'grass',\n",
    "             'CAR':'grass',\n",
    "              'WAS':'grass',\n",
    "              'CLE':'grass',\n",
    "              'MIA':'grass',\n",
    "              'PIT':'grass',\n",
    "              'GB':'grass',\n",
    "              'SF':'grass',\n",
    "              'PHI':'grass',\n",
    "              'LAR':'grass',\n",
    "              'BAL': 'grass',\n",
    "              'TEN':'grass',\n",
    "              'OAK':'grass',\n",
    "              'LAC':'grass',\n",
    "              'TB':'grass',\n",
    "              'CHI':'grass',\n",
    "              'DEN':'grass',\n",
    "              'ARI':'grass',\n",
    "              'DAL':'turf',\n",
    "              'SEA':'turf',\n",
    "              'DET':'turf',\n",
    "              'ATL':'turf',\n",
    "              'NE':'turf',\n",
    "              'IND':'turf',\n",
    "              'NO':'turf',\n",
    "              'NYG':'turf',\n",
    "              'NYJ':'turf',\n",
    "              'HOU':'turf',\n",
    "              'BUF':'turf',\n",
    "              'CIN':'turf',\n",
    "              'MIN':'turf',\n",
    "              'JAX':'grass'\n",
    "              \n",
    "             }"
   ]
  },
  {
   "cell_type": "code",
   "execution_count": 58,
   "metadata": {
    "collapsed": true
   },
   "outputs": [],
   "source": [
    "# Set wk8 defensive dataframe\n",
    "def_2018.sort_values(position_dict['qb'], inplace=True)\n",
    "def_2018.reset_index(inplace=True, drop=True)\n",
    "def_2018['Rank'] = def_2018.index + 1\n",
    "def_2018.index = def_2018['Team']\n",
    "\n",
    "# set wk7 defensive dataframe\n",
    "wk7.sort_values(position_dict['qb'], inplace=True)\n",
    "wk7.reset_index(inplace=True, drop=True)\n",
    "wk7['Rank'] = wk7.index + 1\n",
    "wk7.index = wk7['Team']"
   ]
  },
  {
   "cell_type": "code",
   "execution_count": 85,
   "metadata": {},
   "outputs": [],
   "source": [
    "dr = []\n",
    "for idx, team in enumerate(te_cur['Opponent']):\n",
    "    if team in list(def_2018.index):\n",
    "        dr.append(def_2018.loc[team]['Rank'])\n",
    "    else:\n",
    "        dr.append(wk7.loc[team]['Rank'])"
   ]
  },
  {
   "cell_type": "code",
   "execution_count": 86,
   "metadata": {},
   "outputs": [],
   "source": [
    "te_cur['def_rk'] = dr"
   ]
  },
  {
   "cell_type": "code",
   "execution_count": 87,
   "metadata": {},
   "outputs": [
    {
     "data": {
      "text/html": [
       "<div>\n",
       "<style>\n",
       "    .dataframe thead tr:only-child th {\n",
       "        text-align: right;\n",
       "    }\n",
       "\n",
       "    .dataframe thead th {\n",
       "        text-align: left;\n",
       "    }\n",
       "\n",
       "    .dataframe tbody tr th {\n",
       "        vertical-align: top;\n",
       "    }\n",
       "</style>\n",
       "<table border=\"1\" class=\"dataframe\">\n",
       "  <thead>\n",
       "    <tr style=\"text-align: right;\">\n",
       "      <th></th>\n",
       "      <th>Name</th>\n",
       "      <th>Team</th>\n",
       "      <th>year</th>\n",
       "      <th>Week</th>\n",
       "      <th>home</th>\n",
       "      <th>away</th>\n",
       "      <th>Opponent</th>\n",
       "      <th>def_rk</th>\n",
       "    </tr>\n",
       "  </thead>\n",
       "  <tbody>\n",
       "    <tr>\n",
       "      <th>0</th>\n",
       "      <td>Travis Kelce</td>\n",
       "      <td>KC</td>\n",
       "      <td>2018</td>\n",
       "      <td>9</td>\n",
       "      <td>CLE</td>\n",
       "      <td>KC</td>\n",
       "      <td>CLE</td>\n",
       "      <td>12</td>\n",
       "    </tr>\n",
       "    <tr>\n",
       "      <th>1</th>\n",
       "      <td>Jordan Reed</td>\n",
       "      <td>WAS</td>\n",
       "      <td>2018</td>\n",
       "      <td>9</td>\n",
       "      <td>WAS</td>\n",
       "      <td>ATL</td>\n",
       "      <td>ATL</td>\n",
       "      <td>23</td>\n",
       "    </tr>\n",
       "    <tr>\n",
       "      <th>2</th>\n",
       "      <td>Greg Olsen</td>\n",
       "      <td>CAR</td>\n",
       "      <td>2018</td>\n",
       "      <td>9</td>\n",
       "      <td>CAR</td>\n",
       "      <td>TB</td>\n",
       "      <td>TB</td>\n",
       "      <td>15</td>\n",
       "    </tr>\n",
       "    <tr>\n",
       "      <th>3</th>\n",
       "      <td>David Njoku</td>\n",
       "      <td>CLE</td>\n",
       "      <td>2018</td>\n",
       "      <td>9</td>\n",
       "      <td>CLE</td>\n",
       "      <td>KC</td>\n",
       "      <td>KC</td>\n",
       "      <td>10</td>\n",
       "    </tr>\n",
       "    <tr>\n",
       "      <th>4</th>\n",
       "      <td>Trey Burton</td>\n",
       "      <td>CHI</td>\n",
       "      <td>2018</td>\n",
       "      <td>9</td>\n",
       "      <td>BUF</td>\n",
       "      <td>CHI</td>\n",
       "      <td>BUF</td>\n",
       "      <td>9</td>\n",
       "    </tr>\n",
       "  </tbody>\n",
       "</table>\n",
       "</div>"
      ],
      "text/plain": [
       "           Name Team  year  Week home away Opponent  def_rk\n",
       "0  Travis Kelce   KC  2018     9  CLE   KC      CLE      12\n",
       "1   Jordan Reed  WAS  2018     9  WAS  ATL      ATL      23\n",
       "2    Greg Olsen  CAR  2018     9  CAR   TB       TB      15\n",
       "3   David Njoku  CLE  2018     9  CLE   KC       KC      10\n",
       "4   Trey Burton  CHI  2018     9  BUF  CHI      BUF       9"
      ]
     },
     "execution_count": 87,
     "metadata": {},
     "output_type": "execute_result"
    }
   ],
   "source": [
    "te_cur.head()"
   ]
  },
  {
   "cell_type": "code",
   "execution_count": 88,
   "metadata": {},
   "outputs": [],
   "source": [
    "\n",
    "sur = []\n",
    "for team in te_cur['home']:\n",
    "    sur.append(surface_dict[team])"
   ]
  },
  {
   "cell_type": "code",
   "execution_count": 89,
   "metadata": {},
   "outputs": [],
   "source": [
    "te_cur['surface']=sur"
   ]
  },
  {
   "cell_type": "code",
   "execution_count": 90,
   "metadata": {},
   "outputs": [],
   "source": [
    "home = []\n",
    "for team in te_cur['Team']:\n",
    "    if team in list(te_cur['home']):\n",
    "        home.append('home')\n",
    "    else:\n",
    "        home.append('away')"
   ]
  },
  {
   "cell_type": "code",
   "execution_count": 91,
   "metadata": {},
   "outputs": [],
   "source": [
    "te_cur['h/a'] = home"
   ]
  },
  {
   "cell_type": "code",
   "execution_count": 92,
   "metadata": {},
   "outputs": [],
   "source": [
    "te_cur = one_hot(te_cur)"
   ]
  },
  {
   "cell_type": "code",
   "execution_count": 93,
   "metadata": {},
   "outputs": [
    {
     "data": {
      "text/html": [
       "<div>\n",
       "<style>\n",
       "    .dataframe thead tr:only-child th {\n",
       "        text-align: right;\n",
       "    }\n",
       "\n",
       "    .dataframe thead th {\n",
       "        text-align: left;\n",
       "    }\n",
       "\n",
       "    .dataframe tbody tr th {\n",
       "        vertical-align: top;\n",
       "    }\n",
       "</style>\n",
       "<table border=\"1\" class=\"dataframe\">\n",
       "  <thead>\n",
       "    <tr style=\"text-align: right;\">\n",
       "      <th></th>\n",
       "      <th>Name</th>\n",
       "      <th>Team</th>\n",
       "      <th>year</th>\n",
       "      <th>Week</th>\n",
       "      <th>home</th>\n",
       "      <th>away</th>\n",
       "      <th>Opponent</th>\n",
       "      <th>def_rk</th>\n",
       "      <th>surface</th>\n",
       "      <th>h/a</th>\n",
       "      <th>h/a_encoded</th>\n",
       "      <th>surface_encoded</th>\n",
       "      <th>h/a_0</th>\n",
       "      <th>h/a_1</th>\n",
       "      <th>surface_0</th>\n",
       "      <th>surface_1</th>\n",
       "    </tr>\n",
       "  </thead>\n",
       "  <tbody>\n",
       "    <tr>\n",
       "      <th>0</th>\n",
       "      <td>Travis Kelce</td>\n",
       "      <td>KC</td>\n",
       "      <td>2018</td>\n",
       "      <td>9</td>\n",
       "      <td>CLE</td>\n",
       "      <td>KC</td>\n",
       "      <td>CLE</td>\n",
       "      <td>12</td>\n",
       "      <td>grass</td>\n",
       "      <td>away</td>\n",
       "      <td>0</td>\n",
       "      <td>0</td>\n",
       "      <td>1.0</td>\n",
       "      <td>0.0</td>\n",
       "      <td>1.0</td>\n",
       "      <td>0.0</td>\n",
       "    </tr>\n",
       "    <tr>\n",
       "      <th>1</th>\n",
       "      <td>Jordan Reed</td>\n",
       "      <td>WAS</td>\n",
       "      <td>2018</td>\n",
       "      <td>9</td>\n",
       "      <td>WAS</td>\n",
       "      <td>ATL</td>\n",
       "      <td>ATL</td>\n",
       "      <td>23</td>\n",
       "      <td>grass</td>\n",
       "      <td>home</td>\n",
       "      <td>1</td>\n",
       "      <td>0</td>\n",
       "      <td>0.0</td>\n",
       "      <td>1.0</td>\n",
       "      <td>1.0</td>\n",
       "      <td>0.0</td>\n",
       "    </tr>\n",
       "    <tr>\n",
       "      <th>2</th>\n",
       "      <td>Greg Olsen</td>\n",
       "      <td>CAR</td>\n",
       "      <td>2018</td>\n",
       "      <td>9</td>\n",
       "      <td>CAR</td>\n",
       "      <td>TB</td>\n",
       "      <td>TB</td>\n",
       "      <td>15</td>\n",
       "      <td>grass</td>\n",
       "      <td>home</td>\n",
       "      <td>1</td>\n",
       "      <td>0</td>\n",
       "      <td>0.0</td>\n",
       "      <td>1.0</td>\n",
       "      <td>1.0</td>\n",
       "      <td>0.0</td>\n",
       "    </tr>\n",
       "    <tr>\n",
       "      <th>3</th>\n",
       "      <td>David Njoku</td>\n",
       "      <td>CLE</td>\n",
       "      <td>2018</td>\n",
       "      <td>9</td>\n",
       "      <td>CLE</td>\n",
       "      <td>KC</td>\n",
       "      <td>KC</td>\n",
       "      <td>10</td>\n",
       "      <td>grass</td>\n",
       "      <td>home</td>\n",
       "      <td>1</td>\n",
       "      <td>0</td>\n",
       "      <td>0.0</td>\n",
       "      <td>1.0</td>\n",
       "      <td>1.0</td>\n",
       "      <td>0.0</td>\n",
       "    </tr>\n",
       "    <tr>\n",
       "      <th>4</th>\n",
       "      <td>Trey Burton</td>\n",
       "      <td>CHI</td>\n",
       "      <td>2018</td>\n",
       "      <td>9</td>\n",
       "      <td>BUF</td>\n",
       "      <td>CHI</td>\n",
       "      <td>BUF</td>\n",
       "      <td>9</td>\n",
       "      <td>turf</td>\n",
       "      <td>away</td>\n",
       "      <td>0</td>\n",
       "      <td>1</td>\n",
       "      <td>1.0</td>\n",
       "      <td>0.0</td>\n",
       "      <td>0.0</td>\n",
       "      <td>1.0</td>\n",
       "    </tr>\n",
       "  </tbody>\n",
       "</table>\n",
       "</div>"
      ],
      "text/plain": [
       "           Name Team  year  Week home away Opponent  def_rk surface   h/a  \\\n",
       "0  Travis Kelce   KC  2018     9  CLE   KC      CLE      12   grass  away   \n",
       "1   Jordan Reed  WAS  2018     9  WAS  ATL      ATL      23   grass  home   \n",
       "2    Greg Olsen  CAR  2018     9  CAR   TB       TB      15   grass  home   \n",
       "3   David Njoku  CLE  2018     9  CLE   KC       KC      10   grass  home   \n",
       "4   Trey Burton  CHI  2018     9  BUF  CHI      BUF       9    turf  away   \n",
       "\n",
       "   h/a_encoded  surface_encoded  h/a_0  h/a_1  surface_0  surface_1  \n",
       "0            0                0    1.0    0.0        1.0        0.0  \n",
       "1            1                0    0.0    1.0        1.0        0.0  \n",
       "2            1                0    0.0    1.0        1.0        0.0  \n",
       "3            1                0    0.0    1.0        1.0        0.0  \n",
       "4            0                1    1.0    0.0        0.0        1.0  "
      ]
     },
     "execution_count": 93,
     "metadata": {},
     "output_type": "execute_result"
    }
   ],
   "source": [
    "te_cur.head()"
   ]
  },
  {
   "cell_type": "code",
   "execution_count": 94,
   "metadata": {},
   "outputs": [],
   "source": [
    "te_cur.drop(['home','away','surface','h/a','surface_encoded','h/a_encoded','h/a_0','surface_1'], axis =1, inplace=True)"
   ]
  },
  {
   "cell_type": "code",
   "execution_count": 20,
   "metadata": {
    "collapsed": true
   },
   "outputs": [],
   "source": [
    "qb.reset_index(inplace=True, drop=True)"
   ]
  },
  {
   "cell_type": "code",
   "execution_count": 24,
   "metadata": {
    "collapsed": true
   },
   "outputs": [],
   "source": [
    "qb.drop(['Name + ID', 'Position','Roster Position','Game Info','ID','AvgPointsPerGame','Salary'],axis=1, inplace=True)"
   ]
  },
  {
   "cell_type": "code",
   "execution_count": 96,
   "metadata": {},
   "outputs": [],
   "source": [
    "te_cur.to_csv('input/te/te_cur.csv', index=False)\n",
    "wr_cur.to_csv('input/wr/wr_cur.csv', index=False)\n",
    "rb_cur.to_csv('input/rb/rb_cur.csv', index=False)\n",
    "qb_cur.to_csv('input/qb/qb_cur.csv', index=False)"
   ]
  },
  {
   "cell_type": "code",
   "execution_count": 39,
   "metadata": {
    "collapsed": true
   },
   "outputs": [],
   "source": [
    "qb.to_csv('input/qb/upcoming.csv', index=False)\n",
    "rb.to_csv('input/rb/upcoming.csv', index=False)\n",
    "wr.to_csv('input/wr/upcoming.csv',index=False)\n",
    "te.to_csv('input/te/upcoming.csv',index=False)"
   ]
  },
  {
   "cell_type": "code",
   "execution_count": null,
   "metadata": {
    "collapsed": true
   },
   "outputs": [],
   "source": [
    "def add_defensive_rank(df, df1, position):\n",
    "    df1.sort_values(position_dict[position], inplace=True)\n",
    "    df1.reset_index(inplace=True, drop=True)\n",
    "    df1['Rank']= df1.index+1\n",
    "    df1.index=df1['Team']\n",
    "\n",
    "# Map defensive rnking to eack player in the statist  ical dataframe \n",
    "\n",
    "    df['def_rk'] = list(map(lambda x: df1.loc[x]['Rank'], df['Opponent']))\n",
    "    \n",
    "    return df\n"
   ]
  },
  {
   "cell_type": "code",
   "execution_count": 38,
   "metadata": {
    "collapsed": true
   },
   "outputs": [],
   "source": [
    "# One hot encode all non numeric attributes\n",
    "\n",
    "\n",
    "def one_hot(df):\n",
    "    df.reset_index(inplace=True, drop=True)\n",
    "    encoder = LabelEncoder()\n",
    "    df['h/a_encoded'] = encoder.fit_transform(df['h/a'])\n",
    "    df['surface_encoded'] = encoder.fit_transform(df['surface'])\n",
    "\n",
    "\n",
    "    home =OneHotEncoder()\n",
    "    surface = OneHotEncoder()\n",
    "\n",
    "    X = home.fit_transform(df['h/a_encoded'].values.reshape(-1,1)).toarray()\n",
    "    Xs = surface.fit_transform(df['surface_encoded'].values.reshape(-1,1)).toarray()\n",
    "\n",
    "    dfOneHot = pd.DataFrame(X, columns = [\"h/a_\"+str(int(i)) for i in range(X.shape[1])])\n",
    "    df = pd.concat([df, dfOneHot], axis=1)\n",
    "\n",
    "\n",
    "    dfOneHot = pd.DataFrame(Xs, columns = ['surface_'+str(int(i)) for i in range(Xs.shape[1])])\n",
    "    df = pd.concat([df, dfOneHot], axis=1)\n",
    "\n",
    "    return df"
   ]
  },
  {
   "cell_type": "code",
   "execution_count": null,
   "metadata": {
    "collapsed": true
   },
   "outputs": [],
   "source": []
  }
 ],
 "metadata": {
  "kernelspec": {
   "display_name": "Python 3",
   "language": "python",
   "name": "python3"
  },
  "language_info": {
   "codemirror_mode": {
    "name": "ipython",
    "version": 3
   },
   "file_extension": ".py",
   "mimetype": "text/x-python",
   "name": "python",
   "nbconvert_exporter": "python",
   "pygments_lexer": "ipython3",
   "version": "3.6.2"
  }
 },
 "nbformat": 4,
 "nbformat_minor": 2
}
