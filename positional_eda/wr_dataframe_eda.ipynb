{
 "cells": [
  {
   "cell_type": "code",
   "execution_count": 27,
   "metadata": {
    "collapsed": true
   },
   "outputs": [],
   "source": [
    "import pandas as pd\n",
    "import numpy as np\n",
    "import matplotlib.pyplot as plt\n",
    "import seaborn as sns\n",
    "\n",
    "%matplotlib inline"
   ]
  },
  {
   "cell_type": "code",
   "execution_count": 20,
   "metadata": {
    "collapsed": true
   },
   "outputs": [],
   "source": [
    "wr = pd.read_csv('../input/wr/dk_stats_loc.csv')"
   ]
  },
  {
   "cell_type": "code",
   "execution_count": 9,
   "metadata": {},
   "outputs": [
    {
     "name": "stderr",
     "output_type": "stream",
     "text": [
      "C:\\Users\\bobal\\Anaconda2\\envs\\py36\\lib\\site-packages\\ipykernel_launcher.py:5: SettingWithCopyWarning: \n",
      "A value is trying to be set on a copy of a slice from a DataFrame\n",
      "\n",
      "See the caveats in the documentation: http://pandas.pydata.org/pandas-docs/stable/indexing.html#indexing-view-versus-copy\n",
      "  \"\"\"\n"
     ]
    }
   ],
   "source": [
    "players_lst = wr_2018['Name'].unique()\n",
    "for player in players_lst:\n",
    "    df = wr_2018[wr_2018['Name']== player]\n",
    "    df.reset_index(inplace=True)\n",
    "    df.drop(df.index[:8], inplace=True)\n",
    "    try:\n",
    "        df_2018 = pd.concat([df_2018, df])\n",
    "    except:\n",
    "        df_2018 = pd.DataFrame()\n",
    "        \n",
    "        "
   ]
  },
  {
   "cell_type": "code",
   "execution_count": 5,
   "metadata": {
    "collapsed": true
   },
   "outputs": [],
   "source": [
    "wr.replace('null',0, inplace=True)"
   ]
  },
  {
   "cell_type": "code",
   "execution_count": 6,
   "metadata": {},
   "outputs": [],
   "source": [
    "wr['salary'] = wr['salary'].apply(lambda x: int(x))\n",
    "wr['h/a_1'] = wr['h/a_1'].astype('category')\n",
    "wr['surface_0'] = wr['surface_0'].astype('category')\n",
    "wr['def_rk'] = wr['def_rk'].astype('category')\n",
    "wr['PlayerID'] = wr['PlayerID'].astype('category')"
   ]
  },
  {
   "cell_type": "code",
   "execution_count": 7,
   "metadata": {},
   "outputs": [
    {
     "data": {
      "text/plain": [
       "PlayerID      category\n",
       "Name            object\n",
       "Team            object\n",
       "Week             int64\n",
       "Opponent        object\n",
       "tar              int64\n",
       "rec              int64\n",
       "rec%           float64\n",
       "yds              int64\n",
       "td               int64\n",
       "yds/tar        float64\n",
       "yds/rec        float64\n",
       "ru_att           int64\n",
       "ru_yds           int64\n",
       "ru_yds/att     float64\n",
       "ru_td            int64\n",
       "salary           int64\n",
       "h/a_1         category\n",
       "surface_0     category\n",
       "def_rk        category\n",
       "year             int64\n",
       "points         float64\n",
       "dtype: object"
      ]
     },
     "execution_count": 7,
     "metadata": {},
     "output_type": "execute_result"
    }
   ],
   "source": [
    "wr.dtypes"
   ]
  },
  {
   "cell_type": "code",
   "execution_count": 8,
   "metadata": {},
   "outputs": [
    {
     "data": {
      "text/html": [
       "<div>\n",
       "<style>\n",
       "    .dataframe thead tr:only-child th {\n",
       "        text-align: right;\n",
       "    }\n",
       "\n",
       "    .dataframe thead th {\n",
       "        text-align: left;\n",
       "    }\n",
       "\n",
       "    .dataframe tbody tr th {\n",
       "        vertical-align: top;\n",
       "    }\n",
       "</style>\n",
       "<table border=\"1\" class=\"dataframe\">\n",
       "  <thead>\n",
       "    <tr style=\"text-align: right;\">\n",
       "      <th></th>\n",
       "      <th>Week</th>\n",
       "      <th>tar</th>\n",
       "      <th>rec</th>\n",
       "      <th>rec%</th>\n",
       "      <th>yds</th>\n",
       "      <th>td</th>\n",
       "      <th>yds/tar</th>\n",
       "      <th>yds/rec</th>\n",
       "      <th>ru_att</th>\n",
       "      <th>ru_yds</th>\n",
       "      <th>ru_yds/att</th>\n",
       "      <th>ru_td</th>\n",
       "      <th>salary</th>\n",
       "      <th>year</th>\n",
       "      <th>points</th>\n",
       "    </tr>\n",
       "  </thead>\n",
       "  <tbody>\n",
       "    <tr>\n",
       "      <th>count</th>\n",
       "      <td>7887.000000</td>\n",
       "      <td>7887.000000</td>\n",
       "      <td>7887.000000</td>\n",
       "      <td>7887.000000</td>\n",
       "      <td>7887.000000</td>\n",
       "      <td>7887.000000</td>\n",
       "      <td>7887.000000</td>\n",
       "      <td>7887.000000</td>\n",
       "      <td>7887.000000</td>\n",
       "      <td>7887.000000</td>\n",
       "      <td>7887.000000</td>\n",
       "      <td>7887.000000</td>\n",
       "      <td>7887.000000</td>\n",
       "      <td>7887.000000</td>\n",
       "      <td>7887.000000</td>\n",
       "    </tr>\n",
       "    <tr>\n",
       "      <th>mean</th>\n",
       "      <td>8.663497</td>\n",
       "      <td>4.273742</td>\n",
       "      <td>2.558387</td>\n",
       "      <td>47.695486</td>\n",
       "      <td>33.019019</td>\n",
       "      <td>0.201851</td>\n",
       "      <td>6.150856</td>\n",
       "      <td>9.542183</td>\n",
       "      <td>0.117408</td>\n",
       "      <td>0.722328</td>\n",
       "      <td>0.539559</td>\n",
       "      <td>0.004184</td>\n",
       "      <td>3929.478889</td>\n",
       "      <td>2016.128439</td>\n",
       "      <td>7.385292</td>\n",
       "    </tr>\n",
       "    <tr>\n",
       "      <th>std</th>\n",
       "      <td>5.078273</td>\n",
       "      <td>3.814990</td>\n",
       "      <td>2.547367</td>\n",
       "      <td>35.085861</td>\n",
       "      <td>37.013249</td>\n",
       "      <td>0.462471</td>\n",
       "      <td>6.341183</td>\n",
       "      <td>8.888123</td>\n",
       "      <td>0.462557</td>\n",
       "      <td>4.117318</td>\n",
       "      <td>3.074510</td>\n",
       "      <td>0.066489</td>\n",
       "      <td>1712.089317</td>\n",
       "      <td>0.920012</td>\n",
       "      <td>8.262671</td>\n",
       "    </tr>\n",
       "    <tr>\n",
       "      <th>min</th>\n",
       "      <td>1.000000</td>\n",
       "      <td>0.000000</td>\n",
       "      <td>0.000000</td>\n",
       "      <td>0.000000</td>\n",
       "      <td>-7.000000</td>\n",
       "      <td>0.000000</td>\n",
       "      <td>-7.000000</td>\n",
       "      <td>-7.000000</td>\n",
       "      <td>0.000000</td>\n",
       "      <td>-14.000000</td>\n",
       "      <td>-14.000000</td>\n",
       "      <td>0.000000</td>\n",
       "      <td>0.000000</td>\n",
       "      <td>2015.000000</td>\n",
       "      <td>-1.300000</td>\n",
       "    </tr>\n",
       "    <tr>\n",
       "      <th>25%</th>\n",
       "      <td>4.000000</td>\n",
       "      <td>1.000000</td>\n",
       "      <td>0.000000</td>\n",
       "      <td>0.000000</td>\n",
       "      <td>0.000000</td>\n",
       "      <td>0.000000</td>\n",
       "      <td>0.000000</td>\n",
       "      <td>0.000000</td>\n",
       "      <td>0.000000</td>\n",
       "      <td>0.000000</td>\n",
       "      <td>0.000000</td>\n",
       "      <td>0.000000</td>\n",
       "      <td>3000.000000</td>\n",
       "      <td>2015.000000</td>\n",
       "      <td>0.000000</td>\n",
       "    </tr>\n",
       "    <tr>\n",
       "      <th>50%</th>\n",
       "      <td>9.000000</td>\n",
       "      <td>4.000000</td>\n",
       "      <td>2.000000</td>\n",
       "      <td>50.000000</td>\n",
       "      <td>21.000000</td>\n",
       "      <td>0.000000</td>\n",
       "      <td>5.400000</td>\n",
       "      <td>9.000000</td>\n",
       "      <td>0.000000</td>\n",
       "      <td>0.000000</td>\n",
       "      <td>0.000000</td>\n",
       "      <td>0.000000</td>\n",
       "      <td>3300.000000</td>\n",
       "      <td>2016.000000</td>\n",
       "      <td>4.700000</td>\n",
       "    </tr>\n",
       "    <tr>\n",
       "      <th>75%</th>\n",
       "      <td>13.000000</td>\n",
       "      <td>7.000000</td>\n",
       "      <td>4.000000</td>\n",
       "      <td>75.000000</td>\n",
       "      <td>52.000000</td>\n",
       "      <td>0.000000</td>\n",
       "      <td>9.000000</td>\n",
       "      <td>14.000000</td>\n",
       "      <td>0.000000</td>\n",
       "      <td>0.000000</td>\n",
       "      <td>0.000000</td>\n",
       "      <td>0.000000</td>\n",
       "      <td>4700.000000</td>\n",
       "      <td>2017.000000</td>\n",
       "      <td>11.500000</td>\n",
       "    </tr>\n",
       "    <tr>\n",
       "      <th>max</th>\n",
       "      <td>17.000000</td>\n",
       "      <td>23.000000</td>\n",
       "      <td>17.000000</td>\n",
       "      <td>100.000000</td>\n",
       "      <td>300.000000</td>\n",
       "      <td>3.000000</td>\n",
       "      <td>67.000000</td>\n",
       "      <td>83.000000</td>\n",
       "      <td>10.000000</td>\n",
       "      <td>95.000000</td>\n",
       "      <td>75.000000</td>\n",
       "      <td>2.000000</td>\n",
       "      <td>10000.000000</td>\n",
       "      <td>2018.000000</td>\n",
       "      <td>53.800000</td>\n",
       "    </tr>\n",
       "  </tbody>\n",
       "</table>\n",
       "</div>"
      ],
      "text/plain": [
       "              Week          tar          rec         rec%          yds  \\\n",
       "count  7887.000000  7887.000000  7887.000000  7887.000000  7887.000000   \n",
       "mean      8.663497     4.273742     2.558387    47.695486    33.019019   \n",
       "std       5.078273     3.814990     2.547367    35.085861    37.013249   \n",
       "min       1.000000     0.000000     0.000000     0.000000    -7.000000   \n",
       "25%       4.000000     1.000000     0.000000     0.000000     0.000000   \n",
       "50%       9.000000     4.000000     2.000000    50.000000    21.000000   \n",
       "75%      13.000000     7.000000     4.000000    75.000000    52.000000   \n",
       "max      17.000000    23.000000    17.000000   100.000000   300.000000   \n",
       "\n",
       "                td      yds/tar      yds/rec       ru_att       ru_yds  \\\n",
       "count  7887.000000  7887.000000  7887.000000  7887.000000  7887.000000   \n",
       "mean      0.201851     6.150856     9.542183     0.117408     0.722328   \n",
       "std       0.462471     6.341183     8.888123     0.462557     4.117318   \n",
       "min       0.000000    -7.000000    -7.000000     0.000000   -14.000000   \n",
       "25%       0.000000     0.000000     0.000000     0.000000     0.000000   \n",
       "50%       0.000000     5.400000     9.000000     0.000000     0.000000   \n",
       "75%       0.000000     9.000000    14.000000     0.000000     0.000000   \n",
       "max       3.000000    67.000000    83.000000    10.000000    95.000000   \n",
       "\n",
       "        ru_yds/att        ru_td        salary         year       points  \n",
       "count  7887.000000  7887.000000   7887.000000  7887.000000  7887.000000  \n",
       "mean      0.539559     0.004184   3929.478889  2016.128439     7.385292  \n",
       "std       3.074510     0.066489   1712.089317     0.920012     8.262671  \n",
       "min     -14.000000     0.000000      0.000000  2015.000000    -1.300000  \n",
       "25%       0.000000     0.000000   3000.000000  2015.000000     0.000000  \n",
       "50%       0.000000     0.000000   3300.000000  2016.000000     4.700000  \n",
       "75%       0.000000     0.000000   4700.000000  2017.000000    11.500000  \n",
       "max      75.000000     2.000000  10000.000000  2018.000000    53.800000  "
      ]
     },
     "execution_count": 8,
     "metadata": {},
     "output_type": "execute_result"
    }
   ],
   "source": [
    "wr.describe()"
   ]
  },
  {
   "cell_type": "code",
   "execution_count": 38,
   "metadata": {},
   "outputs": [
    {
     "data": {
      "text/plain": [
       "Index(['PlayerID', 'Name', 'Team', 'Week', 'Opponent', 'tar', 'rec', 'rec%',\n",
       "       'yds', 'td', 'yds/tar', 'yds/rec', 'ru_att', 'ru_yds', 'ru_yds/att',\n",
       "       'ru_td', 'salary', 'h/a_1', 'surface_0', 'def_rk', 'year', 'points'],\n",
       "      dtype='object')"
      ]
     },
     "execution_count": 38,
     "metadata": {},
     "output_type": "execute_result"
    }
   ],
   "source": [
    "wr.columns"
   ]
  },
  {
   "cell_type": "markdown",
   "metadata": {},
   "source": [
    "## Golden Tate"
   ]
  },
  {
   "cell_type": "code",
   "execution_count": 31,
   "metadata": {},
   "outputs": [],
   "source": [
    "tate_vs_GB = ((wr.groupby(['Name','h/a_1','Opponent']).mean()).loc['Golden Tate']).loc[1.0].loc['GB']\n",
    "\n",
    "tate = (wr.groupby('Name').mean()).loc['Golden Tate']\n",
    "\n",
    "tate_home = (wr.groupby(['Name','h/a_1']).mean()).loc['Golden Tate'].loc[1.0]"
   ]
  },
  {
   "cell_type": "code",
   "execution_count": 32,
   "metadata": {},
   "outputs": [
    {
     "name": "stdout",
     "output_type": "stream",
     "text": [
      "PlayerID\n",
      "Week\n",
      "tar\n",
      "rec\n",
      "rec%\n",
      "yds\n",
      "td\n",
      "yds/tar\n",
      "yds/rec\n",
      "ru_att\n",
      "ru_yds\n",
      "ru_yds/att\n",
      "ru_td\n",
      "surface_0\n",
      "def_rk\n",
      "year\n",
      "points\n"
     ]
    }
   ],
   "source": [
    "for idx in tate_home.index:\n",
    "    print(idx)"
   ]
  },
  {
   "cell_type": "code",
   "execution_count": 33,
   "metadata": {},
   "outputs": [
    {
     "data": {
      "image/png": "[encoded data removed]",
      "text/plain": [
       "<Figure size 720x360 with 1 Axes>"
      ]
     },
     "metadata": {},
     "output_type": "display_data"
    },
    {
     "data": {
      "image/png": "[encoded data removed]",
      "text/plain": [
       "<Figure size 720x360 with 1 Axes>"
      ]
     },
     "metadata": {},
     "output_type": "display_data"
    },
    {
     "data": {
      "image/png": "[encoded data removed]",
      "text/plain": [
       "<Figure size 720x360 with 1 Axes>"
      ]
     },
     "metadata": {},
     "output_type": "display_data"
    },
    {
     "data": {
      "image/png": "[encoded data removed]",
      "text/plain": [
       "<Figure size 720x360 with 1 Axes>"
      ]
     },
     "metadata": {},
     "output_type": "display_data"
    },
    {
     "data": {
      "image/png": "[encoded data removed]",
      "text/plain": [
       "<Figure size 720x360 with 1 Axes>"
      ]
     },
     "metadata": {},
     "output_type": "display_data"
    },
    {
     "data": {
      "image/png": "[encoded data removed]",
      "text/plain": [
       "<Figure size 720x360 with 1 Axes>"
      ]
     },
     "metadata": {},
     "output_type": "display_data"
    },
    {
     "data": {
      "image/png": "[encoded data removed]",
      "text/plain": [
       "<Figure size 720x360 with 1 Axes>"
      ]
     },
     "metadata": {},
     "output_type": "display_data"
    },
    {
     "data": {
      "image/png": "[encoded data removed]",
      "text/plain": [
       "<Figure size 720x360 with 1 Axes>"
      ]
     },
     "metadata": {},
     "output_type": "display_data"
    },
    {
     "data": {
      "image/png": "[encoded data removed]",
      "text/plain": [
       "<Figure size 720x360 with 1 Axes>"
      ]
     },
     "metadata": {},
     "output_type": "display_data"
    },
    {
     "data": {
      "image/png": "[encoded data removed]",
      "text/plain": [
       "<Figure size 720x360 with 1 Axes>"
      ]
     },
     "metadata": {},
     "output_type": "display_data"
    },
    {
     "data": {
      "image/png": "[encoded data removed]",
      "text/plain": [
       "<Figure size 720x360 with 1 Axes>"
      ]
     },
     "metadata": {},
     "output_type": "display_data"
    },
    {
     "data": {
      "image/png": "[encoded data removed]",
      "text/plain": [
       "<Figure size 720x360 with 1 Axes>"
      ]
     },
     "metadata": {},
     "output_type": "display_data"
    },
    {
     "data": {
      "image/png": "[encoded data removed]",
      "text/plain": [
       "<Figure size 720x360 with 1 Axes>"
      ]
     },
     "metadata": {},
     "output_type": "display_data"
    },
    {
     "data": {
      "image/png": "[encoded data removed]",
      "text/plain": [
       "<Figure size 720x360 with 1 Axes>"
      ]
     },
     "metadata": {},
     "output_type": "display_data"
    }
   ],
   "source": [
    "#plt.figure(figsize=(15,15))\n",
    "for idx in tate_home.index[3:]:\n",
    "    n_groups =1\n",
    "    fig, ax = plt.subplots(figsize=(10,5))\n",
    "    index = np.arange(n_groups)\n",
    "    bar_width = 0.10\n",
    "    opacity = 0.8\n",
    "\n",
    "    rects1 = plt.bar(index, tate_home[idx], bar_width,\n",
    "                     alpha=opacity,\n",
    "                     color='b',\n",
    "                     label='Tate @ Home')\n",
    "\n",
    "    rects2 = plt.bar(index + bar_width, tate_vs_GB[idx], bar_width,\n",
    "                     alpha=opacity,\n",
    "                     color='g',\n",
    "                     label='Tate vs GB @ Home')\n",
    "\n",
    "    plt.xlabel('Home v GB')\n",
    "    plt.ylabel(idx)\n",
    "    plt.title('Tate A Home vs Tate @ Home vs GB')\n",
    "    plt.xticks(index + bar_width, ('A', 'B'))\n",
    "    plt.legend()\n",
    "\n",
    "    plt.tight_layout()\n",
    "    plt.show()\n"
   ]
  },
  {
   "cell_type": "code",
   "execution_count": 19,
   "metadata": {},
   "outputs": [
    {
     "data": {
      "text/plain": [
       "CategoricalIndex([0.0, 1.0], categories=[0.0, 1.0], ordered=False, name='h/a_1', dtype='category')"
      ]
     },
     "execution_count": 19,
     "metadata": {},
     "output_type": "execute_result"
    }
   ],
   "source": [
    "tate_home.index"
   ]
  },
  {
   "cell_type": "code",
   "execution_count": 39,
   "metadata": {
    "collapsed": true
   },
   "outputs": [],
   "source": [
    "def boxplotter(data, column_name):\n",
    "    fig= plt.figure(figsize=(6,4))\n",
    "\n",
    "    ax = sns.boxplot(data[column_name], orient='v',\n",
    "                    fliersize=8, linewidth=1.5, notch=False,\n",
    "                    saturation=0.5)\n",
    "    ax.set_title(column_name, fontsize=20)\n",
    "    plt.show()"
   ]
  },
  {
   "cell_type": "code",
   "execution_count": 65,
   "metadata": {
    "collapsed": true
   },
   "outputs": [],
   "source": [
    "rec_cols = [col for col in wr.columns if 'ru' not in col and wr[col].dtype.name != ('category')]\n",
    "rushing_cols= [col for col in wr.columns if 'ru' in col]"
   ]
  },
  {
   "cell_type": "code",
   "execution_count": 233,
   "metadata": {},
   "outputs": [
    {
     "data": {
      "text/plain": [
       "['Name',\n",
       " 'Team',\n",
       " 'Week',\n",
       " 'Opponent',\n",
       " 'tar',\n",
       " 'rec',\n",
       " 'rec%',\n",
       " 'yds',\n",
       " 'td',\n",
       " 'yds/tar',\n",
       " 'yds/rec',\n",
       " 'salary',\n",
       " 'year',\n",
       " 'points']"
      ]
     },
     "execution_count": 233,
     "metadata": {},
     "output_type": "execute_result"
    }
   ],
   "source": [
    "rec_cols"
   ]
  },
  {
   "cell_type": "code",
   "execution_count": 234,
   "metadata": {},
   "outputs": [
    {
     "data": {
      "text/plain": [
       "['ru_att', 'ru_yds', 'ru_yds/att', 'ru_td']"
      ]
     },
     "execution_count": 234,
     "metadata": {},
     "output_type": "execute_result"
    }
   ],
   "source": [
    "rushing_columns"
   ]
  },
  {
   "cell_type": "code",
   "execution_count": 69,
   "metadata": {},
   "outputs": [
    {
     "data": {
      "image/png": "[encoded data removed]",
      "text/plain": [
       "<Figure size 432x288 with 1 Axes>"
      ]
     },
     "metadata": {},
     "output_type": "display_data"
    },
    {
     "data": {
      "image/png": "[encoded data removed]",
      "text/plain": [
       "<Figure size 432x288 with 1 Axes>"
      ]
     },
     "metadata": {},
     "output_type": "display_data"
    },
    {
     "data": {
      "image/png": "[encoded data removed]",
      "text/plain": [
       "<Figure size 432x288 with 1 Axes>"
      ]
     },
     "metadata": {},
     "output_type": "display_data"
    },
    {
     "data": {
      "image/png": "[encoded data removed]",
      "text/plain": [
       "<Figure size 432x288 with 1 Axes>"
      ]
     },
     "metadata": {},
     "output_type": "display_data"
    },
    {
     "data": {
      "image/png": "[encoded data removed]",
      "text/plain": [
       "<Figure size 432x288 with 1 Axes>"
      ]
     },
     "metadata": {},
     "output_type": "display_data"
    },
    {
     "data": {
      "image/png": "[encoded data removed]",
      "text/plain": [
       "<Figure size 432x288 with 1 Axes>"
      ]
     },
     "metadata": {},
     "output_type": "display_data"
    },
    {
     "data": {
      "image/png": "[encoded data removed]",
      "text/plain": [
       "<Figure size 432x288 with 1 Axes>"
      ]
     },
     "metadata": {},
     "output_type": "display_data"
    },
    {
     "data": {
      "image/png": "[encoded data removed]",
      "text/plain": [
       "<Figure size 432x288 with 1 Axes>"
      ]
     },
     "metadata": {},
     "output_type": "display_data"
    },
    {
     "data": {
      "image/png": "[encoded data removed]",
      "text/plain": [
       "<Figure size 432x288 with 1 Axes>"
      ]
     },
     "metadata": {},
     "output_type": "display_data"
    },
    {
     "data": {
      "image/png": "[encoded data removed]",
      "text/plain": [
       "<Figure size 432x288 with 1 Axes>"
      ]
     },
     "metadata": {},
     "output_type": "display_data"
    },
    {
     "data": {
      "image/png": "[encoded data removed]",
      "text/plain": [
       "<Figure size 432x288 with 1 Axes>"
      ]
     },
     "metadata": {},
     "output_type": "display_data"
    }
   ],
   "source": [
    "for col in rec_cols:\n",
    "    if wr[col].dtype.name != 'object':\n",
    "        boxplotter(wr,col)\n",
    "    \n",
    "        \n"
   ]
  },
  {
   "cell_type": "code",
   "execution_count": 237,
   "metadata": {
    "collapsed": true
   },
   "outputs": [],
   "source": [
    "def get_outliers(df):\n",
    "    #rem_cols = ['Week','Year','Name','Opponent','Team']\n",
    "    col_dict ={}\n",
    "    for col in df.columns:\n",
    "        if df[col].dtype.name == ('int64' or 'float64'):\n",
    "            col_dict.update({col:df[col].describe()})\n",
    "\n",
    "    col_name = []\n",
    "    outliers_lst = []\n",
    "    for col in df.columns:\n",
    "        if df[col].dtype.name == ('int64' or 'float64'):\n",
    "            col_name.append(col)\n",
    "            outliers_lst.append(len(abs(df[col]-col_dict[col]['mean'])[df[col] > (col_dict[col]['std'])*3]))\n",
    "            \n",
    "    outliers= pd.DataFrame()\n",
    "    outliers['col_name'] = col_name\n",
    "    outliers['# of outliers'] = outliers_lst\n",
    "    \n",
    "\n",
    "\n",
    "    \n",
    "\n",
    "    percent_lst = [ ]\n",
    "    for idx, val in enumerate(outliers['# of outliers']):\n",
    "        percent_lst.append(val/int(df.shape[0])*100)\n",
    "\n",
    "    outliers['pecent'] = percent_lst\n",
    "    outliers = outliers.drop(outliers.index[:2])\n",
    "\n",
    "\n",
    "\n",
    "    return outliers"
   ]
  },
  {
   "cell_type": "code",
   "execution_count": 238,
   "metadata": {},
   "outputs": [
    {
     "data": {
      "text/html": [
       "<div>\n",
       "<style>\n",
       "    .dataframe thead tr:only-child th {\n",
       "        text-align: right;\n",
       "    }\n",
       "\n",
       "    .dataframe thead th {\n",
       "        text-align: left;\n",
       "    }\n",
       "\n",
       "    .dataframe tbody tr th {\n",
       "        vertical-align: top;\n",
       "    }\n",
       "</style>\n",
       "<table border=\"1\" class=\"dataframe\">\n",
       "  <thead>\n",
       "    <tr style=\"text-align: right;\">\n",
       "      <th></th>\n",
       "      <th>col_name</th>\n",
       "      <th># of outliers</th>\n",
       "      <th>pecent</th>\n",
       "    </tr>\n",
       "  </thead>\n",
       "  <tbody>\n",
       "    <tr>\n",
       "      <th>2</th>\n",
       "      <td>rec</td>\n",
       "      <td>392</td>\n",
       "      <td>4.970204</td>\n",
       "    </tr>\n",
       "    <tr>\n",
       "      <th>3</th>\n",
       "      <td>yds</td>\n",
       "      <td>332</td>\n",
       "      <td>4.209459</td>\n",
       "    </tr>\n",
       "    <tr>\n",
       "      <th>4</th>\n",
       "      <td>td</td>\n",
       "      <td>178</td>\n",
       "      <td>2.256878</td>\n",
       "    </tr>\n",
       "    <tr>\n",
       "      <th>5</th>\n",
       "      <td>ru_att</td>\n",
       "      <td>137</td>\n",
       "      <td>1.737036</td>\n",
       "    </tr>\n",
       "    <tr>\n",
       "      <th>6</th>\n",
       "      <td>ru_yds</td>\n",
       "      <td>151</td>\n",
       "      <td>1.914543</td>\n",
       "    </tr>\n",
       "    <tr>\n",
       "      <th>7</th>\n",
       "      <td>ru_td</td>\n",
       "      <td>32</td>\n",
       "      <td>0.405731</td>\n",
       "    </tr>\n",
       "    <tr>\n",
       "      <th>8</th>\n",
       "      <td>salary</td>\n",
       "      <td>1620</td>\n",
       "      <td>20.540129</td>\n",
       "    </tr>\n",
       "    <tr>\n",
       "      <th>9</th>\n",
       "      <td>year</td>\n",
       "      <td>7887</td>\n",
       "      <td>100.000000</td>\n",
       "    </tr>\n",
       "  </tbody>\n",
       "</table>\n",
       "</div>"
      ],
      "text/plain": [
       "  col_name  # of outliers      pecent\n",
       "2      rec            392    4.970204\n",
       "3      yds            332    4.209459\n",
       "4       td            178    2.256878\n",
       "5   ru_att            137    1.737036\n",
       "6   ru_yds            151    1.914543\n",
       "7    ru_td             32    0.405731\n",
       "8   salary           1620   20.540129\n",
       "9     year           7887  100.000000"
      ]
     },
     "execution_count": 238,
     "metadata": {},
     "output_type": "execute_result"
    }
   ],
   "source": [
    "get_outliers(wr)"
   ]
  },
  {
   "cell_type": "code",
   "execution_count": 213,
   "metadata": {
    "collapsed": true
   },
   "outputs": [],
   "source": [
    "df_2015_lst=[]\n",
    "for idx,year in enumerate(wr['year']):\n",
    "    if year ==2015:\n",
    "        df_2015_lst.append(idx)\n",
    "    "
   ]
  },
  {
   "cell_type": "code",
   "execution_count": 216,
   "metadata": {},
   "outputs": [
    {
     "data": {
      "text/plain": [
       "[0,\n",
       " 1,\n",
       " 2,\n",
       " 3,\n",
       " 4,\n",
       " 5,\n",
       " 6,\n",
       " 7,\n",
       " 8,\n",
       " 9,\n",
       " 10,\n",
       " 11,\n",
       " 12,\n",
       " 13,\n",
       " 14,\n",
       " 15,\n",
       " 16,\n",
       " 17,\n",
       " 18,\n",
       " 19,\n",
       " 20,\n",
       " 21,\n",
       " 22,\n",
       " 23,\n",
       " 24,\n",
       " 25,\n",
       " 26,\n",
       " 27,\n",
       " 28,\n",
       " 29,\n",
       " 30,\n",
       " 31,\n",
       " 32,\n",
       " 33,\n",
       " 34,\n",
       " 35,\n",
       " 36,\n",
       " 37,\n",
       " 38,\n",
       " 39,\n",
       " 40,\n",
       " 41,\n",
       " 42,\n",
       " 43,\n",
       " 44,\n",
       " 45,\n",
       " 46,\n",
       " 47,\n",
       " 48,\n",
       " 49,\n",
       " 50,\n",
       " 51,\n",
       " 52,\n",
       " 53,\n",
       " 54,\n",
       " 55,\n",
       " 56,\n",
       " 57,\n",
       " 58,\n",
       " 59,\n",
       " 60,\n",
       " 61,\n",
       " 62,\n",
       " 63,\n",
       " 64,\n",
       " 65,\n",
       " 66,\n",
       " 67,\n",
       " 68,\n",
       " 69,\n",
       " 70,\n",
       " 71,\n",
       " 72,\n",
       " 73,\n",
       " 74,\n",
       " 75,\n",
       " 76,\n",
       " 77,\n",
       " 78,\n",
       " 79,\n",
       " 80,\n",
       " 81,\n",
       " 82,\n",
       " 83,\n",
       " 84,\n",
       " 85,\n",
       " 86,\n",
       " 87,\n",
       " 88,\n",
       " 89,\n",
       " 90,\n",
       " 91,\n",
       " 92,\n",
       " 93,\n",
       " 94,\n",
       " 95,\n",
       " 96,\n",
       " 97,\n",
       " 98,\n",
       " 99,\n",
       " 100,\n",
       " 101,\n",
       " 102,\n",
       " 103,\n",
       " 104,\n",
       " 105,\n",
       " 106,\n",
       " 107,\n",
       " 108,\n",
       " 109,\n",
       " 110,\n",
       " 111,\n",
       " 112,\n",
       " 113,\n",
       " 114,\n",
       " 115,\n",
       " 116,\n",
       " 117,\n",
       " 118,\n",
       " 119,\n",
       " 120,\n",
       " 121,\n",
       " 122,\n",
       " 123,\n",
       " 124,\n",
       " 125,\n",
       " 126,\n",
       " 127,\n",
       " 128,\n",
       " 129,\n",
       " 130,\n",
       " 131,\n",
       " 132,\n",
       " 133,\n",
       " 134,\n",
       " 135,\n",
       " 136,\n",
       " 137,\n",
       " 138,\n",
       " 139,\n",
       " 140,\n",
       " 141,\n",
       " 142,\n",
       " 143,\n",
       " 144,\n",
       " 145,\n",
       " 146,\n",
       " 147,\n",
       " 148,\n",
       " 149,\n",
       " 150,\n",
       " 151,\n",
       " 152,\n",
       " 153,\n",
       " 154,\n",
       " 155,\n",
       " 156,\n",
       " 157,\n",
       " 158,\n",
       " 159,\n",
       " 160,\n",
       " 161,\n",
       " 162,\n",
       " 163,\n",
       " 164,\n",
       " 165,\n",
       " 166,\n",
       " 167,\n",
       " 168,\n",
       " 169,\n",
       " 170,\n",
       " 171,\n",
       " 172,\n",
       " 173,\n",
       " 174,\n",
       " 175,\n",
       " 176,\n",
       " 177,\n",
       " 178,\n",
       " 179,\n",
       " 180,\n",
       " 181,\n",
       " 182,\n",
       " 183,\n",
       " 184,\n",
       " 185,\n",
       " 186,\n",
       " 187,\n",
       " 188,\n",
       " 189,\n",
       " 190,\n",
       " 191,\n",
       " 192,\n",
       " 193,\n",
       " 194,\n",
       " 195,\n",
       " 196,\n",
       " 197,\n",
       " 198,\n",
       " 199,\n",
       " 200,\n",
       " 201,\n",
       " 202,\n",
       " 203,\n",
       " 204,\n",
       " 205,\n",
       " 206,\n",
       " 207,\n",
       " 208,\n",
       " 209,\n",
       " 210,\n",
       " 211,\n",
       " 212,\n",
       " 213,\n",
       " 214,\n",
       " 215,\n",
       " 216,\n",
       " 217,\n",
       " 218,\n",
       " 219,\n",
       " 220,\n",
       " 221,\n",
       " 222,\n",
       " 223,\n",
       " 224,\n",
       " 225,\n",
       " 226,\n",
       " 227,\n",
       " 228,\n",
       " 229,\n",
       " 230,\n",
       " 231,\n",
       " 232,\n",
       " 233,\n",
       " 234,\n",
       " 235,\n",
       " 236,\n",
       " 237,\n",
       " 238,\n",
       " 239,\n",
       " 240,\n",
       " 241,\n",
       " 242,\n",
       " 243,\n",
       " 244,\n",
       " 245,\n",
       " 246,\n",
       " 247,\n",
       " 248,\n",
       " 249,\n",
       " 250,\n",
       " 251,\n",
       " 252,\n",
       " 253,\n",
       " 254,\n",
       " 255,\n",
       " 256,\n",
       " 257,\n",
       " 258,\n",
       " 259,\n",
       " 260,\n",
       " 261,\n",
       " 262,\n",
       " 263,\n",
       " 264,\n",
       " 265,\n",
       " 266,\n",
       " 267,\n",
       " 268,\n",
       " 269,\n",
       " 270,\n",
       " 271,\n",
       " 272,\n",
       " 273,\n",
       " 274,\n",
       " 275,\n",
       " 276,\n",
       " 277,\n",
       " 278,\n",
       " 279,\n",
       " 280,\n",
       " 281,\n",
       " 282,\n",
       " 283,\n",
       " 284,\n",
       " 285,\n",
       " 286,\n",
       " 287,\n",
       " 288,\n",
       " 289,\n",
       " 290,\n",
       " 291,\n",
       " 292,\n",
       " 293,\n",
       " 294,\n",
       " 295,\n",
       " 296,\n",
       " 297,\n",
       " 298,\n",
       " 299,\n",
       " 300,\n",
       " 301,\n",
       " 302,\n",
       " 303,\n",
       " 304,\n",
       " 305,\n",
       " 306,\n",
       " 307,\n",
       " 308,\n",
       " 309,\n",
       " 310,\n",
       " 311,\n",
       " 312,\n",
       " 313,\n",
       " 314,\n",
       " 315,\n",
       " 316,\n",
       " 317,\n",
       " 318,\n",
       " 319,\n",
       " 320,\n",
       " 321,\n",
       " 322,\n",
       " 323,\n",
       " 324,\n",
       " 325,\n",
       " 326,\n",
       " 327,\n",
       " 328,\n",
       " 329,\n",
       " 330,\n",
       " 331,\n",
       " 332,\n",
       " 333,\n",
       " 334,\n",
       " 335,\n",
       " 336,\n",
       " 337,\n",
       " 338,\n",
       " 339,\n",
       " 340,\n",
       " 341,\n",
       " 342,\n",
       " 343,\n",
       " 344,\n",
       " 345,\n",
       " 346,\n",
       " 347,\n",
       " 348,\n",
       " 349,\n",
       " 350,\n",
       " 351,\n",
       " 352,\n",
       " 353,\n",
       " 354,\n",
       " 355,\n",
       " 356,\n",
       " 357,\n",
       " 358,\n",
       " 359,\n",
       " 360,\n",
       " 361,\n",
       " 362,\n",
       " 363,\n",
       " 364,\n",
       " 365,\n",
       " 366,\n",
       " 367,\n",
       " 368,\n",
       " 369,\n",
       " 370,\n",
       " 371,\n",
       " 372,\n",
       " 373,\n",
       " 374,\n",
       " 375,\n",
       " 376,\n",
       " 377,\n",
       " 378,\n",
       " 379,\n",
       " 380,\n",
       " 381,\n",
       " 382,\n",
       " 383,\n",
       " 384,\n",
       " 385,\n",
       " 386,\n",
       " 387,\n",
       " 388,\n",
       " 389,\n",
       " 390,\n",
       " 391,\n",
       " 392,\n",
       " 393,\n",
       " 394,\n",
       " 395,\n",
       " 396,\n",
       " 397,\n",
       " 398,\n",
       " 399,\n",
       " 400,\n",
       " 401,\n",
       " 402,\n",
       " 403,\n",
       " 404,\n",
       " 405,\n",
       " 406,\n",
       " 407,\n",
       " 408,\n",
       " 409,\n",
       " 410,\n",
       " 411,\n",
       " 412,\n",
       " 413,\n",
       " 414,\n",
       " 415,\n",
       " 416,\n",
       " 417,\n",
       " 418,\n",
       " 419,\n",
       " 420,\n",
       " 421,\n",
       " 422,\n",
       " 423,\n",
       " 424,\n",
       " 425,\n",
       " 426,\n",
       " 427,\n",
       " 428,\n",
       " 429,\n",
       " 430,\n",
       " 431,\n",
       " 432,\n",
       " 433,\n",
       " 434,\n",
       " 435,\n",
       " 436,\n",
       " 437,\n",
       " 438,\n",
       " 439,\n",
       " 440,\n",
       " 441,\n",
       " 442,\n",
       " 443,\n",
       " 444,\n",
       " 445,\n",
       " 446,\n",
       " 447,\n",
       " 448,\n",
       " 449,\n",
       " 450,\n",
       " 451,\n",
       " 452,\n",
       " 453,\n",
       " 454,\n",
       " 455,\n",
       " 456,\n",
       " 457,\n",
       " 458,\n",
       " 459,\n",
       " 460,\n",
       " 461,\n",
       " 462,\n",
       " 463,\n",
       " 464,\n",
       " 465,\n",
       " 466,\n",
       " 467,\n",
       " 468,\n",
       " 469,\n",
       " 470,\n",
       " 471,\n",
       " 472,\n",
       " 473,\n",
       " 474,\n",
       " 475,\n",
       " 476,\n",
       " 477,\n",
       " 478,\n",
       " 479,\n",
       " 480,\n",
       " 481,\n",
       " 482,\n",
       " 483,\n",
       " 484,\n",
       " 485,\n",
       " 486,\n",
       " 487,\n",
       " 488,\n",
       " 489,\n",
       " 490,\n",
       " 491,\n",
       " 492,\n",
       " 493,\n",
       " 494,\n",
       " 495,\n",
       " 496,\n",
       " 497,\n",
       " 498,\n",
       " 499,\n",
       " 500,\n",
       " 501,\n",
       " 502,\n",
       " 503,\n",
       " 504,\n",
       " 505,\n",
       " 506,\n",
       " 507,\n",
       " 508,\n",
       " 509,\n",
       " 510,\n",
       " 511,\n",
       " 512,\n",
       " 513,\n",
       " 514,\n",
       " 515,\n",
       " 516,\n",
       " 517,\n",
       " 518,\n",
       " 519,\n",
       " 520,\n",
       " 521,\n",
       " 522,\n",
       " 523,\n",
       " 524,\n",
       " 525,\n",
       " 526,\n",
       " 527,\n",
       " 528,\n",
       " 529,\n",
       " 530,\n",
       " 531,\n",
       " 532,\n",
       " 533,\n",
       " 534,\n",
       " 535,\n",
       " 536,\n",
       " 537,\n",
       " 538,\n",
       " 539,\n",
       " 540,\n",
       " 541,\n",
       " 542,\n",
       " 543,\n",
       " 544,\n",
       " 545,\n",
       " 546,\n",
       " 547,\n",
       " 548,\n",
       " 549,\n",
       " 550,\n",
       " 551,\n",
       " 552,\n",
       " 553,\n",
       " 554,\n",
       " 555,\n",
       " 556,\n",
       " 557,\n",
       " 558,\n",
       " 559,\n",
       " 560,\n",
       " 561,\n",
       " 562,\n",
       " 563,\n",
       " 564,\n",
       " 565,\n",
       " 566,\n",
       " 567,\n",
       " 568,\n",
       " 569,\n",
       " 570,\n",
       " 571,\n",
       " 572,\n",
       " 573,\n",
       " 574,\n",
       " 575,\n",
       " 576,\n",
       " 577,\n",
       " 578,\n",
       " 579,\n",
       " 580,\n",
       " 581,\n",
       " 582,\n",
       " 583,\n",
       " 584,\n",
       " 585,\n",
       " 586,\n",
       " 587,\n",
       " 588,\n",
       " 589,\n",
       " 590,\n",
       " 591,\n",
       " 592,\n",
       " 593,\n",
       " 594,\n",
       " 595,\n",
       " 596,\n",
       " 597,\n",
       " 598,\n",
       " 599,\n",
       " 600,\n",
       " 601,\n",
       " 602,\n",
       " 603,\n",
       " 604,\n",
       " 605,\n",
       " 606,\n",
       " 607,\n",
       " 608,\n",
       " 609,\n",
       " 610,\n",
       " 611,\n",
       " 612,\n",
       " 613,\n",
       " 614,\n",
       " 615,\n",
       " 616,\n",
       " 617,\n",
       " 618,\n",
       " 619,\n",
       " 620,\n",
       " 621,\n",
       " 622,\n",
       " 623,\n",
       " 624,\n",
       " 625,\n",
       " 626,\n",
       " 627,\n",
       " 628,\n",
       " 629,\n",
       " 630,\n",
       " 631,\n",
       " 632,\n",
       " 633,\n",
       " 634,\n",
       " 635,\n",
       " 636,\n",
       " 637,\n",
       " 638,\n",
       " 639,\n",
       " 640,\n",
       " 641,\n",
       " 642,\n",
       " 643,\n",
       " 644,\n",
       " 645,\n",
       " 646,\n",
       " 647,\n",
       " 648,\n",
       " 649,\n",
       " 650,\n",
       " 651,\n",
       " 652,\n",
       " 653,\n",
       " 654,\n",
       " 655,\n",
       " 656,\n",
       " 657,\n",
       " 658,\n",
       " 659,\n",
       " 660,\n",
       " 661,\n",
       " 662,\n",
       " 663,\n",
       " 664,\n",
       " 665,\n",
       " 666,\n",
       " 667,\n",
       " 668,\n",
       " 669,\n",
       " 670,\n",
       " 671,\n",
       " 672,\n",
       " 673,\n",
       " 674,\n",
       " 675,\n",
       " 676,\n",
       " 677,\n",
       " 678,\n",
       " 679,\n",
       " 680,\n",
       " 681,\n",
       " 682,\n",
       " 683,\n",
       " 684,\n",
       " 685,\n",
       " 686,\n",
       " 687,\n",
       " 688,\n",
       " 689,\n",
       " 690,\n",
       " 691,\n",
       " 692,\n",
       " 693,\n",
       " 694,\n",
       " 695,\n",
       " 696,\n",
       " 697,\n",
       " 698,\n",
       " 699,\n",
       " 700,\n",
       " 701,\n",
       " 702,\n",
       " 703,\n",
       " 704,\n",
       " 705,\n",
       " 706,\n",
       " 707,\n",
       " 708,\n",
       " 709,\n",
       " 710,\n",
       " 711,\n",
       " 712,\n",
       " 713,\n",
       " 714,\n",
       " 715,\n",
       " 716,\n",
       " 717,\n",
       " 718,\n",
       " 719,\n",
       " 720,\n",
       " 721,\n",
       " 722,\n",
       " 723,\n",
       " 724,\n",
       " 725,\n",
       " 726,\n",
       " 727,\n",
       " 728,\n",
       " 729,\n",
       " 730,\n",
       " 731,\n",
       " 732,\n",
       " 733,\n",
       " 734,\n",
       " 735,\n",
       " 736,\n",
       " 737,\n",
       " 738,\n",
       " 739,\n",
       " 740,\n",
       " 741,\n",
       " 742,\n",
       " 743,\n",
       " 744,\n",
       " 745,\n",
       " 746,\n",
       " 747,\n",
       " 748,\n",
       " 749,\n",
       " 750,\n",
       " 751,\n",
       " 752,\n",
       " 753,\n",
       " 754,\n",
       " 755,\n",
       " 756,\n",
       " 757,\n",
       " 758,\n",
       " 759,\n",
       " 760,\n",
       " 761,\n",
       " 762,\n",
       " 763,\n",
       " 764,\n",
       " 765,\n",
       " 766,\n",
       " 767,\n",
       " 768,\n",
       " 769,\n",
       " 770,\n",
       " 771,\n",
       " 772,\n",
       " 773,\n",
       " 774,\n",
       " 775,\n",
       " 776,\n",
       " 777,\n",
       " 778,\n",
       " 779,\n",
       " 780,\n",
       " 781,\n",
       " 782,\n",
       " 783,\n",
       " 784,\n",
       " 785,\n",
       " 786,\n",
       " 787,\n",
       " 788,\n",
       " 789,\n",
       " 790,\n",
       " 791,\n",
       " 792,\n",
       " 793,\n",
       " 794,\n",
       " 795,\n",
       " 796,\n",
       " 797,\n",
       " 798,\n",
       " 799,\n",
       " 800,\n",
       " 801,\n",
       " 802,\n",
       " 803,\n",
       " 804,\n",
       " 805,\n",
       " 806,\n",
       " 807,\n",
       " 808,\n",
       " 809,\n",
       " 810,\n",
       " 811,\n",
       " 812,\n",
       " 813,\n",
       " 814,\n",
       " 815,\n",
       " 816,\n",
       " 817,\n",
       " 818,\n",
       " 819,\n",
       " 820,\n",
       " 821,\n",
       " 822,\n",
       " 823,\n",
       " 824,\n",
       " 825,\n",
       " 826,\n",
       " 827,\n",
       " 828,\n",
       " 829,\n",
       " 830,\n",
       " 831,\n",
       " 832,\n",
       " 833,\n",
       " 834,\n",
       " 835,\n",
       " 836,\n",
       " 837,\n",
       " 838,\n",
       " 839,\n",
       " 840,\n",
       " 841,\n",
       " 842,\n",
       " 843,\n",
       " 844,\n",
       " 845,\n",
       " 846,\n",
       " 847,\n",
       " 848,\n",
       " 849,\n",
       " 850,\n",
       " 851,\n",
       " 852,\n",
       " 853,\n",
       " 854,\n",
       " 855,\n",
       " 856,\n",
       " 857,\n",
       " 858,\n",
       " 859,\n",
       " 860,\n",
       " 861,\n",
       " 862,\n",
       " 863,\n",
       " 864,\n",
       " 865,\n",
       " 866,\n",
       " 867,\n",
       " 868,\n",
       " 869,\n",
       " 870,\n",
       " 871,\n",
       " 872,\n",
       " 873,\n",
       " 874,\n",
       " 875,\n",
       " 876,\n",
       " 877,\n",
       " 878,\n",
       " 879,\n",
       " 880,\n",
       " 881,\n",
       " 882,\n",
       " 883,\n",
       " 884,\n",
       " 885,\n",
       " 886,\n",
       " 887,\n",
       " 888,\n",
       " 889,\n",
       " 890,\n",
       " 891,\n",
       " 892,\n",
       " 893,\n",
       " 894,\n",
       " 895,\n",
       " 896,\n",
       " 897,\n",
       " 898,\n",
       " 899,\n",
       " 900,\n",
       " 901,\n",
       " 902,\n",
       " 903,\n",
       " 904,\n",
       " 905,\n",
       " 906,\n",
       " 907,\n",
       " 908,\n",
       " 909,\n",
       " 910,\n",
       " 911,\n",
       " 912,\n",
       " 913,\n",
       " 914,\n",
       " 915,\n",
       " 916,\n",
       " 917,\n",
       " 918,\n",
       " 919,\n",
       " 920,\n",
       " 921,\n",
       " 922,\n",
       " 923,\n",
       " 924,\n",
       " 925,\n",
       " 926,\n",
       " 927,\n",
       " 928,\n",
       " 929,\n",
       " 930,\n",
       " 931,\n",
       " 932,\n",
       " 933,\n",
       " 934,\n",
       " 935,\n",
       " 936,\n",
       " 937,\n",
       " 938,\n",
       " 939,\n",
       " 940,\n",
       " 941,\n",
       " 942,\n",
       " 943,\n",
       " 944,\n",
       " 945,\n",
       " 946,\n",
       " 947,\n",
       " 948,\n",
       " 949,\n",
       " 950,\n",
       " 951,\n",
       " 952,\n",
       " 953,\n",
       " 954,\n",
       " 955,\n",
       " 956,\n",
       " 957,\n",
       " 958,\n",
       " 959,\n",
       " 960,\n",
       " 961,\n",
       " 962,\n",
       " 963,\n",
       " 964,\n",
       " 965,\n",
       " 966,\n",
       " 967,\n",
       " 968,\n",
       " 969,\n",
       " 970,\n",
       " 971,\n",
       " 972,\n",
       " 973,\n",
       " 974,\n",
       " 975,\n",
       " 976,\n",
       " 977,\n",
       " 978,\n",
       " 979,\n",
       " 980,\n",
       " 981,\n",
       " 982,\n",
       " 983,\n",
       " 984,\n",
       " 985,\n",
       " 986,\n",
       " 987,\n",
       " 988,\n",
       " 989,\n",
       " 990,\n",
       " 991,\n",
       " 992,\n",
       " 993,\n",
       " 994,\n",
       " 995,\n",
       " 996,\n",
       " 997,\n",
       " 998,\n",
       " 999,\n",
       " ...]"
      ]
     },
     "execution_count": 216,
     "metadata": {},
     "output_type": "execute_result"
    }
   ],
   "source": [
    "df_2015_lst"
   ]
  },
  {
   "cell_type": "code",
   "execution_count": 217,
   "metadata": {
    "collapsed": true
   },
   "outputs": [],
   "source": [
    "df_2015 =wr[:len(df_2015_lst)]"
   ]
  },
  {
   "cell_type": "code",
   "execution_count": 227,
   "metadata": {
    "collapsed": true
   },
   "outputs": [],
   "source": [
    "df_2015_grp = df_2015.groupby('Week').median()"
   ]
  },
  {
   "cell_type": "code",
   "execution_count": 228,
   "metadata": {},
   "outputs": [
    {
     "data": {
      "text/plain": [
       "Week\n",
       "1     4.25\n",
       "2     5.05\n",
       "3     4.90\n",
       "4     6.50\n",
       "5     4.40\n",
       "6     5.75\n",
       "7     4.50\n",
       "8     4.00\n",
       "9     4.55\n",
       "10    4.10\n",
       "11    4.15\n",
       "12    4.60\n",
       "13    3.80\n",
       "14    5.70\n",
       "15    4.90\n",
       "16    5.50\n",
       "17    4.30\n",
       "Name: points, dtype: float64"
      ]
     },
     "execution_count": 228,
     "metadata": {},
     "output_type": "execute_result"
    }
   ],
   "source": [
    "df_2015_grp['points']"
   ]
  },
  {
   "cell_type": "code",
   "execution_count": 229,
   "metadata": {},
   "outputs": [
    {
     "data": {
      "text/plain": [
       "[<matplotlib.lines.Line2D at 0x1de6d4a9898>]"
      ]
     },
     "execution_count": 229,
     "metadata": {},
     "output_type": "execute_result"
    },
    {
     "data": {
      "image/png": "[encoded data removed]",
      "text/plain": [
       "<Figure size 432x288 with 1 Axes>"
      ]
     },
     "metadata": {},
     "output_type": "display_data"
    }
   ],
   "source": [
    "plt.plot(df_2015_grp.index,df_2015_grp['points'])"
   ]
  },
  {
   "cell_type": "code",
   "execution_count": 232,
   "metadata": {},
   "outputs": [
    {
     "data": {
      "text/plain": [
       "<matplotlib.collections.PathCollection at 0x1de6d6a9c18>"
      ]
     },
     "execution_count": 232,
     "metadata": {},
     "output_type": "execute_result"
    },
    {
     "data": {
      "image/png": "[encoded data removed]",
      "text/plain": [
       "<Figure size 432x288 with 1 Axes>"
      ]
     },
     "metadata": {},
     "output_type": "display_data"
    }
   ],
   "source": [
    "plt.scatter(df_2015_grp['tar'],df_2015_grp['points'])"
   ]
  },
  {
   "cell_type": "code",
   "execution_count": 199,
   "metadata": {},
   "outputs": [
    {
     "data": {
      "text/plain": [
       "array([ True, False, False, False])"
      ]
     },
     "execution_count": 199,
     "metadata": {},
     "output_type": "execute_result"
    }
   ],
   "source": [
    "for year in weekly_avg.index.levels[0]:\n",
    "    print()"
   ]
  },
  {
   "cell_type": "code",
   "execution_count": 70,
   "metadata": {},
   "outputs": [
    {
     "data": {
      "image/png": "[encoded data removed]",
      "text/plain": [
       "<Figure size 432x288 with 1 Axes>"
      ]
     },
     "metadata": {},
     "output_type": "display_data"
    },
    {
     "data": {
      "image/png": "[encoded data removed]",
      "text/plain": [
       "<Figure size 432x288 with 1 Axes>"
      ]
     },
     "metadata": {},
     "output_type": "display_data"
    },
    {
     "data": {
      "image/png": "[encoded data removed]",
      "text/plain": [
       "<Figure size 432x288 with 1 Axes>"
      ]
     },
     "metadata": {},
     "output_type": "display_data"
    },
    {
     "data": {
      "image/png": "[encoded data removed]",
      "text/plain": [
       "<Figure size 432x288 with 1 Axes>"
      ]
     },
     "metadata": {},
     "output_type": "display_data"
    }
   ],
   "source": [
    "for col in rushing_cols:\n",
    "    boxplotter(wr,col)"
   ]
  },
  {
   "cell_type": "code",
   "execution_count": 101,
   "metadata": {},
   "outputs": [
    {
     "data": {
      "text/plain": [
       "[7887.0, 2.5583872194750854, 2.5473667159584963, 0.0, 0.0, 2.0, 4.0, 17.0]"
      ]
     },
     "execution_count": 101,
     "metadata": {},
     "output_type": "execute_result"
    }
   ],
   "source": [
    "wr['rec'].describe().values.tolist()"
   ]
  },
  {
   "cell_type": "code",
   "execution_count": 11,
   "metadata": {},
   "outputs": [
    {
     "data": {
      "text/plain": [
       "count    14930.000000\n",
       "mean        32.515472\n",
       "std         37.628877\n",
       "min         -7.000000\n",
       "25%          0.000000\n",
       "50%         20.000000\n",
       "75%         52.000000\n",
       "max        329.000000\n",
       "Name: ReceivingYards, dtype: float64"
      ]
     },
     "execution_count": 11,
     "metadata": {},
     "output_type": "execute_result"
    }
   ],
   "source": [
    "wr['ReceivingYards'].describe()"
   ]
  },
  {
   "cell_type": "code",
   "execution_count": 24,
   "metadata": {
    "collapsed": true
   },
   "outputs": [],
   "source": [
    "temp = wr.drop('year', axis=1)"
   ]
  },
  {
   "cell_type": "code",
   "execution_count": 26,
   "metadata": {},
   "outputs": [
    {
     "data": {
      "text/plain": [
       "Text(0.5,1,'WR Stats')"
      ]
     },
     "execution_count": 26,
     "metadata": {},
     "output_type": "execute_result"
    },
    {
     "data": {
      "image/png": "[encoded data removed]",
      "text/plain": [
       "<matplotlib.figure.Figure at 0x1ae11571978>"
      ]
     },
     "metadata": {},
     "output_type": "display_data"
    }
   ],
   "source": [
    "fig = plt.figure(figsize=(20,20))\n",
    "\n",
    "ax = sns.boxplot(data=temp, orient='v', fliersize=5, linewidth=3, notch=True,\n",
    "                 saturation=0.5)\n",
    "\n",
    "ax.set_title('WR Stats')"
   ]
  },
  {
   "cell_type": "code",
   "execution_count": 71,
   "metadata": {},
   "outputs": [
    {
     "data": {
      "text/html": [
       "<div>\n",
       "<style>\n",
       "    .dataframe thead tr:only-child th {\n",
       "        text-align: right;\n",
       "    }\n",
       "\n",
       "    .dataframe thead th {\n",
       "        text-align: left;\n",
       "    }\n",
       "\n",
       "    .dataframe tbody tr th {\n",
       "        vertical-align: top;\n",
       "    }\n",
       "</style>\n",
       "<table border=\"1\" class=\"dataframe\">\n",
       "  <thead>\n",
       "    <tr style=\"text-align: right;\">\n",
       "      <th></th>\n",
       "      <th>Week</th>\n",
       "      <th>tar</th>\n",
       "      <th>rec</th>\n",
       "      <th>rec%</th>\n",
       "      <th>yds</th>\n",
       "      <th>td</th>\n",
       "      <th>yds/tar</th>\n",
       "      <th>yds/rec</th>\n",
       "      <th>ru_att</th>\n",
       "      <th>ru_yds</th>\n",
       "      <th>ru_yds/att</th>\n",
       "      <th>ru_td</th>\n",
       "      <th>salary</th>\n",
       "      <th>year</th>\n",
       "      <th>points</th>\n",
       "    </tr>\n",
       "  </thead>\n",
       "  <tbody>\n",
       "    <tr>\n",
       "      <th>Week</th>\n",
       "      <td>1.000000</td>\n",
       "      <td>-0.028737</td>\n",
       "      <td>-0.039985</td>\n",
       "      <td>-0.022021</td>\n",
       "      <td>-0.030696</td>\n",
       "      <td>-0.022315</td>\n",
       "      <td>-0.015031</td>\n",
       "      <td>-0.001732</td>\n",
       "      <td>-0.002235</td>\n",
       "      <td>0.013567</td>\n",
       "      <td>0.010778</td>\n",
       "      <td>0.011306</td>\n",
       "      <td>-0.064170</td>\n",
       "      <td>-0.164372</td>\n",
       "      <td>-0.033998</td>\n",
       "    </tr>\n",
       "    <tr>\n",
       "      <th>tar</th>\n",
       "      <td>-0.028737</td>\n",
       "      <td>1.000000</td>\n",
       "      <td>0.906781</td>\n",
       "      <td>0.388477</td>\n",
       "      <td>0.800446</td>\n",
       "      <td>0.369298</td>\n",
       "      <td>0.278179</td>\n",
       "      <td>0.398666</td>\n",
       "      <td>0.060327</td>\n",
       "      <td>0.022915</td>\n",
       "      <td>0.017279</td>\n",
       "      <td>0.013481</td>\n",
       "      <td>0.029915</td>\n",
       "      <td>-0.006984</td>\n",
       "      <td>0.803635</td>\n",
       "    </tr>\n",
       "    <tr>\n",
       "      <th>rec</th>\n",
       "      <td>-0.039985</td>\n",
       "      <td>0.906781</td>\n",
       "      <td>1.000000</td>\n",
       "      <td>0.582527</td>\n",
       "      <td>0.867513</td>\n",
       "      <td>0.412691</td>\n",
       "      <td>0.403299</td>\n",
       "      <td>0.380124</td>\n",
       "      <td>0.073927</td>\n",
       "      <td>0.032691</td>\n",
       "      <td>0.028868</td>\n",
       "      <td>0.016900</td>\n",
       "      <td>0.030081</td>\n",
       "      <td>-0.000197</td>\n",
       "      <td>0.883689</td>\n",
       "    </tr>\n",
       "    <tr>\n",
       "      <th>rec%</th>\n",
       "      <td>-0.022021</td>\n",
       "      <td>0.388477</td>\n",
       "      <td>0.582527</td>\n",
       "      <td>1.000000</td>\n",
       "      <td>0.500739</td>\n",
       "      <td>0.259868</td>\n",
       "      <td>0.691676</td>\n",
       "      <td>0.513042</td>\n",
       "      <td>0.059806</td>\n",
       "      <td>0.035919</td>\n",
       "      <td>0.030895</td>\n",
       "      <td>0.025719</td>\n",
       "      <td>0.016250</td>\n",
       "      <td>0.019354</td>\n",
       "      <td>0.510363</td>\n",
       "    </tr>\n",
       "    <tr>\n",
       "      <th>yds</th>\n",
       "      <td>-0.030696</td>\n",
       "      <td>0.800446</td>\n",
       "      <td>0.867513</td>\n",
       "      <td>0.500739</td>\n",
       "      <td>1.000000</td>\n",
       "      <td>0.472459</td>\n",
       "      <td>0.615018</td>\n",
       "      <td>0.631939</td>\n",
       "      <td>0.044502</td>\n",
       "      <td>0.013688</td>\n",
       "      <td>0.018659</td>\n",
       "      <td>0.004399</td>\n",
       "      <td>0.019834</td>\n",
       "      <td>-0.008365</td>\n",
       "      <td>0.935687</td>\n",
       "    </tr>\n",
       "    <tr>\n",
       "      <th>td</th>\n",
       "      <td>-0.022315</td>\n",
       "      <td>0.369298</td>\n",
       "      <td>0.412691</td>\n",
       "      <td>0.259868</td>\n",
       "      <td>0.472459</td>\n",
       "      <td>1.000000</td>\n",
       "      <td>0.317212</td>\n",
       "      <td>0.311264</td>\n",
       "      <td>0.029690</td>\n",
       "      <td>0.010925</td>\n",
       "      <td>0.018062</td>\n",
       "      <td>-0.002726</td>\n",
       "      <td>0.027365</td>\n",
       "      <td>-0.004314</td>\n",
       "      <td>0.704775</td>\n",
       "    </tr>\n",
       "    <tr>\n",
       "      <th>yds/tar</th>\n",
       "      <td>-0.015031</td>\n",
       "      <td>0.278179</td>\n",
       "      <td>0.403299</td>\n",
       "      <td>0.691676</td>\n",
       "      <td>0.615018</td>\n",
       "      <td>0.317212</td>\n",
       "      <td>1.000000</td>\n",
       "      <td>0.867647</td>\n",
       "      <td>0.022153</td>\n",
       "      <td>0.009211</td>\n",
       "      <td>0.016075</td>\n",
       "      <td>-0.000745</td>\n",
       "      <td>0.007611</td>\n",
       "      <td>0.009527</td>\n",
       "      <td>0.534171</td>\n",
       "    </tr>\n",
       "    <tr>\n",
       "      <th>yds/rec</th>\n",
       "      <td>-0.001732</td>\n",
       "      <td>0.398666</td>\n",
       "      <td>0.380124</td>\n",
       "      <td>0.513042</td>\n",
       "      <td>0.631939</td>\n",
       "      <td>0.311264</td>\n",
       "      <td>0.867647</td>\n",
       "      <td>1.000000</td>\n",
       "      <td>0.014396</td>\n",
       "      <td>-0.004087</td>\n",
       "      <td>0.004367</td>\n",
       "      <td>-0.009547</td>\n",
       "      <td>0.013203</td>\n",
       "      <td>0.000921</td>\n",
       "      <td>0.528943</td>\n",
       "    </tr>\n",
       "    <tr>\n",
       "      <th>ru_att</th>\n",
       "      <td>-0.002235</td>\n",
       "      <td>0.060327</td>\n",
       "      <td>0.073927</td>\n",
       "      <td>0.059806</td>\n",
       "      <td>0.044502</td>\n",
       "      <td>0.029690</td>\n",
       "      <td>0.022153</td>\n",
       "      <td>0.014396</td>\n",
       "      <td>1.000000</td>\n",
       "      <td>0.688810</td>\n",
       "      <td>0.463423</td>\n",
       "      <td>0.235538</td>\n",
       "      <td>0.001730</td>\n",
       "      <td>0.029817</td>\n",
       "      <td>0.102828</td>\n",
       "    </tr>\n",
       "    <tr>\n",
       "      <th>ru_yds</th>\n",
       "      <td>0.013567</td>\n",
       "      <td>0.022915</td>\n",
       "      <td>0.032691</td>\n",
       "      <td>0.035919</td>\n",
       "      <td>0.013688</td>\n",
       "      <td>0.010925</td>\n",
       "      <td>0.009211</td>\n",
       "      <td>-0.004087</td>\n",
       "      <td>0.688810</td>\n",
       "      <td>1.000000</td>\n",
       "      <td>0.875559</td>\n",
       "      <td>0.418821</td>\n",
       "      <td>-0.003555</td>\n",
       "      <td>0.006303</td>\n",
       "      <td>0.091771</td>\n",
       "    </tr>\n",
       "    <tr>\n",
       "      <th>ru_yds/att</th>\n",
       "      <td>0.010778</td>\n",
       "      <td>0.017279</td>\n",
       "      <td>0.028868</td>\n",
       "      <td>0.030895</td>\n",
       "      <td>0.018659</td>\n",
       "      <td>0.018062</td>\n",
       "      <td>0.016075</td>\n",
       "      <td>0.004367</td>\n",
       "      <td>0.463423</td>\n",
       "      <td>0.875559</td>\n",
       "      <td>1.000000</td>\n",
       "      <td>0.355878</td>\n",
       "      <td>-0.006153</td>\n",
       "      <td>0.015203</td>\n",
       "      <td>0.085996</td>\n",
       "    </tr>\n",
       "    <tr>\n",
       "      <th>ru_td</th>\n",
       "      <td>0.011306</td>\n",
       "      <td>0.013481</td>\n",
       "      <td>0.016900</td>\n",
       "      <td>0.025719</td>\n",
       "      <td>0.004399</td>\n",
       "      <td>-0.002726</td>\n",
       "      <td>-0.000745</td>\n",
       "      <td>-0.009547</td>\n",
       "      <td>0.235538</td>\n",
       "      <td>0.418821</td>\n",
       "      <td>0.355878</td>\n",
       "      <td>1.000000</td>\n",
       "      <td>-0.001195</td>\n",
       "      <td>-0.017079</td>\n",
       "      <td>0.077783</td>\n",
       "    </tr>\n",
       "    <tr>\n",
       "      <th>salary</th>\n",
       "      <td>-0.064170</td>\n",
       "      <td>0.029915</td>\n",
       "      <td>0.030081</td>\n",
       "      <td>0.016250</td>\n",
       "      <td>0.019834</td>\n",
       "      <td>0.027365</td>\n",
       "      <td>0.007611</td>\n",
       "      <td>0.013203</td>\n",
       "      <td>0.001730</td>\n",
       "      <td>-0.003555</td>\n",
       "      <td>-0.006153</td>\n",
       "      <td>-0.001195</td>\n",
       "      <td>1.000000</td>\n",
       "      <td>0.031183</td>\n",
       "      <td>0.026990</td>\n",
       "    </tr>\n",
       "    <tr>\n",
       "      <th>year</th>\n",
       "      <td>-0.164372</td>\n",
       "      <td>-0.006984</td>\n",
       "      <td>-0.000197</td>\n",
       "      <td>0.019354</td>\n",
       "      <td>-0.008365</td>\n",
       "      <td>-0.004314</td>\n",
       "      <td>0.009527</td>\n",
       "      <td>0.000921</td>\n",
       "      <td>0.029817</td>\n",
       "      <td>0.006303</td>\n",
       "      <td>0.015203</td>\n",
       "      <td>-0.017079</td>\n",
       "      <td>0.031183</td>\n",
       "      <td>1.000000</td>\n",
       "      <td>-0.006794</td>\n",
       "    </tr>\n",
       "    <tr>\n",
       "      <th>points</th>\n",
       "      <td>-0.033998</td>\n",
       "      <td>0.803635</td>\n",
       "      <td>0.883689</td>\n",
       "      <td>0.510363</td>\n",
       "      <td>0.935687</td>\n",
       "      <td>0.704775</td>\n",
       "      <td>0.534171</td>\n",
       "      <td>0.528943</td>\n",
       "      <td>0.102828</td>\n",
       "      <td>0.091771</td>\n",
       "      <td>0.085996</td>\n",
       "      <td>0.077783</td>\n",
       "      <td>0.026990</td>\n",
       "      <td>-0.006794</td>\n",
       "      <td>1.000000</td>\n",
       "    </tr>\n",
       "  </tbody>\n",
       "</table>\n",
       "</div>"
      ],
      "text/plain": [
       "                Week       tar       rec      rec%       yds        td  \\\n",
       "Week        1.000000 -0.028737 -0.039985 -0.022021 -0.030696 -0.022315   \n",
       "tar        -0.028737  1.000000  0.906781  0.388477  0.800446  0.369298   \n",
       "rec        -0.039985  0.906781  1.000000  0.582527  0.867513  0.412691   \n",
       "rec%       -0.022021  0.388477  0.582527  1.000000  0.500739  0.259868   \n",
       "yds        -0.030696  0.800446  0.867513  0.500739  1.000000  0.472459   \n",
       "td         -0.022315  0.369298  0.412691  0.259868  0.472459  1.000000   \n",
       "yds/tar    -0.015031  0.278179  0.403299  0.691676  0.615018  0.317212   \n",
       "yds/rec    -0.001732  0.398666  0.380124  0.513042  0.631939  0.311264   \n",
       "ru_att     -0.002235  0.060327  0.073927  0.059806  0.044502  0.029690   \n",
       "ru_yds      0.013567  0.022915  0.032691  0.035919  0.013688  0.010925   \n",
       "ru_yds/att  0.010778  0.017279  0.028868  0.030895  0.018659  0.018062   \n",
       "ru_td       0.011306  0.013481  0.016900  0.025719  0.004399 -0.002726   \n",
       "salary     -0.064170  0.029915  0.030081  0.016250  0.019834  0.027365   \n",
       "year       -0.164372 -0.006984 -0.000197  0.019354 -0.008365 -0.004314   \n",
       "points     -0.033998  0.803635  0.883689  0.510363  0.935687  0.704775   \n",
       "\n",
       "             yds/tar   yds/rec    ru_att    ru_yds  ru_yds/att     ru_td  \\\n",
       "Week       -0.015031 -0.001732 -0.002235  0.013567    0.010778  0.011306   \n",
       "tar         0.278179  0.398666  0.060327  0.022915    0.017279  0.013481   \n",
       "rec         0.403299  0.380124  0.073927  0.032691    0.028868  0.016900   \n",
       "rec%        0.691676  0.513042  0.059806  0.035919    0.030895  0.025719   \n",
       "yds         0.615018  0.631939  0.044502  0.013688    0.018659  0.004399   \n",
       "td          0.317212  0.311264  0.029690  0.010925    0.018062 -0.002726   \n",
       "yds/tar     1.000000  0.867647  0.022153  0.009211    0.016075 -0.000745   \n",
       "yds/rec     0.867647  1.000000  0.014396 -0.004087    0.004367 -0.009547   \n",
       "ru_att      0.022153  0.014396  1.000000  0.688810    0.463423  0.235538   \n",
       "ru_yds      0.009211 -0.004087  0.688810  1.000000    0.875559  0.418821   \n",
       "ru_yds/att  0.016075  0.004367  0.463423  0.875559    1.000000  0.355878   \n",
       "ru_td      -0.000745 -0.009547  0.235538  0.418821    0.355878  1.000000   \n",
       "salary      0.007611  0.013203  0.001730 -0.003555   -0.006153 -0.001195   \n",
       "year        0.009527  0.000921  0.029817  0.006303    0.015203 -0.017079   \n",
       "points      0.534171  0.528943  0.102828  0.091771    0.085996  0.077783   \n",
       "\n",
       "              salary      year    points  \n",
       "Week       -0.064170 -0.164372 -0.033998  \n",
       "tar         0.029915 -0.006984  0.803635  \n",
       "rec         0.030081 -0.000197  0.883689  \n",
       "rec%        0.016250  0.019354  0.510363  \n",
       "yds         0.019834 -0.008365  0.935687  \n",
       "td          0.027365 -0.004314  0.704775  \n",
       "yds/tar     0.007611  0.009527  0.534171  \n",
       "yds/rec     0.013203  0.000921  0.528943  \n",
       "ru_att      0.001730  0.029817  0.102828  \n",
       "ru_yds     -0.003555  0.006303  0.091771  \n",
       "ru_yds/att -0.006153  0.015203  0.085996  \n",
       "ru_td      -0.001195 -0.017079  0.077783  \n",
       "salary      1.000000  0.031183  0.026990  \n",
       "year        0.031183  1.000000 -0.006794  \n",
       "points      0.026990 -0.006794  1.000000  "
      ]
     },
     "execution_count": 71,
     "metadata": {},
     "output_type": "execute_result"
    }
   ],
   "source": [
    "wr.corr()"
   ]
  },
  {
   "cell_type": "code",
   "execution_count": 28,
   "metadata": {},
   "outputs": [
    {
     "data": {
      "text/plain": [
       "<matplotlib.axes._subplots.AxesSubplot at 0x1ae116dd978>"
      ]
     },
     "execution_count": 28,
     "metadata": {},
     "output_type": "execute_result"
    },
    {
     "data": {
      "image/png": "[encoded data removed]",
      "text/plain": [
       "<matplotlib.figure.Figure at 0x1ae116dd828>"
      ]
     },
     "metadata": {},
     "output_type": "display_data"
    }
   ],
   "source": [
    "plt.figure(figsize=(15,15))\n",
    "sns.heatmap(wr.corr(), annot=True)"
   ]
  },
  {
   "cell_type": "code",
   "execution_count": 66,
   "metadata": {
    "collapsed": true
   },
   "outputs": [],
   "source": [
    "corr = pd.DataFrame(index=wr.columns[4:12])"
   ]
  },
  {
   "cell_type": "code",
   "execution_count": 58,
   "metadata": {},
   "outputs": [
    {
     "data": {
      "text/plain": [
       "Index(['ReceivingTargets', 'Receptions', 'ReceptionPercentage',\n",
       "       'ReceivingYards', 'ReceivingTouchdowns', 'ReceivingYardsPerTarget',\n",
       "       'ReceivingYardsPerReception'],\n",
       "      dtype='object')"
      ]
     },
     "execution_count": 58,
     "metadata": {},
     "output_type": "execute_result"
    }
   ],
   "source": [
    "wr.columns[4:11]"
   ]
  },
  {
   "cell_type": "code",
   "execution_count": 225,
   "metadata": {},
   "outputs": [
    {
     "data": {
      "text/plain": [
       "array([[1., 1.],\n",
       "       [1., 1.]])"
      ]
     },
     "execution_count": 225,
     "metadata": {},
     "output_type": "execute_result"
    }
   ],
   "source": [
    "np.corrcoef(wr.points,wr[col])"
   ]
  },
  {
   "cell_type": "code",
   "execution_count": 43,
   "metadata": {},
   "outputs": [
    {
     "data": {
      "text/plain": [
       "Index(['Name', 'Team', 'Week', 'Opponent', 'ReceivingTargets', 'Receptions',\n",
       "       'ReceptionPercentage', 'ReceivingYards', 'ReceivingTouchdowns',\n",
       "       'ReceivingLong', 'ReceivingYardsPerTarget',\n",
       "       'ReceivingYardsPerReception', 'RushingAttempts', 'RushingYards',\n",
       "       'RushingYardsPerAttempt', 'RushingTouchdowns', 'Fumbles', 'FumblesLost',\n",
       "       'points', 'year'],\n",
       "      dtype='object')"
      ]
     },
     "execution_count": 43,
     "metadata": {},
     "output_type": "execute_result"
    }
   ],
   "source": [
    "wr.columns"
   ]
  },
  {
   "cell_type": "code",
   "execution_count": 67,
   "metadata": {
    "collapsed": true
   },
   "outputs": [],
   "source": [
    "coef =[]\n",
    "for col in wr.columns[4:12]:\n",
    "    #print(qb[col])\n",
    "    coef.append(np.corrcoef(wr.points,wr[col])[0][1])"
   ]
  },
  {
   "cell_type": "code",
   "execution_count": 68,
   "metadata": {
    "collapsed": true
   },
   "outputs": [],
   "source": [
    "corr[1] = coef"
   ]
  },
  {
   "cell_type": "code",
   "execution_count": 69,
   "metadata": {},
   "outputs": [
    {
     "data": {
      "text/html": [
       "<div>\n",
       "<style>\n",
       "    .dataframe thead tr:only-child th {\n",
       "        text-align: right;\n",
       "    }\n",
       "\n",
       "    .dataframe thead th {\n",
       "        text-align: left;\n",
       "    }\n",
       "\n",
       "    .dataframe tbody tr th {\n",
       "        vertical-align: top;\n",
       "    }\n",
       "</style>\n",
       "<table border=\"1\" class=\"dataframe\">\n",
       "  <thead>\n",
       "    <tr style=\"text-align: right;\">\n",
       "      <th></th>\n",
       "      <th>1</th>\n",
       "    </tr>\n",
       "  </thead>\n",
       "  <tbody>\n",
       "    <tr>\n",
       "      <th>ReceivingTargets</th>\n",
       "      <td>0.777497</td>\n",
       "    </tr>\n",
       "    <tr>\n",
       "      <th>Receptions</th>\n",
       "      <td>0.856903</td>\n",
       "    </tr>\n",
       "    <tr>\n",
       "      <th>ReceptionPercentage</th>\n",
       "      <td>0.506708</td>\n",
       "    </tr>\n",
       "    <tr>\n",
       "      <th>ReceivingYards</th>\n",
       "      <td>0.915692</td>\n",
       "    </tr>\n",
       "    <tr>\n",
       "      <th>ReceivingTouchdowns</th>\n",
       "      <td>0.710141</td>\n",
       "    </tr>\n",
       "    <tr>\n",
       "      <th>ReceivingYardsPerTarget</th>\n",
       "      <td>0.532937</td>\n",
       "    </tr>\n",
       "    <tr>\n",
       "      <th>ReceivingYardsPerReception</th>\n",
       "      <td>0.544621</td>\n",
       "    </tr>\n",
       "    <tr>\n",
       "      <th>RushingAttempts</th>\n",
       "      <td>0.104118</td>\n",
       "    </tr>\n",
       "  </tbody>\n",
       "</table>\n",
       "</div>"
      ],
      "text/plain": [
       "                                   1\n",
       "ReceivingTargets            0.777497\n",
       "Receptions                  0.856903\n",
       "ReceptionPercentage         0.506708\n",
       "ReceivingYards              0.915692\n",
       "ReceivingTouchdowns         0.710141\n",
       "ReceivingYardsPerTarget     0.532937\n",
       "ReceivingYardsPerReception  0.544621\n",
       "RushingAttempts             0.104118"
      ]
     },
     "execution_count": 69,
     "metadata": {},
     "output_type": "execute_result"
    }
   ],
   "source": [
    "corr"
   ]
  },
  {
   "cell_type": "code",
   "execution_count": 239,
   "metadata": {},
   "outputs": [
    {
     "data": {
      "text/plain": [
       "Index(['PlayerID', 'Name', 'Team', 'Week', 'Opponent', 'tar', 'rec', 'rec%',\n",
       "       'yds', 'td', 'yds/tar', 'yds/rec', 'ru_att', 'ru_yds', 'ru_yds/att',\n",
       "       'ru_td', 'salary', 'h/a_1', 'surface_0', 'def_rk', 'year', 'points'],\n",
       "      dtype='object')"
      ]
     },
     "execution_count": 239,
     "metadata": {},
     "output_type": "execute_result"
    }
   ],
   "source": [
    "wr.columns"
   ]
  },
  {
   "cell_type": "code",
   "execution_count": 242,
   "metadata": {
    "collapsed": true
   },
   "outputs": [],
   "source": [
    "drop_lst = ['rec%']\n",
    "for col in wr.columns:\n",
    "    if 'ru' in col:\n",
    "        drop_lst.append(col)\n",
    "wr_eda = wr.drop(drop_lst, axis=1)"
   ]
  },
  {
   "cell_type": "code",
   "execution_count": 243,
   "metadata": {},
   "outputs": [
    {
     "data": {
      "text/html": [
       "<div>\n",
       "<style>\n",
       "    .dataframe thead tr:only-child th {\n",
       "        text-align: right;\n",
       "    }\n",
       "\n",
       "    .dataframe thead th {\n",
       "        text-align: left;\n",
       "    }\n",
       "\n",
       "    .dataframe tbody tr th {\n",
       "        vertical-align: top;\n",
       "    }\n",
       "</style>\n",
       "<table border=\"1\" class=\"dataframe\">\n",
       "  <thead>\n",
       "    <tr style=\"text-align: right;\">\n",
       "      <th></th>\n",
       "      <th>PlayerID</th>\n",
       "      <th>Name</th>\n",
       "      <th>Team</th>\n",
       "      <th>Week</th>\n",
       "      <th>Opponent</th>\n",
       "      <th>tar</th>\n",
       "      <th>rec</th>\n",
       "      <th>yds</th>\n",
       "      <th>td</th>\n",
       "      <th>yds/tar</th>\n",
       "      <th>yds/rec</th>\n",
       "      <th>salary</th>\n",
       "      <th>h/a_1</th>\n",
       "      <th>surface_0</th>\n",
       "      <th>def_rk</th>\n",
       "      <th>year</th>\n",
       "      <th>points</th>\n",
       "    </tr>\n",
       "  </thead>\n",
       "  <tbody>\n",
       "    <tr>\n",
       "      <th>0</th>\n",
       "      <td>204</td>\n",
       "      <td>Roddy White</td>\n",
       "      <td>ATL</td>\n",
       "      <td>1</td>\n",
       "      <td>PHI</td>\n",
       "      <td>8</td>\n",
       "      <td>4</td>\n",
       "      <td>84</td>\n",
       "      <td>0</td>\n",
       "      <td>10.5</td>\n",
       "      <td>21.0</td>\n",
       "      <td>6500</td>\n",
       "      <td>1.0</td>\n",
       "      <td>0.0</td>\n",
       "      <td>30</td>\n",
       "      <td>2015</td>\n",
       "      <td>12.4</td>\n",
       "    </tr>\n",
       "    <tr>\n",
       "      <th>2</th>\n",
       "      <td>2429</td>\n",
       "      <td>Andre Johnson</td>\n",
       "      <td>IND</td>\n",
       "      <td>1</td>\n",
       "      <td>BUF</td>\n",
       "      <td>10</td>\n",
       "      <td>4</td>\n",
       "      <td>24</td>\n",
       "      <td>0</td>\n",
       "      <td>2.4</td>\n",
       "      <td>6.0</td>\n",
       "      <td>6100</td>\n",
       "      <td>0.0</td>\n",
       "      <td>0.0</td>\n",
       "      <td>18</td>\n",
       "      <td>2015</td>\n",
       "      <td>6.4</td>\n",
       "    </tr>\n",
       "    <tr>\n",
       "      <th>3</th>\n",
       "      <td>2950</td>\n",
       "      <td>Steve Johnson</td>\n",
       "      <td>LAC</td>\n",
       "      <td>1</td>\n",
       "      <td>DET</td>\n",
       "      <td>6</td>\n",
       "      <td>6</td>\n",
       "      <td>82</td>\n",
       "      <td>1</td>\n",
       "      <td>13.7</td>\n",
       "      <td>13.7</td>\n",
       "      <td>3700</td>\n",
       "      <td>0.0</td>\n",
       "      <td>0.0</td>\n",
       "      <td>20</td>\n",
       "      <td>2015</td>\n",
       "      <td>20.2</td>\n",
       "    </tr>\n",
       "    <tr>\n",
       "      <th>4</th>\n",
       "      <td>3330</td>\n",
       "      <td>Miles Austin</td>\n",
       "      <td>PHI</td>\n",
       "      <td>1</td>\n",
       "      <td>ATL</td>\n",
       "      <td>3</td>\n",
       "      <td>2</td>\n",
       "      <td>22</td>\n",
       "      <td>0</td>\n",
       "      <td>7.3</td>\n",
       "      <td>11.0</td>\n",
       "      <td>3000</td>\n",
       "      <td>0.0</td>\n",
       "      <td>0.0</td>\n",
       "      <td>12</td>\n",
       "      <td>2015</td>\n",
       "      <td>4.2</td>\n",
       "    </tr>\n",
       "    <tr>\n",
       "      <th>5</th>\n",
       "      <td>3519</td>\n",
       "      <td>Vincent Jackson</td>\n",
       "      <td>TB</td>\n",
       "      <td>1</td>\n",
       "      <td>TEN</td>\n",
       "      <td>11</td>\n",
       "      <td>4</td>\n",
       "      <td>51</td>\n",
       "      <td>0</td>\n",
       "      <td>4.6</td>\n",
       "      <td>12.8</td>\n",
       "      <td>6000</td>\n",
       "      <td>1.0</td>\n",
       "      <td>1.0</td>\n",
       "      <td>19</td>\n",
       "      <td>2015</td>\n",
       "      <td>9.1</td>\n",
       "    </tr>\n",
       "  </tbody>\n",
       "</table>\n",
       "</div>"
      ],
      "text/plain": [
       "  PlayerID             Name Team  Week Opponent  tar  rec  yds  td  yds/tar  \\\n",
       "0      204      Roddy White  ATL     1      PHI    8    4   84   0     10.5   \n",
       "2     2429    Andre Johnson  IND     1      BUF   10    4   24   0      2.4   \n",
       "3     2950    Steve Johnson  LAC     1      DET    6    6   82   1     13.7   \n",
       "4     3330     Miles Austin  PHI     1      ATL    3    2   22   0      7.3   \n",
       "5     3519  Vincent Jackson   TB     1      TEN   11    4   51   0      4.6   \n",
       "\n",
       "   yds/rec  salary h/a_1 surface_0 def_rk  year  points  \n",
       "0     21.0    6500   1.0       0.0     30  2015    12.4  \n",
       "2      6.0    6100   0.0       0.0     18  2015     6.4  \n",
       "3     13.7    3700   0.0       0.0     20  2015    20.2  \n",
       "4     11.0    3000   0.0       0.0     12  2015     4.2  \n",
       "5     12.8    6000   1.0       1.0     19  2015     9.1  "
      ]
     },
     "execution_count": 243,
     "metadata": {},
     "output_type": "execute_result"
    }
   ],
   "source": [
    "wr_eda.head()"
   ]
  },
  {
   "cell_type": "code",
   "execution_count": 245,
   "metadata": {
    "collapsed": true
   },
   "outputs": [],
   "source": [
    "wr_eda.drop('PlayerID', axis=1, inplace=True)"
   ]
  },
  {
   "cell_type": "code",
   "execution_count": 246,
   "metadata": {
    "collapsed": true
   },
   "outputs": [],
   "source": [
    "wr_eda.to_csv('../input/wr/wr_loc_cleaned.csv', index=False)"
   ]
  },
  {
   "cell_type": "code",
   "execution_count": 73,
   "metadata": {
    "collapsed": true
   },
   "outputs": [],
   "source": [
    "from sklearn.preprocessing import MinMaxScaler\n",
    "from sklearn.linear_model import LinearRegression"
   ]
  },
  {
   "cell_type": "code",
   "execution_count": 74,
   "metadata": {
    "collapsed": true
   },
   "outputs": [],
   "source": [
    "#A function that will covert a time series database into a supervised learning database\n",
    "\n",
    "def series_to_supervised(data, n_in=1, n_out=1, dropnan=True):\n",
    "    n_vars = 1 if type(data) is list else data.shape[1]\n",
    "    df = pd.DataFrame(data)\n",
    "    cols, names = list(), list()\n",
    "    # input sequence (t-n, ... t-1)\n",
    "    for i in range(n_in, 0, -1):\n",
    "            cols.append(df.shift(i))\n",
    "            names += [('var%d(t-%d)' % (j+1, i)) for j in range(n_vars)]\n",
    "    # forecast sequence (t, t+1, ... t+n)\n",
    "    for i in range(0, n_out):\n",
    "        cols.append(df.shift(-i))\n",
    "        if i == 0:\n",
    "            names += [('var%d(t)' % (j+1)) for j in range(n_vars)]\n",
    "        else:\n",
    "            names += [('var%d(t+%d)' % (j+1, i)) for j in range(n_vars)]\n",
    "    # put it all together\n",
    "    agg = pd.concat(cols, axis=1)\n",
    "    agg.columns = names\n",
    "    # drop rows with NaN values\n",
    "    if dropnan:\n",
    "        agg.dropna(inplace=True)\n",
    "    return agg"
   ]
  },
  {
   "cell_type": "code",
   "execution_count": 75,
   "metadata": {
    "collapsed": true
   },
   "outputs": [],
   "source": [
    "train  = wr[wr['year']!=2017]\n",
    "test = wr[wr['year']==2017]"
   ]
  },
  {
   "cell_type": "code",
   "execution_count": 76,
   "metadata": {},
   "outputs": [
    {
     "data": {
      "text/plain": [
       "Index(['Name', 'Team', 'Week', 'Opponent', 'ReceivingTargets', 'Receptions',\n",
       "       'ReceptionPercentage', 'ReceivingYards', 'ReceivingTouchdowns',\n",
       "       'ReceivingYardsPerTarget', 'ReceivingYardsPerReception',\n",
       "       'RushingAttempts', 'RushingYards', 'RushingYardsPerAttempt',\n",
       "       'RushingTouchdowns', 'Fumbles', 'FumblesLost', 'points', 'year'],\n",
       "      dtype='object')"
      ]
     },
     "execution_count": 76,
     "metadata": {},
     "output_type": "execute_result"
    }
   ],
   "source": [
    "wr.columns"
   ]
  },
  {
   "cell_type": "code",
   "execution_count": 345,
   "metadata": {
    "collapsed": true
   },
   "outputs": [],
   "source": [
    "passing = ['Comp','Att','Pct','Yds','Yds/Att','TD','Int']"
   ]
  },
  {
   "cell_type": "code",
   "execution_count": 77,
   "metadata": {
    "collapsed": true
   },
   "outputs": [],
   "source": [
    "y_train = train['points']\n",
    "y_test = test['points']\n",
    "X_train = train.drop('points',axis=1)\n",
    "X_test = test.drop('points', axis=1)"
   ]
  },
  {
   "cell_type": "code",
   "execution_count": 78,
   "metadata": {
    "collapsed": true
   },
   "outputs": [],
   "source": [
    "X_train = X_train[X_train.columns[4:12]]\n",
    "X_test = X_test[X_test.columns[4:12]]"
   ]
  },
  {
   "cell_type": "code",
   "execution_count": 79,
   "metadata": {},
   "outputs": [
    {
     "data": {
      "text/plain": [
       "Index(['ReceivingTargets', 'Receptions', 'ReceptionPercentage',\n",
       "       'ReceivingYards', 'ReceivingTouchdowns', 'ReceivingYardsPerTarget',\n",
       "       'ReceivingYardsPerReception', 'RushingAttempts'],\n",
       "      dtype='object')"
      ]
     },
     "execution_count": 79,
     "metadata": {},
     "output_type": "execute_result"
    }
   ],
   "source": [
    "X_train.columns"
   ]
  },
  {
   "cell_type": "code",
   "execution_count": 80,
   "metadata": {
    "collapsed": true
   },
   "outputs": [],
   "source": [
    "reframed = series_to_supervised(X_train.values.astype('float32'),1,1)"
   ]
  },
  {
   "cell_type": "code",
   "execution_count": null,
   "metadata": {
    "collapsed": true
   },
   "outputs": [],
   "source": []
  },
  {
   "cell_type": "code",
   "execution_count": 81,
   "metadata": {},
   "outputs": [
    {
     "data": {
      "text/plain": [
       "LinearRegression(copy_X=True, fit_intercept=True, n_jobs=1, normalize=False)"
      ]
     },
     "execution_count": 81,
     "metadata": {},
     "output_type": "execute_result"
    }
   ],
   "source": [
    "lr = LinearRegression()\n",
    "lr.fit(X_train,y_train)"
   ]
  },
  {
   "cell_type": "code",
   "execution_count": 82,
   "metadata": {},
   "outputs": [
    {
     "data": {
      "text/html": [
       "<div>\n",
       "<style>\n",
       "    .dataframe thead tr:only-child th {\n",
       "        text-align: right;\n",
       "    }\n",
       "\n",
       "    .dataframe thead th {\n",
       "        text-align: left;\n",
       "    }\n",
       "\n",
       "    .dataframe tbody tr th {\n",
       "        vertical-align: top;\n",
       "    }\n",
       "</style>\n",
       "<table border=\"1\" class=\"dataframe\">\n",
       "  <thead>\n",
       "    <tr style=\"text-align: right;\">\n",
       "      <th></th>\n",
       "      <th>0</th>\n",
       "      <th>coefficients</th>\n",
       "    </tr>\n",
       "  </thead>\n",
       "  <tbody>\n",
       "    <tr>\n",
       "      <th>0</th>\n",
       "      <td>ReceivingTargets</td>\n",
       "      <td>-0.033409</td>\n",
       "    </tr>\n",
       "    <tr>\n",
       "      <th>1</th>\n",
       "      <td>Receptions</td>\n",
       "      <td>0.706242</td>\n",
       "    </tr>\n",
       "    <tr>\n",
       "      <th>2</th>\n",
       "      <td>ReceptionPercentage</td>\n",
       "      <td>-0.000008</td>\n",
       "    </tr>\n",
       "    <tr>\n",
       "      <th>3</th>\n",
       "      <td>ReceivingYards</td>\n",
       "      <td>0.122504</td>\n",
       "    </tr>\n",
       "    <tr>\n",
       "      <th>4</th>\n",
       "      <td>ReceivingTouchdowns</td>\n",
       "      <td>6.107750</td>\n",
       "    </tr>\n",
       "    <tr>\n",
       "      <th>5</th>\n",
       "      <td>ReceivingYardsPerTarget</td>\n",
       "      <td>0.000926</td>\n",
       "    </tr>\n",
       "    <tr>\n",
       "      <th>6</th>\n",
       "      <td>ReceivingYardsPerReception</td>\n",
       "      <td>-0.029327</td>\n",
       "    </tr>\n",
       "    <tr>\n",
       "      <th>7</th>\n",
       "      <td>RushingAttempts</td>\n",
       "      <td>1.286981</td>\n",
       "    </tr>\n",
       "  </tbody>\n",
       "</table>\n",
       "</div>"
      ],
      "text/plain": [
       "                            0  coefficients\n",
       "0            ReceivingTargets     -0.033409\n",
       "1                  Receptions      0.706242\n",
       "2         ReceptionPercentage     -0.000008\n",
       "3              ReceivingYards      0.122504\n",
       "4         ReceivingTouchdowns      6.107750\n",
       "5     ReceivingYardsPerTarget      0.000926\n",
       "6  ReceivingYardsPerReception     -0.029327\n",
       "7             RushingAttempts      1.286981"
      ]
     },
     "execution_count": 82,
     "metadata": {},
     "output_type": "execute_result"
    }
   ],
   "source": [
    "coeff = pd.DataFrame(X_train.columns)\n",
    "coeff['coefficients'] = lr.coef_\n",
    "coeff\n",
    "\n"
   ]
  },
  {
   "cell_type": "code",
   "execution_count": 83,
   "metadata": {},
   "outputs": [
    {
     "data": {
      "text/plain": [
       "(2559,)"
      ]
     },
     "execution_count": 83,
     "metadata": {},
     "output_type": "execute_result"
    }
   ],
   "source": [
    "yhat = lr.predict(X_test)\n",
    "yhat.shape"
   ]
  },
  {
   "cell_type": "code",
   "execution_count": 84,
   "metadata": {},
   "outputs": [
    {
     "name": "stdout",
     "output_type": "stream",
     "text": [
      "RMSE error is: 1.06535345394\n"
     ]
    }
   ],
   "source": [
    "def rmse(predictions, targets):\n",
    "    return np.sqrt(((predictions - targets) ** 2).mean())\n",
    "\n",
    "rmse_val = rmse(yhat, y_test)\n",
    "print(\"RMSE error is: \" + str(rmse_val))"
   ]
  },
  {
   "cell_type": "code",
   "execution_count": 88,
   "metadata": {},
   "outputs": [
    {
     "data": {
      "text/html": [
       "<div>\n",
       "<style>\n",
       "    .dataframe thead tr:only-child th {\n",
       "        text-align: right;\n",
       "    }\n",
       "\n",
       "    .dataframe thead th {\n",
       "        text-align: left;\n",
       "    }\n",
       "\n",
       "    .dataframe tbody tr th {\n",
       "        vertical-align: top;\n",
       "    }\n",
       "</style>\n",
       "<table border=\"1\" class=\"dataframe\">\n",
       "  <thead>\n",
       "    <tr style=\"text-align: right;\">\n",
       "      <th></th>\n",
       "      <th>Name</th>\n",
       "      <th>score</th>\n",
       "      <th>Predicted</th>\n",
       "      <th>Week</th>\n",
       "    </tr>\n",
       "  </thead>\n",
       "  <tbody>\n",
       "    <tr>\n",
       "      <th>12371</th>\n",
       "      <td>Antonio Brown</td>\n",
       "      <td>32.2</td>\n",
       "      <td>29.268547</td>\n",
       "      <td>1</td>\n",
       "    </tr>\n",
       "    <tr>\n",
       "      <th>12613</th>\n",
       "      <td>Antonio Brown</td>\n",
       "      <td>11.2</td>\n",
       "      <td>10.441199</td>\n",
       "      <td>2</td>\n",
       "    </tr>\n",
       "    <tr>\n",
       "      <th>12789</th>\n",
       "      <td>Antonio Brown</td>\n",
       "      <td>30.0</td>\n",
       "      <td>25.903104</td>\n",
       "      <td>3</td>\n",
       "    </tr>\n",
       "    <tr>\n",
       "      <th>12966</th>\n",
       "      <td>Antonio Brown</td>\n",
       "      <td>7.4</td>\n",
       "      <td>6.484378</td>\n",
       "      <td>4</td>\n",
       "    </tr>\n",
       "    <tr>\n",
       "      <th>13087</th>\n",
       "      <td>Antonio Brown</td>\n",
       "      <td>28.7</td>\n",
       "      <td>25.248690</td>\n",
       "      <td>5</td>\n",
       "    </tr>\n",
       "    <tr>\n",
       "      <th>13226</th>\n",
       "      <td>Antonio Brown</td>\n",
       "      <td>32.5</td>\n",
       "      <td>29.897560</td>\n",
       "      <td>6</td>\n",
       "    </tr>\n",
       "    <tr>\n",
       "      <th>13384</th>\n",
       "      <td>Antonio Brown</td>\n",
       "      <td>16.5</td>\n",
       "      <td>16.133065</td>\n",
       "      <td>7</td>\n",
       "    </tr>\n",
       "    <tr>\n",
       "      <th>13500</th>\n",
       "      <td>Antonio Brown</td>\n",
       "      <td>12.0</td>\n",
       "      <td>11.408977</td>\n",
       "      <td>8</td>\n",
       "    </tr>\n",
       "    <tr>\n",
       "      <th>13830</th>\n",
       "      <td>Antonio Brown</td>\n",
       "      <td>7.7</td>\n",
       "      <td>7.229051</td>\n",
       "      <td>10</td>\n",
       "    </tr>\n",
       "    <tr>\n",
       "      <th>13923</th>\n",
       "      <td>Antonio Brown</td>\n",
       "      <td>45.4</td>\n",
       "      <td>42.220359</td>\n",
       "      <td>11</td>\n",
       "    </tr>\n",
       "    <tr>\n",
       "      <th>14076</th>\n",
       "      <td>Antonio Brown</td>\n",
       "      <td>43.9</td>\n",
       "      <td>39.138028</td>\n",
       "      <td>12</td>\n",
       "    </tr>\n",
       "    <tr>\n",
       "      <th>14239</th>\n",
       "      <td>Antonio Brown</td>\n",
       "      <td>27.1</td>\n",
       "      <td>23.273037</td>\n",
       "      <td>13</td>\n",
       "    </tr>\n",
       "    <tr>\n",
       "      <th>14398</th>\n",
       "      <td>Antonio Brown</td>\n",
       "      <td>35.3</td>\n",
       "      <td>32.743231</td>\n",
       "      <td>14</td>\n",
       "    </tr>\n",
       "    <tr>\n",
       "      <th>14584</th>\n",
       "      <td>Antonio Brown</td>\n",
       "      <td>4.4</td>\n",
       "      <td>3.948368</td>\n",
       "      <td>15</td>\n",
       "    </tr>\n",
       "  </tbody>\n",
       "</table>\n",
       "</div>"
      ],
      "text/plain": [
       "                Name  score  Predicted  Week\n",
       "12371  Antonio Brown   32.2  29.268547     1\n",
       "12613  Antonio Brown   11.2  10.441199     2\n",
       "12789  Antonio Brown   30.0  25.903104     3\n",
       "12966  Antonio Brown    7.4   6.484378     4\n",
       "13087  Antonio Brown   28.7  25.248690     5\n",
       "13226  Antonio Brown   32.5  29.897560     6\n",
       "13384  Antonio Brown   16.5  16.133065     7\n",
       "13500  Antonio Brown   12.0  11.408977     8\n",
       "13830  Antonio Brown    7.7   7.229051    10\n",
       "13923  Antonio Brown   45.4  42.220359    11\n",
       "14076  Antonio Brown   43.9  39.138028    12\n",
       "14239  Antonio Brown   27.1  23.273037    13\n",
       "14398  Antonio Brown   35.3  32.743231    14\n",
       "14584  Antonio Brown    4.4   3.948368    15"
      ]
     },
     "execution_count": 88,
     "metadata": {},
     "output_type": "execute_result"
    }
   ],
   "source": [
    "results = pd.DataFrame()\n",
    "results['Name'] = wr[wr['year']==2017]['Name']\n",
    "results['score'] = y_test\n",
    "results['Predicted'] = yhat\n",
    "results['Week'] = wr[wr['year']==2017]['Week']\n",
    "#results.groupby('Player').mean()[['score','Predicted']]\n",
    "results[results['Name']=='Antonio Brown']"
   ]
  },
  {
   "cell_type": "code",
   "execution_count": 89,
   "metadata": {},
   "outputs": [
    {
     "data": {
      "text/plain": [
       "(2559, 4)"
      ]
     },
     "execution_count": 89,
     "metadata": {},
     "output_type": "execute_result"
    }
   ],
   "source": [
    "results.shape"
   ]
  },
  {
   "cell_type": "code",
   "execution_count": null,
   "metadata": {
    "collapsed": true
   },
   "outputs": [],
   "source": []
  }
 ],
 "metadata": {
  "kernelspec": {
   "display_name": "Python 3",
   "language": "python",
   "name": "python3"
  },
  "language_info": {
   "codemirror_mode": {
    "name": "ipython",
    "version": 3
   },
   "file_extension": ".py",
   "mimetype": "text/x-python",
   "name": "python",
   "nbconvert_exporter": "python",
   "pygments_lexer": "ipython3",
   "version": "3.6.2"
  }
 },
 "nbformat": 4,
 "nbformat_minor": 2
}
