{
 "cells": [
  {
   "cell_type": "code",
   "execution_count": 169,
   "metadata": {
    "collapsed": true
   },
   "outputs": [],
   "source": [
    "import pandas as pd\n",
    "import numpy as np\n",
    "import matplotlib.pyplot as plt\n",
    "import seaborn as sns\n",
    "from sklearn.preprocessing import LabelEncoder, OneHotEncoder\n",
    "%matplotlib inline\n",
    "import math"
   ]
  },
  {
   "cell_type": "code",
   "execution_count": 6,
   "metadata": {
    "collapsed": true
   },
   "outputs": [],
   "source": [
    "rb= pd.read_csv('../input/rb/dk_stats_loc.csv')"
   ]
  },
  {
   "cell_type": "code",
   "execution_count": 20,
   "metadata": {
    "collapsed": true
   },
   "outputs": [],
   "source": [
    "rb['salary'].replace('null',0, inplace=True)"
   ]
  },
  {
   "cell_type": "code",
   "execution_count": 21,
   "metadata": {
    "collapsed": true
   },
   "outputs": [],
   "source": [
    "# Convert attributes from to correct data type\n",
    "\n",
    "rb['salary'] = rb['salary'].apply(lambda x: int(x))\n",
    "rb['h/a_1'] = rb['h/a_1'].astype('category')\n",
    "rb['surface_0'] = rb['surface_0'].astype('category')\n",
    "rb['def_rk'] = rb['def_rk'].astype('category')\n",
    "rb['PlayerID'] = rb['PlayerID'].astype('category')"
   ]
  },
  {
   "cell_type": "code",
   "execution_count": 337,
   "metadata": {
    "collapsed": true
   },
   "outputs": [],
   "source": [
    "rb= rb.sort_values('year').reset_index(drop=True)"
   ]
  },
  {
   "cell_type": "code",
   "execution_count": 8,
   "metadata": {},
   "outputs": [
    {
     "data": {
      "text/html": [
       "<div>\n",
       "<style>\n",
       "    .dataframe thead tr:only-child th {\n",
       "        text-align: right;\n",
       "    }\n",
       "\n",
       "    .dataframe thead th {\n",
       "        text-align: left;\n",
       "    }\n",
       "\n",
       "    .dataframe tbody tr th {\n",
       "        vertical-align: top;\n",
       "    }\n",
       "</style>\n",
       "<table border=\"1\" class=\"dataframe\">\n",
       "  <thead>\n",
       "    <tr style=\"text-align: right;\">\n",
       "      <th></th>\n",
       "      <th>year</th>\n",
       "      <th>PlayerID</th>\n",
       "      <th>Name</th>\n",
       "      <th>Team</th>\n",
       "      <th>Week</th>\n",
       "      <th>Opponent</th>\n",
       "      <th>att</th>\n",
       "      <th>yds</th>\n",
       "      <th>yds/att</th>\n",
       "      <th>td</th>\n",
       "      <th>tar</th>\n",
       "      <th>rec</th>\n",
       "      <th>rec_yds</th>\n",
       "      <th>rec_td</th>\n",
       "      <th>fum</th>\n",
       "      <th>def_rk</th>\n",
       "      <th>h/a_1</th>\n",
       "      <th>surface_0</th>\n",
       "      <th>salary</th>\n",
       "      <th>points</th>\n",
       "    </tr>\n",
       "  </thead>\n",
       "  <tbody>\n",
       "    <tr>\n",
       "      <th>0</th>\n",
       "      <td>2015</td>\n",
       "      <td>733</td>\n",
       "      <td>Jerome Felton</td>\n",
       "      <td>BUF</td>\n",
       "      <td>1</td>\n",
       "      <td>IND</td>\n",
       "      <td>0</td>\n",
       "      <td>0</td>\n",
       "      <td>0.0</td>\n",
       "      <td>0</td>\n",
       "      <td>1</td>\n",
       "      <td>0</td>\n",
       "      <td>0</td>\n",
       "      <td>0</td>\n",
       "      <td>0</td>\n",
       "      <td>18</td>\n",
       "      <td>1.0</td>\n",
       "      <td>0.0</td>\n",
       "      <td>3000</td>\n",
       "      <td>0.0</td>\n",
       "    </tr>\n",
       "    <tr>\n",
       "      <th>1</th>\n",
       "      <td>2015</td>\n",
       "      <td>1589</td>\n",
       "      <td>John Kuhn</td>\n",
       "      <td>GB</td>\n",
       "      <td>1</td>\n",
       "      <td>CHI</td>\n",
       "      <td>0</td>\n",
       "      <td>0</td>\n",
       "      <td>0.0</td>\n",
       "      <td>0</td>\n",
       "      <td>0</td>\n",
       "      <td>0</td>\n",
       "      <td>0</td>\n",
       "      <td>0</td>\n",
       "      <td>0</td>\n",
       "      <td>22</td>\n",
       "      <td>0.0</td>\n",
       "      <td>1.0</td>\n",
       "      <td>3000</td>\n",
       "      <td>0.0</td>\n",
       "    </tr>\n",
       "    <tr>\n",
       "      <th>2</th>\n",
       "      <td>2015</td>\n",
       "      <td>2699</td>\n",
       "      <td>Matt Forte</td>\n",
       "      <td>CHI</td>\n",
       "      <td>1</td>\n",
       "      <td>GB</td>\n",
       "      <td>24</td>\n",
       "      <td>141</td>\n",
       "      <td>5.9</td>\n",
       "      <td>1</td>\n",
       "      <td>8</td>\n",
       "      <td>5</td>\n",
       "      <td>25</td>\n",
       "      <td>0</td>\n",
       "      <td>0</td>\n",
       "      <td>13</td>\n",
       "      <td>1.0</td>\n",
       "      <td>1.0</td>\n",
       "      <td>3000</td>\n",
       "      <td>30.6</td>\n",
       "    </tr>\n",
       "    <tr>\n",
       "      <th>3</th>\n",
       "      <td>2015</td>\n",
       "      <td>3382</td>\n",
       "      <td>Marcel Reece</td>\n",
       "      <td>OAK</td>\n",
       "      <td>1</td>\n",
       "      <td>CIN</td>\n",
       "      <td>0</td>\n",
       "      <td>0</td>\n",
       "      <td>0.0</td>\n",
       "      <td>0</td>\n",
       "      <td>4</td>\n",
       "      <td>3</td>\n",
       "      <td>26</td>\n",
       "      <td>2</td>\n",
       "      <td>0</td>\n",
       "      <td>15</td>\n",
       "      <td>1.0</td>\n",
       "      <td>1.0</td>\n",
       "      <td>7800</td>\n",
       "      <td>17.6</td>\n",
       "    </tr>\n",
       "    <tr>\n",
       "      <th>4</th>\n",
       "      <td>2015</td>\n",
       "      <td>4640</td>\n",
       "      <td>Reggie Bush</td>\n",
       "      <td>SF</td>\n",
       "      <td>1</td>\n",
       "      <td>MIN</td>\n",
       "      <td>2</td>\n",
       "      <td>8</td>\n",
       "      <td>4.0</td>\n",
       "      <td>0</td>\n",
       "      <td>1</td>\n",
       "      <td>0</td>\n",
       "      <td>0</td>\n",
       "      <td>0</td>\n",
       "      <td>0</td>\n",
       "      <td>9</td>\n",
       "      <td>1.0</td>\n",
       "      <td>1.0</td>\n",
       "      <td>3000</td>\n",
       "      <td>0.8</td>\n",
       "    </tr>\n",
       "  </tbody>\n",
       "</table>\n",
       "</div>"
      ],
      "text/plain": [
       "   year  PlayerID           Name Team  Week Opponent  att  yds  yds/att  td  \\\n",
       "0  2015       733  Jerome Felton  BUF     1      IND    0    0      0.0   0   \n",
       "1  2015      1589      John Kuhn   GB     1      CHI    0    0      0.0   0   \n",
       "2  2015      2699     Matt Forte  CHI     1       GB   24  141      5.9   1   \n",
       "3  2015      3382   Marcel Reece  OAK     1      CIN    0    0      0.0   0   \n",
       "4  2015      4640    Reggie Bush   SF     1      MIN    2    8      4.0   0   \n",
       "\n",
       "   tar  rec  rec_yds  rec_td  fum  def_rk  h/a_1  surface_0 salary  points  \n",
       "0    1    0        0       0    0      18    1.0        0.0   3000     0.0  \n",
       "1    0    0        0       0    0      22    0.0        1.0   3000     0.0  \n",
       "2    8    5       25       0    0      13    1.0        1.0   3000    30.6  \n",
       "3    4    3       26       2    0      15    1.0        1.0   7800    17.6  \n",
       "4    1    0        0       0    0       9    1.0        1.0   3000     0.8  "
      ]
     },
     "execution_count": 8,
     "metadata": {},
     "output_type": "execute_result"
    }
   ],
   "source": [
    "rb.head()"
   ]
  },
  {
   "cell_type": "code",
   "execution_count": 22,
   "metadata": {},
   "outputs": [
    {
     "data": {
      "text/plain": [
       "year            int64\n",
       "PlayerID     category\n",
       "Name           object\n",
       "Team           object\n",
       "Week            int64\n",
       "Opponent       object\n",
       "att             int64\n",
       "yds             int64\n",
       "yds/att       float64\n",
       "td              int64\n",
       "tar             int64\n",
       "rec             int64\n",
       "rec_yds         int64\n",
       "rec_td          int64\n",
       "fum             int64\n",
       "def_rk       category\n",
       "h/a_1        category\n",
       "surface_0    category\n",
       "salary          int64\n",
       "points        float64\n",
       "dtype: object"
      ]
     },
     "execution_count": 22,
     "metadata": {},
     "output_type": "execute_result"
    }
   ],
   "source": [
    "rb.dtypes"
   ]
  },
  {
   "cell_type": "code",
   "execution_count": 384,
   "metadata": {
    "collapsed": true
   },
   "outputs": [],
   "source": [
    "# The home or away, surafce, and defensive rank variables are categorical attributes and should not be treated as numeric\n",
    "\n",
    "for col in ['h/a_1','surface_0','def_rk']:\n",
    "    rb[col] = rb[col].astype('category')"
   ]
  },
  {
   "cell_type": "code",
   "execution_count": 385,
   "metadata": {},
   "outputs": [
    {
     "data": {
      "text/html": [
       "<div>\n",
       "<style>\n",
       "    .dataframe thead tr:only-child th {\n",
       "        text-align: right;\n",
       "    }\n",
       "\n",
       "    .dataframe thead th {\n",
       "        text-align: left;\n",
       "    }\n",
       "\n",
       "    .dataframe tbody tr th {\n",
       "        vertical-align: top;\n",
       "    }\n",
       "</style>\n",
       "<table border=\"1\" class=\"dataframe\">\n",
       "  <thead>\n",
       "    <tr style=\"text-align: right;\">\n",
       "      <th></th>\n",
       "      <th>year</th>\n",
       "      <th>PlayerID</th>\n",
       "      <th>Week</th>\n",
       "      <th>att</th>\n",
       "      <th>yds</th>\n",
       "      <th>yds/att</th>\n",
       "      <th>td</th>\n",
       "      <th>tar</th>\n",
       "      <th>rec</th>\n",
       "      <th>rec_yds</th>\n",
       "      <th>rec_td</th>\n",
       "      <th>fum</th>\n",
       "      <th>salary</th>\n",
       "      <th>points</th>\n",
       "    </tr>\n",
       "  </thead>\n",
       "  <tbody>\n",
       "    <tr>\n",
       "      <th>count</th>\n",
       "      <td>4737.000000</td>\n",
       "      <td>4737.000000</td>\n",
       "      <td>4737.000000</td>\n",
       "      <td>4737.000000</td>\n",
       "      <td>4737.000000</td>\n",
       "      <td>4737.000000</td>\n",
       "      <td>4737.00000</td>\n",
       "      <td>4737.000000</td>\n",
       "      <td>4737.000000</td>\n",
       "      <td>4737.000000</td>\n",
       "      <td>4737.000000</td>\n",
       "      <td>4737.000000</td>\n",
       "      <td>4737.000000</td>\n",
       "      <td>4737.000000</td>\n",
       "    </tr>\n",
       "    <tr>\n",
       "      <th>mean</th>\n",
       "      <td>2016.141018</td>\n",
       "      <td>14785.294701</td>\n",
       "      <td>8.527127</td>\n",
       "      <td>7.913236</td>\n",
       "      <td>32.397509</td>\n",
       "      <td>3.456618</td>\n",
       "      <td>0.21997</td>\n",
       "      <td>2.478784</td>\n",
       "      <td>1.842094</td>\n",
       "      <td>15.059531</td>\n",
       "      <td>0.073042</td>\n",
       "      <td>0.056998</td>\n",
       "      <td>3913.510661</td>\n",
       "      <td>8.524931</td>\n",
       "    </tr>\n",
       "    <tr>\n",
       "      <th>std</th>\n",
       "      <td>0.951284</td>\n",
       "      <td>3854.490207</td>\n",
       "      <td>5.136950</td>\n",
       "      <td>7.164827</td>\n",
       "      <td>35.455341</td>\n",
       "      <td>3.056805</td>\n",
       "      <td>0.50937</td>\n",
       "      <td>2.449840</td>\n",
       "      <td>1.976845</td>\n",
       "      <td>19.917234</td>\n",
       "      <td>0.274449</td>\n",
       "      <td>0.239038</td>\n",
       "      <td>1356.781587</td>\n",
       "      <td>8.236432</td>\n",
       "    </tr>\n",
       "    <tr>\n",
       "      <th>min</th>\n",
       "      <td>2015.000000</td>\n",
       "      <td>733.000000</td>\n",
       "      <td>1.000000</td>\n",
       "      <td>0.000000</td>\n",
       "      <td>-11.000000</td>\n",
       "      <td>-10.000000</td>\n",
       "      <td>0.00000</td>\n",
       "      <td>0.000000</td>\n",
       "      <td>0.000000</td>\n",
       "      <td>-8.000000</td>\n",
       "      <td>0.000000</td>\n",
       "      <td>0.000000</td>\n",
       "      <td>0.000000</td>\n",
       "      <td>-1.800000</td>\n",
       "    </tr>\n",
       "    <tr>\n",
       "      <th>25%</th>\n",
       "      <td>2015.000000</td>\n",
       "      <td>13418.000000</td>\n",
       "      <td>4.000000</td>\n",
       "      <td>2.000000</td>\n",
       "      <td>4.000000</td>\n",
       "      <td>1.800000</td>\n",
       "      <td>0.00000</td>\n",
       "      <td>1.000000</td>\n",
       "      <td>0.000000</td>\n",
       "      <td>0.000000</td>\n",
       "      <td>0.000000</td>\n",
       "      <td>0.000000</td>\n",
       "      <td>3000.000000</td>\n",
       "      <td>2.200000</td>\n",
       "    </tr>\n",
       "    <tr>\n",
       "      <th>50%</th>\n",
       "      <td>2016.000000</td>\n",
       "      <td>15645.000000</td>\n",
       "      <td>8.000000</td>\n",
       "      <td>6.000000</td>\n",
       "      <td>21.000000</td>\n",
       "      <td>3.300000</td>\n",
       "      <td>0.00000</td>\n",
       "      <td>2.000000</td>\n",
       "      <td>1.000000</td>\n",
       "      <td>8.000000</td>\n",
       "      <td>0.000000</td>\n",
       "      <td>0.000000</td>\n",
       "      <td>3300.000000</td>\n",
       "      <td>6.100000</td>\n",
       "    </tr>\n",
       "    <tr>\n",
       "      <th>75%</th>\n",
       "      <td>2017.000000</td>\n",
       "      <td>16934.000000</td>\n",
       "      <td>13.000000</td>\n",
       "      <td>13.000000</td>\n",
       "      <td>49.000000</td>\n",
       "      <td>4.700000</td>\n",
       "      <td>0.00000</td>\n",
       "      <td>4.000000</td>\n",
       "      <td>3.000000</td>\n",
       "      <td>22.000000</td>\n",
       "      <td>0.000000</td>\n",
       "      <td>0.000000</td>\n",
       "      <td>4500.000000</td>\n",
       "      <td>12.500000</td>\n",
       "    </tr>\n",
       "    <tr>\n",
       "      <th>max</th>\n",
       "      <td>2018.000000</td>\n",
       "      <td>20562.000000</td>\n",
       "      <td>17.000000</td>\n",
       "      <td>38.000000</td>\n",
       "      <td>236.000000</td>\n",
       "      <td>56.000000</td>\n",
       "      <td>3.00000</td>\n",
       "      <td>20.000000</td>\n",
       "      <td>15.000000</td>\n",
       "      <td>158.000000</td>\n",
       "      <td>3.000000</td>\n",
       "      <td>2.000000</td>\n",
       "      <td>10000.000000</td>\n",
       "      <td>55.600000</td>\n",
       "    </tr>\n",
       "  </tbody>\n",
       "</table>\n",
       "</div>"
      ],
      "text/plain": [
       "              year      PlayerID         Week          att          yds  \\\n",
       "count  4737.000000   4737.000000  4737.000000  4737.000000  4737.000000   \n",
       "mean   2016.141018  14785.294701     8.527127     7.913236    32.397509   \n",
       "std       0.951284   3854.490207     5.136950     7.164827    35.455341   \n",
       "min    2015.000000    733.000000     1.000000     0.000000   -11.000000   \n",
       "25%    2015.000000  13418.000000     4.000000     2.000000     4.000000   \n",
       "50%    2016.000000  15645.000000     8.000000     6.000000    21.000000   \n",
       "75%    2017.000000  16934.000000    13.000000    13.000000    49.000000   \n",
       "max    2018.000000  20562.000000    17.000000    38.000000   236.000000   \n",
       "\n",
       "           yds/att          td          tar          rec      rec_yds  \\\n",
       "count  4737.000000  4737.00000  4737.000000  4737.000000  4737.000000   \n",
       "mean      3.456618     0.21997     2.478784     1.842094    15.059531   \n",
       "std       3.056805     0.50937     2.449840     1.976845    19.917234   \n",
       "min     -10.000000     0.00000     0.000000     0.000000    -8.000000   \n",
       "25%       1.800000     0.00000     1.000000     0.000000     0.000000   \n",
       "50%       3.300000     0.00000     2.000000     1.000000     8.000000   \n",
       "75%       4.700000     0.00000     4.000000     3.000000    22.000000   \n",
       "max      56.000000     3.00000    20.000000    15.000000   158.000000   \n",
       "\n",
       "            rec_td          fum        salary       points  \n",
       "count  4737.000000  4737.000000   4737.000000  4737.000000  \n",
       "mean      0.073042     0.056998   3913.510661     8.524931  \n",
       "std       0.274449     0.239038   1356.781587     8.236432  \n",
       "min       0.000000     0.000000      0.000000    -1.800000  \n",
       "25%       0.000000     0.000000   3000.000000     2.200000  \n",
       "50%       0.000000     0.000000   3300.000000     6.100000  \n",
       "75%       0.000000     0.000000   4500.000000    12.500000  \n",
       "max       3.000000     2.000000  10000.000000    55.600000  "
      ]
     },
     "execution_count": 385,
     "metadata": {},
     "output_type": "execute_result"
    }
   ],
   "source": [
    "# A broad overview of the dataset\n",
    "\n",
    "\n",
    "rb.describe()"
   ]
  },
  {
   "cell_type": "markdown",
   "metadata": {},
   "source": [
    "There were 6290 running backs that were on active rosters for 8.5 games per player from 2015 through 2018. They "
   ]
  },
  {
   "cell_type": "markdown",
   "metadata": {},
   "source": [
    "### Receiving Backs\n",
    "Receiving backs are defined as rnnning backs with no rushing attempts, has receiving targets"
   ]
  },
  {
   "cell_type": "code",
   "execution_count": 114,
   "metadata": {},
   "outputs": [
    {
     "data": {
      "text/plain": [
       "year         0\n",
       "PlayerID     0\n",
       "Name         0\n",
       "Team         0\n",
       "Week         0\n",
       "Opponent     0\n",
       "att          0\n",
       "yds          0\n",
       "yds/att      0\n",
       "td           0\n",
       "tar          0\n",
       "rec          0\n",
       "rec_yds      0\n",
       "rec_td       0\n",
       "fum          0\n",
       "def_rk       0\n",
       "h/a_1        0\n",
       "surface_0    0\n",
       "salary       0\n",
       "points       0\n",
       "dtype: int64"
      ]
     },
     "execution_count": 114,
     "metadata": {},
     "output_type": "execute_result"
    }
   ],
   "source": [
    "rec_backs = no_rush[no_rush['tar'] != 0]\n",
    "\n",
    "rec_backs = rec_backs.sort_values('tar', ascending=False)\n",
    "\n",
    "rec_backs = rec_backs.reset_index(drop=True)\n",
    "rec_backs.count()"
   ]
  },
  {
   "cell_type": "markdown",
   "metadata": {},
   "source": [
    "## DNP"
   ]
  },
  {
   "cell_type": "markdown",
   "metadata": {},
   "source": [
    "Running Backs that do not have any rushing attempts and no receiving targets are considered as Did Not Participate (DNP)"
   ]
  },
  {
   "cell_type": "code",
   "execution_count": 54,
   "metadata": {
    "collapsed": true
   },
   "outputs": [],
   "source": [
    "no_rush=[]\n",
    "for idx,att in enumerate(rb['att']):\n",
    "    if att == 0:\n",
    "        no_rush.append(idx)\n",
    "\n",
    "rb.drop(no_rush, inplace=True)\n",
    "\n",
    "no_rushes = rb[rb['att']==0]\n",
    "no_rushes.reset_index(inplace=True, drop=True)\n",
    "\n",
    "dnp_idx = []\n",
    "for idx, tar in enumerate(no_rushes['tar']):\n",
    "    if tar==0:\n",
    "        dnp_idx.append(idx)\n",
    "\n",
    "receiving_backs = no_rushes.drop(dnp_idx)\n",
    "\n",
    "rb = pd.concat([rb,receiving_backs])"
   ]
  },
  {
   "cell_type": "code",
   "execution_count": 56,
   "metadata": {},
   "outputs": [
    {
     "data": {
      "text/plain": [
       "(4228, 20)"
      ]
     },
     "execution_count": 56,
     "metadata": {},
     "output_type": "execute_result"
    }
   ],
   "source": [
    "\n",
    "rb.shape"
   ]
  },
  {
   "cell_type": "markdown",
   "metadata": {},
   "source": [
    "After removing the 1553 DNP players the numbers look more reasonable. There were 4737 running backs that played in games from 2015 through 2018. The players, on average, played in 8.5 games, had 8 rushing attempts for 32 yards for a rate of 3.4 yards/attempt. They averaged a measly .22 touchdowns per player. They were targeted 2.5 times per player and had 1.85 receptions for 15 yards/reception, pretty good. On average they do not catch alot of touchdown passes at a rate of .07 per player and are extremely reliable with the football only losing a fumble .06 times per player. The competing players have cost an average of $3913.52 and have only averaged 8.52 fantasy points per player"
   ]
  },
  {
   "cell_type": "markdown",
   "metadata": {},
   "source": [
    "## Data Visualization"
   ]
  },
  {
   "cell_type": "code",
   "execution_count": 411,
   "metadata": {
    "collapsed": true
   },
   "outputs": [],
   "source": [
    "cat_cols = ['h/a_1','surface_0','def_rk']"
   ]
  },
  {
   "cell_type": "code",
   "execution_count": 148,
   "metadata": {
    "collapsed": true
   },
   "outputs": [],
   "source": [
    "rec_cols =[]\n",
    "rushing_cols = []\n",
    "for col in rb.columns:\n",
    "    if 'rec' in col:\n",
    "        rec_cols.append(col)\n",
    "    else:\n",
    "        rushing_cols.append(col)"
   ]
  },
  {
   "cell_type": "code",
   "execution_count": 149,
   "metadata": {
    "collapsed": true
   },
   "outputs": [],
   "source": [
    "drop_lst = ['year','PlayerID','Name','Week','Opponent','Team','salary','h/a_1','surface_0','def_rk','tar']\n",
    "for val in drop_lst:\n",
    "    rushing_cols.remove(val)\n"
   ]
  },
  {
   "cell_type": "code",
   "execution_count": 150,
   "metadata": {
    "collapsed": true
   },
   "outputs": [],
   "source": [
    "rec_cols.append('tar')\n",
    "#rec_cols.append('Name')\n",
    "#rec_cols.append('year')\n",
    "rec_cols.append('points')"
   ]
  },
  {
   "cell_type": "code",
   "execution_count": 151,
   "metadata": {},
   "outputs": [
    {
     "data": {
      "text/plain": [
       "['att', 'yds', 'yds/att', 'td', 'fum', 'points']"
      ]
     },
     "execution_count": 151,
     "metadata": {},
     "output_type": "execute_result"
    }
   ],
   "source": [
    "rushing_cols"
   ]
  },
  {
   "cell_type": "code",
   "execution_count": 409,
   "metadata": {
    "collapsed": true
   },
   "outputs": [],
   "source": [
    "not_rushing = ['tar','PlayerID','salary','h/a_1','surface_0','def_rk']\n",
    "for val in not_rushing:\n",
    "    rushing_cols.remove(val)"
   ]
  },
  {
   "cell_type": "code",
   "execution_count": 412,
   "metadata": {},
   "outputs": [
    {
     "data": {
      "text/html": [
       "<div>\n",
       "<style>\n",
       "    .dataframe thead tr:only-child th {\n",
       "        text-align: right;\n",
       "    }\n",
       "\n",
       "    .dataframe thead th {\n",
       "        text-align: left;\n",
       "    }\n",
       "\n",
       "    .dataframe tbody tr th {\n",
       "        vertical-align: top;\n",
       "    }\n",
       "</style>\n",
       "<table border=\"1\" class=\"dataframe\">\n",
       "  <thead>\n",
       "    <tr style=\"text-align: right;\">\n",
       "      <th></th>\n",
       "      <th>year</th>\n",
       "      <th>Name</th>\n",
       "      <th>Team</th>\n",
       "      <th>Week</th>\n",
       "      <th>Opponent</th>\n",
       "      <th>att</th>\n",
       "      <th>yds</th>\n",
       "      <th>yds/att</th>\n",
       "      <th>td</th>\n",
       "      <th>fum</th>\n",
       "      <th>points</th>\n",
       "    </tr>\n",
       "  </thead>\n",
       "  <tbody>\n",
       "    <tr>\n",
       "      <th>0</th>\n",
       "      <td>2015</td>\n",
       "      <td>Matt Forte</td>\n",
       "      <td>CHI</td>\n",
       "      <td>1</td>\n",
       "      <td>GB</td>\n",
       "      <td>24</td>\n",
       "      <td>141</td>\n",
       "      <td>5.9</td>\n",
       "      <td>1</td>\n",
       "      <td>0</td>\n",
       "      <td>30.6</td>\n",
       "    </tr>\n",
       "    <tr>\n",
       "      <th>1</th>\n",
       "      <td>2015</td>\n",
       "      <td>CJ Spiller</td>\n",
       "      <td>NO</td>\n",
       "      <td>15</td>\n",
       "      <td>DET</td>\n",
       "      <td>2</td>\n",
       "      <td>2</td>\n",
       "      <td>1.0</td>\n",
       "      <td>0</td>\n",
       "      <td>0</td>\n",
       "      <td>3.8</td>\n",
       "    </tr>\n",
       "    <tr>\n",
       "      <th>2</th>\n",
       "      <td>2015</td>\n",
       "      <td>Rashad Jennings</td>\n",
       "      <td>NYG</td>\n",
       "      <td>15</td>\n",
       "      <td>CAR</td>\n",
       "      <td>16</td>\n",
       "      <td>107</td>\n",
       "      <td>6.7</td>\n",
       "      <td>1</td>\n",
       "      <td>1</td>\n",
       "      <td>19.7</td>\n",
       "    </tr>\n",
       "    <tr>\n",
       "      <th>3</th>\n",
       "      <td>2015</td>\n",
       "      <td>Donald Brown</td>\n",
       "      <td>LAC</td>\n",
       "      <td>15</td>\n",
       "      <td>MIA</td>\n",
       "      <td>12</td>\n",
       "      <td>90</td>\n",
       "      <td>7.5</td>\n",
       "      <td>0</td>\n",
       "      <td>0</td>\n",
       "      <td>12.4</td>\n",
       "    </tr>\n",
       "    <tr>\n",
       "      <th>4</th>\n",
       "      <td>2015</td>\n",
       "      <td>Darren McFadden</td>\n",
       "      <td>DAL</td>\n",
       "      <td>15</td>\n",
       "      <td>NYJ</td>\n",
       "      <td>16</td>\n",
       "      <td>100</td>\n",
       "      <td>6.2</td>\n",
       "      <td>0</td>\n",
       "      <td>0</td>\n",
       "      <td>16.3</td>\n",
       "    </tr>\n",
       "  </tbody>\n",
       "</table>\n",
       "</div>"
      ],
      "text/plain": [
       "   year             Name Team  Week Opponent  att  yds  yds/att  td  fum  \\\n",
       "0  2015       Matt Forte  CHI     1       GB   24  141      5.9   1    0   \n",
       "1  2015       CJ Spiller   NO    15      DET    2    2      1.0   0    0   \n",
       "2  2015  Rashad Jennings  NYG    15      CAR   16  107      6.7   1    1   \n",
       "3  2015     Donald Brown  LAC    15      MIA   12   90      7.5   0    0   \n",
       "4  2015  Darren McFadden  DAL    15      NYJ   16  100      6.2   0    0   \n",
       "\n",
       "   points  \n",
       "0    30.6  \n",
       "1     3.8  \n",
       "2    19.7  \n",
       "3    12.4  \n",
       "4    16.3  "
      ]
     },
     "execution_count": 412,
     "metadata": {},
     "output_type": "execute_result"
    }
   ],
   "source": [
    "rb[rushing_cols].head()"
   ]
  },
  {
   "cell_type": "code",
   "execution_count": 366,
   "metadata": {},
   "outputs": [
    {
     "data": {
      "text/html": [
       "<div>\n",
       "<style>\n",
       "    .dataframe thead tr:only-child th {\n",
       "        text-align: right;\n",
       "    }\n",
       "\n",
       "    .dataframe thead th {\n",
       "        text-align: left;\n",
       "    }\n",
       "\n",
       "    .dataframe tbody tr th {\n",
       "        vertical-align: top;\n",
       "    }\n",
       "</style>\n",
       "<table border=\"1\" class=\"dataframe\">\n",
       "  <thead>\n",
       "    <tr style=\"text-align: right;\">\n",
       "      <th></th>\n",
       "      <th>rec</th>\n",
       "      <th>rec_yds</th>\n",
       "      <th>tar</th>\n",
       "      <th>Name</th>\n",
       "      <th>points</th>\n",
       "    </tr>\n",
       "  </thead>\n",
       "  <tbody>\n",
       "    <tr>\n",
       "      <th>0</th>\n",
       "      <td>5</td>\n",
       "      <td>25</td>\n",
       "      <td>8</td>\n",
       "      <td>Matt Forte</td>\n",
       "      <td>30.6</td>\n",
       "    </tr>\n",
       "    <tr>\n",
       "      <th>1</th>\n",
       "      <td>2</td>\n",
       "      <td>16</td>\n",
       "      <td>5</td>\n",
       "      <td>CJ Spiller</td>\n",
       "      <td>3.8</td>\n",
       "    </tr>\n",
       "    <tr>\n",
       "      <th>2</th>\n",
       "      <td>1</td>\n",
       "      <td>0</td>\n",
       "      <td>3</td>\n",
       "      <td>Rashad Jennings</td>\n",
       "      <td>19.7</td>\n",
       "    </tr>\n",
       "    <tr>\n",
       "      <th>3</th>\n",
       "      <td>2</td>\n",
       "      <td>14</td>\n",
       "      <td>3</td>\n",
       "      <td>Donald Brown</td>\n",
       "      <td>12.4</td>\n",
       "    </tr>\n",
       "    <tr>\n",
       "      <th>4</th>\n",
       "      <td>2</td>\n",
       "      <td>13</td>\n",
       "      <td>3</td>\n",
       "      <td>Darren McFadden</td>\n",
       "      <td>16.3</td>\n",
       "    </tr>\n",
       "  </tbody>\n",
       "</table>\n",
       "</div>"
      ],
      "text/plain": [
       "   rec  rec_yds  tar             Name  points\n",
       "0    5       25    8       Matt Forte    30.6\n",
       "1    2       16    5       CJ Spiller     3.8\n",
       "2    1        0    3  Rashad Jennings    19.7\n",
       "3    2       14    3     Donald Brown    12.4\n",
       "4    2       13    3  Darren McFadden    16.3"
      ]
     },
     "execution_count": 366,
     "metadata": {},
     "output_type": "execute_result"
    }
   ],
   "source": [
    "rb[rec_cols].head()"
   ]
  },
  {
   "cell_type": "markdown",
   "metadata": {},
   "source": [
    "### Pair Plots# \n"
   ]
  },
  {
   "cell_type": "code",
   "execution_count": 416,
   "metadata": {
    "collapsed": true
   },
   "outputs": [],
   "source": [
    "# Remove categroical variables for Pairs Plot\n",
    "discrete = ['td','fum','year','rec_td','Week']\n",
    "for val in discrete:\n",
    "    if val in rushing_cols:\n",
    "        rushing_cols.remove(val)\n",
    "    elif val in rec_cols:\n",
    "        rec_cols.remove(val)"
   ]
  },
  {
   "cell_type": "code",
   "execution_count": 417,
   "metadata": {},
   "outputs": [
    {
     "data": {
      "text/plain": [
       "<seaborn.axisgrid.PairGrid at 0x207cc5ce828>"
      ]
     },
     "execution_count": 417,
     "metadata": {},
     "output_type": "execute_result"
    },
    {
     "data": {
      "image/png": "[encoded data removed]",
      "text/plain": [
       "<Figure size 720x720 with 20 Axes>"
      ]
     },
     "metadata": {},
     "output_type": "display_data"
    }
   ],
   "source": [
    "sns.pairplot(rb[rushing_cols])"
   ]
  },
  {
   "cell_type": "code",
   "execution_count": 364,
   "metadata": {},
   "outputs": [
    {
     "data": {
      "text/plain": [
       "<seaborn.axisgrid.PairGrid at 0x207c683ed68>"
      ]
     },
     "execution_count": 364,
     "metadata": {},
     "output_type": "execute_result"
    },
    {
     "data": {
      "image/png": "[encoded data removed]",
      "text/plain": [
       "<Figure size 720x720 with 20 Axes>"
      ]
     },
     "metadata": {},
     "output_type": "display_data"
    }
   ],
   "source": [
    "sns.pairplot(rb[rec_cols])"
   ]
  },
  {
   "cell_type": "markdown",
   "metadata": {},
   "source": [
    "A Pair Plot shows scatter plots of all numeric variables. Since we have other methods of investigating discrete variabes we remove the discrete variables from the rushing and receiving data frames before plotting. At first glance, the pairs plot shows what we would expect. Running backs fantasy points are directly related to rushing attempts, yards, receiving targets, receptions, yards, yards per catch."
   ]
  },
  {
   "cell_type": "markdown",
   "metadata": {},
   "source": [
    "# Boxplots"
   ]
  },
  {
   "cell_type": "markdown",
   "metadata": {},
   "source": [
    "Boxplots are a good way to visualize outliers wihtin a dataset. "
   ]
  },
  {
   "cell_type": "code",
   "execution_count": 418,
   "metadata": {
    "collapsed": true
   },
   "outputs": [],
   "source": [
    "def boxplotter(data, column_name):\n",
    "    fig= plt.figure(figsize=(6,4))\n",
    "\n",
    "    ax = sns.boxplot(data[column_name], orient='v',\n",
    "                    fliersize=8, linewidth=1.5, notch=False,\n",
    "                    saturation=0.5)\n",
    "    ax.set_title(column_name, fontsize=20)\n",
    "    plt.show()"
   ]
  },
  {
   "cell_type": "code",
   "execution_count": 425,
   "metadata": {},
   "outputs": [
    {
     "data": {
      "text/plain": [
       "['Name', 'Team', 'Opponent', 'att', 'yds', 'yds/att', 'points']"
      ]
     },
     "execution_count": 425,
     "metadata": {},
     "output_type": "execute_result"
    }
   ],
   "source": [
    "rushing_cols"
   ]
  },
  {
   "cell_type": "code",
   "execution_count": 443,
   "metadata": {},
   "outputs": [
    {
     "data": {
      "image/png": "[encoded data removed]",
      "text/plain": [
       "<Figure size 432x288 with 4 Axes>"
      ]
     },
     "metadata": {},
     "output_type": "display_data"
    }
   ],
   "source": [
    "fig,ax = plt.subplots(2,2)\n",
    "ax[0,0] = sns.boxplot(rb['att'], orient='v')"
   ]
  },
  {
   "cell_type": "code",
   "execution_count": 439,
   "metadata": {},
   "outputs": [
    {
     "data": {
      "image/png": "[encoded data removed]",
      "text/plain": [
       "<Figure size 432x288 with 1 Axes>"
      ]
     },
     "metadata": {},
     "output_type": "display_data"
    }
   ],
   "source": [
    "ax[0,1] = sns.boxplot(rb['yds'], orient='v')"
   ]
  },
  {
   "cell_type": "code",
   "execution_count": 426,
   "metadata": {},
   "outputs": [
    {
     "data": {
      "image/png": "[encoded data removed]",
      "text/plain": [
       "<Figure size 432x288 with 1 Axes>"
      ]
     },
     "metadata": {},
     "output_type": "display_data"
    },
    {
     "data": {
      "image/png": "[encoded data removed]",
      "text/plain": [
       "<Figure size 432x288 with 1 Axes>"
      ]
     },
     "metadata": {},
     "output_type": "display_data"
    },
    {
     "data": {
      "image/png": "[encoded data removed]",
      "text/plain": [
       "<Figure size 432x288 with 1 Axes>"
      ]
     },
     "metadata": {},
     "output_type": "display_data"
    },
    {
     "data": {
      "image/png": "[encoded data removed]",
      "text/plain": [
       "<Figure size 432x288 with 1 Axes>"
      ]
     },
     "metadata": {},
     "output_type": "display_data"
    }
   ],
   "source": [
    "for col in rushing_cols[3:]:\n",
    "    boxplotter(rb,col)"
   ]
  },
  {
   "cell_type": "code",
   "execution_count": 427,
   "metadata": {},
   "outputs": [
    {
     "data": {
      "text/plain": [
       "['rec', 'rec_yds', 'tar', 'Name', 'points']"
      ]
     },
     "execution_count": 427,
     "metadata": {},
     "output_type": "execute_result"
    }
   ],
   "source": [
    "rec_cols"
   ]
  },
  {
   "cell_type": "code",
   "execution_count": 428,
   "metadata": {},
   "outputs": [
    {
     "data": {
      "image/png": "[encoded data removed]",
      "text/plain": [
       "<Figure size 432x288 with 1 Axes>"
      ]
     },
     "metadata": {},
     "output_type": "display_data"
    },
    {
     "data": {
      "image/png": "[encoded data removed]",
      "text/plain": [
       "<Figure size 432x288 with 1 Axes>"
      ]
     },
     "metadata": {},
     "output_type": "display_data"
    },
    {
     "data": {
      "image/png": "[encoded data removed]",
      "text/plain": [
       "<Figure size 432x288 with 1 Axes>"
      ]
     },
     "metadata": {},
     "output_type": "display_data"
    }
   ],
   "source": [
    "for col in rec_cols[:3]:\n",
    "    boxplotter(rb,col)"
   ]
  },
  {
   "cell_type": "markdown",
   "metadata": {},
   "source": [
    "# Histograms"
   ]
  },
  {
   "cell_type": "code",
   "execution_count": 455,
   "metadata": {},
   "outputs": [
    {
     "data": {
      "text/plain": [
       "(array([610.,   0., 311.,   0.,   0.,  69.,   0.,   9.,   0.,   1.]),\n",
       " array([0. , 0.4, 0.8, 1.2, 1.6, 2. , 2.4, 2.8, 3.2, 3.6, 4. ]),\n",
       " <a list of 10 Patch objects>)"
      ]
     },
     "execution_count": 455,
     "metadata": {},
     "output_type": "execute_result"
    },
    {
     "data": {
      "image/png": "[encoded data removed]",
      "text/plain": [
       "<Figure size 432x288 with 1 Axes>"
      ]
     },
     "metadata": {},
     "output_type": "display_data"
    }
   ],
   "source": [
    "poisson = np.random.poisson(0.5, 1000)\n",
    "plt.hist(poisson)"
   ]
  },
  {
   "cell_type": "markdown",
   "metadata": {},
   "source": [
    "This is the histogram of a standard poisson distribution"
   ]
  },
  {
   "cell_type": "code",
   "execution_count": 482,
   "metadata": {},
   "outputs": [
    {
     "data": {
      "text/plain": [
       "(array([3878.,    0.,    0.,  701.,    0.,    0.,  133.,    0.,    0.,\n",
       "          25.]),\n",
       " array([0. , 0.3, 0.6, 0.9, 1.2, 1.5, 1.8, 2.1, 2.4, 2.7, 3. ]),\n",
       " <a list of 10 Patch objects>)"
      ]
     },
     "execution_count": 482,
     "metadata": {},
     "output_type": "execute_result"
    },
    {
     "data": {
      "image/png": "[encoded data removed]",
      "text/plain": [
       "<Figure size 432x288 with 1 Axes>"
      ]
     },
     "metadata": {},
     "output_type": "display_data"
    }
   ],
   "source": [
    "plt.hist(rb['td'], bins=10)"
   ]
  },
  {
   "cell_type": "code",
   "execution_count": 484,
   "metadata": {},
   "outputs": [
    {
     "data": {
      "text/plain": [
       "<matplotlib.axes._subplots.AxesSubplot at 0x207d3463eb8>"
      ]
     },
     "execution_count": 484,
     "metadata": {},
     "output_type": "execute_result"
    },
    {
     "data": {
      "image/png": "[encoded data removed]",
      "text/plain": [
       "<Figure size 720x720 with 1 Axes>"
      ]
     },
     "metadata": {},
     "output_type": "display_data"
    }
   ],
   "source": [
    "# Investigating the relationship of a players' opponent's defensive ranking as a function of the fantasy points scored\n",
    "\n",
    "fig = plt.figure(figsize=(10,10))\n",
    "sns.boxplot(x=rb['def_rk'], y=rb['points'])"
   ]
  },
  {
   "cell_type": "code",
   "execution_count": 485,
   "metadata": {},
   "outputs": [
    {
     "data": {
      "text/plain": [
       "<matplotlib.axes._subplots.AxesSubplot at 0x207d3463ac8>"
      ]
     },
     "execution_count": 485,
     "metadata": {},
     "output_type": "execute_result"
    },
    {
     "data": {
      "image/png": "[encoded data removed]",
      "text/plain": [
       "<Figure size 432x288 with 1 Axes>"
      ]
     },
     "metadata": {},
     "output_type": "display_data"
    }
   ],
   "source": [
    "# Investigating the relationship betwwen type of surface, grass or turf, as a function of a player's fantasy points scored\n",
    "\n",
    "sns.boxplot(rb['h/a_1'], rb['points'])"
   ]
  },
  {
   "cell_type": "code",
   "execution_count": 487,
   "metadata": {},
   "outputs": [
    {
     "data": {
      "text/plain": [
       "<matplotlib.axes._subplots.AxesSubplot at 0x207d39ff7f0>"
      ]
     },
     "execution_count": 487,
     "metadata": {},
     "output_type": "execute_result"
    },
    {
     "data": {
      "image/png": "[encoded data removed]",
      "text/plain": [
       "<Figure size 432x288 with 1 Axes>"
      ]
     },
     "metadata": {},
     "output_type": "display_data"
    }
   ],
   "source": [
    "sns.boxplot(rb['surface_0'],rb['points'])"
   ]
  },
  {
   "cell_type": "code",
   "execution_count": 465,
   "metadata": {},
   "outputs": [
    {
     "data": {
      "text/plain": [
       "year         3878\n",
       "PlayerID     3878\n",
       "Name         3878\n",
       "Team         3878\n",
       "Week         3878\n",
       "Opponent     3878\n",
       "att          3878\n",
       "yds          3878\n",
       "yds/att      3878\n",
       "td           3878\n",
       "tar          3878\n",
       "rec          3878\n",
       "rec_yds      3878\n",
       "rec_td       3878\n",
       "fum          3878\n",
       "def_rk       3878\n",
       "h/a_1        3878\n",
       "surface_0    3878\n",
       "salary       3878\n",
       "points       3878\n",
       "dtype: int64"
      ]
     },
     "execution_count": 465,
     "metadata": {},
     "output_type": "execute_result"
    }
   ],
   "source": [
    "rb[rb['td']==0].count()"
   ]
  },
  {
   "cell_type": "markdown",
   "metadata": {},
   "source": [
    "## Outliers"
   ]
  },
  {
   "cell_type": "code",
   "execution_count": 85,
   "metadata": {},
   "outputs": [
    {
     "data": {
      "text/plain": [
       "year            int64\n",
       "PlayerID     category\n",
       "Name           object\n",
       "Team           object\n",
       "Week            int64\n",
       "Opponent       object\n",
       "att             int64\n",
       "yds             int64\n",
       "yds/att       float64\n",
       "td              int64\n",
       "tar             int64\n",
       "rec             int64\n",
       "rec_yds         int64\n",
       "rec_td          int64\n",
       "fum             int64\n",
       "def_rk       category\n",
       "h/a_1        category\n",
       "surface_0    category\n",
       "salary          int64\n",
       "points        float64\n",
       "dtype: object"
      ]
     },
     "execution_count": 85,
     "metadata": {},
     "output_type": "execute_result"
    }
   ],
   "source": [
    "rb.dtypes"
   ]
  },
  {
   "cell_type": "code",
   "execution_count": 108,
   "metadata": {
    "collapsed": true
   },
   "outputs": [],
   "source": [
    "def get_outliers(df):\n",
    "    #rem_cols = ['Week','Year','Name','Opponent','Team']\n",
    "    col_dict ={}\n",
    "    for col in df.columns:\n",
    "        if df[col].dtype.name == ('int64' or 'float64'):\n",
    "            col_dict.update({col:df[col].describe()})\n",
    "\n",
    "    col_name = []\n",
    "    outliers_lst = []\n",
    "    for col in df.columns:\n",
    "        if df[col].dtype.name == ('int64' or 'float64'):\n",
    "            col_name.append(col)\n",
    "            outliers_lst.append(len(abs(df[col]-col_dict[col]['mean'])[df[col] > (col_dict[col]['std'])*3]))\n",
    "            \n",
    "    outliers= pd.DataFrame()\n",
    "    outliers['col_name'] = col_name\n",
    "    outliers['# of outliers'] = outliers_lst\n",
    "    \n",
    "\n",
    "\n",
    "    \n",
    "\n",
    "    percent_lst = [ ]\n",
    "    for idx, val in enumerate(outliers['# of outliers']):\n",
    "        percent_lst.append(val/int(rb.shape[0])*100)\n",
    "\n",
    "    outliers['pecent'] = percent_lst\n",
    "    outliers = outliers.drop(outliers.index[:2])\n",
    "\n",
    "\n",
    "\n",
    "    return outliers"
   ]
  },
  {
   "cell_type": "code",
   "execution_count": 109,
   "metadata": {},
   "outputs": [
    {
     "data": {
      "text/html": [
       "<div>\n",
       "<style>\n",
       "    .dataframe thead tr:only-child th {\n",
       "        text-align: right;\n",
       "    }\n",
       "\n",
       "    .dataframe thead th {\n",
       "        text-align: left;\n",
       "    }\n",
       "\n",
       "    .dataframe tbody tr th {\n",
       "        vertical-align: top;\n",
       "    }\n",
       "</style>\n",
       "<table border=\"1\" class=\"dataframe\">\n",
       "  <thead>\n",
       "    <tr style=\"text-align: right;\">\n",
       "      <th></th>\n",
       "      <th>col_name</th>\n",
       "      <th># of outliers</th>\n",
       "      <th>pecent</th>\n",
       "    </tr>\n",
       "  </thead>\n",
       "  <tbody>\n",
       "    <tr>\n",
       "      <th>2</th>\n",
       "      <td>att</td>\n",
       "      <td>245</td>\n",
       "      <td>5.794702</td>\n",
       "    </tr>\n",
       "    <tr>\n",
       "      <th>3</th>\n",
       "      <td>yds</td>\n",
       "      <td>228</td>\n",
       "      <td>5.392621</td>\n",
       "    </tr>\n",
       "    <tr>\n",
       "      <th>4</th>\n",
       "      <td>td</td>\n",
       "      <td>158</td>\n",
       "      <td>3.736991</td>\n",
       "    </tr>\n",
       "    <tr>\n",
       "      <th>5</th>\n",
       "      <td>tar</td>\n",
       "      <td>200</td>\n",
       "      <td>4.730369</td>\n",
       "    </tr>\n",
       "    <tr>\n",
       "      <th>6</th>\n",
       "      <td>rec</td>\n",
       "      <td>139</td>\n",
       "      <td>3.287606</td>\n",
       "    </tr>\n",
       "    <tr>\n",
       "      <th>7</th>\n",
       "      <td>rec_yds</td>\n",
       "      <td>187</td>\n",
       "      <td>4.422895</td>\n",
       "    </tr>\n",
       "    <tr>\n",
       "      <th>8</th>\n",
       "      <td>rec_td</td>\n",
       "      <td>294</td>\n",
       "      <td>6.953642</td>\n",
       "    </tr>\n",
       "    <tr>\n",
       "      <th>9</th>\n",
       "      <td>fum</td>\n",
       "      <td>260</td>\n",
       "      <td>6.149480</td>\n",
       "    </tr>\n",
       "    <tr>\n",
       "      <th>10</th>\n",
       "      <td>salary</td>\n",
       "      <td>1326</td>\n",
       "      <td>31.362346</td>\n",
       "    </tr>\n",
       "  </tbody>\n",
       "</table>\n",
       "</div>"
      ],
      "text/plain": [
       "   col_name  # of outliers     pecent\n",
       "2       att            245   5.794702\n",
       "3       yds            228   5.392621\n",
       "4        td            158   3.736991\n",
       "5       tar            200   4.730369\n",
       "6       rec            139   3.287606\n",
       "7   rec_yds            187   4.422895\n",
       "8    rec_td            294   6.953642\n",
       "9       fum            260   6.149480\n",
       "10   salary           1326  31.362346"
      ]
     },
     "execution_count": 109,
     "metadata": {},
     "output_type": "execute_result"
    }
   ],
   "source": [
    "outliers = get_outliers(rb)\n",
    "outliers"
   ]
  },
  {
   "cell_type": "markdown",
   "metadata": {},
   "source": [
    "Reduce outliers in attemps, yds by taking log of value"
   ]
  },
  {
   "cell_type": "code",
   "execution_count": 176,
   "metadata": {
    "collapsed": true
   },
   "outputs": [],
   "source": [
    "rb['log_att'] = rb['att'].apply(lambda x: np.log10(x))\n",
    "rb['log_yds'] = rb['yds'].apply(lambda x: np.log10(x))"
   ]
  },
  {
   "cell_type": "code",
   "execution_count": 177,
   "metadata": {},
   "outputs": [
    {
     "data": {
      "text/html": [
       "<div>\n",
       "<style>\n",
       "    .dataframe thead tr:only-child th {\n",
       "        text-align: right;\n",
       "    }\n",
       "\n",
       "    .dataframe thead th {\n",
       "        text-align: left;\n",
       "    }\n",
       "\n",
       "    .dataframe tbody tr th {\n",
       "        vertical-align: top;\n",
       "    }\n",
       "</style>\n",
       "<table border=\"1\" class=\"dataframe\">\n",
       "  <thead>\n",
       "    <tr style=\"text-align: right;\">\n",
       "      <th></th>\n",
       "      <th>year</th>\n",
       "      <th>PlayerID</th>\n",
       "      <th>Name</th>\n",
       "      <th>Team</th>\n",
       "      <th>Week</th>\n",
       "      <th>Opponent</th>\n",
       "      <th>att</th>\n",
       "      <th>yds</th>\n",
       "      <th>yds/att</th>\n",
       "      <th>td</th>\n",
       "      <th>...</th>\n",
       "      <th>rec_yds</th>\n",
       "      <th>rec_td</th>\n",
       "      <th>fum</th>\n",
       "      <th>def_rk</th>\n",
       "      <th>h/a_1</th>\n",
       "      <th>surface_0</th>\n",
       "      <th>salary</th>\n",
       "      <th>points</th>\n",
       "      <th>log_att</th>\n",
       "      <th>log_yds</th>\n",
       "    </tr>\n",
       "  </thead>\n",
       "  <tbody>\n",
       "    <tr>\n",
       "      <th>2</th>\n",
       "      <td>2015</td>\n",
       "      <td>2699</td>\n",
       "      <td>Matt Forte</td>\n",
       "      <td>CHI</td>\n",
       "      <td>1</td>\n",
       "      <td>GB</td>\n",
       "      <td>24</td>\n",
       "      <td>141</td>\n",
       "      <td>5.9</td>\n",
       "      <td>1</td>\n",
       "      <td>...</td>\n",
       "      <td>25</td>\n",
       "      <td>0</td>\n",
       "      <td>0</td>\n",
       "      <td>13</td>\n",
       "      <td>1.0</td>\n",
       "      <td>1.0</td>\n",
       "      <td>3000</td>\n",
       "      <td>30.6</td>\n",
       "      <td>1.380211</td>\n",
       "      <td>2.149219</td>\n",
       "    </tr>\n",
       "    <tr>\n",
       "      <th>4</th>\n",
       "      <td>2015</td>\n",
       "      <td>4640</td>\n",
       "      <td>Reggie Bush</td>\n",
       "      <td>SF</td>\n",
       "      <td>1</td>\n",
       "      <td>MIN</td>\n",
       "      <td>2</td>\n",
       "      <td>8</td>\n",
       "      <td>4.0</td>\n",
       "      <td>0</td>\n",
       "      <td>...</td>\n",
       "      <td>0</td>\n",
       "      <td>0</td>\n",
       "      <td>0</td>\n",
       "      <td>9</td>\n",
       "      <td>1.0</td>\n",
       "      <td>1.0</td>\n",
       "      <td>3000</td>\n",
       "      <td>0.8</td>\n",
       "      <td>0.301030</td>\n",
       "      <td>0.903090</td>\n",
       "    </tr>\n",
       "    <tr>\n",
       "      <th>5</th>\n",
       "      <td>2015</td>\n",
       "      <td>4738</td>\n",
       "      <td>Mike Tolbert</td>\n",
       "      <td>CAR</td>\n",
       "      <td>1</td>\n",
       "      <td>JAX</td>\n",
       "      <td>1</td>\n",
       "      <td>12</td>\n",
       "      <td>12.0</td>\n",
       "      <td>0</td>\n",
       "      <td>...</td>\n",
       "      <td>6</td>\n",
       "      <td>0</td>\n",
       "      <td>0</td>\n",
       "      <td>27</td>\n",
       "      <td>0.0</td>\n",
       "      <td>1.0</td>\n",
       "      <td>3900</td>\n",
       "      <td>2.8</td>\n",
       "      <td>0.000000</td>\n",
       "      <td>1.079181</td>\n",
       "    </tr>\n",
       "    <tr>\n",
       "      <th>6</th>\n",
       "      <td>2015</td>\n",
       "      <td>4807</td>\n",
       "      <td>Adrian Peterson</td>\n",
       "      <td>MIN</td>\n",
       "      <td>1</td>\n",
       "      <td>SF</td>\n",
       "      <td>10</td>\n",
       "      <td>31</td>\n",
       "      <td>3.1</td>\n",
       "      <td>0</td>\n",
       "      <td>...</td>\n",
       "      <td>21</td>\n",
       "      <td>0</td>\n",
       "      <td>0</td>\n",
       "      <td>32</td>\n",
       "      <td>0.0</td>\n",
       "      <td>1.0</td>\n",
       "      <td>3000</td>\n",
       "      <td>8.2</td>\n",
       "      <td>1.000000</td>\n",
       "      <td>1.491362</td>\n",
       "    </tr>\n",
       "    <tr>\n",
       "      <th>7</th>\n",
       "      <td>2015</td>\n",
       "      <td>5451</td>\n",
       "      <td>Jonathan Stewart</td>\n",
       "      <td>CAR</td>\n",
       "      <td>1</td>\n",
       "      <td>JAX</td>\n",
       "      <td>18</td>\n",
       "      <td>56</td>\n",
       "      <td>3.1</td>\n",
       "      <td>0</td>\n",
       "      <td>...</td>\n",
       "      <td>25</td>\n",
       "      <td>0</td>\n",
       "      <td>0</td>\n",
       "      <td>27</td>\n",
       "      <td>0.0</td>\n",
       "      <td>1.0</td>\n",
       "      <td>7700</td>\n",
       "      <td>12.1</td>\n",
       "      <td>1.255273</td>\n",
       "      <td>1.748188</td>\n",
       "    </tr>\n",
       "  </tbody>\n",
       "</table>\n",
       "<p>5 rows × 22 columns</p>\n",
       "</div>"
      ],
      "text/plain": [
       "   year PlayerID              Name Team  Week Opponent  att  yds  yds/att  td  \\\n",
       "2  2015     2699        Matt Forte  CHI     1       GB   24  141      5.9   1   \n",
       "4  2015     4640       Reggie Bush   SF     1      MIN    2    8      4.0   0   \n",
       "5  2015     4738      Mike Tolbert  CAR     1      JAX    1   12     12.0   0   \n",
       "6  2015     4807   Adrian Peterson  MIN     1       SF   10   31      3.1   0   \n",
       "7  2015     5451  Jonathan Stewart  CAR     1      JAX   18   56      3.1   0   \n",
       "\n",
       "     ...     rec_yds  rec_td  fum  def_rk  h/a_1 surface_0 salary points  \\\n",
       "2    ...          25       0    0      13    1.0       1.0   3000   30.6   \n",
       "4    ...           0       0    0       9    1.0       1.0   3000    0.8   \n",
       "5    ...           6       0    0      27    0.0       1.0   3900    2.8   \n",
       "6    ...          21       0    0      32    0.0       1.0   3000    8.2   \n",
       "7    ...          25       0    0      27    0.0       1.0   7700   12.1   \n",
       "\n",
       "    log_att   log_yds  \n",
       "2  1.380211  2.149219  \n",
       "4  0.301030  0.903090  \n",
       "5  0.000000  1.079181  \n",
       "6  1.000000  1.491362  \n",
       "7  1.255273  1.748188  \n",
       "\n",
       "[5 rows x 22 columns]"
      ]
     },
     "execution_count": 177,
     "metadata": {},
     "output_type": "execute_result"
    }
   ],
   "source": [
    "rb.head()"
   ]
  },
  {
   "cell_type": "markdown",
   "metadata": {},
   "source": [
    "## Points\n",
    "Investigate only the number of fantasy points scored in each obseravtion"
   ]
  },
  {
   "cell_type": "code",
   "execution_count": 141,
   "metadata": {
    "collapsed": true
   },
   "outputs": [],
   "source": [
    "players = []\n",
    "avg_points =[]\n",
    "for name in list(rb['Name'].unique()):\n",
    "    avg_points.append(rb[rb['Name'] ==name].describe()['points'].mean())"
   ]
  },
  {
   "cell_type": "code",
   "execution_count": 142,
   "metadata": {
    "collapsed": true
   },
   "outputs": [],
   "source": [
    "rb_avg = pd.DataFrame()\n",
    "rb_avg['player'] = (rb['Name'].unique())\n",
    "rb_avg['avg_points']= avg_points\n",
    "#rb.sort_values(rb_avg['avg_points'], ascending=False)"
   ]
  },
  {
   "cell_type": "code",
   "execution_count": 143,
   "metadata": {},
   "outputs": [
    {
     "data": {
      "text/html": [
       "<div>\n",
       "<style>\n",
       "    .dataframe thead tr:only-child th {\n",
       "        text-align: right;\n",
       "    }\n",
       "\n",
       "    .dataframe thead th {\n",
       "        text-align: left;\n",
       "    }\n",
       "\n",
       "    .dataframe tbody tr th {\n",
       "        vertical-align: top;\n",
       "    }\n",
       "</style>\n",
       "<table border=\"1\" class=\"dataframe\">\n",
       "  <thead>\n",
       "    <tr style=\"text-align: right;\">\n",
       "      <th></th>\n",
       "      <th>player</th>\n",
       "      <th>avg_points</th>\n",
       "    </tr>\n",
       "  </thead>\n",
       "  <tbody>\n",
       "    <tr>\n",
       "      <th>104</th>\n",
       "      <td>Le'Veon Bell</td>\n",
       "      <td>25.656949</td>\n",
       "    </tr>\n",
       "    <tr>\n",
       "      <th>110</th>\n",
       "      <td>Todd Gurley</td>\n",
       "      <td>24.441270</td>\n",
       "    </tr>\n",
       "    <tr>\n",
       "      <th>207</th>\n",
       "      <td>Alvin Kamara</td>\n",
       "      <td>22.134201</td>\n",
       "    </tr>\n",
       "    <tr>\n",
       "      <th>162</th>\n",
       "      <td>Ezekiel Elliott</td>\n",
       "      <td>21.810083</td>\n",
       "    </tr>\n",
       "    <tr>\n",
       "      <th>96</th>\n",
       "      <td>David Johnson</td>\n",
       "      <td>21.676506</td>\n",
       "    </tr>\n",
       "    <tr>\n",
       "      <th>67</th>\n",
       "      <td>Devonta Freeman</td>\n",
       "      <td>21.230313</td>\n",
       "    </tr>\n",
       "    <tr>\n",
       "      <th>16</th>\n",
       "      <td>LeSean McCoy</td>\n",
       "      <td>20.322748</td>\n",
       "    </tr>\n",
       "    <tr>\n",
       "      <th>70</th>\n",
       "      <td>Melvin Gordon</td>\n",
       "      <td>20.023479</td>\n",
       "    </tr>\n",
       "    <tr>\n",
       "      <th>208</th>\n",
       "      <td>Kareem Hunt</td>\n",
       "      <td>19.516966</td>\n",
       "    </tr>\n",
       "    <tr>\n",
       "      <th>33</th>\n",
       "      <td>Lamar Miller</td>\n",
       "      <td>19.217330</td>\n",
       "    </tr>\n",
       "  </tbody>\n",
       "</table>\n",
       "</div>"
      ],
      "text/plain": [
       "              player  avg_points\n",
       "104     Le'Veon Bell   25.656949\n",
       "110      Todd Gurley   24.441270\n",
       "207     Alvin Kamara   22.134201\n",
       "162  Ezekiel Elliott   21.810083\n",
       "96     David Johnson   21.676506\n",
       "67   Devonta Freeman   21.230313\n",
       "16      LeSean McCoy   20.322748\n",
       "70     Melvin Gordon   20.023479\n",
       "208      Kareem Hunt   19.516966\n",
       "33      Lamar Miller   19.217330"
      ]
     },
     "execution_count": 143,
     "metadata": {},
     "output_type": "execute_result"
    }
   ],
   "source": [
    "rb_avg.sort_values('avg_points',ascending=False)[:10]"
   ]
  },
  {
   "cell_type": "code",
   "execution_count": 153,
   "metadata": {},
   "outputs": [
    {
     "data": {
      "text/html": [
       "<div>\n",
       "<style>\n",
       "    .dataframe thead tr:only-child th {\n",
       "        text-align: right;\n",
       "    }\n",
       "\n",
       "    .dataframe thead th {\n",
       "        text-align: left;\n",
       "    }\n",
       "\n",
       "    .dataframe tbody tr th {\n",
       "        vertical-align: top;\n",
       "    }\n",
       "</style>\n",
       "<table border=\"1\" class=\"dataframe\">\n",
       "  <thead>\n",
       "    <tr style=\"text-align: right;\">\n",
       "      <th></th>\n",
       "      <th>rec</th>\n",
       "      <th>rec_yds</th>\n",
       "      <th>rec_td</th>\n",
       "      <th>tar</th>\n",
       "      <th>points</th>\n",
       "    </tr>\n",
       "  </thead>\n",
       "  <tbody>\n",
       "    <tr>\n",
       "      <th>rec</th>\n",
       "      <td>1.000000</td>\n",
       "      <td>0.812180</td>\n",
       "      <td>0.291263</td>\n",
       "      <td>0.938864</td>\n",
       "      <td>0.606251</td>\n",
       "    </tr>\n",
       "    <tr>\n",
       "      <th>rec_yds</th>\n",
       "      <td>0.812180</td>\n",
       "      <td>1.000000</td>\n",
       "      <td>0.355048</td>\n",
       "      <td>0.765469</td>\n",
       "      <td>0.625751</td>\n",
       "    </tr>\n",
       "    <tr>\n",
       "      <th>rec_td</th>\n",
       "      <td>0.291263</td>\n",
       "      <td>0.355048</td>\n",
       "      <td>1.000000</td>\n",
       "      <td>0.265406</td>\n",
       "      <td>0.401620</td>\n",
       "    </tr>\n",
       "    <tr>\n",
       "      <th>tar</th>\n",
       "      <td>0.938864</td>\n",
       "      <td>0.765469</td>\n",
       "      <td>0.265406</td>\n",
       "      <td>1.000000</td>\n",
       "      <td>0.579338</td>\n",
       "    </tr>\n",
       "    <tr>\n",
       "      <th>points</th>\n",
       "      <td>0.606251</td>\n",
       "      <td>0.625751</td>\n",
       "      <td>0.401620</td>\n",
       "      <td>0.579338</td>\n",
       "      <td>1.000000</td>\n",
       "    </tr>\n",
       "  </tbody>\n",
       "</table>\n",
       "</div>"
      ],
      "text/plain": [
       "              rec   rec_yds    rec_td       tar    points\n",
       "rec      1.000000  0.812180  0.291263  0.938864  0.606251\n",
       "rec_yds  0.812180  1.000000  0.355048  0.765469  0.625751\n",
       "rec_td   0.291263  0.355048  1.000000  0.265406  0.401620\n",
       "tar      0.938864  0.765469  0.265406  1.000000  0.579338\n",
       "points   0.606251  0.625751  0.401620  0.579338  1.000000"
      ]
     },
     "execution_count": 153,
     "metadata": {},
     "output_type": "execute_result"
    }
   ],
   "source": [
    "rush_corr = rb[rushing_cols].corr()\n",
    "rec_corr  =rb[rec_cols].corr()\n",
    "rec_corr"
   ]
  },
  {
   "cell_type": "code",
   "execution_count": 154,
   "metadata": {},
   "outputs": [
    {
     "data": {
      "text/plain": [
       "<matplotlib.axes._subplots.AxesSubplot at 0x200544f7a90>"
      ]
     },
     "execution_count": 154,
     "metadata": {},
     "output_type": "execute_result"
    },
    {
     "data": {
      "image/png": "[encoded data removed]",
      "text/plain": [
       "<Figure size 1080x1080 with 2 Axes>"
      ]
     },
     "metadata": {},
     "output_type": "display_data"
    }
   ],
   "source": [
    "plt.figure(figsize=(15,15))\n",
    "sns.heatmap(rush_corr, annot=True)"
   ]
  },
  {
   "cell_type": "code",
   "execution_count": 497,
   "metadata": {},
   "outputs": [
    {
     "data": {
      "text/plain": [
       "<matplotlib.axes._subplots.AxesSubplot at 0x207d384d780>"
      ]
     },
     "execution_count": 497,
     "metadata": {},
     "output_type": "execute_result"
    },
    {
     "data": {
      "image/png": "[encoded data removed]",
      "text/plain": [
       "<Figure size 1080x1080 with 2 Axes>"
      ]
     },
     "metadata": {},
     "output_type": "display_data"
    }
   ],
   "source": [
    "plt.figure(figsize=(15,15))\n",
    "sns.heatmap(rec_corr, annot=True)"
   ]
  },
  {
   "cell_type": "code",
   "execution_count": 155,
   "metadata": {
    "collapsed": true
   },
   "outputs": [],
   "source": [
    "corr = pd.DataFrame(index=rb.columns[4:])"
   ]
  },
  {
   "cell_type": "code",
   "execution_count": 156,
   "metadata": {},
   "outputs": [
    {
     "data": {
      "text/html": [
       "<div>\n",
       "<style>\n",
       "    .dataframe thead tr:only-child th {\n",
       "        text-align: right;\n",
       "    }\n",
       "\n",
       "    .dataframe thead th {\n",
       "        text-align: left;\n",
       "    }\n",
       "\n",
       "    .dataframe tbody tr th {\n",
       "        vertical-align: top;\n",
       "    }\n",
       "</style>\n",
       "<table border=\"1\" class=\"dataframe\">\n",
       "  <thead>\n",
       "    <tr style=\"text-align: right;\">\n",
       "      <th></th>\n",
       "      <th>year</th>\n",
       "      <th>PlayerID</th>\n",
       "      <th>Name</th>\n",
       "      <th>Team</th>\n",
       "      <th>Week</th>\n",
       "      <th>Opponent</th>\n",
       "      <th>att</th>\n",
       "      <th>yds</th>\n",
       "      <th>yds/att</th>\n",
       "      <th>td</th>\n",
       "      <th>tar</th>\n",
       "      <th>rec</th>\n",
       "      <th>rec_yds</th>\n",
       "      <th>rec_td</th>\n",
       "      <th>fum</th>\n",
       "      <th>def_rk</th>\n",
       "      <th>h/a_1</th>\n",
       "      <th>surface_0</th>\n",
       "      <th>salary</th>\n",
       "      <th>points</th>\n",
       "    </tr>\n",
       "  </thead>\n",
       "  <tbody>\n",
       "    <tr>\n",
       "      <th>2</th>\n",
       "      <td>2015</td>\n",
       "      <td>2699</td>\n",
       "      <td>Matt Forte</td>\n",
       "      <td>CHI</td>\n",
       "      <td>1</td>\n",
       "      <td>GB</td>\n",
       "      <td>24</td>\n",
       "      <td>141</td>\n",
       "      <td>5.9</td>\n",
       "      <td>1</td>\n",
       "      <td>8</td>\n",
       "      <td>5</td>\n",
       "      <td>25</td>\n",
       "      <td>0</td>\n",
       "      <td>0</td>\n",
       "      <td>13</td>\n",
       "      <td>1.0</td>\n",
       "      <td>1.0</td>\n",
       "      <td>3000</td>\n",
       "      <td>30.6</td>\n",
       "    </tr>\n",
       "    <tr>\n",
       "      <th>4</th>\n",
       "      <td>2015</td>\n",
       "      <td>4640</td>\n",
       "      <td>Reggie Bush</td>\n",
       "      <td>SF</td>\n",
       "      <td>1</td>\n",
       "      <td>MIN</td>\n",
       "      <td>2</td>\n",
       "      <td>8</td>\n",
       "      <td>4.0</td>\n",
       "      <td>0</td>\n",
       "      <td>1</td>\n",
       "      <td>0</td>\n",
       "      <td>0</td>\n",
       "      <td>0</td>\n",
       "      <td>0</td>\n",
       "      <td>9</td>\n",
       "      <td>1.0</td>\n",
       "      <td>1.0</td>\n",
       "      <td>3000</td>\n",
       "      <td>0.8</td>\n",
       "    </tr>\n",
       "    <tr>\n",
       "      <th>5</th>\n",
       "      <td>2015</td>\n",
       "      <td>4738</td>\n",
       "      <td>Mike Tolbert</td>\n",
       "      <td>CAR</td>\n",
       "      <td>1</td>\n",
       "      <td>JAX</td>\n",
       "      <td>1</td>\n",
       "      <td>12</td>\n",
       "      <td>12.0</td>\n",
       "      <td>0</td>\n",
       "      <td>2</td>\n",
       "      <td>1</td>\n",
       "      <td>6</td>\n",
       "      <td>0</td>\n",
       "      <td>0</td>\n",
       "      <td>27</td>\n",
       "      <td>0.0</td>\n",
       "      <td>1.0</td>\n",
       "      <td>3900</td>\n",
       "      <td>2.8</td>\n",
       "    </tr>\n",
       "    <tr>\n",
       "      <th>6</th>\n",
       "      <td>2015</td>\n",
       "      <td>4807</td>\n",
       "      <td>Adrian Peterson</td>\n",
       "      <td>MIN</td>\n",
       "      <td>1</td>\n",
       "      <td>SF</td>\n",
       "      <td>10</td>\n",
       "      <td>31</td>\n",
       "      <td>3.1</td>\n",
       "      <td>0</td>\n",
       "      <td>3</td>\n",
       "      <td>3</td>\n",
       "      <td>21</td>\n",
       "      <td>0</td>\n",
       "      <td>0</td>\n",
       "      <td>32</td>\n",
       "      <td>0.0</td>\n",
       "      <td>1.0</td>\n",
       "      <td>3000</td>\n",
       "      <td>8.2</td>\n",
       "    </tr>\n",
       "    <tr>\n",
       "      <th>7</th>\n",
       "      <td>2015</td>\n",
       "      <td>5451</td>\n",
       "      <td>Jonathan Stewart</td>\n",
       "      <td>CAR</td>\n",
       "      <td>1</td>\n",
       "      <td>JAX</td>\n",
       "      <td>18</td>\n",
       "      <td>56</td>\n",
       "      <td>3.1</td>\n",
       "      <td>0</td>\n",
       "      <td>4</td>\n",
       "      <td>4</td>\n",
       "      <td>25</td>\n",
       "      <td>0</td>\n",
       "      <td>0</td>\n",
       "      <td>27</td>\n",
       "      <td>0.0</td>\n",
       "      <td>1.0</td>\n",
       "      <td>7700</td>\n",
       "      <td>12.1</td>\n",
       "    </tr>\n",
       "  </tbody>\n",
       "</table>\n",
       "</div>"
      ],
      "text/plain": [
       "   year PlayerID              Name Team  Week Opponent  att  yds  yds/att  td  \\\n",
       "2  2015     2699        Matt Forte  CHI     1       GB   24  141      5.9   1   \n",
       "4  2015     4640       Reggie Bush   SF     1      MIN    2    8      4.0   0   \n",
       "5  2015     4738      Mike Tolbert  CAR     1      JAX    1   12     12.0   0   \n",
       "6  2015     4807   Adrian Peterson  MIN     1       SF   10   31      3.1   0   \n",
       "7  2015     5451  Jonathan Stewart  CAR     1      JAX   18   56      3.1   0   \n",
       "\n",
       "   tar  rec  rec_yds  rec_td  fum def_rk h/a_1 surface_0  salary  points  \n",
       "2    8    5       25       0    0     13   1.0       1.0    3000    30.6  \n",
       "4    1    0        0       0    0      9   1.0       1.0    3000     0.8  \n",
       "5    2    1        6       0    0     27   0.0       1.0    3900     2.8  \n",
       "6    3    3       21       0    0     32   0.0       1.0    3000     8.2  \n",
       "7    4    4       25       0    0     27   0.0       1.0    7700    12.1  "
      ]
     },
     "execution_count": 156,
     "metadata": {},
     "output_type": "execute_result"
    }
   ],
   "source": [
    "rb.head()"
   ]
  },
  {
   "cell_type": "code",
   "execution_count": 32,
   "metadata": {},
   "outputs": [
    {
     "data": {
      "text/plain": [
       "1.0"
      ]
     },
     "execution_count": 32,
     "metadata": {},
     "output_type": "execute_result"
    }
   ],
   "source": [
    "np.corrcoef(rb.points,)"
   ]
  },
  {
   "cell_type": "code",
   "execution_count": 114,
   "metadata": {},
   "outputs": [
    {
     "data": {
      "text/html": [
       "<div>\n",
       "<style>\n",
       "    .dataframe thead tr:only-child th {\n",
       "        text-align: right;\n",
       "    }\n",
       "\n",
       "    .dataframe thead th {\n",
       "        text-align: left;\n",
       "    }\n",
       "\n",
       "    .dataframe tbody tr th {\n",
       "        vertical-align: top;\n",
       "    }\n",
       "</style>\n",
       "<table border=\"1\" class=\"dataframe\">\n",
       "  <thead>\n",
       "    <tr style=\"text-align: right;\">\n",
       "      <th></th>\n",
       "    </tr>\n",
       "  </thead>\n",
       "  <tbody>\n",
       "    <tr>\n",
       "      <th>Comp</th>\n",
       "    </tr>\n",
       "    <tr>\n",
       "      <th>Att</th>\n",
       "    </tr>\n",
       "    <tr>\n",
       "      <th>Pct</th>\n",
       "    </tr>\n",
       "    <tr>\n",
       "      <th>Yds</th>\n",
       "    </tr>\n",
       "    <tr>\n",
       "      <th>Yds/Att</th>\n",
       "    </tr>\n",
       "    <tr>\n",
       "      <th>TD</th>\n",
       "    </tr>\n",
       "    <tr>\n",
       "      <th>Int</th>\n",
       "    </tr>\n",
       "    <tr>\n",
       "      <th>ru_att</th>\n",
       "    </tr>\n",
       "    <tr>\n",
       "      <th>ru_yds</th>\n",
       "    </tr>\n",
       "    <tr>\n",
       "      <th>yds/ru_att</th>\n",
       "    </tr>\n",
       "    <tr>\n",
       "      <th>ru_td</th>\n",
       "    </tr>\n",
       "    <tr>\n",
       "      <th>points</th>\n",
       "    </tr>\n",
       "    <tr>\n",
       "      <th>year</th>\n",
       "    </tr>\n",
       "  </tbody>\n",
       "</table>\n",
       "</div>"
      ],
      "text/plain": [
       "Empty DataFrame\n",
       "Columns: []\n",
       "Index: [Comp, Att, Pct, Yds, Yds/Att, TD, Int, ru_att, ru_yds, yds/ru_att, ru_td, points, year]"
      ]
     },
     "execution_count": 114,
     "metadata": {},
     "output_type": "execute_result"
    }
   ],
   "source": [
    "corr"
   ]
  },
  {
   "cell_type": "code",
   "execution_count": 159,
   "metadata": {},
   "outputs": [
    {
     "data": {
      "text/plain": [
       "Index(['year', 'PlayerID', 'Name', 'Team', 'Week', 'Opponent', 'att', 'yds',\n",
       "       'yds/att', 'td', 'tar', 'rec', 'rec_yds', 'rec_td', 'fum', 'def_rk',\n",
       "       'h/a_1', 'surface_0', 'salary', 'points'],\n",
       "      dtype='object')"
      ]
     },
     "execution_count": 159,
     "metadata": {},
     "output_type": "execute_result"
    }
   ],
   "source": [
    "rb.columns"
   ]
  },
  {
   "cell_type": "code",
   "execution_count": 178,
   "metadata": {
    "collapsed": true
   },
   "outputs": [],
   "source": [
    "not_feat_eng = ['yds/att','fum','rec','rec_td']\n",
    "rb_eda = rb.drop(not_feat_eng, axis=1)"
   ]
  },
  {
   "cell_type": "code",
   "execution_count": 184,
   "metadata": {
    "collapsed": true
   },
   "outputs": [],
   "source": [
    "rb_eda.drop('PlayerID',axis=1,inplace=True)"
   ]
  },
  {
   "cell_type": "code",
   "execution_count": 179,
   "metadata": {},
   "outputs": [
    {
     "data": {
      "text/html": [
       "<div>\n",
       "<style>\n",
       "    .dataframe thead tr:only-child th {\n",
       "        text-align: right;\n",
       "    }\n",
       "\n",
       "    .dataframe thead th {\n",
       "        text-align: left;\n",
       "    }\n",
       "\n",
       "    .dataframe tbody tr th {\n",
       "        vertical-align: top;\n",
       "    }\n",
       "</style>\n",
       "<table border=\"1\" class=\"dataframe\">\n",
       "  <thead>\n",
       "    <tr style=\"text-align: right;\">\n",
       "      <th></th>\n",
       "      <th>year</th>\n",
       "      <th>PlayerID</th>\n",
       "      <th>Name</th>\n",
       "      <th>Team</th>\n",
       "      <th>Week</th>\n",
       "      <th>Opponent</th>\n",
       "      <th>att</th>\n",
       "      <th>yds</th>\n",
       "      <th>td</th>\n",
       "      <th>tar</th>\n",
       "      <th>rec_yds</th>\n",
       "      <th>def_rk</th>\n",
       "      <th>h/a_1</th>\n",
       "      <th>surface_0</th>\n",
       "      <th>salary</th>\n",
       "      <th>points</th>\n",
       "      <th>log_att</th>\n",
       "      <th>log_yds</th>\n",
       "    </tr>\n",
       "  </thead>\n",
       "  <tbody>\n",
       "    <tr>\n",
       "      <th>0</th>\n",
       "      <td>2015</td>\n",
       "      <td>2699</td>\n",
       "      <td>Matt Forte</td>\n",
       "      <td>CHI</td>\n",
       "      <td>1</td>\n",
       "      <td>GB</td>\n",
       "      <td>24</td>\n",
       "      <td>141</td>\n",
       "      <td>1</td>\n",
       "      <td>8</td>\n",
       "      <td>25</td>\n",
       "      <td>13</td>\n",
       "      <td>1.0</td>\n",
       "      <td>1.0</td>\n",
       "      <td>3000</td>\n",
       "      <td>30.6</td>\n",
       "      <td>1.380211</td>\n",
       "      <td>2.149219</td>\n",
       "    </tr>\n",
       "    <tr>\n",
       "      <th>1</th>\n",
       "      <td>2015</td>\n",
       "      <td>4640</td>\n",
       "      <td>Reggie Bush</td>\n",
       "      <td>SF</td>\n",
       "      <td>1</td>\n",
       "      <td>MIN</td>\n",
       "      <td>2</td>\n",
       "      <td>8</td>\n",
       "      <td>0</td>\n",
       "      <td>1</td>\n",
       "      <td>0</td>\n",
       "      <td>9</td>\n",
       "      <td>1.0</td>\n",
       "      <td>1.0</td>\n",
       "      <td>3000</td>\n",
       "      <td>0.8</td>\n",
       "      <td>0.301030</td>\n",
       "      <td>0.903090</td>\n",
       "    </tr>\n",
       "    <tr>\n",
       "      <th>2</th>\n",
       "      <td>2015</td>\n",
       "      <td>4738</td>\n",
       "      <td>Mike Tolbert</td>\n",
       "      <td>CAR</td>\n",
       "      <td>1</td>\n",
       "      <td>JAX</td>\n",
       "      <td>1</td>\n",
       "      <td>12</td>\n",
       "      <td>0</td>\n",
       "      <td>2</td>\n",
       "      <td>6</td>\n",
       "      <td>27</td>\n",
       "      <td>0.0</td>\n",
       "      <td>1.0</td>\n",
       "      <td>3900</td>\n",
       "      <td>2.8</td>\n",
       "      <td>0.000000</td>\n",
       "      <td>1.079181</td>\n",
       "    </tr>\n",
       "    <tr>\n",
       "      <th>3</th>\n",
       "      <td>2015</td>\n",
       "      <td>4807</td>\n",
       "      <td>Adrian Peterson</td>\n",
       "      <td>MIN</td>\n",
       "      <td>1</td>\n",
       "      <td>SF</td>\n",
       "      <td>10</td>\n",
       "      <td>31</td>\n",
       "      <td>0</td>\n",
       "      <td>3</td>\n",
       "      <td>21</td>\n",
       "      <td>32</td>\n",
       "      <td>0.0</td>\n",
       "      <td>1.0</td>\n",
       "      <td>3000</td>\n",
       "      <td>8.2</td>\n",
       "      <td>1.000000</td>\n",
       "      <td>1.491362</td>\n",
       "    </tr>\n",
       "    <tr>\n",
       "      <th>4</th>\n",
       "      <td>2015</td>\n",
       "      <td>5451</td>\n",
       "      <td>Jonathan Stewart</td>\n",
       "      <td>CAR</td>\n",
       "      <td>1</td>\n",
       "      <td>JAX</td>\n",
       "      <td>18</td>\n",
       "      <td>56</td>\n",
       "      <td>0</td>\n",
       "      <td>4</td>\n",
       "      <td>25</td>\n",
       "      <td>27</td>\n",
       "      <td>0.0</td>\n",
       "      <td>1.0</td>\n",
       "      <td>7700</td>\n",
       "      <td>12.1</td>\n",
       "      <td>1.255273</td>\n",
       "      <td>1.748188</td>\n",
       "    </tr>\n",
       "  </tbody>\n",
       "</table>\n",
       "</div>"
      ],
      "text/plain": [
       "   year PlayerID              Name Team  Week Opponent  att  yds  td  tar  \\\n",
       "0  2015     2699        Matt Forte  CHI     1       GB   24  141   1    8   \n",
       "1  2015     4640       Reggie Bush   SF     1      MIN    2    8   0    1   \n",
       "2  2015     4738      Mike Tolbert  CAR     1      JAX    1   12   0    2   \n",
       "3  2015     4807   Adrian Peterson  MIN     1       SF   10   31   0    3   \n",
       "4  2015     5451  Jonathan Stewart  CAR     1      JAX   18   56   0    4   \n",
       "\n",
       "   rec_yds def_rk h/a_1 surface_0  salary  points   log_att   log_yds  \n",
       "0       25     13   1.0       1.0    3000    30.6  1.380211  2.149219  \n",
       "1        0      9   1.0       1.0    3000     0.8  0.301030  0.903090  \n",
       "2        6     27   0.0       1.0    3900     2.8  0.000000  1.079181  \n",
       "3       21     32   0.0       1.0    3000     8.2  1.000000  1.491362  \n",
       "4       25     27   0.0       1.0    7700    12.1  1.255273  1.748188  "
      ]
     },
     "execution_count": 179,
     "metadata": {},
     "output_type": "execute_result"
    }
   ],
   "source": [
    "rb_eda.reset_index(inplace=True,drop=True)\n",
    "rb_eda.head()"
   ]
  },
  {
   "cell_type": "code",
   "execution_count": 181,
   "metadata": {},
   "outputs": [
    {
     "data": {
      "text/html": [
       "<div>\n",
       "<style>\n",
       "    .dataframe thead tr:only-child th {\n",
       "        text-align: right;\n",
       "    }\n",
       "\n",
       "    .dataframe thead th {\n",
       "        text-align: left;\n",
       "    }\n",
       "\n",
       "    .dataframe tbody tr th {\n",
       "        vertical-align: top;\n",
       "    }\n",
       "</style>\n",
       "<table border=\"1\" class=\"dataframe\">\n",
       "  <thead>\n",
       "    <tr style=\"text-align: right;\">\n",
       "      <th></th>\n",
       "      <th>year</th>\n",
       "      <th>PlayerID</th>\n",
       "      <th>Name</th>\n",
       "      <th>Team</th>\n",
       "      <th>Week</th>\n",
       "      <th>Opponent</th>\n",
       "      <th>att</th>\n",
       "      <th>yds</th>\n",
       "      <th>td</th>\n",
       "      <th>tar</th>\n",
       "      <th>rec_yds</th>\n",
       "      <th>def_rk</th>\n",
       "      <th>h/a_1</th>\n",
       "      <th>surface_0</th>\n",
       "      <th>log_att</th>\n",
       "      <th>log_yds</th>\n",
       "      <th>salary</th>\n",
       "      <th>points</th>\n",
       "    </tr>\n",
       "  </thead>\n",
       "  <tbody>\n",
       "    <tr>\n",
       "      <th>0</th>\n",
       "      <td>2015</td>\n",
       "      <td>2699</td>\n",
       "      <td>Matt Forte</td>\n",
       "      <td>CHI</td>\n",
       "      <td>1</td>\n",
       "      <td>GB</td>\n",
       "      <td>24</td>\n",
       "      <td>141</td>\n",
       "      <td>1</td>\n",
       "      <td>8</td>\n",
       "      <td>25</td>\n",
       "      <td>13</td>\n",
       "      <td>1.0</td>\n",
       "      <td>1.0</td>\n",
       "      <td>1.380211</td>\n",
       "      <td>2.149219</td>\n",
       "      <td>3000</td>\n",
       "      <td>30.6</td>\n",
       "    </tr>\n",
       "    <tr>\n",
       "      <th>1</th>\n",
       "      <td>2015</td>\n",
       "      <td>4640</td>\n",
       "      <td>Reggie Bush</td>\n",
       "      <td>SF</td>\n",
       "      <td>1</td>\n",
       "      <td>MIN</td>\n",
       "      <td>2</td>\n",
       "      <td>8</td>\n",
       "      <td>0</td>\n",
       "      <td>1</td>\n",
       "      <td>0</td>\n",
       "      <td>9</td>\n",
       "      <td>1.0</td>\n",
       "      <td>1.0</td>\n",
       "      <td>0.301030</td>\n",
       "      <td>0.903090</td>\n",
       "      <td>3000</td>\n",
       "      <td>0.8</td>\n",
       "    </tr>\n",
       "    <tr>\n",
       "      <th>2</th>\n",
       "      <td>2015</td>\n",
       "      <td>4738</td>\n",
       "      <td>Mike Tolbert</td>\n",
       "      <td>CAR</td>\n",
       "      <td>1</td>\n",
       "      <td>JAX</td>\n",
       "      <td>1</td>\n",
       "      <td>12</td>\n",
       "      <td>0</td>\n",
       "      <td>2</td>\n",
       "      <td>6</td>\n",
       "      <td>27</td>\n",
       "      <td>0.0</td>\n",
       "      <td>1.0</td>\n",
       "      <td>0.000000</td>\n",
       "      <td>1.079181</td>\n",
       "      <td>3900</td>\n",
       "      <td>2.8</td>\n",
       "    </tr>\n",
       "    <tr>\n",
       "      <th>3</th>\n",
       "      <td>2015</td>\n",
       "      <td>4807</td>\n",
       "      <td>Adrian Peterson</td>\n",
       "      <td>MIN</td>\n",
       "      <td>1</td>\n",
       "      <td>SF</td>\n",
       "      <td>10</td>\n",
       "      <td>31</td>\n",
       "      <td>0</td>\n",
       "      <td>3</td>\n",
       "      <td>21</td>\n",
       "      <td>32</td>\n",
       "      <td>0.0</td>\n",
       "      <td>1.0</td>\n",
       "      <td>1.000000</td>\n",
       "      <td>1.491362</td>\n",
       "      <td>3000</td>\n",
       "      <td>8.2</td>\n",
       "    </tr>\n",
       "    <tr>\n",
       "      <th>4</th>\n",
       "      <td>2015</td>\n",
       "      <td>5451</td>\n",
       "      <td>Jonathan Stewart</td>\n",
       "      <td>CAR</td>\n",
       "      <td>1</td>\n",
       "      <td>JAX</td>\n",
       "      <td>18</td>\n",
       "      <td>56</td>\n",
       "      <td>0</td>\n",
       "      <td>4</td>\n",
       "      <td>25</td>\n",
       "      <td>27</td>\n",
       "      <td>0.0</td>\n",
       "      <td>1.0</td>\n",
       "      <td>1.255273</td>\n",
       "      <td>1.748188</td>\n",
       "      <td>7700</td>\n",
       "      <td>12.1</td>\n",
       "    </tr>\n",
       "  </tbody>\n",
       "</table>\n",
       "</div>"
      ],
      "text/plain": [
       "   year PlayerID              Name Team  Week Opponent  att  yds  td  tar  \\\n",
       "0  2015     2699        Matt Forte  CHI     1       GB   24  141   1    8   \n",
       "1  2015     4640       Reggie Bush   SF     1      MIN    2    8   0    1   \n",
       "2  2015     4738      Mike Tolbert  CAR     1      JAX    1   12   0    2   \n",
       "3  2015     4807   Adrian Peterson  MIN     1       SF   10   31   0    3   \n",
       "4  2015     5451  Jonathan Stewart  CAR     1      JAX   18   56   0    4   \n",
       "\n",
       "   rec_yds def_rk h/a_1 surface_0   log_att   log_yds  salary  points  \n",
       "0       25     13   1.0       1.0  1.380211  2.149219    3000    30.6  \n",
       "1        0      9   1.0       1.0  0.301030  0.903090    3000     0.8  \n",
       "2        6     27   0.0       1.0  0.000000  1.079181    3900     2.8  \n",
       "3       21     32   0.0       1.0  1.000000  1.491362    3000     8.2  \n",
       "4       25     27   0.0       1.0  1.255273  1.748188    7700    12.1  "
      ]
     },
     "execution_count": 181,
     "metadata": {},
     "output_type": "execute_result"
    }
   ],
   "source": [
    "cols = rb_eda.columns.tolist()\n",
    "cols = cols[:-4] + cols[-2:] +cols[-4:-2]\n",
    "rb_eda = rb_eda[cols]\n",
    "rb_eda.head()"
   ]
  },
  {
   "cell_type": "code",
   "execution_count": 185,
   "metadata": {
    "collapsed": true
   },
   "outputs": [],
   "source": [
    "rb_eda.to_csv('../input/rb/rb_loc_cleaned.csv',index=False)"
   ]
  },
  {
   "cell_type": "code",
   "execution_count": null,
   "metadata": {
    "collapsed": true
   },
   "outputs": [],
   "source": []
  }
 ],
 "metadata": {
  "kernelspec": {
   "display_name": "Python 3",
   "language": "python",
   "name": "python3"
  },
  "language_info": {
   "codemirror_mode": {
    "name": "ipython",
    "version": 3
   },
   "file_extension": ".py",
   "mimetype": "text/x-python",
   "name": "python",
   "nbconvert_exporter": "python",
   "pygments_lexer": "ipython3",
   "version": "3.6.2"
  }
 },
 "nbformat": 4,
 "nbformat_minor": 2
}
