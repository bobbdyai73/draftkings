{
 "cells": [
  {
   "cell_type": "code",
   "execution_count": 52,
   "metadata": {
    "collapsed": true
   },
   "outputs": [],
   "source": [
    "import pandas as pd\n",
    "import numpy as np\n",
    "import matplotlib.pyplot as plt\n",
    "import seaborn as sns\n",
    "\n",
    "%matplotlib inline\n",
    "\n",
    "from sklearn.preprocessing import MinMaxScaler\n",
    "from sklearn.linear_model import LinearRegression"
   ]
  },
  {
   "cell_type": "code",
   "execution_count": 9,
   "metadata": {
    "collapsed": true
   },
   "outputs": [],
   "source": [
    "qb = pd.read_csv('../input/qb/dk_qb_stats-Copy1.csv')\n",
    "week1 = pd.read_csv('../input/qb/week1_2018.csv')\n",
    "week1_def = pd.read_csv('../input/defense_2018_projections.csv')"
   ]
  },
  {
   "cell_type": "code",
   "execution_count": 10,
   "metadata": {},
   "outputs": [
    {
     "data": {
      "text/html": [
       "<div>\n",
       "<style>\n",
       "    .dataframe thead tr:only-child th {\n",
       "        text-align: right;\n",
       "    }\n",
       "\n",
       "    .dataframe thead th {\n",
       "        text-align: left;\n",
       "    }\n",
       "\n",
       "    .dataframe tbody tr th {\n",
       "        vertical-align: top;\n",
       "    }\n",
       "</style>\n",
       "<table border=\"1\" class=\"dataframe\">\n",
       "  <thead>\n",
       "    <tr style=\"text-align: right;\">\n",
       "      <th></th>\n",
       "      <th>Player</th>\n",
       "      <th>Team</th>\n",
       "      <th>Week</th>\n",
       "      <th>Opp</th>\n",
       "      <th>Comp</th>\n",
       "      <th>Att</th>\n",
       "      <th>Pct</th>\n",
       "      <th>Yds</th>\n",
       "      <th>Yds/Att</th>\n",
       "      <th>TD</th>\n",
       "      <th>Int</th>\n",
       "      <th>ru_att</th>\n",
       "      <th>ru_yds</th>\n",
       "      <th>yds/ru_att</th>\n",
       "      <th>ru_td</th>\n",
       "      <th>points</th>\n",
       "      <th>year</th>\n",
       "      <th>def_ru_rk</th>\n",
       "      <th>def_pass_rk</th>\n",
       "    </tr>\n",
       "  </thead>\n",
       "  <tbody>\n",
       "    <tr>\n",
       "      <th>0</th>\n",
       "      <td>Matt Ryan</td>\n",
       "      <td>ATL</td>\n",
       "      <td>1</td>\n",
       "      <td>KC</td>\n",
       "      <td>23</td>\n",
       "      <td>31</td>\n",
       "      <td>74.0</td>\n",
       "      <td>299</td>\n",
       "      <td>10.0</td>\n",
       "      <td>3</td>\n",
       "      <td>0</td>\n",
       "      <td>3</td>\n",
       "      <td>25</td>\n",
       "      <td>8.0</td>\n",
       "      <td>1</td>\n",
       "      <td>32.46</td>\n",
       "      <td>2012</td>\n",
       "      <td>25</td>\n",
       "      <td>25</td>\n",
       "    </tr>\n",
       "    <tr>\n",
       "      <th>1</th>\n",
       "      <td>Robert Griffin III</td>\n",
       "      <td>WAS</td>\n",
       "      <td>1</td>\n",
       "      <td>NO</td>\n",
       "      <td>19</td>\n",
       "      <td>26</td>\n",
       "      <td>73.0</td>\n",
       "      <td>320</td>\n",
       "      <td>12.0</td>\n",
       "      <td>2</td>\n",
       "      <td>0</td>\n",
       "      <td>9</td>\n",
       "      <td>42</td>\n",
       "      <td>5.0</td>\n",
       "      <td>0</td>\n",
       "      <td>25.00</td>\n",
       "      <td>2012</td>\n",
       "      <td>31</td>\n",
       "      <td>31</td>\n",
       "    </tr>\n",
       "    <tr>\n",
       "      <th>2</th>\n",
       "      <td>Tony Romo</td>\n",
       "      <td>DAL</td>\n",
       "      <td>1</td>\n",
       "      <td>NYG</td>\n",
       "      <td>22</td>\n",
       "      <td>29</td>\n",
       "      <td>76.0</td>\n",
       "      <td>307</td>\n",
       "      <td>11.0</td>\n",
       "      <td>3</td>\n",
       "      <td>1</td>\n",
       "      <td>5</td>\n",
       "      <td>12</td>\n",
       "      <td>2.0</td>\n",
       "      <td>0</td>\n",
       "      <td>23.48</td>\n",
       "      <td>2012</td>\n",
       "      <td>12</td>\n",
       "      <td>12</td>\n",
       "    </tr>\n",
       "    <tr>\n",
       "      <th>3</th>\n",
       "      <td>Aaron Rodgers</td>\n",
       "      <td>GB</td>\n",
       "      <td>1</td>\n",
       "      <td>SF</td>\n",
       "      <td>30</td>\n",
       "      <td>44</td>\n",
       "      <td>68.0</td>\n",
       "      <td>303</td>\n",
       "      <td>7.0</td>\n",
       "      <td>2</td>\n",
       "      <td>1</td>\n",
       "      <td>5</td>\n",
       "      <td>27</td>\n",
       "      <td>5.0</td>\n",
       "      <td>0</td>\n",
       "      <td>22.82</td>\n",
       "      <td>2012</td>\n",
       "      <td>2</td>\n",
       "      <td>2</td>\n",
       "    </tr>\n",
       "    <tr>\n",
       "      <th>4</th>\n",
       "      <td>Drew Brees</td>\n",
       "      <td>NO</td>\n",
       "      <td>1</td>\n",
       "      <td>WAS</td>\n",
       "      <td>24</td>\n",
       "      <td>52</td>\n",
       "      <td>46.0</td>\n",
       "      <td>339</td>\n",
       "      <td>7.0</td>\n",
       "      <td>3</td>\n",
       "      <td>2</td>\n",
       "      <td>0</td>\n",
       "      <td>0</td>\n",
       "      <td>0.0</td>\n",
       "      <td>0</td>\n",
       "      <td>21.56</td>\n",
       "      <td>2012</td>\n",
       "      <td>22</td>\n",
       "      <td>22</td>\n",
       "    </tr>\n",
       "  </tbody>\n",
       "</table>\n",
       "</div>"
      ],
      "text/plain": [
       "               Player Team  Week  Opp  Comp  Att   Pct  Yds  Yds/Att  TD  Int  \\\n",
       "0           Matt Ryan  ATL     1   KC    23   31  74.0  299     10.0   3    0   \n",
       "1  Robert Griffin III  WAS     1   NO    19   26  73.0  320     12.0   2    0   \n",
       "2           Tony Romo  DAL     1  NYG    22   29  76.0  307     11.0   3    1   \n",
       "3       Aaron Rodgers   GB     1   SF    30   44  68.0  303      7.0   2    1   \n",
       "4          Drew Brees   NO     1  WAS    24   52  46.0  339      7.0   3    2   \n",
       "\n",
       "   ru_att  ru_yds  yds/ru_att  ru_td  points  year  def_ru_rk  def_pass_rk  \n",
       "0       3      25         8.0      1   32.46  2012         25           25  \n",
       "1       9      42         5.0      0   25.00  2012         31           31  \n",
       "2       5      12         2.0      0   23.48  2012         12           12  \n",
       "3       5      27         5.0      0   22.82  2012          2            2  \n",
       "4       0       0         0.0      0   21.56  2012         22           22  "
      ]
     },
     "execution_count": 10,
     "metadata": {},
     "output_type": "execute_result"
    }
   ],
   "source": [
    "qb.head()\n"
   ]
  },
  {
   "cell_type": "markdown",
   "metadata": {},
   "source": [
    "## Current week dataframe feature engineering"
   ]
  },
  {
   "cell_type": "code",
   "execution_count": 11,
   "metadata": {
    "collapsed": true
   },
   "outputs": [],
   "source": [
    "week1.drop(['Rank','Position', 'PassingRating','FantasyPointsPerGame'], axis=1, inplace=True)"
   ]
  },
  {
   "cell_type": "code",
   "execution_count": 13,
   "metadata": {},
   "outputs": [],
   "source": [
    "week1['year'] =2018\n",
    "week1.columns = qb.columns[:-2]"
   ]
  },
  {
   "cell_type": "code",
   "execution_count": 14,
   "metadata": {},
   "outputs": [
    {
     "data": {
      "text/plain": [
       "(57, 17)"
      ]
     },
     "execution_count": 14,
     "metadata": {},
     "output_type": "execute_result"
    }
   ],
   "source": [
    "indices = []\n",
    "for idx,player in enumerate(week1['Player']):\n",
    "    if player not in qb['Player'].unique():\n",
    "        indices.append(idx)\n",
    "\n",
    "week1.drop(indices, axis=0, inplace=True)\n",
    "week1.reset_index(inplace=True, drop=True)\n",
    "week1.shape"
   ]
  },
  {
   "cell_type": "markdown",
   "metadata": {},
   "source": [
    "## Weekly defensive rankings dataframe feature engineering"
   ]
  },
  {
   "cell_type": "code",
   "execution_count": 15,
   "metadata": {},
   "outputs": [
    {
     "data": {
      "text/html": [
       "<div>\n",
       "<style>\n",
       "    .dataframe thead tr:only-child th {\n",
       "        text-align: right;\n",
       "    }\n",
       "\n",
       "    .dataframe thead th {\n",
       "        text-align: left;\n",
       "    }\n",
       "\n",
       "    .dataframe tbody tr th {\n",
       "        vertical-align: top;\n",
       "    }\n",
       "</style>\n",
       "<table border=\"1\" class=\"dataframe\">\n",
       "  <thead>\n",
       "    <tr style=\"text-align: right;\">\n",
       "      <th></th>\n",
       "      <th>Rank</th>\n",
       "      <th>Name</th>\n",
       "      <th>Position</th>\n",
       "      <th>Played</th>\n",
       "      <th>TacklesForLoss</th>\n",
       "      <th>Sacks</th>\n",
       "      <th>QuarterbackHits</th>\n",
       "      <th>Interceptions</th>\n",
       "      <th>FumblesRecovered</th>\n",
       "      <th>Safeties</th>\n",
       "      <th>DefensiveTouchdowns</th>\n",
       "      <th>SpecialTeamsTouchdowns</th>\n",
       "      <th>PointsAllowed</th>\n",
       "      <th>FantasyPointsPerGameDraftKings</th>\n",
       "      <th>FantasyPointsDraftKings</th>\n",
       "    </tr>\n",
       "    <tr>\n",
       "      <th>Team</th>\n",
       "      <th></th>\n",
       "      <th></th>\n",
       "      <th></th>\n",
       "      <th></th>\n",
       "      <th></th>\n",
       "      <th></th>\n",
       "      <th></th>\n",
       "      <th></th>\n",
       "      <th></th>\n",
       "      <th></th>\n",
       "      <th></th>\n",
       "      <th></th>\n",
       "      <th></th>\n",
       "      <th></th>\n",
       "      <th></th>\n",
       "    </tr>\n",
       "  </thead>\n",
       "  <tbody>\n",
       "    <tr>\n",
       "      <th>JAX</th>\n",
       "      <td>1</td>\n",
       "      <td>Jacksonville Jaguars</td>\n",
       "      <td>DST</td>\n",
       "      <td>16</td>\n",
       "      <td>103</td>\n",
       "      <td>49</td>\n",
       "      <td>113</td>\n",
       "      <td>18</td>\n",
       "      <td>14</td>\n",
       "      <td>0</td>\n",
       "      <td>4</td>\n",
       "      <td>1</td>\n",
       "      <td>268</td>\n",
       "      <td>8.1</td>\n",
       "      <td>129</td>\n",
       "    </tr>\n",
       "    <tr>\n",
       "      <th>LAC</th>\n",
       "      <td>2</td>\n",
       "      <td>Los Angeles Chargers</td>\n",
       "      <td>DST</td>\n",
       "      <td>16</td>\n",
       "      <td>93</td>\n",
       "      <td>44</td>\n",
       "      <td>85</td>\n",
       "      <td>17</td>\n",
       "      <td>13</td>\n",
       "      <td>0</td>\n",
       "      <td>4</td>\n",
       "      <td>2</td>\n",
       "      <td>272</td>\n",
       "      <td>7.9</td>\n",
       "      <td>127</td>\n",
       "    </tr>\n",
       "    <tr>\n",
       "      <th>LAR</th>\n",
       "      <td>3</td>\n",
       "      <td>Los Angeles Rams</td>\n",
       "      <td>DST</td>\n",
       "      <td>16</td>\n",
       "      <td>82</td>\n",
       "      <td>45</td>\n",
       "      <td>100</td>\n",
       "      <td>17</td>\n",
       "      <td>15</td>\n",
       "      <td>2</td>\n",
       "      <td>3</td>\n",
       "      <td>2</td>\n",
       "      <td>329</td>\n",
       "      <td>7.8</td>\n",
       "      <td>124</td>\n",
       "    </tr>\n",
       "    <tr>\n",
       "      <th>PHI</th>\n",
       "      <td>4</td>\n",
       "      <td>Philadelphia Eagles</td>\n",
       "      <td>DST</td>\n",
       "      <td>16</td>\n",
       "      <td>99</td>\n",
       "      <td>39</td>\n",
       "      <td>115</td>\n",
       "      <td>17</td>\n",
       "      <td>14</td>\n",
       "      <td>0</td>\n",
       "      <td>4</td>\n",
       "      <td>2</td>\n",
       "      <td>295</td>\n",
       "      <td>7.7</td>\n",
       "      <td>123</td>\n",
       "    </tr>\n",
       "    <tr>\n",
       "      <th>MIN</th>\n",
       "      <td>5</td>\n",
       "      <td>Minnesota Vikings</td>\n",
       "      <td>DST</td>\n",
       "      <td>16</td>\n",
       "      <td>82</td>\n",
       "      <td>42</td>\n",
       "      <td>85</td>\n",
       "      <td>17</td>\n",
       "      <td>12</td>\n",
       "      <td>1</td>\n",
       "      <td>3</td>\n",
       "      <td>1</td>\n",
       "      <td>252</td>\n",
       "      <td>7.0</td>\n",
       "      <td>112</td>\n",
       "    </tr>\n",
       "  </tbody>\n",
       "</table>\n",
       "</div>"
      ],
      "text/plain": [
       "      Rank                  Name Position  Played  TacklesForLoss  Sacks  \\\n",
       "Team                                                                       \n",
       "JAX      1  Jacksonville Jaguars      DST      16             103     49   \n",
       "LAC      2  Los Angeles Chargers      DST      16              93     44   \n",
       "LAR      3      Los Angeles Rams      DST      16              82     45   \n",
       "PHI      4   Philadelphia Eagles      DST      16              99     39   \n",
       "MIN      5     Minnesota Vikings      DST      16              82     42   \n",
       "\n",
       "      QuarterbackHits  Interceptions  FumblesRecovered  Safeties  \\\n",
       "Team                                                               \n",
       "JAX               113             18                14         0   \n",
       "LAC                85             17                13         0   \n",
       "LAR               100             17                15         2   \n",
       "PHI               115             17                14         0   \n",
       "MIN                85             17                12         1   \n",
       "\n",
       "      DefensiveTouchdowns  SpecialTeamsTouchdowns  PointsAllowed  \\\n",
       "Team                                                               \n",
       "JAX                     4                       1            268   \n",
       "LAC                     4                       2            272   \n",
       "LAR                     3                       2            329   \n",
       "PHI                     4                       2            295   \n",
       "MIN                     3                       1            252   \n",
       "\n",
       "      FantasyPointsPerGameDraftKings  FantasyPointsDraftKings  \n",
       "Team                                                           \n",
       "JAX                              8.1                      129  \n",
       "LAC                              7.9                      127  \n",
       "LAR                              7.8                      124  \n",
       "PHI                              7.7                      123  \n",
       "MIN                              7.0                      112  "
      ]
     },
     "execution_count": 15,
     "metadata": {},
     "output_type": "execute_result"
    }
   ],
   "source": [
    "week1_def.index = week1_def['Team']\n",
    "week1_def.drop('Team', axis=1, inplace=True)\n",
    "week1_def.head()"
   ]
  },
  {
   "cell_type": "code",
   "execution_count": 16,
   "metadata": {
    "collapsed": true
   },
   "outputs": [],
   "source": [
    "week1['def_ru_rk'] = list(map(lambda x: week1_def.loc[x]['Rank'], week1['Opp']))\n",
    "week1['def_pass_rk'] = list(map(lambda x: week1_def.loc[x]['Rank'], week1['Opp']))"
   ]
  },
  {
   "cell_type": "code",
   "execution_count": 53,
   "metadata": {
    "collapsed": true
   },
   "outputs": [],
   "source": [
    "#A function that will covert a time series database into a supervised learning database\n",
    "\n",
    "def series_to_supervised(data, n_in=1, n_out=1, dropnan=True):\n",
    "    n_vars = 1 if type(data) is list else data.shape[1]\n",
    "    df = pd.DataFrame(data)\n",
    "    cols, names = list(), list()\n",
    "    # input sequence (t-n, ... t-1)\n",
    "    for i in range(n_in, 0, -1):\n",
    "            cols.append(df.shift(i))\n",
    "            names += [('var%d(t-%d)' % (j+1, i)) for j in range(n_vars)]\n",
    "    # forecast sequence (t, t+1, ... t+n)\n",
    "    for i in range(0, n_out):\n",
    "        cols.append(df.shift(-i))\n",
    "        if i == 0:\n",
    "            names += [('var%d(t)' % (j+1)) for j in range(n_vars)]\n",
    "        else:\n",
    "            names += [('var%d(t+%d)' % (j+1, i)) for j in range(n_vars)]\n",
    "    # put it all together\n",
    "    agg = pd.concat(cols, axis=1)\n",
    "    agg.columns = names\n",
    "    # drop rows with NaN values\n",
    "    if dropnan:\n",
    "        agg.dropna(inplace=True)\n",
    "    return agg"
   ]
  },
  {
   "cell_type": "code",
   "execution_count": 71,
   "metadata": {
    "collapsed": true
   },
   "outputs": [],
   "source": [
    "train  = qb\n",
    "test = week1"
   ]
  },
  {
   "cell_type": "code",
   "execution_count": 72,
   "metadata": {},
   "outputs": [
    {
     "data": {
      "text/plain": [
       "Index(['Player', 'Team', 'Week', 'Opp', 'Comp', 'Att', 'Pct', 'Yds', 'Yds/Att',\n",
       "       'TD', 'Int', 'ru_att', 'ru_yds', 'yds/ru_att', 'ru_td', 'points',\n",
       "       'year', 'def_ru_rk', 'def_pass_rk'],\n",
       "      dtype='object')"
      ]
     },
     "execution_count": 72,
     "metadata": {},
     "output_type": "execute_result"
    }
   ],
   "source": [
    "qb.columns"
   ]
  },
  {
   "cell_type": "code",
   "execution_count": 73,
   "metadata": {},
   "outputs": [
    {
     "data": {
      "text/plain": [
       "Index(['Player', 'Team', 'Week', 'Opp', 'Comp', 'Att', 'Pct', 'Yds', 'Yds/Att',\n",
       "       'TD', 'Int', 'ru_att', 'ru_yds', 'yds/ru_att', 'ru_td', 'points',\n",
       "       'year', 'def_ru_rk', 'def_pass_rk'],\n",
       "      dtype='object')"
      ]
     },
     "execution_count": 73,
     "metadata": {},
     "output_type": "execute_result"
    }
   ],
   "source": [
    "week1.columns"
   ]
  },
  {
   "cell_type": "code",
   "execution_count": 345,
   "metadata": {
    "collapsed": true
   },
   "outputs": [],
   "source": [
    "passing = ['Comp','Att','Pct','Yds','Yds/Att','TD','Int']"
   ]
  },
  {
   "cell_type": "code",
   "execution_count": 74,
   "metadata": {
    "collapsed": true
   },
   "outputs": [],
   "source": [
    "y_train = train['points']\n",
    "y_test = test['points']\n",
    "X_train = train.drop('points',axis=1)\n",
    "X_test = test.drop('points', axis=1)"
   ]
  },
  {
   "cell_type": "code",
   "execution_count": 75,
   "metadata": {
    "collapsed": true
   },
   "outputs": [],
   "source": [
    "X_train = X_train[X_train.columns[4:]]\n",
    "X_test = X_test[X_test.columns[4:]]"
   ]
  },
  {
   "cell_type": "code",
   "execution_count": 348,
   "metadata": {
    "collapsed": true
   },
   "outputs": [],
   "source": [
    "\n",
    "X_train = X_train[X_train.columns[4:11]]\n",
    "X_test = X_test[X_test.columns[4:11]]"
   ]
  },
  {
   "cell_type": "code",
   "execution_count": 76,
   "metadata": {},
   "outputs": [
    {
     "data": {
      "text/plain": [
       "(2729, 14)"
      ]
     },
     "execution_count": 76,
     "metadata": {},
     "output_type": "execute_result"
    }
   ],
   "source": [
    "X_train.shape"
   ]
  },
  {
   "cell_type": "code",
   "execution_count": 77,
   "metadata": {},
   "outputs": [
    {
     "data": {
      "text/plain": [
       "(57, 14)"
      ]
     },
     "execution_count": 77,
     "metadata": {},
     "output_type": "execute_result"
    }
   ],
   "source": [
    "X_test.shape"
   ]
  },
  {
   "cell_type": "code",
   "execution_count": 34,
   "metadata": {},
   "outputs": [
    {
     "data": {
      "text/plain": [
       "Index(['Comp', 'Att', 'Pct', 'Yds', 'Yds/Att', 'TD', 'Int', 'ru_att', 'ru_yds',\n",
       "       'yds/ru_att', 'ru_td', 'year', 'def_ru_rk', 'def_pass_rk'],\n",
       "      dtype='object')"
      ]
     },
     "execution_count": 34,
     "metadata": {},
     "output_type": "execute_result"
    }
   ],
   "source": [
    "X_train.columns"
   ]
  },
  {
   "cell_type": "code",
   "execution_count": 78,
   "metadata": {
    "collapsed": true
   },
   "outputs": [],
   "source": [
    "reframed = series_to_supervised(X_train.values.astype('float32'),1,1)"
   ]
  },
  {
   "cell_type": "code",
   "execution_count": null,
   "metadata": {
    "collapsed": true
   },
   "outputs": [],
   "source": []
  },
  {
   "cell_type": "code",
   "execution_count": 79,
   "metadata": {},
   "outputs": [
    {
     "data": {
      "text/plain": [
       "LinearRegression(copy_X=True, fit_intercept=True, n_jobs=1, normalize=False)"
      ]
     },
     "execution_count": 79,
     "metadata": {},
     "output_type": "execute_result"
    }
   ],
   "source": [
    "lr = LinearRegression()\n",
    "lr.fit(X_train,y_train)"
   ]
  },
  {
   "cell_type": "code",
   "execution_count": 80,
   "metadata": {},
   "outputs": [
    {
     "data": {
      "text/html": [
       "<div>\n",
       "<style>\n",
       "    .dataframe thead tr:only-child th {\n",
       "        text-align: right;\n",
       "    }\n",
       "\n",
       "    .dataframe thead th {\n",
       "        text-align: left;\n",
       "    }\n",
       "\n",
       "    .dataframe tbody tr th {\n",
       "        vertical-align: top;\n",
       "    }\n",
       "</style>\n",
       "<table border=\"1\" class=\"dataframe\">\n",
       "  <thead>\n",
       "    <tr style=\"text-align: right;\">\n",
       "      <th></th>\n",
       "      <th>0</th>\n",
       "      <th>coefficients</th>\n",
       "    </tr>\n",
       "  </thead>\n",
       "  <tbody>\n",
       "    <tr>\n",
       "      <th>0</th>\n",
       "      <td>Comp</td>\n",
       "      <td>0.029938</td>\n",
       "    </tr>\n",
       "    <tr>\n",
       "      <th>1</th>\n",
       "      <td>Att</td>\n",
       "      <td>-0.076581</td>\n",
       "    </tr>\n",
       "    <tr>\n",
       "      <th>2</th>\n",
       "      <td>Pct</td>\n",
       "      <td>-0.013013</td>\n",
       "    </tr>\n",
       "    <tr>\n",
       "      <th>3</th>\n",
       "      <td>Yds</td>\n",
       "      <td>0.058688</td>\n",
       "    </tr>\n",
       "    <tr>\n",
       "      <th>4</th>\n",
       "      <td>Yds/Att</td>\n",
       "      <td>-0.179413</td>\n",
       "    </tr>\n",
       "    <tr>\n",
       "      <th>5</th>\n",
       "      <td>TD</td>\n",
       "      <td>4.002376</td>\n",
       "    </tr>\n",
       "    <tr>\n",
       "      <th>6</th>\n",
       "      <td>Int</td>\n",
       "      <td>-1.242807</td>\n",
       "    </tr>\n",
       "    <tr>\n",
       "      <th>7</th>\n",
       "      <td>ru_att</td>\n",
       "      <td>-0.086593</td>\n",
       "    </tr>\n",
       "    <tr>\n",
       "      <th>8</th>\n",
       "      <td>ru_yds</td>\n",
       "      <td>0.114284</td>\n",
       "    </tr>\n",
       "    <tr>\n",
       "      <th>9</th>\n",
       "      <td>yds/ru_att</td>\n",
       "      <td>-0.025317</td>\n",
       "    </tr>\n",
       "    <tr>\n",
       "      <th>10</th>\n",
       "      <td>ru_td</td>\n",
       "      <td>5.934202</td>\n",
       "    </tr>\n",
       "    <tr>\n",
       "      <th>11</th>\n",
       "      <td>year</td>\n",
       "      <td>0.257254</td>\n",
       "    </tr>\n",
       "    <tr>\n",
       "      <th>12</th>\n",
       "      <td>def_ru_rk</td>\n",
       "      <td>0.001679</td>\n",
       "    </tr>\n",
       "    <tr>\n",
       "      <th>13</th>\n",
       "      <td>def_pass_rk</td>\n",
       "      <td>0.001679</td>\n",
       "    </tr>\n",
       "  </tbody>\n",
       "</table>\n",
       "</div>"
      ],
      "text/plain": [
       "              0  coefficients\n",
       "0          Comp      0.029938\n",
       "1           Att     -0.076581\n",
       "2           Pct     -0.013013\n",
       "3           Yds      0.058688\n",
       "4       Yds/Att     -0.179413\n",
       "5            TD      4.002376\n",
       "6           Int     -1.242807\n",
       "7        ru_att     -0.086593\n",
       "8        ru_yds      0.114284\n",
       "9    yds/ru_att     -0.025317\n",
       "10        ru_td      5.934202\n",
       "11         year      0.257254\n",
       "12    def_ru_rk      0.001679\n",
       "13  def_pass_rk      0.001679"
      ]
     },
     "execution_count": 80,
     "metadata": {},
     "output_type": "execute_result"
    }
   ],
   "source": [
    "coeff = pd.DataFrame(X_train.columns)\n",
    "coeff['coefficients'] = lr.coef_\n",
    "coeff\n",
    "\n"
   ]
  },
  {
   "cell_type": "code",
   "execution_count": 81,
   "metadata": {},
   "outputs": [
    {
     "data": {
      "text/plain": [
       "(57,)"
      ]
     },
     "execution_count": 81,
     "metadata": {},
     "output_type": "execute_result"
    }
   ],
   "source": [
    "yhat = lr.predict(X_test)\n",
    "yhat.shape"
   ]
  },
  {
   "cell_type": "code",
   "execution_count": 359,
   "metadata": {},
   "outputs": [
    {
     "name": "stdout",
     "output_type": "stream",
     "text": [
      "RMSE error is: 1.68578446369\n"
     ]
    }
   ],
   "source": [
    "def rmse(predictions, targets):\n",
    "    return np.sqrt(((predictions - targets) ** 2).mean())\n",
    "\n",
    "rmse_val = rmse(yhat, y_test)\n",
    "print(\"RMSE error is: \" + str(rmse_val))"
   ]
  },
  {
   "cell_type": "code",
   "execution_count": 82,
   "metadata": {},
   "outputs": [
    {
     "data": {
      "text/html": [
       "<div>\n",
       "<style>\n",
       "    .dataframe thead tr:only-child th {\n",
       "        text-align: right;\n",
       "    }\n",
       "\n",
       "    .dataframe thead th {\n",
       "        text-align: left;\n",
       "    }\n",
       "\n",
       "    .dataframe tbody tr th {\n",
       "        vertical-align: top;\n",
       "    }\n",
       "</style>\n",
       "<table border=\"1\" class=\"dataframe\">\n",
       "  <thead>\n",
       "    <tr style=\"text-align: right;\">\n",
       "      <th></th>\n",
       "      <th>Player</th>\n",
       "      <th>Predicted</th>\n",
       "    </tr>\n",
       "  </thead>\n",
       "  <tbody>\n",
       "    <tr>\n",
       "      <th>0</th>\n",
       "      <td>Aaron Rodgers</td>\n",
       "      <td>22.622505</td>\n",
       "    </tr>\n",
       "    <tr>\n",
       "      <th>1</th>\n",
       "      <td>Drew Brees</td>\n",
       "      <td>22.935390</td>\n",
       "    </tr>\n",
       "    <tr>\n",
       "      <th>2</th>\n",
       "      <td>Tom Brady</td>\n",
       "      <td>22.578469</td>\n",
       "    </tr>\n",
       "    <tr>\n",
       "      <th>3</th>\n",
       "      <td>Deshaun Watson</td>\n",
       "      <td>21.599166</td>\n",
       "    </tr>\n",
       "    <tr>\n",
       "      <th>4</th>\n",
       "      <td>Cam Newton</td>\n",
       "      <td>20.770403</td>\n",
       "    </tr>\n",
       "    <tr>\n",
       "      <th>5</th>\n",
       "      <td>Matthew Stafford</td>\n",
       "      <td>21.079952</td>\n",
       "    </tr>\n",
       "    <tr>\n",
       "      <th>6</th>\n",
       "      <td>Ben Roethlisberger</td>\n",
       "      <td>20.937474</td>\n",
       "    </tr>\n",
       "    <tr>\n",
       "      <th>7</th>\n",
       "      <td>Andrew Luck</td>\n",
       "      <td>20.630576</td>\n",
       "    </tr>\n",
       "    <tr>\n",
       "      <th>8</th>\n",
       "      <td>Philip Rivers</td>\n",
       "      <td>20.697301</td>\n",
       "    </tr>\n",
       "    <tr>\n",
       "      <th>9</th>\n",
       "      <td>Kirk Cousins</td>\n",
       "      <td>20.450940</td>\n",
       "    </tr>\n",
       "    <tr>\n",
       "      <th>10</th>\n",
       "      <td>Russell Wilson</td>\n",
       "      <td>19.891470</td>\n",
       "    </tr>\n",
       "    <tr>\n",
       "      <th>11</th>\n",
       "      <td>Jared Goff</td>\n",
       "      <td>20.281654</td>\n",
       "    </tr>\n",
       "    <tr>\n",
       "      <th>12</th>\n",
       "      <td>Andy Dalton</td>\n",
       "      <td>19.393590</td>\n",
       "    </tr>\n",
       "    <tr>\n",
       "      <th>13</th>\n",
       "      <td>Tyrod Taylor</td>\n",
       "      <td>18.422072</td>\n",
       "    </tr>\n",
       "    <tr>\n",
       "      <th>14</th>\n",
       "      <td>Marcus Mariota</td>\n",
       "      <td>18.840468</td>\n",
       "    </tr>\n",
       "    <tr>\n",
       "      <th>15</th>\n",
       "      <td>Alex Smith</td>\n",
       "      <td>18.706081</td>\n",
       "    </tr>\n",
       "    <tr>\n",
       "      <th>16</th>\n",
       "      <td>Dak Prescott</td>\n",
       "      <td>18.531013</td>\n",
       "    </tr>\n",
       "    <tr>\n",
       "      <th>17</th>\n",
       "      <td>Blake Bortles</td>\n",
       "      <td>17.825208</td>\n",
       "    </tr>\n",
       "    <tr>\n",
       "      <th>18</th>\n",
       "      <td>Mitch Trubisky</td>\n",
       "      <td>17.685679</td>\n",
       "    </tr>\n",
       "    <tr>\n",
       "      <th>19</th>\n",
       "      <td>Matt Ryan</td>\n",
       "      <td>17.719255</td>\n",
       "    </tr>\n",
       "    <tr>\n",
       "      <th>20</th>\n",
       "      <td>Nick Foles</td>\n",
       "      <td>17.689892</td>\n",
       "    </tr>\n",
       "    <tr>\n",
       "      <th>21</th>\n",
       "      <td>Case Keenum</td>\n",
       "      <td>17.309548</td>\n",
       "    </tr>\n",
       "    <tr>\n",
       "      <th>22</th>\n",
       "      <td>Ryan Fitzpatrick</td>\n",
       "      <td>17.335215</td>\n",
       "    </tr>\n",
       "    <tr>\n",
       "      <th>23</th>\n",
       "      <td>Ryan Tannehill</td>\n",
       "      <td>17.145849</td>\n",
       "    </tr>\n",
       "    <tr>\n",
       "      <th>24</th>\n",
       "      <td>Jimmy Garoppolo</td>\n",
       "      <td>16.642067</td>\n",
       "    </tr>\n",
       "    <tr>\n",
       "      <th>25</th>\n",
       "      <td>Sam Bradford</td>\n",
       "      <td>16.345740</td>\n",
       "    </tr>\n",
       "    <tr>\n",
       "      <th>26</th>\n",
       "      <td>Derek Carr</td>\n",
       "      <td>16.040414</td>\n",
       "    </tr>\n",
       "    <tr>\n",
       "      <th>27</th>\n",
       "      <td>Joe Flacco</td>\n",
       "      <td>15.378570</td>\n",
       "    </tr>\n",
       "    <tr>\n",
       "      <th>28</th>\n",
       "      <td>Eli Manning</td>\n",
       "      <td>14.808699</td>\n",
       "    </tr>\n",
       "    <tr>\n",
       "      <th>29</th>\n",
       "      <td>Jacoby Brissett</td>\n",
       "      <td>0.463902</td>\n",
       "    </tr>\n",
       "    <tr>\n",
       "      <th>30</th>\n",
       "      <td>Josh McCown</td>\n",
       "      <td>0.337107</td>\n",
       "    </tr>\n",
       "    <tr>\n",
       "      <th>31</th>\n",
       "      <td>Brock Osweiler</td>\n",
       "      <td>-0.620867</td>\n",
       "    </tr>\n",
       "    <tr>\n",
       "      <th>32</th>\n",
       "      <td>Trevor Siemian</td>\n",
       "      <td>-1.230982</td>\n",
       "    </tr>\n",
       "    <tr>\n",
       "      <th>33</th>\n",
       "      <td>Mike Glennon</td>\n",
       "      <td>-0.683016</td>\n",
       "    </tr>\n",
       "    <tr>\n",
       "      <th>34</th>\n",
       "      <td>Deshone Kizer</td>\n",
       "      <td>-1.466677</td>\n",
       "    </tr>\n",
       "    <tr>\n",
       "      <th>35</th>\n",
       "      <td>Blaine Gabbert</td>\n",
       "      <td>-0.858647</td>\n",
       "    </tr>\n",
       "    <tr>\n",
       "      <th>36</th>\n",
       "      <td>David Fales</td>\n",
       "      <td>-0.911532</td>\n",
       "    </tr>\n",
       "    <tr>\n",
       "      <th>37</th>\n",
       "      <td>CJ Beathard</td>\n",
       "      <td>-1.370145</td>\n",
       "    </tr>\n",
       "    <tr>\n",
       "      <th>38</th>\n",
       "      <td>Brian Hoyer</td>\n",
       "      <td>0.331182</td>\n",
       "    </tr>\n",
       "    <tr>\n",
       "      <th>39</th>\n",
       "      <td>Brandon Weeden</td>\n",
       "      <td>0.652488</td>\n",
       "    </tr>\n",
       "    <tr>\n",
       "      <th>40</th>\n",
       "      <td>Colt McCoy</td>\n",
       "      <td>0.662689</td>\n",
       "    </tr>\n",
       "    <tr>\n",
       "      <th>41</th>\n",
       "      <td>Chase Daniel</td>\n",
       "      <td>0.641186</td>\n",
       "    </tr>\n",
       "    <tr>\n",
       "      <th>42</th>\n",
       "      <td>Brett Hundley</td>\n",
       "      <td>-1.142635</td>\n",
       "    </tr>\n",
       "    <tr>\n",
       "      <th>43</th>\n",
       "      <td>AJ McCarron</td>\n",
       "      <td>0.579074</td>\n",
       "    </tr>\n",
       "    <tr>\n",
       "      <th>44</th>\n",
       "      <td>Cody Kessler</td>\n",
       "      <td>0.779729</td>\n",
       "    </tr>\n",
       "    <tr>\n",
       "      <th>45</th>\n",
       "      <td>Chad Henne</td>\n",
       "      <td>1.410097</td>\n",
       "    </tr>\n",
       "    <tr>\n",
       "      <th>46</th>\n",
       "      <td>Teddy Bridgewater</td>\n",
       "      <td>1.478111</td>\n",
       "    </tr>\n",
       "    <tr>\n",
       "      <th>47</th>\n",
       "      <td>Matt Schaub</td>\n",
       "      <td>1.389056</td>\n",
       "    </tr>\n",
       "    <tr>\n",
       "      <th>48</th>\n",
       "      <td>Geno Smith</td>\n",
       "      <td>1.400105</td>\n",
       "    </tr>\n",
       "    <tr>\n",
       "      <th>49</th>\n",
       "      <td>Matt Cassel</td>\n",
       "      <td>1.454686</td>\n",
       "    </tr>\n",
       "    <tr>\n",
       "      <th>50</th>\n",
       "      <td>Robert Griffin III</td>\n",
       "      <td>1.378767</td>\n",
       "    </tr>\n",
       "    <tr>\n",
       "      <th>51</th>\n",
       "      <td>Carson Wentz</td>\n",
       "      <td>1.250565</td>\n",
       "    </tr>\n",
       "    <tr>\n",
       "      <th>52</th>\n",
       "      <td>Drew Stanton</td>\n",
       "      <td>1.227057</td>\n",
       "    </tr>\n",
       "    <tr>\n",
       "      <th>53</th>\n",
       "      <td>Matt Barkley</td>\n",
       "      <td>1.314373</td>\n",
       "    </tr>\n",
       "    <tr>\n",
       "      <th>54</th>\n",
       "      <td>Austin Davis</td>\n",
       "      <td>1.232926</td>\n",
       "    </tr>\n",
       "    <tr>\n",
       "      <th>55</th>\n",
       "      <td>Kevin Hogan</td>\n",
       "      <td>1.267357</td>\n",
       "    </tr>\n",
       "    <tr>\n",
       "      <th>56</th>\n",
       "      <td>Joe Webb</td>\n",
       "      <td>1.257282</td>\n",
       "    </tr>\n",
       "  </tbody>\n",
       "</table>\n",
       "</div>"
      ],
      "text/plain": [
       "                Player  Predicted\n",
       "0        Aaron Rodgers  22.622505\n",
       "1           Drew Brees  22.935390\n",
       "2            Tom Brady  22.578469\n",
       "3       Deshaun Watson  21.599166\n",
       "4           Cam Newton  20.770403\n",
       "5     Matthew Stafford  21.079952\n",
       "6   Ben Roethlisberger  20.937474\n",
       "7          Andrew Luck  20.630576\n",
       "8        Philip Rivers  20.697301\n",
       "9         Kirk Cousins  20.450940\n",
       "10      Russell Wilson  19.891470\n",
       "11          Jared Goff  20.281654\n",
       "12         Andy Dalton  19.393590\n",
       "13        Tyrod Taylor  18.422072\n",
       "14      Marcus Mariota  18.840468\n",
       "15          Alex Smith  18.706081\n",
       "16        Dak Prescott  18.531013\n",
       "17       Blake Bortles  17.825208\n",
       "18      Mitch Trubisky  17.685679\n",
       "19           Matt Ryan  17.719255\n",
       "20          Nick Foles  17.689892\n",
       "21         Case Keenum  17.309548\n",
       "22    Ryan Fitzpatrick  17.335215\n",
       "23      Ryan Tannehill  17.145849\n",
       "24     Jimmy Garoppolo  16.642067\n",
       "25        Sam Bradford  16.345740\n",
       "26          Derek Carr  16.040414\n",
       "27          Joe Flacco  15.378570\n",
       "28         Eli Manning  14.808699\n",
       "29     Jacoby Brissett   0.463902\n",
       "30         Josh McCown   0.337107\n",
       "31      Brock Osweiler  -0.620867\n",
       "32      Trevor Siemian  -1.230982\n",
       "33        Mike Glennon  -0.683016\n",
       "34       Deshone Kizer  -1.466677\n",
       "35      Blaine Gabbert  -0.858647\n",
       "36         David Fales  -0.911532\n",
       "37         CJ Beathard  -1.370145\n",
       "38         Brian Hoyer   0.331182\n",
       "39      Brandon Weeden   0.652488\n",
       "40          Colt McCoy   0.662689\n",
       "41        Chase Daniel   0.641186\n",
       "42       Brett Hundley  -1.142635\n",
       "43         AJ McCarron   0.579074\n",
       "44        Cody Kessler   0.779729\n",
       "45          Chad Henne   1.410097\n",
       "46   Teddy Bridgewater   1.478111\n",
       "47         Matt Schaub   1.389056\n",
       "48          Geno Smith   1.400105\n",
       "49         Matt Cassel   1.454686\n",
       "50  Robert Griffin III   1.378767\n",
       "51        Carson Wentz   1.250565\n",
       "52        Drew Stanton   1.227057\n",
       "53        Matt Barkley   1.314373\n",
       "54        Austin Davis   1.232926\n",
       "55         Kevin Hogan   1.267357\n",
       "56            Joe Webb   1.257282"
      ]
     },
     "execution_count": 82,
     "metadata": {},
     "output_type": "execute_result"
    }
   ],
   "source": [
    "results = pd.DataFrame()\n",
    "results['Player'] = week1['Player']\n",
    "#results['score'] = y_test\n",
    "results['Predicted'] = yhat\n",
    "#results['Week'] = qb[qb['year']==2017]['Week']\n",
    "#results.groupby('Player').mean()[['score','Predicted']]\n",
    "results"
   ]
  },
  {
   "cell_type": "code",
   "execution_count": 323,
   "metadata": {},
   "outputs": [
    {
     "data": {
      "text/plain": [
       "(300, 3)"
      ]
     },
     "execution_count": 323,
     "metadata": {},
     "output_type": "execute_result"
    }
   ],
   "source": [
    "results.shape"
   ]
  },
  {
   "cell_type": "code",
   "execution_count": 84,
   "metadata": {
    "collapsed": true
   },
   "outputs": [],
   "source": [
    "results.to_csv('2018_week1_qb.csv', index= False)"
   ]
  },
  {
   "cell_type": "code",
   "execution_count": null,
   "metadata": {
    "collapsed": true
   },
   "outputs": [],
   "source": []
  }
 ],
 "metadata": {
  "kernelspec": {
   "display_name": "Python 3",
   "language": "python",
   "name": "python3"
  },
  "language_info": {
   "codemirror_mode": {
    "name": "ipython",
    "version": 3
   },
   "file_extension": ".py",
   "mimetype": "text/x-python",
   "name": "python",
   "nbconvert_exporter": "python",
   "pygments_lexer": "ipython3",
   "version": "3.6.2"
  }
 },
 "nbformat": 4,
 "nbformat_minor": 2
}
