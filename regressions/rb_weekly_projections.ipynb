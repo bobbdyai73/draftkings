{
 "cells": [
  {
   "cell_type": "code",
   "execution_count": 33,
   "metadata": {
    "collapsed": true
   },
   "outputs": [],
   "source": [
    "import pandas as pd\n",
    "import numpy as np\n",
    "import matplotlib.pyplot as plt\n",
    "import seaborn as sns\n",
    "\n",
    "%matplotlib inline\n",
    "\n",
    "from sklearn.preprocessing import MinMaxScaler\n",
    "from sklearn.linear_model import LinearRegression"
   ]
  },
  {
   "cell_type": "code",
   "execution_count": 23,
   "metadata": {},
   "outputs": [],
   "source": [
    "rb = pd.read_csv('../input/rb/dk_rb_stats.csv')\n",
    "week1 = pd.read_csv('../input/rb/fantasy-football-weekly-projections (1).csv')\n",
    "week1_def = pd.read_csv('../input/defense_2018_projections.csv')"
   ]
  },
  {
   "cell_type": "code",
   "execution_count": 34,
   "metadata": {},
   "outputs": [
    {
     "data": {
      "text/html": [
       "<div>\n",
       "<style>\n",
       "    .dataframe thead tr:only-child th {\n",
       "        text-align: right;\n",
       "    }\n",
       "\n",
       "    .dataframe thead th {\n",
       "        text-align: left;\n",
       "    }\n",
       "\n",
       "    .dataframe tbody tr th {\n",
       "        vertical-align: top;\n",
       "    }\n",
       "</style>\n",
       "<table border=\"1\" class=\"dataframe\">\n",
       "  <thead>\n",
       "    <tr style=\"text-align: right;\">\n",
       "      <th></th>\n",
       "      <th>Player</th>\n",
       "      <th>Team</th>\n",
       "      <th>Week</th>\n",
       "      <th>Opp</th>\n",
       "      <th>ru_att</th>\n",
       "      <th>ru_yds</th>\n",
       "      <th>yds/att</th>\n",
       "      <th>td</th>\n",
       "      <th>targets</th>\n",
       "      <th>Receptions</th>\n",
       "      <th>rec_yds</th>\n",
       "      <th>rec_td</th>\n",
       "      <th>Fumbles</th>\n",
       "      <th>FumblesLost</th>\n",
       "      <th>points</th>\n",
       "      <th>year</th>\n",
       "      <th>def_ru_rk</th>\n",
       "      <th>def_pass_rk</th>\n",
       "    </tr>\n",
       "  </thead>\n",
       "  <tbody>\n",
       "  </tbody>\n",
       "</table>\n",
       "</div>"
      ],
      "text/plain": [
       "Empty DataFrame\n",
       "Columns: [Player, Team, Week, Opp, ru_att, ru_yds, yds/att, td, targets, Receptions, rec_yds, rec_td, Fumbles, FumblesLost, points, year, def_ru_rk, def_pass_rk]\n",
       "Index: []"
      ]
     },
     "execution_count": 34,
     "metadata": {},
     "output_type": "execute_result"
    }
   ],
   "source": [
    "rb[rb['Player']=='Ezekiel Elliot']"
   ]
  },
  {
   "cell_type": "code",
   "execution_count": 24,
   "metadata": {},
   "outputs": [
    {
     "data": {
      "text/html": [
       "<div>\n",
       "<style>\n",
       "    .dataframe thead tr:only-child th {\n",
       "        text-align: right;\n",
       "    }\n",
       "\n",
       "    .dataframe thead th {\n",
       "        text-align: left;\n",
       "    }\n",
       "\n",
       "    .dataframe tbody tr th {\n",
       "        vertical-align: top;\n",
       "    }\n",
       "</style>\n",
       "<table border=\"1\" class=\"dataframe\">\n",
       "  <thead>\n",
       "    <tr style=\"text-align: right;\">\n",
       "      <th></th>\n",
       "      <th>Rank</th>\n",
       "      <th>Name</th>\n",
       "      <th>Team</th>\n",
       "      <th>Position</th>\n",
       "      <th>Played</th>\n",
       "      <th>TacklesForLoss</th>\n",
       "      <th>Sacks</th>\n",
       "      <th>QuarterbackHits</th>\n",
       "      <th>Interceptions</th>\n",
       "      <th>FumblesRecovered</th>\n",
       "      <th>Safeties</th>\n",
       "      <th>DefensiveTouchdowns</th>\n",
       "      <th>SpecialTeamsTouchdowns</th>\n",
       "      <th>PointsAllowed</th>\n",
       "      <th>FantasyPointsPerGameDraftKings</th>\n",
       "      <th>FantasyPointsDraftKings</th>\n",
       "    </tr>\n",
       "  </thead>\n",
       "  <tbody>\n",
       "    <tr>\n",
       "      <th>0</th>\n",
       "      <td>1</td>\n",
       "      <td>Jacksonville Jaguars</td>\n",
       "      <td>JAX</td>\n",
       "      <td>DST</td>\n",
       "      <td>16</td>\n",
       "      <td>103</td>\n",
       "      <td>49</td>\n",
       "      <td>113</td>\n",
       "      <td>18</td>\n",
       "      <td>14</td>\n",
       "      <td>0</td>\n",
       "      <td>4</td>\n",
       "      <td>1</td>\n",
       "      <td>268</td>\n",
       "      <td>8.1</td>\n",
       "      <td>129</td>\n",
       "    </tr>\n",
       "    <tr>\n",
       "      <th>1</th>\n",
       "      <td>2</td>\n",
       "      <td>Los Angeles Chargers</td>\n",
       "      <td>LAC</td>\n",
       "      <td>DST</td>\n",
       "      <td>16</td>\n",
       "      <td>93</td>\n",
       "      <td>44</td>\n",
       "      <td>85</td>\n",
       "      <td>17</td>\n",
       "      <td>13</td>\n",
       "      <td>0</td>\n",
       "      <td>4</td>\n",
       "      <td>2</td>\n",
       "      <td>272</td>\n",
       "      <td>7.9</td>\n",
       "      <td>127</td>\n",
       "    </tr>\n",
       "    <tr>\n",
       "      <th>2</th>\n",
       "      <td>3</td>\n",
       "      <td>Los Angeles Rams</td>\n",
       "      <td>LAR</td>\n",
       "      <td>DST</td>\n",
       "      <td>16</td>\n",
       "      <td>82</td>\n",
       "      <td>45</td>\n",
       "      <td>100</td>\n",
       "      <td>17</td>\n",
       "      <td>15</td>\n",
       "      <td>2</td>\n",
       "      <td>3</td>\n",
       "      <td>2</td>\n",
       "      <td>329</td>\n",
       "      <td>7.8</td>\n",
       "      <td>124</td>\n",
       "    </tr>\n",
       "    <tr>\n",
       "      <th>3</th>\n",
       "      <td>4</td>\n",
       "      <td>Philadelphia Eagles</td>\n",
       "      <td>PHI</td>\n",
       "      <td>DST</td>\n",
       "      <td>16</td>\n",
       "      <td>99</td>\n",
       "      <td>39</td>\n",
       "      <td>115</td>\n",
       "      <td>17</td>\n",
       "      <td>14</td>\n",
       "      <td>0</td>\n",
       "      <td>4</td>\n",
       "      <td>2</td>\n",
       "      <td>295</td>\n",
       "      <td>7.7</td>\n",
       "      <td>123</td>\n",
       "    </tr>\n",
       "    <tr>\n",
       "      <th>4</th>\n",
       "      <td>5</td>\n",
       "      <td>Minnesota Vikings</td>\n",
       "      <td>MIN</td>\n",
       "      <td>DST</td>\n",
       "      <td>16</td>\n",
       "      <td>82</td>\n",
       "      <td>42</td>\n",
       "      <td>85</td>\n",
       "      <td>17</td>\n",
       "      <td>12</td>\n",
       "      <td>1</td>\n",
       "      <td>3</td>\n",
       "      <td>1</td>\n",
       "      <td>252</td>\n",
       "      <td>7.0</td>\n",
       "      <td>112</td>\n",
       "    </tr>\n",
       "  </tbody>\n",
       "</table>\n",
       "</div>"
      ],
      "text/plain": [
       "   Rank                  Name Team Position  Played  TacklesForLoss  Sacks  \\\n",
       "0     1  Jacksonville Jaguars  JAX      DST      16             103     49   \n",
       "1     2  Los Angeles Chargers  LAC      DST      16              93     44   \n",
       "2     3      Los Angeles Rams  LAR      DST      16              82     45   \n",
       "3     4   Philadelphia Eagles  PHI      DST      16              99     39   \n",
       "4     5     Minnesota Vikings  MIN      DST      16              82     42   \n",
       "\n",
       "   QuarterbackHits  Interceptions  FumblesRecovered  Safeties  \\\n",
       "0              113             18                14         0   \n",
       "1               85             17                13         0   \n",
       "2              100             17                15         2   \n",
       "3              115             17                14         0   \n",
       "4               85             17                12         1   \n",
       "\n",
       "   DefensiveTouchdowns  SpecialTeamsTouchdowns  PointsAllowed  \\\n",
       "0                    4                       1            268   \n",
       "1                    4                       2            272   \n",
       "2                    3                       2            329   \n",
       "3                    4                       2            295   \n",
       "4                    3                       1            252   \n",
       "\n",
       "   FantasyPointsPerGameDraftKings  FantasyPointsDraftKings  \n",
       "0                             8.1                      129  \n",
       "1                             7.9                      127  \n",
       "2                             7.8                      124  \n",
       "3                             7.7                      123  \n",
       "4                             7.0                      112  "
      ]
     },
     "execution_count": 24,
     "metadata": {},
     "output_type": "execute_result"
    }
   ],
   "source": [
    "week1_def.head()"
   ]
  },
  {
   "cell_type": "code",
   "execution_count": 14,
   "metadata": {},
   "outputs": [
    {
     "data": {
      "text/plain": [
       "Index(['Player', 'Team', 'Week', 'Opp', 'ru_att', 'ru_yds', 'yds/att', 'td',\n",
       "       'targets', 'Receptions', 'rec_yds', 'rec_td', 'Fumbles', 'FumblesLost',\n",
       "       'points'],\n",
       "      dtype='object')"
      ]
     },
     "execution_count": 14,
     "metadata": {},
     "output_type": "execute_result"
    }
   ],
   "source": [
    "week1.columns\n"
   ]
  },
  {
   "cell_type": "markdown",
   "metadata": {},
   "source": [
    "## Current week dataframe feature enginerring"
   ]
  },
  {
   "cell_type": "code",
   "execution_count": 28,
   "metadata": {},
   "outputs": [],
   "source": [
    "week1.drop(['Rank','Position','FantasyPointsPerGame'], axis=1, inplace=True)\n",
    "\n",
    "week1['year'] =2018\n",
    "week1.columns = rb.columns[:-2]\n",
    "\n",
    "indices = []\n",
    "for idx,player in enumerate(week1['Player']):\n",
    "    if player not in rb['Player'].unique():\n",
    "        indices.append(idx)\n",
    "\n",
    "week1.drop(indices, axis=0, inplace=True)\n",
    "week1.reset_index(inplace=True, drop=True)"
   ]
  },
  {
   "cell_type": "markdown",
   "metadata": {},
   "source": [
    "## Weekly Defensive Rankings Dataframe feature engineering"
   ]
  },
  {
   "cell_type": "code",
   "execution_count": 30,
   "metadata": {
    "collapsed": true
   },
   "outputs": [],
   "source": [
    "week1_def.index = week1_def['Team']\n",
    "week1_def.drop('Team', axis=1, inplace=True)\n",
    "week1_def.head()\n",
    "\n",
    "week1['def_ru_rk'] = list(map(lambda x: week1_def.loc[x]['Rank'], week1['Opp']))\n",
    "week1['def_pass_rk'] = list(map(lambda x: week1_def.loc[x]['Rank'], week1['Opp']))\n"
   ]
  },
  {
   "cell_type": "code",
   "execution_count": 31,
   "metadata": {},
   "outputs": [
    {
     "data": {
      "text/plain": [
       "Index(['Player', 'Team', 'Week', 'Opp', 'ru_att', 'ru_yds', 'yds/att', 'td',\n",
       "       'targets', 'Receptions', 'rec_yds', 'rec_td', 'Fumbles', 'FumblesLost',\n",
       "       'points', 'year', 'def_ru_rk', 'def_pass_rk'],\n",
       "      dtype='object')"
      ]
     },
     "execution_count": 31,
     "metadata": {},
     "output_type": "execute_result"
    }
   ],
   "source": [
    "rb.columns"
   ]
  },
  {
   "cell_type": "code",
   "execution_count": 32,
   "metadata": {},
   "outputs": [
    {
     "data": {
      "text/plain": [
       "Index(['Player', 'Team', 'Week', 'Opp', 'ru_att', 'ru_yds', 'yds/att', 'td',\n",
       "       'targets', 'Receptions', 'rec_yds', 'rec_td', 'Fumbles', 'FumblesLost',\n",
       "       'points', 'year', 'def_ru_rk', 'def_pass_rk'],\n",
       "      dtype='object')"
      ]
     },
     "execution_count": 32,
     "metadata": {},
     "output_type": "execute_result"
    }
   ],
   "source": [
    "week1.columns"
   ]
  },
  {
   "cell_type": "code",
   "execution_count": 26,
   "metadata": {
    "collapsed": true
   },
   "outputs": [],
   "source": [
    "#A function that will covert a time series database into a supervised learning database\n",
    "\n",
    "def series_to_supervised(data, n_in=1, n_out=1, dropnan=True):\n",
    "    n_vars = 1 if type(data) is list else data.shape[1]\n",
    "    df = pd.DataFrame(data)\n",
    "    cols, names = list(), list()\n",
    "    # input sequence (t-n, ... t-1)\n",
    "    for i in range(n_in, 0, -1):\n",
    "            cols.append(df.shift(i))\n",
    "            names += [('var%d(t-%d)' % (j+1, i)) for j in range(n_vars)]\n",
    "    # forecast sequence (t, t+1, ... t+n)\n",
    "    for i in range(0, n_out):\n",
    "        cols.append(df.shift(-i))\n",
    "        if i == 0:\n",
    "            names += [('var%d(t)' % (j+1)) for j in range(n_vars)]\n",
    "        else:\n",
    "            names += [('var%d(t+%d)' % (j+1, i)) for j in range(n_vars)]\n",
    "    # put it all together\n",
    "    agg = pd.concat(cols, axis=1)\n",
    "    agg.columns = names\n",
    "    # drop rows with NaN values\n",
    "    if dropnan:\n",
    "        agg.dropna(inplace=True)\n",
    "    return agg"
   ]
  },
  {
   "cell_type": "code",
   "execution_count": 27,
   "metadata": {
    "collapsed": true
   },
   "outputs": [],
   "source": [
    "train  = rb\n",
    "test = week1_2018"
   ]
  },
  {
   "cell_type": "code",
   "execution_count": 29,
   "metadata": {},
   "outputs": [
    {
     "data": {
      "text/plain": [
       "(11748, 18)"
      ]
     },
     "execution_count": 29,
     "metadata": {},
     "output_type": "execute_result"
    }
   ],
   "source": [
    "train.shape"
   ]
  },
  {
   "cell_type": "code",
   "execution_count": 30,
   "metadata": {},
   "outputs": [
    {
     "data": {
      "text/plain": [
       "(70, 18)"
      ]
     },
     "execution_count": 30,
     "metadata": {},
     "output_type": "execute_result"
    }
   ],
   "source": [
    "test.shape"
   ]
  },
  {
   "cell_type": "code",
   "execution_count": 345,
   "metadata": {
    "collapsed": true
   },
   "outputs": [],
   "source": [
    "passing = ['Comp','Att','Pct','Yds','Yds/Att','TD','Int']"
   ]
  },
  {
   "cell_type": "code",
   "execution_count": 31,
   "metadata": {
    "collapsed": true
   },
   "outputs": [],
   "source": [
    "y_train = train['points']\n",
    "y_test = test['points']\n",
    "X_train = train.drop('points',axis=1)\n",
    "X_test = test.drop('points', axis=1)"
   ]
  },
  {
   "cell_type": "code",
   "execution_count": 32,
   "metadata": {
    "collapsed": true
   },
   "outputs": [],
   "source": [
    "X_train = X_train[X_train.columns[4:]]\n",
    "X_test = X_test[X_test.columns[4:]]"
   ]
  },
  {
   "cell_type": "code",
   "execution_count": 348,
   "metadata": {
    "collapsed": true
   },
   "outputs": [],
   "source": [
    "\n",
    "X_train = X_train[X_train.columns[4:11]]\n",
    "X_test = X_test[X_test.columns[4:11]]"
   ]
  },
  {
   "cell_type": "code",
   "execution_count": 33,
   "metadata": {},
   "outputs": [
    {
     "data": {
      "text/plain": [
       "Index(['ru_att', 'ru_yds', 'yds/att', 'td', 'targets', 'Receptions', 'rec_yds',\n",
       "       'rec_td', 'Fumbles', 'FumblesLost', 'year', 'def_ru_rk', 'def_pass_rk'],\n",
       "      dtype='object')"
      ]
     },
     "execution_count": 33,
     "metadata": {},
     "output_type": "execute_result"
    }
   ],
   "source": [
    "X_train.columns"
   ]
  },
  {
   "cell_type": "code",
   "execution_count": 34,
   "metadata": {
    "collapsed": true
   },
   "outputs": [],
   "source": [
    "reframed = series_to_supervised(X_train.values.astype('float32'),1,1)"
   ]
  },
  {
   "cell_type": "code",
   "execution_count": null,
   "metadata": {
    "collapsed": true
   },
   "outputs": [],
   "source": []
  },
  {
   "cell_type": "code",
   "execution_count": 35,
   "metadata": {},
   "outputs": [
    {
     "data": {
      "text/plain": [
       "LinearRegression(copy_X=True, fit_intercept=True, n_jobs=1, normalize=False)"
      ]
     },
     "execution_count": 35,
     "metadata": {},
     "output_type": "execute_result"
    }
   ],
   "source": [
    "lr = LinearRegression()\n",
    "lr.fit(X_train,y_train)"
   ]
  },
  {
   "cell_type": "code",
   "execution_count": 36,
   "metadata": {},
   "outputs": [
    {
     "data": {
      "text/html": [
       "<div>\n",
       "<style>\n",
       "    .dataframe thead tr:only-child th {\n",
       "        text-align: right;\n",
       "    }\n",
       "\n",
       "    .dataframe thead th {\n",
       "        text-align: left;\n",
       "    }\n",
       "\n",
       "    .dataframe tbody tr th {\n",
       "        vertical-align: top;\n",
       "    }\n",
       "</style>\n",
       "<table border=\"1\" class=\"dataframe\">\n",
       "  <thead>\n",
       "    <tr style=\"text-align: right;\">\n",
       "      <th></th>\n",
       "      <th>0</th>\n",
       "      <th>coefficients</th>\n",
       "    </tr>\n",
       "  </thead>\n",
       "  <tbody>\n",
       "    <tr>\n",
       "      <th>0</th>\n",
       "      <td>ru_att</td>\n",
       "      <td>-0.016761</td>\n",
       "    </tr>\n",
       "    <tr>\n",
       "      <th>1</th>\n",
       "      <td>ru_yds</td>\n",
       "      <td>0.107790</td>\n",
       "    </tr>\n",
       "    <tr>\n",
       "      <th>2</th>\n",
       "      <td>yds/att</td>\n",
       "      <td>-0.020275</td>\n",
       "    </tr>\n",
       "    <tr>\n",
       "      <th>3</th>\n",
       "      <td>td</td>\n",
       "      <td>5.971200</td>\n",
       "    </tr>\n",
       "    <tr>\n",
       "      <th>4</th>\n",
       "      <td>targets</td>\n",
       "      <td>0.007460</td>\n",
       "    </tr>\n",
       "    <tr>\n",
       "      <th>5</th>\n",
       "      <td>Receptions</td>\n",
       "      <td>0.141891</td>\n",
       "    </tr>\n",
       "    <tr>\n",
       "      <th>6</th>\n",
       "      <td>rec_yds</td>\n",
       "      <td>0.100108</td>\n",
       "    </tr>\n",
       "    <tr>\n",
       "      <th>7</th>\n",
       "      <td>rec_td</td>\n",
       "      <td>5.822190</td>\n",
       "    </tr>\n",
       "    <tr>\n",
       "      <th>8</th>\n",
       "      <td>Fumbles</td>\n",
       "      <td>0.010859</td>\n",
       "    </tr>\n",
       "    <tr>\n",
       "      <th>9</th>\n",
       "      <td>FumblesLost</td>\n",
       "      <td>-1.777669</td>\n",
       "    </tr>\n",
       "    <tr>\n",
       "      <th>10</th>\n",
       "      <td>year</td>\n",
       "      <td>-0.206622</td>\n",
       "    </tr>\n",
       "    <tr>\n",
       "      <th>11</th>\n",
       "      <td>def_ru_rk</td>\n",
       "      <td>0.000245</td>\n",
       "    </tr>\n",
       "    <tr>\n",
       "      <th>12</th>\n",
       "      <td>def_pass_rk</td>\n",
       "      <td>0.000245</td>\n",
       "    </tr>\n",
       "  </tbody>\n",
       "</table>\n",
       "</div>"
      ],
      "text/plain": [
       "              0  coefficients\n",
       "0        ru_att     -0.016761\n",
       "1        ru_yds      0.107790\n",
       "2       yds/att     -0.020275\n",
       "3            td      5.971200\n",
       "4       targets      0.007460\n",
       "5    Receptions      0.141891\n",
       "6       rec_yds      0.100108\n",
       "7        rec_td      5.822190\n",
       "8       Fumbles      0.010859\n",
       "9   FumblesLost     -1.777669\n",
       "10         year     -0.206622\n",
       "11    def_ru_rk      0.000245\n",
       "12  def_pass_rk      0.000245"
      ]
     },
     "execution_count": 36,
     "metadata": {},
     "output_type": "execute_result"
    }
   ],
   "source": [
    "coeff = pd.DataFrame(X_train.columns)\n",
    "coeff['coefficients'] = lr.coef_\n",
    "coeff\n",
    "\n"
   ]
  },
  {
   "cell_type": "code",
   "execution_count": 37,
   "metadata": {},
   "outputs": [
    {
     "data": {
      "text/plain": [
       "(70,)"
      ]
     },
     "execution_count": 37,
     "metadata": {},
     "output_type": "execute_result"
    }
   ],
   "source": [
    "yhat = lr.predict(X_test)\n",
    "yhat.shape"
   ]
  },
  {
   "cell_type": "code",
   "execution_count": 51,
   "metadata": {},
   "outputs": [
    {
     "name": "stdout",
     "output_type": "stream",
     "text": [
      "RMSE error is: 0.712465875151\n"
     ]
    }
   ],
   "source": [
    "def rmse(predictions, targets):\n",
    "    return np.sqrt(((predictions - targets) ** 2).mean())\n",
    "\n",
    "rmse_val = rmse(yhat, y_test)\n",
    "print(\"RMSE error is: \" + str(rmse_val))"
   ]
  },
  {
   "cell_type": "code",
   "execution_count": 38,
   "metadata": {},
   "outputs": [
    {
     "data": {
      "text/html": [
       "<div>\n",
       "<style>\n",
       "    .dataframe thead tr:only-child th {\n",
       "        text-align: right;\n",
       "    }\n",
       "\n",
       "    .dataframe thead th {\n",
       "        text-align: left;\n",
       "    }\n",
       "\n",
       "    .dataframe tbody tr th {\n",
       "        vertical-align: top;\n",
       "    }\n",
       "</style>\n",
       "<table border=\"1\" class=\"dataframe\">\n",
       "  <thead>\n",
       "    <tr style=\"text-align: right;\">\n",
       "      <th></th>\n",
       "      <th>Player</th>\n",
       "      <th>Predicted</th>\n",
       "    </tr>\n",
       "  </thead>\n",
       "  <tbody>\n",
       "    <tr>\n",
       "      <th>0</th>\n",
       "      <td>Todd Gurley</td>\n",
       "      <td>18.561469</td>\n",
       "    </tr>\n",
       "    <tr>\n",
       "      <th>1</th>\n",
       "      <td>David Johnson</td>\n",
       "      <td>17.240292</td>\n",
       "    </tr>\n",
       "    <tr>\n",
       "      <th>2</th>\n",
       "      <td>Melvin Gordon</td>\n",
       "      <td>14.514580</td>\n",
       "    </tr>\n",
       "    <tr>\n",
       "      <th>3</th>\n",
       "      <td>Devonta Freeman</td>\n",
       "      <td>11.331842</td>\n",
       "    </tr>\n",
       "    <tr>\n",
       "      <th>4</th>\n",
       "      <td>LeSean McCoy</td>\n",
       "      <td>10.591942</td>\n",
       "    </tr>\n",
       "    <tr>\n",
       "      <th>5</th>\n",
       "      <td>Lamar Miller</td>\n",
       "      <td>10.344359</td>\n",
       "    </tr>\n",
       "    <tr>\n",
       "      <th>6</th>\n",
       "      <td>Le'Veon Bell</td>\n",
       "      <td>9.925670</td>\n",
       "    </tr>\n",
       "    <tr>\n",
       "      <th>7</th>\n",
       "      <td>Jay Ajayi</td>\n",
       "      <td>9.253915</td>\n",
       "    </tr>\n",
       "    <tr>\n",
       "      <th>8</th>\n",
       "      <td>Rex Burkhead</td>\n",
       "      <td>9.192221</td>\n",
       "    </tr>\n",
       "    <tr>\n",
       "      <th>9</th>\n",
       "      <td>Marshawn Lynch</td>\n",
       "      <td>8.668046</td>\n",
       "    </tr>\n",
       "    <tr>\n",
       "      <th>10</th>\n",
       "      <td>Carlos Hyde</td>\n",
       "      <td>8.328319</td>\n",
       "    </tr>\n",
       "    <tr>\n",
       "      <th>11</th>\n",
       "      <td>Dion Lewis</td>\n",
       "      <td>7.869186</td>\n",
       "    </tr>\n",
       "    <tr>\n",
       "      <th>12</th>\n",
       "      <td>Bilal Powell</td>\n",
       "      <td>7.154256</td>\n",
       "    </tr>\n",
       "    <tr>\n",
       "      <th>13</th>\n",
       "      <td>Isaiah Crowell</td>\n",
       "      <td>7.064721</td>\n",
       "    </tr>\n",
       "    <tr>\n",
       "      <th>14</th>\n",
       "      <td>Tevin Coleman</td>\n",
       "      <td>6.917477</td>\n",
       "    </tr>\n",
       "    <tr>\n",
       "      <th>15</th>\n",
       "      <td>Alfred Morris</td>\n",
       "      <td>6.120175</td>\n",
       "    </tr>\n",
       "    <tr>\n",
       "      <th>16</th>\n",
       "      <td>Adrian Peterson</td>\n",
       "      <td>6.078089</td>\n",
       "    </tr>\n",
       "    <tr>\n",
       "      <th>17</th>\n",
       "      <td>Duke Johnson</td>\n",
       "      <td>6.139119</td>\n",
       "    </tr>\n",
       "    <tr>\n",
       "      <th>18</th>\n",
       "      <td>Ty Montgomery</td>\n",
       "      <td>5.973629</td>\n",
       "    </tr>\n",
       "    <tr>\n",
       "      <th>19</th>\n",
       "      <td>Chris Thompson</td>\n",
       "      <td>6.010961</td>\n",
       "    </tr>\n",
       "    <tr>\n",
       "      <th>20</th>\n",
       "      <td>Giovani Bernard</td>\n",
       "      <td>5.801194</td>\n",
       "    </tr>\n",
       "    <tr>\n",
       "      <th>21</th>\n",
       "      <td>James White</td>\n",
       "      <td>5.866649</td>\n",
       "    </tr>\n",
       "    <tr>\n",
       "      <th>22</th>\n",
       "      <td>Latavius Murray</td>\n",
       "      <td>5.263004</td>\n",
       "    </tr>\n",
       "    <tr>\n",
       "      <th>23</th>\n",
       "      <td>Javorius Allen</td>\n",
       "      <td>5.098503</td>\n",
       "    </tr>\n",
       "    <tr>\n",
       "      <th>24</th>\n",
       "      <td>Mike Gillislee</td>\n",
       "      <td>4.701093</td>\n",
       "    </tr>\n",
       "    <tr>\n",
       "      <th>25</th>\n",
       "      <td>Theo Riddick</td>\n",
       "      <td>4.859084</td>\n",
       "    </tr>\n",
       "    <tr>\n",
       "      <th>26</th>\n",
       "      <td>CJ Anderson</td>\n",
       "      <td>4.488499</td>\n",
       "    </tr>\n",
       "    <tr>\n",
       "      <th>27</th>\n",
       "      <td>LeGarrette Blount</td>\n",
       "      <td>4.277004</td>\n",
       "    </tr>\n",
       "    <tr>\n",
       "      <th>28</th>\n",
       "      <td>Darren Sproles</td>\n",
       "      <td>4.145270</td>\n",
       "    </tr>\n",
       "    <tr>\n",
       "      <th>29</th>\n",
       "      <td>Frank Gore</td>\n",
       "      <td>4.003119</td>\n",
       "    </tr>\n",
       "    <tr>\n",
       "      <th>...</th>\n",
       "      <td>...</td>\n",
       "      <td>...</td>\n",
       "    </tr>\n",
       "    <tr>\n",
       "      <th>40</th>\n",
       "      <td>Kyle Juszczyk</td>\n",
       "      <td>2.106373</td>\n",
       "    </tr>\n",
       "    <tr>\n",
       "      <th>41</th>\n",
       "      <td>Malcolm Brown</td>\n",
       "      <td>1.354275</td>\n",
       "    </tr>\n",
       "    <tr>\n",
       "      <th>42</th>\n",
       "      <td>Ameer Abdullah</td>\n",
       "      <td>1.178090</td>\n",
       "    </tr>\n",
       "    <tr>\n",
       "      <th>43</th>\n",
       "      <td>Marcus Murphy</td>\n",
       "      <td>1.122274</td>\n",
       "    </tr>\n",
       "    <tr>\n",
       "      <th>44</th>\n",
       "      <td>Raheem Mostert</td>\n",
       "      <td>1.023913</td>\n",
       "    </tr>\n",
       "    <tr>\n",
       "      <th>45</th>\n",
       "      <td>Jacquizz Rodgers</td>\n",
       "      <td>0.958200</td>\n",
       "    </tr>\n",
       "    <tr>\n",
       "      <th>46</th>\n",
       "      <td>Cameron Artis-Payne</td>\n",
       "      <td>0.678922</td>\n",
       "    </tr>\n",
       "    <tr>\n",
       "      <th>47</th>\n",
       "      <td>Mike Davis</td>\n",
       "      <td>0.199104</td>\n",
       "    </tr>\n",
       "    <tr>\n",
       "      <th>48</th>\n",
       "      <td>Benjamin Cunningham</td>\n",
       "      <td>0.186323</td>\n",
       "    </tr>\n",
       "    <tr>\n",
       "      <th>49</th>\n",
       "      <td>Stevan Ridley</td>\n",
       "      <td>0.057218</td>\n",
       "    </tr>\n",
       "    <tr>\n",
       "      <th>50</th>\n",
       "      <td>Damien Williams</td>\n",
       "      <td>-0.038640</td>\n",
       "    </tr>\n",
       "    <tr>\n",
       "      <th>51</th>\n",
       "      <td>Jamize Olawale</td>\n",
       "      <td>-0.284085</td>\n",
       "    </tr>\n",
       "    <tr>\n",
       "      <th>52</th>\n",
       "      <td>Anthony Sherman</td>\n",
       "      <td>-0.329027</td>\n",
       "    </tr>\n",
       "    <tr>\n",
       "      <th>53</th>\n",
       "      <td>Patrick DiMarco</td>\n",
       "      <td>-0.344949</td>\n",
       "    </tr>\n",
       "    <tr>\n",
       "      <th>54</th>\n",
       "      <td>Zach Line</td>\n",
       "      <td>-0.367831</td>\n",
       "    </tr>\n",
       "    <tr>\n",
       "      <th>55</th>\n",
       "      <td>Roosevelt Nix</td>\n",
       "      <td>-0.451050</td>\n",
       "    </tr>\n",
       "    <tr>\n",
       "      <th>56</th>\n",
       "      <td>Senorise Perry</td>\n",
       "      <td>-0.426596</td>\n",
       "    </tr>\n",
       "    <tr>\n",
       "      <th>57</th>\n",
       "      <td>Keith Smith</td>\n",
       "      <td>-0.438665</td>\n",
       "    </tr>\n",
       "    <tr>\n",
       "      <th>58</th>\n",
       "      <td>Tommy Bohanon</td>\n",
       "      <td>-0.452947</td>\n",
       "    </tr>\n",
       "    <tr>\n",
       "      <th>59</th>\n",
       "      <td>Michael Burton</td>\n",
       "      <td>-0.488060</td>\n",
       "    </tr>\n",
       "    <tr>\n",
       "      <th>60</th>\n",
       "      <td>Brandon Bolden</td>\n",
       "      <td>-0.488132</td>\n",
       "    </tr>\n",
       "    <tr>\n",
       "      <th>61</th>\n",
       "      <td>James Develin</td>\n",
       "      <td>-0.499484</td>\n",
       "    </tr>\n",
       "    <tr>\n",
       "      <th>62</th>\n",
       "      <td>Taiwan Jones</td>\n",
       "      <td>-0.576815</td>\n",
       "    </tr>\n",
       "    <tr>\n",
       "      <th>63</th>\n",
       "      <td>Derrick Coleman</td>\n",
       "      <td>-0.581716</td>\n",
       "    </tr>\n",
       "    <tr>\n",
       "      <th>64</th>\n",
       "      <td>Robert Turbin</td>\n",
       "      <td>-0.692301</td>\n",
       "    </tr>\n",
       "    <tr>\n",
       "      <th>65</th>\n",
       "      <td>Jerick McKinnon</td>\n",
       "      <td>-0.702582</td>\n",
       "    </tr>\n",
       "    <tr>\n",
       "      <th>66</th>\n",
       "      <td>Malcolm Johnson</td>\n",
       "      <td>-0.702582</td>\n",
       "    </tr>\n",
       "    <tr>\n",
       "      <th>67</th>\n",
       "      <td>Fozzy Whittaker</td>\n",
       "      <td>-0.692791</td>\n",
       "    </tr>\n",
       "    <tr>\n",
       "      <th>68</th>\n",
       "      <td>Zach Zenner</td>\n",
       "      <td>-0.690343</td>\n",
       "    </tr>\n",
       "    <tr>\n",
       "      <th>69</th>\n",
       "      <td>Trey Williams</td>\n",
       "      <td>-0.700624</td>\n",
       "    </tr>\n",
       "  </tbody>\n",
       "</table>\n",
       "<p>70 rows × 2 columns</p>\n",
       "</div>"
      ],
      "text/plain": [
       "                 Player  Predicted\n",
       "0           Todd Gurley  18.561469\n",
       "1         David Johnson  17.240292\n",
       "2         Melvin Gordon  14.514580\n",
       "3       Devonta Freeman  11.331842\n",
       "4          LeSean McCoy  10.591942\n",
       "5          Lamar Miller  10.344359\n",
       "6          Le'Veon Bell   9.925670\n",
       "7             Jay Ajayi   9.253915\n",
       "8          Rex Burkhead   9.192221\n",
       "9        Marshawn Lynch   8.668046\n",
       "10          Carlos Hyde   8.328319\n",
       "11           Dion Lewis   7.869186\n",
       "12         Bilal Powell   7.154256\n",
       "13       Isaiah Crowell   7.064721\n",
       "14        Tevin Coleman   6.917477\n",
       "15        Alfred Morris   6.120175\n",
       "16      Adrian Peterson   6.078089\n",
       "17         Duke Johnson   6.139119\n",
       "18        Ty Montgomery   5.973629\n",
       "19       Chris Thompson   6.010961\n",
       "20      Giovani Bernard   5.801194\n",
       "21          James White   5.866649\n",
       "22      Latavius Murray   5.263004\n",
       "23       Javorius Allen   5.098503\n",
       "24       Mike Gillislee   4.701093\n",
       "25         Theo Riddick   4.859084\n",
       "26          CJ Anderson   4.488499\n",
       "27    LeGarrette Blount   4.277004\n",
       "28       Darren Sproles   4.145270\n",
       "29           Frank Gore   4.003119\n",
       "..                  ...        ...\n",
       "40        Kyle Juszczyk   2.106373\n",
       "41        Malcolm Brown   1.354275\n",
       "42       Ameer Abdullah   1.178090\n",
       "43        Marcus Murphy   1.122274\n",
       "44       Raheem Mostert   1.023913\n",
       "45     Jacquizz Rodgers   0.958200\n",
       "46  Cameron Artis-Payne   0.678922\n",
       "47           Mike Davis   0.199104\n",
       "48  Benjamin Cunningham   0.186323\n",
       "49        Stevan Ridley   0.057218\n",
       "50      Damien Williams  -0.038640\n",
       "51       Jamize Olawale  -0.284085\n",
       "52      Anthony Sherman  -0.329027\n",
       "53      Patrick DiMarco  -0.344949\n",
       "54            Zach Line  -0.367831\n",
       "55        Roosevelt Nix  -0.451050\n",
       "56       Senorise Perry  -0.426596\n",
       "57          Keith Smith  -0.438665\n",
       "58        Tommy Bohanon  -0.452947\n",
       "59       Michael Burton  -0.488060\n",
       "60       Brandon Bolden  -0.488132\n",
       "61        James Develin  -0.499484\n",
       "62         Taiwan Jones  -0.576815\n",
       "63      Derrick Coleman  -0.581716\n",
       "64        Robert Turbin  -0.692301\n",
       "65      Jerick McKinnon  -0.702582\n",
       "66      Malcolm Johnson  -0.702582\n",
       "67      Fozzy Whittaker  -0.692791\n",
       "68          Zach Zenner  -0.690343\n",
       "69        Trey Williams  -0.700624\n",
       "\n",
       "[70 rows x 2 columns]"
      ]
     },
     "execution_count": 38,
     "metadata": {},
     "output_type": "execute_result"
    }
   ],
   "source": [
    "results = pd.DataFrame()\n",
    "results['Player'] = week1_2018['Player']\n",
    "#results['score'] = y_test\n",
    "results['Predicted'] = yhat\n",
    "#results['Week'] = rb[rb['year']==2017]['Week']\n",
    "#results.groupby('Player').mean()[['score','Predicted']]\n",
    "results"
   ]
  },
  {
   "cell_type": "code",
   "execution_count": 39,
   "metadata": {},
   "outputs": [
    {
     "data": {
      "text/plain": [
       "(70, 2)"
      ]
     },
     "execution_count": 39,
     "metadata": {},
     "output_type": "execute_result"
    }
   ],
   "source": [
    "results.shape"
   ]
  },
  {
   "cell_type": "code",
   "execution_count": 40,
   "metadata": {
    "collapsed": true
   },
   "outputs": [],
   "source": [
    "results.to_csv('2018_week1_rb.csv', index= False)"
   ]
  },
  {
   "cell_type": "code",
   "execution_count": null,
   "metadata": {
    "collapsed": true
   },
   "outputs": [],
   "source": []
  }
 ],
 "metadata": {
  "kernelspec": {
   "display_name": "Python 3",
   "language": "python",
   "name": "python3"
  },
  "language_info": {
   "codemirror_mode": {
    "name": "ipython",
    "version": 3
   },
   "file_extension": ".py",
   "mimetype": "text/x-python",
   "name": "python",
   "nbconvert_exporter": "python",
   "pygments_lexer": "ipython3",
   "version": "3.6.2"
  }
 },
 "nbformat": 4,
 "nbformat_minor": 2
}
